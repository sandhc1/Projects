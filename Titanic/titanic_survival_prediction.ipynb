{
  "metadata": {
    "kernelspec": {
      "language": "python",
      "display_name": "Python 3",
      "name": "python3"
    },
    "language_info": {
      "name": "python",
      "version": "3.7.12",
      "mimetype": "text/x-python",
      "codemirror_mode": {
        "name": "ipython",
        "version": 3
      },
      "pygments_lexer": "ipython3",
      "nbconvert_exporter": "python",
      "file_extension": ".py"
    },
    "colab": {
      "provenance": [],
      "collapsed_sections": [],
      "include_colab_link": true
    }
  },
  "nbformat_minor": 0,
  "nbformat": 4,
  "cells": [
    {
      "cell_type": "markdown",
      "metadata": {
        "id": "view-in-github",
        "colab_type": "text"
      },
      "source": [
        "<a href=\"https://colab.research.google.com/github/sandhc1/Projects/blob/main/Titanic/titanic_survival_prediction.ipynb\" target=\"_parent\"><img src=\"https://colab.research.google.com/assets/colab-badge.svg\" alt=\"Open In Colab\"/></a>"
      ]
    },
    {
      "cell_type": "code",
      "source": [
        "import pandas as pd"
      ],
      "metadata": {
        "execution": {
          "iopub.status.busy": "2022-11-04T10:56:47.608008Z",
          "iopub.execute_input": "2022-11-04T10:56:47.609251Z",
          "iopub.status.idle": "2022-11-04T10:56:47.613150Z",
          "shell.execute_reply.started": "2022-11-04T10:56:47.609201Z",
          "shell.execute_reply": "2022-11-04T10:56:47.612282Z"
        },
        "trusted": true,
        "id": "Upxp7JXQTAdG"
      },
      "execution_count": 159,
      "outputs": []
    },
    {
      "cell_type": "code",
      "source": [
        "df = pd.read_csv(\"https://raw.githubusercontent.com/sandhc1/Projects/main/Titanic/train.csv\")"
      ],
      "metadata": {
        "_uuid": "8f2839f25d086af736a60e9eeb907d3b93b6e0e5",
        "_cell_guid": "b1076dfc-b9ad-4769-8c92-a6c4dae69d19",
        "execution": {
          "iopub.status.busy": "2022-11-04T10:56:47.627915Z",
          "iopub.execute_input": "2022-11-04T10:56:47.628799Z",
          "iopub.status.idle": "2022-11-04T10:56:47.640811Z",
          "shell.execute_reply.started": "2022-11-04T10:56:47.628752Z",
          "shell.execute_reply": "2022-11-04T10:56:47.639780Z"
        },
        "trusted": true,
        "id": "Eqaduc4NTAdH"
      },
      "execution_count": 160,
      "outputs": []
    },
    {
      "cell_type": "code",
      "source": [
        "df.head()"
      ],
      "metadata": {
        "execution": {
          "iopub.status.busy": "2022-11-04T10:56:47.658821Z",
          "iopub.execute_input": "2022-11-04T10:56:47.659243Z",
          "iopub.status.idle": "2022-11-04T10:56:47.676702Z",
          "shell.execute_reply.started": "2022-11-04T10:56:47.659208Z",
          "shell.execute_reply": "2022-11-04T10:56:47.675580Z"
        },
        "trusted": true,
        "colab": {
          "base_uri": "https://localhost:8080/",
          "height": 206
        },
        "id": "B5MbEJX0TAdI",
        "outputId": "d9d65638-837b-46ee-fcf0-ced08c356d79"
      },
      "execution_count": 161,
      "outputs": [
        {
          "output_type": "execute_result",
          "data": {
            "text/plain": [
              "   PassengerId  Survived  Pclass  \\\n",
              "0            1         0       3   \n",
              "1            2         1       1   \n",
              "2            3         1       3   \n",
              "3            4         1       1   \n",
              "4            5         0       3   \n",
              "\n",
              "                                                Name     Sex   Age  SibSp  \\\n",
              "0                            Braund, Mr. Owen Harris    male  22.0      1   \n",
              "1  Cumings, Mrs. John Bradley (Florence Briggs Th...  female  38.0      1   \n",
              "2                             Heikkinen, Miss. Laina  female  26.0      0   \n",
              "3       Futrelle, Mrs. Jacques Heath (Lily May Peel)  female  35.0      1   \n",
              "4                           Allen, Mr. William Henry    male  35.0      0   \n",
              "\n",
              "   Parch            Ticket     Fare Cabin Embarked  \n",
              "0      0         A/5 21171   7.2500   NaN        S  \n",
              "1      0          PC 17599  71.2833   C85        C  \n",
              "2      0  STON/O2. 3101282   7.9250   NaN        S  \n",
              "3      0            113803  53.1000  C123        S  \n",
              "4      0            373450   8.0500   NaN        S  "
            ],
            "text/html": [
              "\n",
              "  <div id=\"df-797af793-e625-4aa9-b567-0c75ba39a54e\">\n",
              "    <div class=\"colab-df-container\">\n",
              "      <div>\n",
              "<style scoped>\n",
              "    .dataframe tbody tr th:only-of-type {\n",
              "        vertical-align: middle;\n",
              "    }\n",
              "\n",
              "    .dataframe tbody tr th {\n",
              "        vertical-align: top;\n",
              "    }\n",
              "\n",
              "    .dataframe thead th {\n",
              "        text-align: right;\n",
              "    }\n",
              "</style>\n",
              "<table border=\"1\" class=\"dataframe\">\n",
              "  <thead>\n",
              "    <tr style=\"text-align: right;\">\n",
              "      <th></th>\n",
              "      <th>PassengerId</th>\n",
              "      <th>Survived</th>\n",
              "      <th>Pclass</th>\n",
              "      <th>Name</th>\n",
              "      <th>Sex</th>\n",
              "      <th>Age</th>\n",
              "      <th>SibSp</th>\n",
              "      <th>Parch</th>\n",
              "      <th>Ticket</th>\n",
              "      <th>Fare</th>\n",
              "      <th>Cabin</th>\n",
              "      <th>Embarked</th>\n",
              "    </tr>\n",
              "  </thead>\n",
              "  <tbody>\n",
              "    <tr>\n",
              "      <th>0</th>\n",
              "      <td>1</td>\n",
              "      <td>0</td>\n",
              "      <td>3</td>\n",
              "      <td>Braund, Mr. Owen Harris</td>\n",
              "      <td>male</td>\n",
              "      <td>22.0</td>\n",
              "      <td>1</td>\n",
              "      <td>0</td>\n",
              "      <td>A/5 21171</td>\n",
              "      <td>7.2500</td>\n",
              "      <td>NaN</td>\n",
              "      <td>S</td>\n",
              "    </tr>\n",
              "    <tr>\n",
              "      <th>1</th>\n",
              "      <td>2</td>\n",
              "      <td>1</td>\n",
              "      <td>1</td>\n",
              "      <td>Cumings, Mrs. John Bradley (Florence Briggs Th...</td>\n",
              "      <td>female</td>\n",
              "      <td>38.0</td>\n",
              "      <td>1</td>\n",
              "      <td>0</td>\n",
              "      <td>PC 17599</td>\n",
              "      <td>71.2833</td>\n",
              "      <td>C85</td>\n",
              "      <td>C</td>\n",
              "    </tr>\n",
              "    <tr>\n",
              "      <th>2</th>\n",
              "      <td>3</td>\n",
              "      <td>1</td>\n",
              "      <td>3</td>\n",
              "      <td>Heikkinen, Miss. Laina</td>\n",
              "      <td>female</td>\n",
              "      <td>26.0</td>\n",
              "      <td>0</td>\n",
              "      <td>0</td>\n",
              "      <td>STON/O2. 3101282</td>\n",
              "      <td>7.9250</td>\n",
              "      <td>NaN</td>\n",
              "      <td>S</td>\n",
              "    </tr>\n",
              "    <tr>\n",
              "      <th>3</th>\n",
              "      <td>4</td>\n",
              "      <td>1</td>\n",
              "      <td>1</td>\n",
              "      <td>Futrelle, Mrs. Jacques Heath (Lily May Peel)</td>\n",
              "      <td>female</td>\n",
              "      <td>35.0</td>\n",
              "      <td>1</td>\n",
              "      <td>0</td>\n",
              "      <td>113803</td>\n",
              "      <td>53.1000</td>\n",
              "      <td>C123</td>\n",
              "      <td>S</td>\n",
              "    </tr>\n",
              "    <tr>\n",
              "      <th>4</th>\n",
              "      <td>5</td>\n",
              "      <td>0</td>\n",
              "      <td>3</td>\n",
              "      <td>Allen, Mr. William Henry</td>\n",
              "      <td>male</td>\n",
              "      <td>35.0</td>\n",
              "      <td>0</td>\n",
              "      <td>0</td>\n",
              "      <td>373450</td>\n",
              "      <td>8.0500</td>\n",
              "      <td>NaN</td>\n",
              "      <td>S</td>\n",
              "    </tr>\n",
              "  </tbody>\n",
              "</table>\n",
              "</div>\n",
              "      <button class=\"colab-df-convert\" onclick=\"convertToInteractive('df-797af793-e625-4aa9-b567-0c75ba39a54e')\"\n",
              "              title=\"Convert this dataframe to an interactive table.\"\n",
              "              style=\"display:none;\">\n",
              "        \n",
              "  <svg xmlns=\"http://www.w3.org/2000/svg\" height=\"24px\"viewBox=\"0 0 24 24\"\n",
              "       width=\"24px\">\n",
              "    <path d=\"M0 0h24v24H0V0z\" fill=\"none\"/>\n",
              "    <path d=\"M18.56 5.44l.94 2.06.94-2.06 2.06-.94-2.06-.94-.94-2.06-.94 2.06-2.06.94zm-11 1L8.5 8.5l.94-2.06 2.06-.94-2.06-.94L8.5 2.5l-.94 2.06-2.06.94zm10 10l.94 2.06.94-2.06 2.06-.94-2.06-.94-.94-2.06-.94 2.06-2.06.94z\"/><path d=\"M17.41 7.96l-1.37-1.37c-.4-.4-.92-.59-1.43-.59-.52 0-1.04.2-1.43.59L10.3 9.45l-7.72 7.72c-.78.78-.78 2.05 0 2.83L4 21.41c.39.39.9.59 1.41.59.51 0 1.02-.2 1.41-.59l7.78-7.78 2.81-2.81c.8-.78.8-2.07 0-2.86zM5.41 20L4 18.59l7.72-7.72 1.47 1.35L5.41 20z\"/>\n",
              "  </svg>\n",
              "      </button>\n",
              "      \n",
              "  <style>\n",
              "    .colab-df-container {\n",
              "      display:flex;\n",
              "      flex-wrap:wrap;\n",
              "      gap: 12px;\n",
              "    }\n",
              "\n",
              "    .colab-df-convert {\n",
              "      background-color: #E8F0FE;\n",
              "      border: none;\n",
              "      border-radius: 50%;\n",
              "      cursor: pointer;\n",
              "      display: none;\n",
              "      fill: #1967D2;\n",
              "      height: 32px;\n",
              "      padding: 0 0 0 0;\n",
              "      width: 32px;\n",
              "    }\n",
              "\n",
              "    .colab-df-convert:hover {\n",
              "      background-color: #E2EBFA;\n",
              "      box-shadow: 0px 1px 2px rgba(60, 64, 67, 0.3), 0px 1px 3px 1px rgba(60, 64, 67, 0.15);\n",
              "      fill: #174EA6;\n",
              "    }\n",
              "\n",
              "    [theme=dark] .colab-df-convert {\n",
              "      background-color: #3B4455;\n",
              "      fill: #D2E3FC;\n",
              "    }\n",
              "\n",
              "    [theme=dark] .colab-df-convert:hover {\n",
              "      background-color: #434B5C;\n",
              "      box-shadow: 0px 1px 3px 1px rgba(0, 0, 0, 0.15);\n",
              "      filter: drop-shadow(0px 1px 2px rgba(0, 0, 0, 0.3));\n",
              "      fill: #FFFFFF;\n",
              "    }\n",
              "  </style>\n",
              "\n",
              "      <script>\n",
              "        const buttonEl =\n",
              "          document.querySelector('#df-797af793-e625-4aa9-b567-0c75ba39a54e button.colab-df-convert');\n",
              "        buttonEl.style.display =\n",
              "          google.colab.kernel.accessAllowed ? 'block' : 'none';\n",
              "\n",
              "        async function convertToInteractive(key) {\n",
              "          const element = document.querySelector('#df-797af793-e625-4aa9-b567-0c75ba39a54e');\n",
              "          const dataTable =\n",
              "            await google.colab.kernel.invokeFunction('convertToInteractive',\n",
              "                                                     [key], {});\n",
              "          if (!dataTable) return;\n",
              "\n",
              "          const docLinkHtml = 'Like what you see? Visit the ' +\n",
              "            '<a target=\"_blank\" href=https://colab.research.google.com/notebooks/data_table.ipynb>data table notebook</a>'\n",
              "            + ' to learn more about interactive tables.';\n",
              "          element.innerHTML = '';\n",
              "          dataTable['output_type'] = 'display_data';\n",
              "          await google.colab.output.renderOutput(dataTable, element);\n",
              "          const docLink = document.createElement('div');\n",
              "          docLink.innerHTML = docLinkHtml;\n",
              "          element.appendChild(docLink);\n",
              "        }\n",
              "      </script>\n",
              "    </div>\n",
              "  </div>\n",
              "  "
            ]
          },
          "metadata": {},
          "execution_count": 161
        }
      ]
    },
    {
      "cell_type": "code",
      "source": [
        "df.shape"
      ],
      "metadata": {
        "execution": {
          "iopub.status.busy": "2022-11-04T10:56:47.689293Z",
          "iopub.execute_input": "2022-11-04T10:56:47.690435Z",
          "iopub.status.idle": "2022-11-04T10:56:47.695842Z",
          "shell.execute_reply.started": "2022-11-04T10:56:47.690379Z",
          "shell.execute_reply": "2022-11-04T10:56:47.695071Z"
        },
        "trusted": true,
        "colab": {
          "base_uri": "https://localhost:8080/"
        },
        "id": "Uc2E20afTAdJ",
        "outputId": "cd780e2b-9494-48f5-c064-b3547cad3b84"
      },
      "execution_count": 162,
      "outputs": [
        {
          "output_type": "execute_result",
          "data": {
            "text/plain": [
              "(891, 12)"
            ]
          },
          "metadata": {},
          "execution_count": 162
        }
      ]
    },
    {
      "cell_type": "code",
      "source": [
        "df.isnull().sum()"
      ],
      "metadata": {
        "execution": {
          "iopub.status.busy": "2022-11-04T10:56:47.766215Z",
          "iopub.execute_input": "2022-11-04T10:56:47.767175Z",
          "iopub.status.idle": "2022-11-04T10:56:47.778718Z",
          "shell.execute_reply.started": "2022-11-04T10:56:47.767128Z",
          "shell.execute_reply": "2022-11-04T10:56:47.777375Z"
        },
        "trusted": true,
        "colab": {
          "base_uri": "https://localhost:8080/"
        },
        "id": "6qdoRxhBTAdJ",
        "outputId": "de1d711e-cefd-4132-acde-2f7e53414d14"
      },
      "execution_count": 163,
      "outputs": [
        {
          "output_type": "execute_result",
          "data": {
            "text/plain": [
              "PassengerId      0\n",
              "Survived         0\n",
              "Pclass           0\n",
              "Name             0\n",
              "Sex              0\n",
              "Age            177\n",
              "SibSp            0\n",
              "Parch            0\n",
              "Ticket           0\n",
              "Fare             0\n",
              "Cabin          687\n",
              "Embarked         2\n",
              "dtype: int64"
            ]
          },
          "metadata": {},
          "execution_count": 163
        }
      ]
    },
    {
      "cell_type": "code",
      "source": [
        "df.info()"
      ],
      "metadata": {
        "execution": {
          "iopub.status.busy": "2022-11-04T10:56:47.827213Z",
          "iopub.execute_input": "2022-11-04T10:56:47.828333Z",
          "iopub.status.idle": "2022-11-04T10:56:47.843326Z",
          "shell.execute_reply.started": "2022-11-04T10:56:47.828291Z",
          "shell.execute_reply": "2022-11-04T10:56:47.842092Z"
        },
        "trusted": true,
        "colab": {
          "base_uri": "https://localhost:8080/"
        },
        "id": "_drXHqLWTAdK",
        "outputId": "7f99af30-d0e0-4b49-8d69-6085e414c2ea"
      },
      "execution_count": 164,
      "outputs": [
        {
          "output_type": "stream",
          "name": "stdout",
          "text": [
            "<class 'pandas.core.frame.DataFrame'>\n",
            "RangeIndex: 891 entries, 0 to 890\n",
            "Data columns (total 12 columns):\n",
            " #   Column       Non-Null Count  Dtype  \n",
            "---  ------       --------------  -----  \n",
            " 0   PassengerId  891 non-null    int64  \n",
            " 1   Survived     891 non-null    int64  \n",
            " 2   Pclass       891 non-null    int64  \n",
            " 3   Name         891 non-null    object \n",
            " 4   Sex          891 non-null    object \n",
            " 5   Age          714 non-null    float64\n",
            " 6   SibSp        891 non-null    int64  \n",
            " 7   Parch        891 non-null    int64  \n",
            " 8   Ticket       891 non-null    object \n",
            " 9   Fare         891 non-null    float64\n",
            " 10  Cabin        204 non-null    object \n",
            " 11  Embarked     889 non-null    object \n",
            "dtypes: float64(2), int64(5), object(5)\n",
            "memory usage: 83.7+ KB\n"
          ]
        }
      ]
    },
    {
      "cell_type": "code",
      "source": [
        "df.describe()"
      ],
      "metadata": {
        "execution": {
          "iopub.status.busy": "2022-11-04T10:56:47.860994Z",
          "iopub.execute_input": "2022-11-04T10:56:47.862076Z",
          "iopub.status.idle": "2022-11-04T10:56:47.896199Z",
          "shell.execute_reply.started": "2022-11-04T10:56:47.862030Z",
          "shell.execute_reply": "2022-11-04T10:56:47.895105Z"
        },
        "trusted": true,
        "colab": {
          "base_uri": "https://localhost:8080/",
          "height": 300
        },
        "id": "dfoa5D_CTAdK",
        "outputId": "c8f47bc3-7b07-42a0-b678-62363449e931"
      },
      "execution_count": 165,
      "outputs": [
        {
          "output_type": "execute_result",
          "data": {
            "text/plain": [
              "       PassengerId    Survived      Pclass         Age       SibSp  \\\n",
              "count   891.000000  891.000000  891.000000  714.000000  891.000000   \n",
              "mean    446.000000    0.383838    2.308642   29.699118    0.523008   \n",
              "std     257.353842    0.486592    0.836071   14.526497    1.102743   \n",
              "min       1.000000    0.000000    1.000000    0.420000    0.000000   \n",
              "25%     223.500000    0.000000    2.000000   20.125000    0.000000   \n",
              "50%     446.000000    0.000000    3.000000   28.000000    0.000000   \n",
              "75%     668.500000    1.000000    3.000000   38.000000    1.000000   \n",
              "max     891.000000    1.000000    3.000000   80.000000    8.000000   \n",
              "\n",
              "            Parch        Fare  \n",
              "count  891.000000  891.000000  \n",
              "mean     0.381594   32.204208  \n",
              "std      0.806057   49.693429  \n",
              "min      0.000000    0.000000  \n",
              "25%      0.000000    7.910400  \n",
              "50%      0.000000   14.454200  \n",
              "75%      0.000000   31.000000  \n",
              "max      6.000000  512.329200  "
            ],
            "text/html": [
              "\n",
              "  <div id=\"df-a2bb06e7-c963-450e-aca5-7734d015ed77\">\n",
              "    <div class=\"colab-df-container\">\n",
              "      <div>\n",
              "<style scoped>\n",
              "    .dataframe tbody tr th:only-of-type {\n",
              "        vertical-align: middle;\n",
              "    }\n",
              "\n",
              "    .dataframe tbody tr th {\n",
              "        vertical-align: top;\n",
              "    }\n",
              "\n",
              "    .dataframe thead th {\n",
              "        text-align: right;\n",
              "    }\n",
              "</style>\n",
              "<table border=\"1\" class=\"dataframe\">\n",
              "  <thead>\n",
              "    <tr style=\"text-align: right;\">\n",
              "      <th></th>\n",
              "      <th>PassengerId</th>\n",
              "      <th>Survived</th>\n",
              "      <th>Pclass</th>\n",
              "      <th>Age</th>\n",
              "      <th>SibSp</th>\n",
              "      <th>Parch</th>\n",
              "      <th>Fare</th>\n",
              "    </tr>\n",
              "  </thead>\n",
              "  <tbody>\n",
              "    <tr>\n",
              "      <th>count</th>\n",
              "      <td>891.000000</td>\n",
              "      <td>891.000000</td>\n",
              "      <td>891.000000</td>\n",
              "      <td>714.000000</td>\n",
              "      <td>891.000000</td>\n",
              "      <td>891.000000</td>\n",
              "      <td>891.000000</td>\n",
              "    </tr>\n",
              "    <tr>\n",
              "      <th>mean</th>\n",
              "      <td>446.000000</td>\n",
              "      <td>0.383838</td>\n",
              "      <td>2.308642</td>\n",
              "      <td>29.699118</td>\n",
              "      <td>0.523008</td>\n",
              "      <td>0.381594</td>\n",
              "      <td>32.204208</td>\n",
              "    </tr>\n",
              "    <tr>\n",
              "      <th>std</th>\n",
              "      <td>257.353842</td>\n",
              "      <td>0.486592</td>\n",
              "      <td>0.836071</td>\n",
              "      <td>14.526497</td>\n",
              "      <td>1.102743</td>\n",
              "      <td>0.806057</td>\n",
              "      <td>49.693429</td>\n",
              "    </tr>\n",
              "    <tr>\n",
              "      <th>min</th>\n",
              "      <td>1.000000</td>\n",
              "      <td>0.000000</td>\n",
              "      <td>1.000000</td>\n",
              "      <td>0.420000</td>\n",
              "      <td>0.000000</td>\n",
              "      <td>0.000000</td>\n",
              "      <td>0.000000</td>\n",
              "    </tr>\n",
              "    <tr>\n",
              "      <th>25%</th>\n",
              "      <td>223.500000</td>\n",
              "      <td>0.000000</td>\n",
              "      <td>2.000000</td>\n",
              "      <td>20.125000</td>\n",
              "      <td>0.000000</td>\n",
              "      <td>0.000000</td>\n",
              "      <td>7.910400</td>\n",
              "    </tr>\n",
              "    <tr>\n",
              "      <th>50%</th>\n",
              "      <td>446.000000</td>\n",
              "      <td>0.000000</td>\n",
              "      <td>3.000000</td>\n",
              "      <td>28.000000</td>\n",
              "      <td>0.000000</td>\n",
              "      <td>0.000000</td>\n",
              "      <td>14.454200</td>\n",
              "    </tr>\n",
              "    <tr>\n",
              "      <th>75%</th>\n",
              "      <td>668.500000</td>\n",
              "      <td>1.000000</td>\n",
              "      <td>3.000000</td>\n",
              "      <td>38.000000</td>\n",
              "      <td>1.000000</td>\n",
              "      <td>0.000000</td>\n",
              "      <td>31.000000</td>\n",
              "    </tr>\n",
              "    <tr>\n",
              "      <th>max</th>\n",
              "      <td>891.000000</td>\n",
              "      <td>1.000000</td>\n",
              "      <td>3.000000</td>\n",
              "      <td>80.000000</td>\n",
              "      <td>8.000000</td>\n",
              "      <td>6.000000</td>\n",
              "      <td>512.329200</td>\n",
              "    </tr>\n",
              "  </tbody>\n",
              "</table>\n",
              "</div>\n",
              "      <button class=\"colab-df-convert\" onclick=\"convertToInteractive('df-a2bb06e7-c963-450e-aca5-7734d015ed77')\"\n",
              "              title=\"Convert this dataframe to an interactive table.\"\n",
              "              style=\"display:none;\">\n",
              "        \n",
              "  <svg xmlns=\"http://www.w3.org/2000/svg\" height=\"24px\"viewBox=\"0 0 24 24\"\n",
              "       width=\"24px\">\n",
              "    <path d=\"M0 0h24v24H0V0z\" fill=\"none\"/>\n",
              "    <path d=\"M18.56 5.44l.94 2.06.94-2.06 2.06-.94-2.06-.94-.94-2.06-.94 2.06-2.06.94zm-11 1L8.5 8.5l.94-2.06 2.06-.94-2.06-.94L8.5 2.5l-.94 2.06-2.06.94zm10 10l.94 2.06.94-2.06 2.06-.94-2.06-.94-.94-2.06-.94 2.06-2.06.94z\"/><path d=\"M17.41 7.96l-1.37-1.37c-.4-.4-.92-.59-1.43-.59-.52 0-1.04.2-1.43.59L10.3 9.45l-7.72 7.72c-.78.78-.78 2.05 0 2.83L4 21.41c.39.39.9.59 1.41.59.51 0 1.02-.2 1.41-.59l7.78-7.78 2.81-2.81c.8-.78.8-2.07 0-2.86zM5.41 20L4 18.59l7.72-7.72 1.47 1.35L5.41 20z\"/>\n",
              "  </svg>\n",
              "      </button>\n",
              "      \n",
              "  <style>\n",
              "    .colab-df-container {\n",
              "      display:flex;\n",
              "      flex-wrap:wrap;\n",
              "      gap: 12px;\n",
              "    }\n",
              "\n",
              "    .colab-df-convert {\n",
              "      background-color: #E8F0FE;\n",
              "      border: none;\n",
              "      border-radius: 50%;\n",
              "      cursor: pointer;\n",
              "      display: none;\n",
              "      fill: #1967D2;\n",
              "      height: 32px;\n",
              "      padding: 0 0 0 0;\n",
              "      width: 32px;\n",
              "    }\n",
              "\n",
              "    .colab-df-convert:hover {\n",
              "      background-color: #E2EBFA;\n",
              "      box-shadow: 0px 1px 2px rgba(60, 64, 67, 0.3), 0px 1px 3px 1px rgba(60, 64, 67, 0.15);\n",
              "      fill: #174EA6;\n",
              "    }\n",
              "\n",
              "    [theme=dark] .colab-df-convert {\n",
              "      background-color: #3B4455;\n",
              "      fill: #D2E3FC;\n",
              "    }\n",
              "\n",
              "    [theme=dark] .colab-df-convert:hover {\n",
              "      background-color: #434B5C;\n",
              "      box-shadow: 0px 1px 3px 1px rgba(0, 0, 0, 0.15);\n",
              "      filter: drop-shadow(0px 1px 2px rgba(0, 0, 0, 0.3));\n",
              "      fill: #FFFFFF;\n",
              "    }\n",
              "  </style>\n",
              "\n",
              "      <script>\n",
              "        const buttonEl =\n",
              "          document.querySelector('#df-a2bb06e7-c963-450e-aca5-7734d015ed77 button.colab-df-convert');\n",
              "        buttonEl.style.display =\n",
              "          google.colab.kernel.accessAllowed ? 'block' : 'none';\n",
              "\n",
              "        async function convertToInteractive(key) {\n",
              "          const element = document.querySelector('#df-a2bb06e7-c963-450e-aca5-7734d015ed77');\n",
              "          const dataTable =\n",
              "            await google.colab.kernel.invokeFunction('convertToInteractive',\n",
              "                                                     [key], {});\n",
              "          if (!dataTable) return;\n",
              "\n",
              "          const docLinkHtml = 'Like what you see? Visit the ' +\n",
              "            '<a target=\"_blank\" href=https://colab.research.google.com/notebooks/data_table.ipynb>data table notebook</a>'\n",
              "            + ' to learn more about interactive tables.';\n",
              "          element.innerHTML = '';\n",
              "          dataTable['output_type'] = 'display_data';\n",
              "          await google.colab.output.renderOutput(dataTable, element);\n",
              "          const docLink = document.createElement('div');\n",
              "          docLink.innerHTML = docLinkHtml;\n",
              "          element.appendChild(docLink);\n",
              "        }\n",
              "      </script>\n",
              "    </div>\n",
              "  </div>\n",
              "  "
            ]
          },
          "metadata": {},
          "execution_count": 165
        }
      ]
    },
    {
      "cell_type": "code",
      "source": [
        "df.drop(columns=[\"Name\",\"Ticket\",\"Cabin\"],inplace=True)"
      ],
      "metadata": {
        "execution": {
          "iopub.status.busy": "2022-11-04T10:56:47.898028Z",
          "iopub.execute_input": "2022-11-04T10:56:47.898402Z",
          "iopub.status.idle": "2022-11-04T10:56:47.904781Z",
          "shell.execute_reply.started": "2022-11-04T10:56:47.898368Z",
          "shell.execute_reply": "2022-11-04T10:56:47.903683Z"
        },
        "trusted": true,
        "id": "77W_nDC6TAdL"
      },
      "execution_count": 166,
      "outputs": []
    },
    {
      "cell_type": "code",
      "source": [
        "df.shape"
      ],
      "metadata": {
        "execution": {
          "iopub.status.busy": "2022-11-04T10:56:47.912368Z",
          "iopub.execute_input": "2022-11-04T10:56:47.912783Z",
          "iopub.status.idle": "2022-11-04T10:56:47.920795Z",
          "shell.execute_reply.started": "2022-11-04T10:56:47.912746Z",
          "shell.execute_reply": "2022-11-04T10:56:47.919527Z"
        },
        "trusted": true,
        "colab": {
          "base_uri": "https://localhost:8080/"
        },
        "id": "uSlIlXFPTAdM",
        "outputId": "960c217d-4346-44d7-910e-5448990461b5"
      },
      "execution_count": 167,
      "outputs": [
        {
          "output_type": "execute_result",
          "data": {
            "text/plain": [
              "(891, 9)"
            ]
          },
          "metadata": {},
          "execution_count": 167
        }
      ]
    },
    {
      "cell_type": "code",
      "source": [
        "df.head()"
      ],
      "metadata": {
        "execution": {
          "iopub.status.busy": "2022-11-04T10:56:47.940610Z",
          "iopub.execute_input": "2022-11-04T10:56:47.941003Z",
          "iopub.status.idle": "2022-11-04T10:56:47.956799Z",
          "shell.execute_reply.started": "2022-11-04T10:56:47.940970Z",
          "shell.execute_reply": "2022-11-04T10:56:47.955378Z"
        },
        "trusted": true,
        "colab": {
          "base_uri": "https://localhost:8080/",
          "height": 206
        },
        "id": "WA3HVd1VTAdN",
        "outputId": "8a66f84d-b2de-4f9d-8a62-fedce6fe268e"
      },
      "execution_count": 168,
      "outputs": [
        {
          "output_type": "execute_result",
          "data": {
            "text/plain": [
              "   PassengerId  Survived  Pclass     Sex   Age  SibSp  Parch     Fare Embarked\n",
              "0            1         0       3    male  22.0      1      0   7.2500        S\n",
              "1            2         1       1  female  38.0      1      0  71.2833        C\n",
              "2            3         1       3  female  26.0      0      0   7.9250        S\n",
              "3            4         1       1  female  35.0      1      0  53.1000        S\n",
              "4            5         0       3    male  35.0      0      0   8.0500        S"
            ],
            "text/html": [
              "\n",
              "  <div id=\"df-d096411a-5ee2-4c0c-9f93-0c520653eb58\">\n",
              "    <div class=\"colab-df-container\">\n",
              "      <div>\n",
              "<style scoped>\n",
              "    .dataframe tbody tr th:only-of-type {\n",
              "        vertical-align: middle;\n",
              "    }\n",
              "\n",
              "    .dataframe tbody tr th {\n",
              "        vertical-align: top;\n",
              "    }\n",
              "\n",
              "    .dataframe thead th {\n",
              "        text-align: right;\n",
              "    }\n",
              "</style>\n",
              "<table border=\"1\" class=\"dataframe\">\n",
              "  <thead>\n",
              "    <tr style=\"text-align: right;\">\n",
              "      <th></th>\n",
              "      <th>PassengerId</th>\n",
              "      <th>Survived</th>\n",
              "      <th>Pclass</th>\n",
              "      <th>Sex</th>\n",
              "      <th>Age</th>\n",
              "      <th>SibSp</th>\n",
              "      <th>Parch</th>\n",
              "      <th>Fare</th>\n",
              "      <th>Embarked</th>\n",
              "    </tr>\n",
              "  </thead>\n",
              "  <tbody>\n",
              "    <tr>\n",
              "      <th>0</th>\n",
              "      <td>1</td>\n",
              "      <td>0</td>\n",
              "      <td>3</td>\n",
              "      <td>male</td>\n",
              "      <td>22.0</td>\n",
              "      <td>1</td>\n",
              "      <td>0</td>\n",
              "      <td>7.2500</td>\n",
              "      <td>S</td>\n",
              "    </tr>\n",
              "    <tr>\n",
              "      <th>1</th>\n",
              "      <td>2</td>\n",
              "      <td>1</td>\n",
              "      <td>1</td>\n",
              "      <td>female</td>\n",
              "      <td>38.0</td>\n",
              "      <td>1</td>\n",
              "      <td>0</td>\n",
              "      <td>71.2833</td>\n",
              "      <td>C</td>\n",
              "    </tr>\n",
              "    <tr>\n",
              "      <th>2</th>\n",
              "      <td>3</td>\n",
              "      <td>1</td>\n",
              "      <td>3</td>\n",
              "      <td>female</td>\n",
              "      <td>26.0</td>\n",
              "      <td>0</td>\n",
              "      <td>0</td>\n",
              "      <td>7.9250</td>\n",
              "      <td>S</td>\n",
              "    </tr>\n",
              "    <tr>\n",
              "      <th>3</th>\n",
              "      <td>4</td>\n",
              "      <td>1</td>\n",
              "      <td>1</td>\n",
              "      <td>female</td>\n",
              "      <td>35.0</td>\n",
              "      <td>1</td>\n",
              "      <td>0</td>\n",
              "      <td>53.1000</td>\n",
              "      <td>S</td>\n",
              "    </tr>\n",
              "    <tr>\n",
              "      <th>4</th>\n",
              "      <td>5</td>\n",
              "      <td>0</td>\n",
              "      <td>3</td>\n",
              "      <td>male</td>\n",
              "      <td>35.0</td>\n",
              "      <td>0</td>\n",
              "      <td>0</td>\n",
              "      <td>8.0500</td>\n",
              "      <td>S</td>\n",
              "    </tr>\n",
              "  </tbody>\n",
              "</table>\n",
              "</div>\n",
              "      <button class=\"colab-df-convert\" onclick=\"convertToInteractive('df-d096411a-5ee2-4c0c-9f93-0c520653eb58')\"\n",
              "              title=\"Convert this dataframe to an interactive table.\"\n",
              "              style=\"display:none;\">\n",
              "        \n",
              "  <svg xmlns=\"http://www.w3.org/2000/svg\" height=\"24px\"viewBox=\"0 0 24 24\"\n",
              "       width=\"24px\">\n",
              "    <path d=\"M0 0h24v24H0V0z\" fill=\"none\"/>\n",
              "    <path d=\"M18.56 5.44l.94 2.06.94-2.06 2.06-.94-2.06-.94-.94-2.06-.94 2.06-2.06.94zm-11 1L8.5 8.5l.94-2.06 2.06-.94-2.06-.94L8.5 2.5l-.94 2.06-2.06.94zm10 10l.94 2.06.94-2.06 2.06-.94-2.06-.94-.94-2.06-.94 2.06-2.06.94z\"/><path d=\"M17.41 7.96l-1.37-1.37c-.4-.4-.92-.59-1.43-.59-.52 0-1.04.2-1.43.59L10.3 9.45l-7.72 7.72c-.78.78-.78 2.05 0 2.83L4 21.41c.39.39.9.59 1.41.59.51 0 1.02-.2 1.41-.59l7.78-7.78 2.81-2.81c.8-.78.8-2.07 0-2.86zM5.41 20L4 18.59l7.72-7.72 1.47 1.35L5.41 20z\"/>\n",
              "  </svg>\n",
              "      </button>\n",
              "      \n",
              "  <style>\n",
              "    .colab-df-container {\n",
              "      display:flex;\n",
              "      flex-wrap:wrap;\n",
              "      gap: 12px;\n",
              "    }\n",
              "\n",
              "    .colab-df-convert {\n",
              "      background-color: #E8F0FE;\n",
              "      border: none;\n",
              "      border-radius: 50%;\n",
              "      cursor: pointer;\n",
              "      display: none;\n",
              "      fill: #1967D2;\n",
              "      height: 32px;\n",
              "      padding: 0 0 0 0;\n",
              "      width: 32px;\n",
              "    }\n",
              "\n",
              "    .colab-df-convert:hover {\n",
              "      background-color: #E2EBFA;\n",
              "      box-shadow: 0px 1px 2px rgba(60, 64, 67, 0.3), 0px 1px 3px 1px rgba(60, 64, 67, 0.15);\n",
              "      fill: #174EA6;\n",
              "    }\n",
              "\n",
              "    [theme=dark] .colab-df-convert {\n",
              "      background-color: #3B4455;\n",
              "      fill: #D2E3FC;\n",
              "    }\n",
              "\n",
              "    [theme=dark] .colab-df-convert:hover {\n",
              "      background-color: #434B5C;\n",
              "      box-shadow: 0px 1px 3px 1px rgba(0, 0, 0, 0.15);\n",
              "      filter: drop-shadow(0px 1px 2px rgba(0, 0, 0, 0.3));\n",
              "      fill: #FFFFFF;\n",
              "    }\n",
              "  </style>\n",
              "\n",
              "      <script>\n",
              "        const buttonEl =\n",
              "          document.querySelector('#df-d096411a-5ee2-4c0c-9f93-0c520653eb58 button.colab-df-convert');\n",
              "        buttonEl.style.display =\n",
              "          google.colab.kernel.accessAllowed ? 'block' : 'none';\n",
              "\n",
              "        async function convertToInteractive(key) {\n",
              "          const element = document.querySelector('#df-d096411a-5ee2-4c0c-9f93-0c520653eb58');\n",
              "          const dataTable =\n",
              "            await google.colab.kernel.invokeFunction('convertToInteractive',\n",
              "                                                     [key], {});\n",
              "          if (!dataTable) return;\n",
              "\n",
              "          const docLinkHtml = 'Like what you see? Visit the ' +\n",
              "            '<a target=\"_blank\" href=https://colab.research.google.com/notebooks/data_table.ipynb>data table notebook</a>'\n",
              "            + ' to learn more about interactive tables.';\n",
              "          element.innerHTML = '';\n",
              "          dataTable['output_type'] = 'display_data';\n",
              "          await google.colab.output.renderOutput(dataTable, element);\n",
              "          const docLink = document.createElement('div');\n",
              "          docLink.innerHTML = docLinkHtml;\n",
              "          element.appendChild(docLink);\n",
              "        }\n",
              "      </script>\n",
              "    </div>\n",
              "  </div>\n",
              "  "
            ]
          },
          "metadata": {},
          "execution_count": 168
        }
      ]
    },
    {
      "cell_type": "code",
      "source": [
        "df.isnull().sum()"
      ],
      "metadata": {
        "execution": {
          "iopub.status.busy": "2022-11-04T10:56:47.962861Z",
          "iopub.execute_input": "2022-11-04T10:56:47.963272Z",
          "iopub.status.idle": "2022-11-04T10:56:47.974433Z",
          "shell.execute_reply.started": "2022-11-04T10:56:47.963235Z",
          "shell.execute_reply": "2022-11-04T10:56:47.973238Z"
        },
        "trusted": true,
        "colab": {
          "base_uri": "https://localhost:8080/"
        },
        "id": "XzMzENemTAdN",
        "outputId": "1f36c6ca-d486-4ba0-c34d-e6b4741b0a9b"
      },
      "execution_count": 169,
      "outputs": [
        {
          "output_type": "execute_result",
          "data": {
            "text/plain": [
              "PassengerId      0\n",
              "Survived         0\n",
              "Pclass           0\n",
              "Sex              0\n",
              "Age            177\n",
              "SibSp            0\n",
              "Parch            0\n",
              "Fare             0\n",
              "Embarked         2\n",
              "dtype: int64"
            ]
          },
          "metadata": {},
          "execution_count": 169
        }
      ]
    },
    {
      "cell_type": "code",
      "source": [
        "df.Age.fillna(df.Age.mean(),inplace=True)"
      ],
      "metadata": {
        "execution": {
          "iopub.status.busy": "2022-11-04T10:56:47.979267Z",
          "iopub.execute_input": "2022-11-04T10:56:47.979631Z",
          "iopub.status.idle": "2022-11-04T10:56:47.986968Z",
          "shell.execute_reply.started": "2022-11-04T10:56:47.979599Z",
          "shell.execute_reply": "2022-11-04T10:56:47.985663Z"
        },
        "trusted": true,
        "id": "TnCyyRtPTAdO"
      },
      "execution_count": 170,
      "outputs": []
    },
    {
      "cell_type": "code",
      "source": [
        "df.dropna(inplace=True)"
      ],
      "metadata": {
        "execution": {
          "iopub.status.busy": "2022-11-04T10:56:47.991837Z",
          "iopub.execute_input": "2022-11-04T10:56:47.992654Z",
          "iopub.status.idle": "2022-11-04T10:56:48.000647Z",
          "shell.execute_reply.started": "2022-11-04T10:56:47.992615Z",
          "shell.execute_reply": "2022-11-04T10:56:47.999536Z"
        },
        "trusted": true,
        "id": "8hSvntalTAdO"
      },
      "execution_count": 171,
      "outputs": []
    },
    {
      "cell_type": "code",
      "source": [
        "df.isnull().sum()"
      ],
      "metadata": {
        "execution": {
          "iopub.status.busy": "2022-11-04T10:56:48.019139Z",
          "iopub.execute_input": "2022-11-04T10:56:48.020156Z",
          "iopub.status.idle": "2022-11-04T10:56:48.032035Z",
          "shell.execute_reply.started": "2022-11-04T10:56:48.020108Z",
          "shell.execute_reply": "2022-11-04T10:56:48.031101Z"
        },
        "trusted": true,
        "colab": {
          "base_uri": "https://localhost:8080/"
        },
        "id": "zC2I4ErHTAdO",
        "outputId": "821cb630-d47e-44b8-efe5-2c4125ee72b9"
      },
      "execution_count": 172,
      "outputs": [
        {
          "output_type": "execute_result",
          "data": {
            "text/plain": [
              "PassengerId    0\n",
              "Survived       0\n",
              "Pclass         0\n",
              "Sex            0\n",
              "Age            0\n",
              "SibSp          0\n",
              "Parch          0\n",
              "Fare           0\n",
              "Embarked       0\n",
              "dtype: int64"
            ]
          },
          "metadata": {},
          "execution_count": 172
        }
      ]
    },
    {
      "cell_type": "code",
      "source": [
        "df.shape"
      ],
      "metadata": {
        "execution": {
          "iopub.status.busy": "2022-11-04T10:56:48.070606Z",
          "iopub.execute_input": "2022-11-04T10:56:48.071022Z",
          "iopub.status.idle": "2022-11-04T10:56:48.078336Z",
          "shell.execute_reply.started": "2022-11-04T10:56:48.070975Z",
          "shell.execute_reply": "2022-11-04T10:56:48.077030Z"
        },
        "trusted": true,
        "colab": {
          "base_uri": "https://localhost:8080/"
        },
        "id": "PA9PyZk0TAdP",
        "outputId": "0afeb860-05e3-4f72-e27e-0ed9124a42be"
      },
      "execution_count": 173,
      "outputs": [
        {
          "output_type": "execute_result",
          "data": {
            "text/plain": [
              "(889, 9)"
            ]
          },
          "metadata": {},
          "execution_count": 173
        }
      ]
    },
    {
      "cell_type": "code",
      "source": [
        "df.describe()"
      ],
      "metadata": {
        "execution": {
          "iopub.status.busy": "2022-11-04T10:56:48.147378Z",
          "iopub.execute_input": "2022-11-04T10:56:48.148374Z",
          "iopub.status.idle": "2022-11-04T10:56:48.184869Z",
          "shell.execute_reply.started": "2022-11-04T10:56:48.148330Z",
          "shell.execute_reply": "2022-11-04T10:56:48.183892Z"
        },
        "trusted": true,
        "colab": {
          "base_uri": "https://localhost:8080/",
          "height": 300
        },
        "id": "lowDco0lTAdP",
        "outputId": "aa053f20-b364-45cc-dc78-587ad281b14f"
      },
      "execution_count": 174,
      "outputs": [
        {
          "output_type": "execute_result",
          "data": {
            "text/plain": [
              "       PassengerId    Survived      Pclass         Age       SibSp  \\\n",
              "count   889.000000  889.000000  889.000000  889.000000  889.000000   \n",
              "mean    446.000000    0.382452    2.311586   29.653446    0.524184   \n",
              "std     256.998173    0.486260    0.834700   12.968366    1.103705   \n",
              "min       1.000000    0.000000    1.000000    0.420000    0.000000   \n",
              "25%     224.000000    0.000000    2.000000   22.000000    0.000000   \n",
              "50%     446.000000    0.000000    3.000000   29.699118    0.000000   \n",
              "75%     668.000000    1.000000    3.000000   35.000000    1.000000   \n",
              "max     891.000000    1.000000    3.000000   80.000000    8.000000   \n",
              "\n",
              "            Parch        Fare  \n",
              "count  889.000000  889.000000  \n",
              "mean     0.382452   32.096681  \n",
              "std      0.806761   49.697504  \n",
              "min      0.000000    0.000000  \n",
              "25%      0.000000    7.895800  \n",
              "50%      0.000000   14.454200  \n",
              "75%      0.000000   31.000000  \n",
              "max      6.000000  512.329200  "
            ],
            "text/html": [
              "\n",
              "  <div id=\"df-21240a60-5c6f-4744-9153-f4575756db61\">\n",
              "    <div class=\"colab-df-container\">\n",
              "      <div>\n",
              "<style scoped>\n",
              "    .dataframe tbody tr th:only-of-type {\n",
              "        vertical-align: middle;\n",
              "    }\n",
              "\n",
              "    .dataframe tbody tr th {\n",
              "        vertical-align: top;\n",
              "    }\n",
              "\n",
              "    .dataframe thead th {\n",
              "        text-align: right;\n",
              "    }\n",
              "</style>\n",
              "<table border=\"1\" class=\"dataframe\">\n",
              "  <thead>\n",
              "    <tr style=\"text-align: right;\">\n",
              "      <th></th>\n",
              "      <th>PassengerId</th>\n",
              "      <th>Survived</th>\n",
              "      <th>Pclass</th>\n",
              "      <th>Age</th>\n",
              "      <th>SibSp</th>\n",
              "      <th>Parch</th>\n",
              "      <th>Fare</th>\n",
              "    </tr>\n",
              "  </thead>\n",
              "  <tbody>\n",
              "    <tr>\n",
              "      <th>count</th>\n",
              "      <td>889.000000</td>\n",
              "      <td>889.000000</td>\n",
              "      <td>889.000000</td>\n",
              "      <td>889.000000</td>\n",
              "      <td>889.000000</td>\n",
              "      <td>889.000000</td>\n",
              "      <td>889.000000</td>\n",
              "    </tr>\n",
              "    <tr>\n",
              "      <th>mean</th>\n",
              "      <td>446.000000</td>\n",
              "      <td>0.382452</td>\n",
              "      <td>2.311586</td>\n",
              "      <td>29.653446</td>\n",
              "      <td>0.524184</td>\n",
              "      <td>0.382452</td>\n",
              "      <td>32.096681</td>\n",
              "    </tr>\n",
              "    <tr>\n",
              "      <th>std</th>\n",
              "      <td>256.998173</td>\n",
              "      <td>0.486260</td>\n",
              "      <td>0.834700</td>\n",
              "      <td>12.968366</td>\n",
              "      <td>1.103705</td>\n",
              "      <td>0.806761</td>\n",
              "      <td>49.697504</td>\n",
              "    </tr>\n",
              "    <tr>\n",
              "      <th>min</th>\n",
              "      <td>1.000000</td>\n",
              "      <td>0.000000</td>\n",
              "      <td>1.000000</td>\n",
              "      <td>0.420000</td>\n",
              "      <td>0.000000</td>\n",
              "      <td>0.000000</td>\n",
              "      <td>0.000000</td>\n",
              "    </tr>\n",
              "    <tr>\n",
              "      <th>25%</th>\n",
              "      <td>224.000000</td>\n",
              "      <td>0.000000</td>\n",
              "      <td>2.000000</td>\n",
              "      <td>22.000000</td>\n",
              "      <td>0.000000</td>\n",
              "      <td>0.000000</td>\n",
              "      <td>7.895800</td>\n",
              "    </tr>\n",
              "    <tr>\n",
              "      <th>50%</th>\n",
              "      <td>446.000000</td>\n",
              "      <td>0.000000</td>\n",
              "      <td>3.000000</td>\n",
              "      <td>29.699118</td>\n",
              "      <td>0.000000</td>\n",
              "      <td>0.000000</td>\n",
              "      <td>14.454200</td>\n",
              "    </tr>\n",
              "    <tr>\n",
              "      <th>75%</th>\n",
              "      <td>668.000000</td>\n",
              "      <td>1.000000</td>\n",
              "      <td>3.000000</td>\n",
              "      <td>35.000000</td>\n",
              "      <td>1.000000</td>\n",
              "      <td>0.000000</td>\n",
              "      <td>31.000000</td>\n",
              "    </tr>\n",
              "    <tr>\n",
              "      <th>max</th>\n",
              "      <td>891.000000</td>\n",
              "      <td>1.000000</td>\n",
              "      <td>3.000000</td>\n",
              "      <td>80.000000</td>\n",
              "      <td>8.000000</td>\n",
              "      <td>6.000000</td>\n",
              "      <td>512.329200</td>\n",
              "    </tr>\n",
              "  </tbody>\n",
              "</table>\n",
              "</div>\n",
              "      <button class=\"colab-df-convert\" onclick=\"convertToInteractive('df-21240a60-5c6f-4744-9153-f4575756db61')\"\n",
              "              title=\"Convert this dataframe to an interactive table.\"\n",
              "              style=\"display:none;\">\n",
              "        \n",
              "  <svg xmlns=\"http://www.w3.org/2000/svg\" height=\"24px\"viewBox=\"0 0 24 24\"\n",
              "       width=\"24px\">\n",
              "    <path d=\"M0 0h24v24H0V0z\" fill=\"none\"/>\n",
              "    <path d=\"M18.56 5.44l.94 2.06.94-2.06 2.06-.94-2.06-.94-.94-2.06-.94 2.06-2.06.94zm-11 1L8.5 8.5l.94-2.06 2.06-.94-2.06-.94L8.5 2.5l-.94 2.06-2.06.94zm10 10l.94 2.06.94-2.06 2.06-.94-2.06-.94-.94-2.06-.94 2.06-2.06.94z\"/><path d=\"M17.41 7.96l-1.37-1.37c-.4-.4-.92-.59-1.43-.59-.52 0-1.04.2-1.43.59L10.3 9.45l-7.72 7.72c-.78.78-.78 2.05 0 2.83L4 21.41c.39.39.9.59 1.41.59.51 0 1.02-.2 1.41-.59l7.78-7.78 2.81-2.81c.8-.78.8-2.07 0-2.86zM5.41 20L4 18.59l7.72-7.72 1.47 1.35L5.41 20z\"/>\n",
              "  </svg>\n",
              "      </button>\n",
              "      \n",
              "  <style>\n",
              "    .colab-df-container {\n",
              "      display:flex;\n",
              "      flex-wrap:wrap;\n",
              "      gap: 12px;\n",
              "    }\n",
              "\n",
              "    .colab-df-convert {\n",
              "      background-color: #E8F0FE;\n",
              "      border: none;\n",
              "      border-radius: 50%;\n",
              "      cursor: pointer;\n",
              "      display: none;\n",
              "      fill: #1967D2;\n",
              "      height: 32px;\n",
              "      padding: 0 0 0 0;\n",
              "      width: 32px;\n",
              "    }\n",
              "\n",
              "    .colab-df-convert:hover {\n",
              "      background-color: #E2EBFA;\n",
              "      box-shadow: 0px 1px 2px rgba(60, 64, 67, 0.3), 0px 1px 3px 1px rgba(60, 64, 67, 0.15);\n",
              "      fill: #174EA6;\n",
              "    }\n",
              "\n",
              "    [theme=dark] .colab-df-convert {\n",
              "      background-color: #3B4455;\n",
              "      fill: #D2E3FC;\n",
              "    }\n",
              "\n",
              "    [theme=dark] .colab-df-convert:hover {\n",
              "      background-color: #434B5C;\n",
              "      box-shadow: 0px 1px 3px 1px rgba(0, 0, 0, 0.15);\n",
              "      filter: drop-shadow(0px 1px 2px rgba(0, 0, 0, 0.3));\n",
              "      fill: #FFFFFF;\n",
              "    }\n",
              "  </style>\n",
              "\n",
              "      <script>\n",
              "        const buttonEl =\n",
              "          document.querySelector('#df-21240a60-5c6f-4744-9153-f4575756db61 button.colab-df-convert');\n",
              "        buttonEl.style.display =\n",
              "          google.colab.kernel.accessAllowed ? 'block' : 'none';\n",
              "\n",
              "        async function convertToInteractive(key) {\n",
              "          const element = document.querySelector('#df-21240a60-5c6f-4744-9153-f4575756db61');\n",
              "          const dataTable =\n",
              "            await google.colab.kernel.invokeFunction('convertToInteractive',\n",
              "                                                     [key], {});\n",
              "          if (!dataTable) return;\n",
              "\n",
              "          const docLinkHtml = 'Like what you see? Visit the ' +\n",
              "            '<a target=\"_blank\" href=https://colab.research.google.com/notebooks/data_table.ipynb>data table notebook</a>'\n",
              "            + ' to learn more about interactive tables.';\n",
              "          element.innerHTML = '';\n",
              "          dataTable['output_type'] = 'display_data';\n",
              "          await google.colab.output.renderOutput(dataTable, element);\n",
              "          const docLink = document.createElement('div');\n",
              "          docLink.innerHTML = docLinkHtml;\n",
              "          element.appendChild(docLink);\n",
              "        }\n",
              "      </script>\n",
              "    </div>\n",
              "  </div>\n",
              "  "
            ]
          },
          "metadata": {},
          "execution_count": 174
        }
      ]
    },
    {
      "cell_type": "code",
      "source": [
        "df.nunique().sort_values()"
      ],
      "metadata": {
        "execution": {
          "iopub.status.busy": "2022-11-04T10:56:48.186778Z",
          "iopub.execute_input": "2022-11-04T10:56:48.187144Z",
          "iopub.status.idle": "2022-11-04T10:56:48.197736Z",
          "shell.execute_reply.started": "2022-11-04T10:56:48.187111Z",
          "shell.execute_reply": "2022-11-04T10:56:48.196884Z"
        },
        "trusted": true,
        "colab": {
          "base_uri": "https://localhost:8080/"
        },
        "id": "JG4KSka8TAdP",
        "outputId": "c0ba28a9-0b5c-430f-b2e2-826afbb26f0d"
      },
      "execution_count": 175,
      "outputs": [
        {
          "output_type": "execute_result",
          "data": {
            "text/plain": [
              "Survived         2\n",
              "Sex              2\n",
              "Pclass           3\n",
              "Embarked         3\n",
              "SibSp            7\n",
              "Parch            7\n",
              "Age             89\n",
              "Fare           247\n",
              "PassengerId    889\n",
              "dtype: int64"
            ]
          },
          "metadata": {},
          "execution_count": 175
        }
      ]
    },
    {
      "cell_type": "code",
      "source": [
        "df.Sex = df.Sex.map({'male':1,'female':0})"
      ],
      "metadata": {
        "execution": {
          "iopub.status.busy": "2022-11-04T10:56:48.199663Z",
          "iopub.execute_input": "2022-11-04T10:56:48.200319Z",
          "iopub.status.idle": "2022-11-04T10:56:48.207596Z",
          "shell.execute_reply.started": "2022-11-04T10:56:48.200284Z",
          "shell.execute_reply": "2022-11-04T10:56:48.205859Z"
        },
        "trusted": true,
        "id": "XoVJvKLQTAdQ"
      },
      "execution_count": 176,
      "outputs": []
    },
    {
      "cell_type": "code",
      "source": [
        "df.Embarked.value_counts()"
      ],
      "metadata": {
        "execution": {
          "iopub.status.busy": "2022-11-04T10:56:48.209434Z",
          "iopub.execute_input": "2022-11-04T10:56:48.209755Z",
          "iopub.status.idle": "2022-11-04T10:56:48.223079Z",
          "shell.execute_reply.started": "2022-11-04T10:56:48.209726Z",
          "shell.execute_reply": "2022-11-04T10:56:48.222250Z"
        },
        "trusted": true,
        "colab": {
          "base_uri": "https://localhost:8080/"
        },
        "id": "wgXkaEQXTAdQ",
        "outputId": "fec6e1d4-37f8-4e19-9f38-2258e2e45ce8"
      },
      "execution_count": 177,
      "outputs": [
        {
          "output_type": "execute_result",
          "data": {
            "text/plain": [
              "S    644\n",
              "C    168\n",
              "Q     77\n",
              "Name: Embarked, dtype: int64"
            ]
          },
          "metadata": {},
          "execution_count": 177
        }
      ]
    },
    {
      "cell_type": "code",
      "source": [
        "df.Embarked = df.Embarked.map({'Q':2, 'C':1,'S':0})"
      ],
      "metadata": {
        "execution": {
          "iopub.status.busy": "2022-11-04T10:56:48.224263Z",
          "iopub.execute_input": "2022-11-04T10:56:48.224616Z",
          "iopub.status.idle": "2022-11-04T10:56:48.234433Z",
          "shell.execute_reply.started": "2022-11-04T10:56:48.224587Z",
          "shell.execute_reply": "2022-11-04T10:56:48.233373Z"
        },
        "trusted": true,
        "id": "026pr8JjTAdQ"
      },
      "execution_count": 178,
      "outputs": []
    },
    {
      "cell_type": "code",
      "source": [
        "categ_columns = []\n",
        "num_columns = []\n",
        "for col in df.columns:\n",
        "    if df[col].nunique() <= 7:\n",
        "        categ_columns.append(col)\n",
        "    else:\n",
        "        num_columns.append(col)"
      ],
      "metadata": {
        "execution": {
          "iopub.status.busy": "2022-11-04T10:56:48.236351Z",
          "iopub.execute_input": "2022-11-04T10:56:48.236691Z",
          "iopub.status.idle": "2022-11-04T10:56:48.249933Z",
          "shell.execute_reply.started": "2022-11-04T10:56:48.236658Z",
          "shell.execute_reply": "2022-11-04T10:56:48.248821Z"
        },
        "trusted": true,
        "id": "zFhib5u_TAdQ"
      },
      "execution_count": 179,
      "outputs": []
    },
    {
      "cell_type": "code",
      "source": [
        "print(categ_columns)\n",
        "print(num_columns)"
      ],
      "metadata": {
        "execution": {
          "iopub.status.busy": "2022-11-04T10:56:48.251847Z",
          "iopub.execute_input": "2022-11-04T10:56:48.253093Z",
          "iopub.status.idle": "2022-11-04T10:56:48.262125Z",
          "shell.execute_reply.started": "2022-11-04T10:56:48.253038Z",
          "shell.execute_reply": "2022-11-04T10:56:48.260635Z"
        },
        "trusted": true,
        "colab": {
          "base_uri": "https://localhost:8080/"
        },
        "id": "68iKZynDTAdR",
        "outputId": "5988c582-4be8-422d-b170-195508d5163a"
      },
      "execution_count": 180,
      "outputs": [
        {
          "output_type": "stream",
          "name": "stdout",
          "text": [
            "['Survived', 'Pclass', 'Sex', 'SibSp', 'Parch', 'Embarked']\n",
            "['PassengerId', 'Age', 'Fare']\n"
          ]
        }
      ]
    },
    {
      "cell_type": "code",
      "source": [
        "#outliers\n",
        "\n",
        "#df_num = df[num_columns]\n",
        "#print(df_num.head())\n",
        "#q1 = df_num.quantile(0.25)\n",
        "#q3 = df_num.quantile(0.75)\n",
        "#print(q1)\n",
        "#print(q1[0])\n",
        "#print(q3)\n",
        "#IQR = q3 - q1\n",
        "#print(IQR)\n",
        "#((df_num > (q3+1.5*IQR)) | (df_num < (q1-1.5*IQR))).any()"
      ],
      "metadata": {
        "execution": {
          "iopub.status.busy": "2022-11-04T10:56:48.269985Z",
          "iopub.execute_input": "2022-11-04T10:56:48.270764Z",
          "iopub.status.idle": "2022-11-04T10:56:48.275446Z",
          "shell.execute_reply.started": "2022-11-04T10:56:48.270727Z",
          "shell.execute_reply": "2022-11-04T10:56:48.274197Z"
        },
        "trusted": true,
        "id": "FQ1VlSi0TAdR"
      },
      "execution_count": 181,
      "outputs": []
    },
    {
      "cell_type": "code",
      "source": [
        "#import seaborn as sns\n",
        "#import warnings\n",
        "#warnings.filterwarnings('ignore')\n",
        "#import matplotlib.pyplot as plt\n",
        "#sns.boxplot(df['Age'])\n",
        "#plt.show()"
      ],
      "metadata": {
        "execution": {
          "iopub.status.busy": "2022-11-04T10:56:48.288418Z",
          "iopub.execute_input": "2022-11-04T10:56:48.289401Z",
          "iopub.status.idle": "2022-11-04T10:56:48.293866Z",
          "shell.execute_reply.started": "2022-11-04T10:56:48.289347Z",
          "shell.execute_reply": "2022-11-04T10:56:48.292720Z"
        },
        "trusted": true,
        "id": "DYss2fIRTAdR"
      },
      "execution_count": 182,
      "outputs": []
    },
    {
      "cell_type": "code",
      "source": [
        "#sns.boxplot(df['Fare'])\n",
        "#plt.show()"
      ],
      "metadata": {
        "execution": {
          "iopub.status.busy": "2022-11-04T10:56:48.311775Z",
          "iopub.execute_input": "2022-11-04T10:56:48.312187Z",
          "iopub.status.idle": "2022-11-04T10:56:48.317156Z",
          "shell.execute_reply.started": "2022-11-04T10:56:48.312153Z",
          "shell.execute_reply": "2022-11-04T10:56:48.315890Z"
        },
        "trusted": true,
        "id": "NOdp682WTAdS"
      },
      "execution_count": 183,
      "outputs": []
    },
    {
      "cell_type": "code",
      "source": [
        "#df.Age"
      ],
      "metadata": {
        "execution": {
          "iopub.status.busy": "2022-11-04T10:56:48.334570Z",
          "iopub.execute_input": "2022-11-04T10:56:48.334957Z",
          "iopub.status.idle": "2022-11-04T10:56:48.339835Z",
          "shell.execute_reply.started": "2022-11-04T10:56:48.334924Z",
          "shell.execute_reply": "2022-11-04T10:56:48.338496Z"
        },
        "trusted": true,
        "id": "b4xpmvSjTAdS"
      },
      "execution_count": 184,
      "outputs": []
    },
    {
      "cell_type": "code",
      "source": [
        "#df.Age = df.Age.clip(q1[1]-(1.5*IQR[1]), q3[1]+(1.5*IQR[1]))\n",
        "#df.Age"
      ],
      "metadata": {
        "execution": {
          "iopub.status.busy": "2022-11-04T10:56:48.352088Z",
          "iopub.execute_input": "2022-11-04T10:56:48.353319Z",
          "iopub.status.idle": "2022-11-04T10:56:48.358761Z",
          "shell.execute_reply.started": "2022-11-04T10:56:48.353257Z",
          "shell.execute_reply": "2022-11-04T10:56:48.357624Z"
        },
        "trusted": true,
        "id": "W5tbJ8DqTAdS"
      },
      "execution_count": 185,
      "outputs": []
    },
    {
      "cell_type": "code",
      "source": [
        "#sns.boxplot(df['Age'])"
      ],
      "metadata": {
        "execution": {
          "iopub.status.busy": "2022-11-04T10:56:48.373297Z",
          "iopub.execute_input": "2022-11-04T10:56:48.373945Z",
          "iopub.status.idle": "2022-11-04T10:56:48.378304Z",
          "shell.execute_reply.started": "2022-11-04T10:56:48.373909Z",
          "shell.execute_reply": "2022-11-04T10:56:48.377227Z"
        },
        "trusted": true,
        "id": "_o3dnIOsTAdS"
      },
      "execution_count": 186,
      "outputs": []
    },
    {
      "cell_type": "code",
      "source": [
        "#df.Fare = df.Fare.clip(q1[2]-(1.5*IQR[2]), q3[2]+(1.5*IQR[2]))"
      ],
      "metadata": {
        "execution": {
          "iopub.status.busy": "2022-11-04T10:56:48.406267Z",
          "iopub.execute_input": "2022-11-04T10:56:48.407240Z",
          "iopub.status.idle": "2022-11-04T10:56:48.411939Z",
          "shell.execute_reply.started": "2022-11-04T10:56:48.407197Z",
          "shell.execute_reply": "2022-11-04T10:56:48.410665Z"
        },
        "trusted": true,
        "id": "2VElCeffTAdT"
      },
      "execution_count": 187,
      "outputs": []
    },
    {
      "cell_type": "code",
      "source": [
        "#sns.boxplot(df['Fare'])"
      ],
      "metadata": {
        "execution": {
          "iopub.status.busy": "2022-11-04T10:56:48.414328Z",
          "iopub.execute_input": "2022-11-04T10:56:48.415174Z",
          "iopub.status.idle": "2022-11-04T10:56:48.423347Z",
          "shell.execute_reply.started": "2022-11-04T10:56:48.415136Z",
          "shell.execute_reply": "2022-11-04T10:56:48.422249Z"
        },
        "trusted": true,
        "id": "rycsUAcnTAdT"
      },
      "execution_count": 188,
      "outputs": []
    },
    {
      "cell_type": "code",
      "source": [
        "#df.describe()"
      ],
      "metadata": {
        "execution": {
          "iopub.status.busy": "2022-11-04T10:56:48.435081Z",
          "iopub.execute_input": "2022-11-04T10:56:48.435852Z",
          "iopub.status.idle": "2022-11-04T10:56:48.441046Z",
          "shell.execute_reply.started": "2022-11-04T10:56:48.435801Z",
          "shell.execute_reply": "2022-11-04T10:56:48.439749Z"
        },
        "trusted": true,
        "id": "I4ZEY8QGTAdT"
      },
      "execution_count": 189,
      "outputs": []
    },
    {
      "cell_type": "code",
      "source": [
        "import matplotlib.pyplot as plt\n",
        "df.corr()['Survived'][2:].plot(kind='bar')\n",
        "plt.show()"
      ],
      "metadata": {
        "execution": {
          "iopub.status.busy": "2022-11-04T10:56:48.445870Z",
          "iopub.execute_input": "2022-11-04T10:56:48.446324Z",
          "iopub.status.idle": "2022-11-04T10:56:48.665627Z",
          "shell.execute_reply.started": "2022-11-04T10:56:48.446287Z",
          "shell.execute_reply": "2022-11-04T10:56:48.664414Z"
        },
        "trusted": true,
        "colab": {
          "base_uri": "https://localhost:8080/",
          "height": 306
        },
        "id": "h--hgWL6TAdT",
        "outputId": "8db9d819-f3fe-4733-86f6-1575b67b2fdf"
      },
      "execution_count": 190,
      "outputs": [
        {
          "output_type": "display_data",
          "data": {
            "text/plain": [
              "<Figure size 432x288 with 1 Axes>"
            ],
            "image/png": "[encoded data removed]"
          },
          "metadata": {
            "needs_background": "light"
          }
        }
      ]
    },
    {
      "cell_type": "code",
      "source": [
        "df.corr()['Survived'][2:]"
      ],
      "metadata": {
        "execution": {
          "iopub.status.busy": "2022-11-04T10:56:48.667439Z",
          "iopub.execute_input": "2022-11-04T10:56:48.667803Z",
          "iopub.status.idle": "2022-11-04T10:56:48.677927Z",
          "shell.execute_reply.started": "2022-11-04T10:56:48.667768Z",
          "shell.execute_reply": "2022-11-04T10:56:48.676979Z"
        },
        "trusted": true,
        "colab": {
          "base_uri": "https://localhost:8080/"
        },
        "id": "3ZCLocg8TAdT",
        "outputId": "dd31dcd7-ec23-4563-d1d9-cdeeaf763b1b"
      },
      "execution_count": 191,
      "outputs": [
        {
          "output_type": "execute_result",
          "data": {
            "text/plain": [
              "Pclass     -0.335549\n",
              "Sex        -0.541585\n",
              "Age        -0.074673\n",
              "SibSp      -0.034040\n",
              "Parch       0.083151\n",
              "Fare        0.255290\n",
              "Embarked    0.108669\n",
              "Name: Survived, dtype: float64"
            ]
          },
          "metadata": {},
          "execution_count": 191
        }
      ]
    },
    {
      "cell_type": "code",
      "source": [
        "df_new = df.copy()"
      ],
      "metadata": {
        "execution": {
          "iopub.status.busy": "2022-11-04T10:56:48.679408Z",
          "iopub.execute_input": "2022-11-04T10:56:48.680282Z",
          "iopub.status.idle": "2022-11-04T10:56:48.686539Z",
          "shell.execute_reply.started": "2022-11-04T10:56:48.680244Z",
          "shell.execute_reply": "2022-11-04T10:56:48.685249Z"
        },
        "trusted": true,
        "id": "pgupoBJOTAdU"
      },
      "execution_count": 192,
      "outputs": []
    },
    {
      "cell_type": "code",
      "source": [
        "df_new.head()"
      ],
      "metadata": {
        "execution": {
          "iopub.status.busy": "2022-11-04T10:56:48.689171Z",
          "iopub.execute_input": "2022-11-04T10:56:48.690161Z",
          "iopub.status.idle": "2022-11-04T10:56:48.710168Z",
          "shell.execute_reply.started": "2022-11-04T10:56:48.690107Z",
          "shell.execute_reply": "2022-11-04T10:56:48.708888Z"
        },
        "trusted": true,
        "colab": {
          "base_uri": "https://localhost:8080/",
          "height": 206
        },
        "id": "IxzqwolnTAdU",
        "outputId": "758ea8aa-b837-4f34-e135-964ea7069518"
      },
      "execution_count": 193,
      "outputs": [
        {
          "output_type": "execute_result",
          "data": {
            "text/plain": [
              "   PassengerId  Survived  Pclass  Sex   Age  SibSp  Parch     Fare  Embarked\n",
              "0            1         0       3    1  22.0      1      0   7.2500         0\n",
              "1            2         1       1    0  38.0      1      0  71.2833         1\n",
              "2            3         1       3    0  26.0      0      0   7.9250         0\n",
              "3            4         1       1    0  35.0      1      0  53.1000         0\n",
              "4            5         0       3    1  35.0      0      0   8.0500         0"
            ],
            "text/html": [
              "\n",
              "  <div id=\"df-80194814-fed3-4458-b0c9-67689823ffa9\">\n",
              "    <div class=\"colab-df-container\">\n",
              "      <div>\n",
              "<style scoped>\n",
              "    .dataframe tbody tr th:only-of-type {\n",
              "        vertical-align: middle;\n",
              "    }\n",
              "\n",
              "    .dataframe tbody tr th {\n",
              "        vertical-align: top;\n",
              "    }\n",
              "\n",
              "    .dataframe thead th {\n",
              "        text-align: right;\n",
              "    }\n",
              "</style>\n",
              "<table border=\"1\" class=\"dataframe\">\n",
              "  <thead>\n",
              "    <tr style=\"text-align: right;\">\n",
              "      <th></th>\n",
              "      <th>PassengerId</th>\n",
              "      <th>Survived</th>\n",
              "      <th>Pclass</th>\n",
              "      <th>Sex</th>\n",
              "      <th>Age</th>\n",
              "      <th>SibSp</th>\n",
              "      <th>Parch</th>\n",
              "      <th>Fare</th>\n",
              "      <th>Embarked</th>\n",
              "    </tr>\n",
              "  </thead>\n",
              "  <tbody>\n",
              "    <tr>\n",
              "      <th>0</th>\n",
              "      <td>1</td>\n",
              "      <td>0</td>\n",
              "      <td>3</td>\n",
              "      <td>1</td>\n",
              "      <td>22.0</td>\n",
              "      <td>1</td>\n",
              "      <td>0</td>\n",
              "      <td>7.2500</td>\n",
              "      <td>0</td>\n",
              "    </tr>\n",
              "    <tr>\n",
              "      <th>1</th>\n",
              "      <td>2</td>\n",
              "      <td>1</td>\n",
              "      <td>1</td>\n",
              "      <td>0</td>\n",
              "      <td>38.0</td>\n",
              "      <td>1</td>\n",
              "      <td>0</td>\n",
              "      <td>71.2833</td>\n",
              "      <td>1</td>\n",
              "    </tr>\n",
              "    <tr>\n",
              "      <th>2</th>\n",
              "      <td>3</td>\n",
              "      <td>1</td>\n",
              "      <td>3</td>\n",
              "      <td>0</td>\n",
              "      <td>26.0</td>\n",
              "      <td>0</td>\n",
              "      <td>0</td>\n",
              "      <td>7.9250</td>\n",
              "      <td>0</td>\n",
              "    </tr>\n",
              "    <tr>\n",
              "      <th>3</th>\n",
              "      <td>4</td>\n",
              "      <td>1</td>\n",
              "      <td>1</td>\n",
              "      <td>0</td>\n",
              "      <td>35.0</td>\n",
              "      <td>1</td>\n",
              "      <td>0</td>\n",
              "      <td>53.1000</td>\n",
              "      <td>0</td>\n",
              "    </tr>\n",
              "    <tr>\n",
              "      <th>4</th>\n",
              "      <td>5</td>\n",
              "      <td>0</td>\n",
              "      <td>3</td>\n",
              "      <td>1</td>\n",
              "      <td>35.0</td>\n",
              "      <td>0</td>\n",
              "      <td>0</td>\n",
              "      <td>8.0500</td>\n",
              "      <td>0</td>\n",
              "    </tr>\n",
              "  </tbody>\n",
              "</table>\n",
              "</div>\n",
              "      <button class=\"colab-df-convert\" onclick=\"convertToInteractive('df-80194814-fed3-4458-b0c9-67689823ffa9')\"\n",
              "              title=\"Convert this dataframe to an interactive table.\"\n",
              "              style=\"display:none;\">\n",
              "        \n",
              "  <svg xmlns=\"http://www.w3.org/2000/svg\" height=\"24px\"viewBox=\"0 0 24 24\"\n",
              "       width=\"24px\">\n",
              "    <path d=\"M0 0h24v24H0V0z\" fill=\"none\"/>\n",
              "    <path d=\"M18.56 5.44l.94 2.06.94-2.06 2.06-.94-2.06-.94-.94-2.06-.94 2.06-2.06.94zm-11 1L8.5 8.5l.94-2.06 2.06-.94-2.06-.94L8.5 2.5l-.94 2.06-2.06.94zm10 10l.94 2.06.94-2.06 2.06-.94-2.06-.94-.94-2.06-.94 2.06-2.06.94z\"/><path d=\"M17.41 7.96l-1.37-1.37c-.4-.4-.92-.59-1.43-.59-.52 0-1.04.2-1.43.59L10.3 9.45l-7.72 7.72c-.78.78-.78 2.05 0 2.83L4 21.41c.39.39.9.59 1.41.59.51 0 1.02-.2 1.41-.59l7.78-7.78 2.81-2.81c.8-.78.8-2.07 0-2.86zM5.41 20L4 18.59l7.72-7.72 1.47 1.35L5.41 20z\"/>\n",
              "  </svg>\n",
              "      </button>\n",
              "      \n",
              "  <style>\n",
              "    .colab-df-container {\n",
              "      display:flex;\n",
              "      flex-wrap:wrap;\n",
              "      gap: 12px;\n",
              "    }\n",
              "\n",
              "    .colab-df-convert {\n",
              "      background-color: #E8F0FE;\n",
              "      border: none;\n",
              "      border-radius: 50%;\n",
              "      cursor: pointer;\n",
              "      display: none;\n",
              "      fill: #1967D2;\n",
              "      height: 32px;\n",
              "      padding: 0 0 0 0;\n",
              "      width: 32px;\n",
              "    }\n",
              "\n",
              "    .colab-df-convert:hover {\n",
              "      background-color: #E2EBFA;\n",
              "      box-shadow: 0px 1px 2px rgba(60, 64, 67, 0.3), 0px 1px 3px 1px rgba(60, 64, 67, 0.15);\n",
              "      fill: #174EA6;\n",
              "    }\n",
              "\n",
              "    [theme=dark] .colab-df-convert {\n",
              "      background-color: #3B4455;\n",
              "      fill: #D2E3FC;\n",
              "    }\n",
              "\n",
              "    [theme=dark] .colab-df-convert:hover {\n",
              "      background-color: #434B5C;\n",
              "      box-shadow: 0px 1px 3px 1px rgba(0, 0, 0, 0.15);\n",
              "      filter: drop-shadow(0px 1px 2px rgba(0, 0, 0, 0.3));\n",
              "      fill: #FFFFFF;\n",
              "    }\n",
              "  </style>\n",
              "\n",
              "      <script>\n",
              "        const buttonEl =\n",
              "          document.querySelector('#df-80194814-fed3-4458-b0c9-67689823ffa9 button.colab-df-convert');\n",
              "        buttonEl.style.display =\n",
              "          google.colab.kernel.accessAllowed ? 'block' : 'none';\n",
              "\n",
              "        async function convertToInteractive(key) {\n",
              "          const element = document.querySelector('#df-80194814-fed3-4458-b0c9-67689823ffa9');\n",
              "          const dataTable =\n",
              "            await google.colab.kernel.invokeFunction('convertToInteractive',\n",
              "                                                     [key], {});\n",
              "          if (!dataTable) return;\n",
              "\n",
              "          const docLinkHtml = 'Like what you see? Visit the ' +\n",
              "            '<a target=\"_blank\" href=https://colab.research.google.com/notebooks/data_table.ipynb>data table notebook</a>'\n",
              "            + ' to learn more about interactive tables.';\n",
              "          element.innerHTML = '';\n",
              "          dataTable['output_type'] = 'display_data';\n",
              "          await google.colab.output.renderOutput(dataTable, element);\n",
              "          const docLink = document.createElement('div');\n",
              "          docLink.innerHTML = docLinkHtml;\n",
              "          element.appendChild(docLink);\n",
              "        }\n",
              "      </script>\n",
              "    </div>\n",
              "  </div>\n",
              "  "
            ]
          },
          "metadata": {},
          "execution_count": 193
        }
      ]
    },
    {
      "cell_type": "code",
      "source": [
        "X_train = df_new.drop(['Survived','PassengerId'],1)"
      ],
      "metadata": {
        "execution": {
          "iopub.status.busy": "2022-11-04T10:56:48.711734Z",
          "iopub.execute_input": "2022-11-04T10:56:48.712254Z",
          "iopub.status.idle": "2022-11-04T10:56:48.720837Z",
          "shell.execute_reply.started": "2022-11-04T10:56:48.712203Z",
          "shell.execute_reply": "2022-11-04T10:56:48.719735Z"
        },
        "trusted": true,
        "colab": {
          "base_uri": "https://localhost:8080/"
        },
        "id": "47lqTWw0TAdU",
        "outputId": "a849c0c6-ef2f-4d14-885c-434c3329aec4"
      },
      "execution_count": 194,
      "outputs": [
        {
          "output_type": "stream",
          "name": "stderr",
          "text": [
            "/usr/local/lib/python3.7/dist-packages/ipykernel_launcher.py:1: FutureWarning: In a future version of pandas all arguments of DataFrame.drop except for the argument 'labels' will be keyword-only\n",
            "  \"\"\"Entry point for launching an IPython kernel.\n"
          ]
        }
      ]
    },
    {
      "cell_type": "code",
      "source": [
        "y_train = df_new['Survived']"
      ],
      "metadata": {
        "execution": {
          "iopub.status.busy": "2022-11-04T10:56:48.722425Z",
          "iopub.execute_input": "2022-11-04T10:56:48.722795Z",
          "iopub.status.idle": "2022-11-04T10:56:48.731680Z",
          "shell.execute_reply.started": "2022-11-04T10:56:48.722764Z",
          "shell.execute_reply": "2022-11-04T10:56:48.730491Z"
        },
        "trusted": true,
        "id": "HfFoKdIaTAdU"
      },
      "execution_count": 195,
      "outputs": []
    },
    {
      "cell_type": "code",
      "source": [
        "df_test = pd.read_csv(\"https://raw.githubusercontent.com/sandhc1/Projects/main/Titanic/test.csv\")"
      ],
      "metadata": {
        "execution": {
          "iopub.status.busy": "2022-11-04T10:56:48.733598Z",
          "iopub.execute_input": "2022-11-04T10:56:48.734331Z",
          "iopub.status.idle": "2022-11-04T10:56:48.747836Z",
          "shell.execute_reply.started": "2022-11-04T10:56:48.734284Z",
          "shell.execute_reply": "2022-11-04T10:56:48.747029Z"
        },
        "trusted": true,
        "id": "rjRG2QwhTAdV"
      },
      "execution_count": 196,
      "outputs": []
    },
    {
      "cell_type": "code",
      "source": [
        "df_test.shape"
      ],
      "metadata": {
        "execution": {
          "iopub.status.busy": "2022-11-04T10:56:48.749391Z",
          "iopub.execute_input": "2022-11-04T10:56:48.750092Z",
          "iopub.status.idle": "2022-11-04T10:56:48.757202Z",
          "shell.execute_reply.started": "2022-11-04T10:56:48.750045Z",
          "shell.execute_reply": "2022-11-04T10:56:48.756133Z"
        },
        "trusted": true,
        "colab": {
          "base_uri": "https://localhost:8080/"
        },
        "id": "2iOkmaNpTAdV",
        "outputId": "ce527ba4-f750-4f9b-b7d6-5c93c7816ce5"
      },
      "execution_count": 197,
      "outputs": [
        {
          "output_type": "execute_result",
          "data": {
            "text/plain": [
              "(418, 11)"
            ]
          },
          "metadata": {},
          "execution_count": 197
        }
      ]
    },
    {
      "cell_type": "code",
      "source": [
        "df_test.isnull().sum()"
      ],
      "metadata": {
        "execution": {
          "iopub.status.busy": "2022-11-04T10:56:48.758478Z",
          "iopub.execute_input": "2022-11-04T10:56:48.758854Z",
          "iopub.status.idle": "2022-11-04T10:56:48.774890Z",
          "shell.execute_reply.started": "2022-11-04T10:56:48.758821Z",
          "shell.execute_reply": "2022-11-04T10:56:48.773991Z"
        },
        "trusted": true,
        "colab": {
          "base_uri": "https://localhost:8080/"
        },
        "id": "Of6CPG6sTAdV",
        "outputId": "6060bd5d-293d-4e65-8c2d-e7ebd7edd030"
      },
      "execution_count": 198,
      "outputs": [
        {
          "output_type": "execute_result",
          "data": {
            "text/plain": [
              "PassengerId      0\n",
              "Pclass           0\n",
              "Name             0\n",
              "Sex              0\n",
              "Age             86\n",
              "SibSp            0\n",
              "Parch            0\n",
              "Ticket           0\n",
              "Fare             1\n",
              "Cabin          327\n",
              "Embarked         0\n",
              "dtype: int64"
            ]
          },
          "metadata": {},
          "execution_count": 198
        }
      ]
    },
    {
      "cell_type": "code",
      "source": [
        "df_test.Age.fillna(df_test.Age.mean(),inplace=True)"
      ],
      "metadata": {
        "execution": {
          "iopub.status.busy": "2022-11-04T10:56:48.779603Z",
          "iopub.execute_input": "2022-11-04T10:56:48.779988Z",
          "iopub.status.idle": "2022-11-04T10:56:48.787775Z",
          "shell.execute_reply.started": "2022-11-04T10:56:48.779953Z",
          "shell.execute_reply": "2022-11-04T10:56:48.786485Z"
        },
        "trusted": true,
        "id": "Lq9guN_dTAdV"
      },
      "execution_count": 199,
      "outputs": []
    },
    {
      "cell_type": "code",
      "source": [
        "df_test.Fare.fillna(df_test.Fare.mean(),inplace=True)"
      ],
      "metadata": {
        "execution": {
          "iopub.status.busy": "2022-11-04T10:56:48.789262Z",
          "iopub.execute_input": "2022-11-04T10:56:48.790387Z",
          "iopub.status.idle": "2022-11-04T10:56:49.269735Z",
          "shell.execute_reply.started": "2022-11-04T10:56:48.790337Z",
          "shell.execute_reply": "2022-11-04T10:56:49.268576Z"
        },
        "trusted": true,
        "id": "QfKp1crHTAdV"
      },
      "execution_count": 200,
      "outputs": []
    },
    {
      "cell_type": "code",
      "source": [
        "df_test.isnull().sum()"
      ],
      "metadata": {
        "execution": {
          "iopub.status.busy": "2022-11-04T10:56:49.271470Z",
          "iopub.execute_input": "2022-11-04T10:56:49.271950Z",
          "iopub.status.idle": "2022-11-04T10:56:49.286763Z",
          "shell.execute_reply.started": "2022-11-04T10:56:49.271901Z",
          "shell.execute_reply": "2022-11-04T10:56:49.285443Z"
        },
        "trusted": true,
        "colab": {
          "base_uri": "https://localhost:8080/"
        },
        "id": "YIQ4KgSWTAdW",
        "outputId": "d9b9e81c-0420-4459-a718-2ecddb5ab836"
      },
      "execution_count": 201,
      "outputs": [
        {
          "output_type": "execute_result",
          "data": {
            "text/plain": [
              "PassengerId      0\n",
              "Pclass           0\n",
              "Name             0\n",
              "Sex              0\n",
              "Age              0\n",
              "SibSp            0\n",
              "Parch            0\n",
              "Ticket           0\n",
              "Fare             0\n",
              "Cabin          327\n",
              "Embarked         0\n",
              "dtype: int64"
            ]
          },
          "metadata": {},
          "execution_count": 201
        }
      ]
    },
    {
      "cell_type": "code",
      "source": [
        "df_test.drop(columns=[\"Name\",\"Ticket\",\"Cabin\"],inplace=True)"
      ],
      "metadata": {
        "execution": {
          "iopub.status.busy": "2022-11-04T10:56:49.288565Z",
          "iopub.execute_input": "2022-11-04T10:56:49.288897Z",
          "iopub.status.idle": "2022-11-04T10:56:49.298079Z",
          "shell.execute_reply.started": "2022-11-04T10:56:49.288868Z",
          "shell.execute_reply": "2022-11-04T10:56:49.296899Z"
        },
        "trusted": true,
        "id": "cM62paoUTAdW"
      },
      "execution_count": 202,
      "outputs": []
    },
    {
      "cell_type": "code",
      "source": [
        "df_test.Sex = df_test.Sex.map({'male':1,'female':0})"
      ],
      "metadata": {
        "execution": {
          "iopub.status.busy": "2022-11-04T10:56:49.299588Z",
          "iopub.execute_input": "2022-11-04T10:56:49.299923Z",
          "iopub.status.idle": "2022-11-04T10:56:49.310598Z",
          "shell.execute_reply.started": "2022-11-04T10:56:49.299894Z",
          "shell.execute_reply": "2022-11-04T10:56:49.309272Z"
        },
        "trusted": true,
        "id": "Z_jD3yVjTAdW"
      },
      "execution_count": 203,
      "outputs": []
    },
    {
      "cell_type": "code",
      "source": [
        "df_test.Embarked = df_test.Embarked.map({'Q':2, 'C':1,'S':0})"
      ],
      "metadata": {
        "execution": {
          "iopub.status.busy": "2022-11-04T10:56:49.312755Z",
          "iopub.execute_input": "2022-11-04T10:56:49.313247Z",
          "iopub.status.idle": "2022-11-04T10:56:49.320510Z",
          "shell.execute_reply.started": "2022-11-04T10:56:49.313212Z",
          "shell.execute_reply": "2022-11-04T10:56:49.319439Z"
        },
        "trusted": true,
        "id": "XMveo3LqTAdW"
      },
      "execution_count": 204,
      "outputs": []
    },
    {
      "cell_type": "code",
      "source": [
        "X_test = df_test.copy()"
      ],
      "metadata": {
        "execution": {
          "iopub.status.busy": "2022-11-04T10:56:49.321722Z",
          "iopub.execute_input": "2022-11-04T10:56:49.322117Z",
          "iopub.status.idle": "2022-11-04T10:56:49.331099Z",
          "shell.execute_reply.started": "2022-11-04T10:56:49.322083Z",
          "shell.execute_reply": "2022-11-04T10:56:49.330096Z"
        },
        "trusted": true,
        "id": "yKfvDzYZTAdX"
      },
      "execution_count": 205,
      "outputs": []
    },
    {
      "cell_type": "code",
      "source": [
        "X_test.drop(columns='PassengerId',inplace=True)"
      ],
      "metadata": {
        "execution": {
          "iopub.status.busy": "2022-11-04T10:56:49.332793Z",
          "iopub.execute_input": "2022-11-04T10:56:49.333298Z",
          "iopub.status.idle": "2022-11-04T10:56:49.343790Z",
          "shell.execute_reply.started": "2022-11-04T10:56:49.333253Z",
          "shell.execute_reply": "2022-11-04T10:56:49.342986Z"
        },
        "trusted": true,
        "id": "h0Z9dqmjTAdX"
      },
      "execution_count": 206,
      "outputs": []
    },
    {
      "cell_type": "code",
      "source": [
        "X_test.head()"
      ],
      "metadata": {
        "execution": {
          "iopub.status.busy": "2022-11-04T10:56:49.344724Z",
          "iopub.execute_input": "2022-11-04T10:56:49.345086Z",
          "iopub.status.idle": "2022-11-04T10:56:49.363731Z",
          "shell.execute_reply.started": "2022-11-04T10:56:49.345054Z",
          "shell.execute_reply": "2022-11-04T10:56:49.362670Z"
        },
        "trusted": true,
        "colab": {
          "base_uri": "https://localhost:8080/",
          "height": 206
        },
        "id": "WQiiVZKwTAdX",
        "outputId": "53667d06-60d2-4e65-fa84-d024ea692230"
      },
      "execution_count": 207,
      "outputs": [
        {
          "output_type": "execute_result",
          "data": {
            "text/plain": [
              "   Pclass  Sex   Age  SibSp  Parch     Fare  Embarked\n",
              "0       3    1  34.5      0      0   7.8292         2\n",
              "1       3    0  47.0      1      0   7.0000         0\n",
              "2       2    1  62.0      0      0   9.6875         2\n",
              "3       3    1  27.0      0      0   8.6625         0\n",
              "4       3    0  22.0      1      1  12.2875         0"
            ],
            "text/html": [
              "\n",
              "  <div id=\"df-f72f81c6-7198-4a01-9560-56c250c55ad4\">\n",
              "    <div class=\"colab-df-container\">\n",
              "      <div>\n",
              "<style scoped>\n",
              "    .dataframe tbody tr th:only-of-type {\n",
              "        vertical-align: middle;\n",
              "    }\n",
              "\n",
              "    .dataframe tbody tr th {\n",
              "        vertical-align: top;\n",
              "    }\n",
              "\n",
              "    .dataframe thead th {\n",
              "        text-align: right;\n",
              "    }\n",
              "</style>\n",
              "<table border=\"1\" class=\"dataframe\">\n",
              "  <thead>\n",
              "    <tr style=\"text-align: right;\">\n",
              "      <th></th>\n",
              "      <th>Pclass</th>\n",
              "      <th>Sex</th>\n",
              "      <th>Age</th>\n",
              "      <th>SibSp</th>\n",
              "      <th>Parch</th>\n",
              "      <th>Fare</th>\n",
              "      <th>Embarked</th>\n",
              "    </tr>\n",
              "  </thead>\n",
              "  <tbody>\n",
              "    <tr>\n",
              "      <th>0</th>\n",
              "      <td>3</td>\n",
              "      <td>1</td>\n",
              "      <td>34.5</td>\n",
              "      <td>0</td>\n",
              "      <td>0</td>\n",
              "      <td>7.8292</td>\n",
              "      <td>2</td>\n",
              "    </tr>\n",
              "    <tr>\n",
              "      <th>1</th>\n",
              "      <td>3</td>\n",
              "      <td>0</td>\n",
              "      <td>47.0</td>\n",
              "      <td>1</td>\n",
              "      <td>0</td>\n",
              "      <td>7.0000</td>\n",
              "      <td>0</td>\n",
              "    </tr>\n",
              "    <tr>\n",
              "      <th>2</th>\n",
              "      <td>2</td>\n",
              "      <td>1</td>\n",
              "      <td>62.0</td>\n",
              "      <td>0</td>\n",
              "      <td>0</td>\n",
              "      <td>9.6875</td>\n",
              "      <td>2</td>\n",
              "    </tr>\n",
              "    <tr>\n",
              "      <th>3</th>\n",
              "      <td>3</td>\n",
              "      <td>1</td>\n",
              "      <td>27.0</td>\n",
              "      <td>0</td>\n",
              "      <td>0</td>\n",
              "      <td>8.6625</td>\n",
              "      <td>0</td>\n",
              "    </tr>\n",
              "    <tr>\n",
              "      <th>4</th>\n",
              "      <td>3</td>\n",
              "      <td>0</td>\n",
              "      <td>22.0</td>\n",
              "      <td>1</td>\n",
              "      <td>1</td>\n",
              "      <td>12.2875</td>\n",
              "      <td>0</td>\n",
              "    </tr>\n",
              "  </tbody>\n",
              "</table>\n",
              "</div>\n",
              "      <button class=\"colab-df-convert\" onclick=\"convertToInteractive('df-f72f81c6-7198-4a01-9560-56c250c55ad4')\"\n",
              "              title=\"Convert this dataframe to an interactive table.\"\n",
              "              style=\"display:none;\">\n",
              "        \n",
              "  <svg xmlns=\"http://www.w3.org/2000/svg\" height=\"24px\"viewBox=\"0 0 24 24\"\n",
              "       width=\"24px\">\n",
              "    <path d=\"M0 0h24v24H0V0z\" fill=\"none\"/>\n",
              "    <path d=\"M18.56 5.44l.94 2.06.94-2.06 2.06-.94-2.06-.94-.94-2.06-.94 2.06-2.06.94zm-11 1L8.5 8.5l.94-2.06 2.06-.94-2.06-.94L8.5 2.5l-.94 2.06-2.06.94zm10 10l.94 2.06.94-2.06 2.06-.94-2.06-.94-.94-2.06-.94 2.06-2.06.94z\"/><path d=\"M17.41 7.96l-1.37-1.37c-.4-.4-.92-.59-1.43-.59-.52 0-1.04.2-1.43.59L10.3 9.45l-7.72 7.72c-.78.78-.78 2.05 0 2.83L4 21.41c.39.39.9.59 1.41.59.51 0 1.02-.2 1.41-.59l7.78-7.78 2.81-2.81c.8-.78.8-2.07 0-2.86zM5.41 20L4 18.59l7.72-7.72 1.47 1.35L5.41 20z\"/>\n",
              "  </svg>\n",
              "      </button>\n",
              "      \n",
              "  <style>\n",
              "    .colab-df-container {\n",
              "      display:flex;\n",
              "      flex-wrap:wrap;\n",
              "      gap: 12px;\n",
              "    }\n",
              "\n",
              "    .colab-df-convert {\n",
              "      background-color: #E8F0FE;\n",
              "      border: none;\n",
              "      border-radius: 50%;\n",
              "      cursor: pointer;\n",
              "      display: none;\n",
              "      fill: #1967D2;\n",
              "      height: 32px;\n",
              "      padding: 0 0 0 0;\n",
              "      width: 32px;\n",
              "    }\n",
              "\n",
              "    .colab-df-convert:hover {\n",
              "      background-color: #E2EBFA;\n",
              "      box-shadow: 0px 1px 2px rgba(60, 64, 67, 0.3), 0px 1px 3px 1px rgba(60, 64, 67, 0.15);\n",
              "      fill: #174EA6;\n",
              "    }\n",
              "\n",
              "    [theme=dark] .colab-df-convert {\n",
              "      background-color: #3B4455;\n",
              "      fill: #D2E3FC;\n",
              "    }\n",
              "\n",
              "    [theme=dark] .colab-df-convert:hover {\n",
              "      background-color: #434B5C;\n",
              "      box-shadow: 0px 1px 3px 1px rgba(0, 0, 0, 0.15);\n",
              "      filter: drop-shadow(0px 1px 2px rgba(0, 0, 0, 0.3));\n",
              "      fill: #FFFFFF;\n",
              "    }\n",
              "  </style>\n",
              "\n",
              "      <script>\n",
              "        const buttonEl =\n",
              "          document.querySelector('#df-f72f81c6-7198-4a01-9560-56c250c55ad4 button.colab-df-convert');\n",
              "        buttonEl.style.display =\n",
              "          google.colab.kernel.accessAllowed ? 'block' : 'none';\n",
              "\n",
              "        async function convertToInteractive(key) {\n",
              "          const element = document.querySelector('#df-f72f81c6-7198-4a01-9560-56c250c55ad4');\n",
              "          const dataTable =\n",
              "            await google.colab.kernel.invokeFunction('convertToInteractive',\n",
              "                                                     [key], {});\n",
              "          if (!dataTable) return;\n",
              "\n",
              "          const docLinkHtml = 'Like what you see? Visit the ' +\n",
              "            '<a target=\"_blank\" href=https://colab.research.google.com/notebooks/data_table.ipynb>data table notebook</a>'\n",
              "            + ' to learn more about interactive tables.';\n",
              "          element.innerHTML = '';\n",
              "          dataTable['output_type'] = 'display_data';\n",
              "          await google.colab.output.renderOutput(dataTable, element);\n",
              "          const docLink = document.createElement('div');\n",
              "          docLink.innerHTML = docLinkHtml;\n",
              "          element.appendChild(docLink);\n",
              "        }\n",
              "      </script>\n",
              "    </div>\n",
              "  </div>\n",
              "  "
            ]
          },
          "metadata": {},
          "execution_count": 207
        }
      ]
    },
    {
      "cell_type": "code",
      "source": [
        "X_train.shape"
      ],
      "metadata": {
        "execution": {
          "iopub.status.busy": "2022-11-04T10:56:49.365271Z",
          "iopub.execute_input": "2022-11-04T10:56:49.365624Z",
          "iopub.status.idle": "2022-11-04T10:56:49.372903Z",
          "shell.execute_reply.started": "2022-11-04T10:56:49.365592Z",
          "shell.execute_reply": "2022-11-04T10:56:49.371834Z"
        },
        "trusted": true,
        "colab": {
          "base_uri": "https://localhost:8080/"
        },
        "id": "1cneailWTAdX",
        "outputId": "221a1391-ac90-48b1-e3ea-43852ccc7d75"
      },
      "execution_count": 208,
      "outputs": [
        {
          "output_type": "execute_result",
          "data": {
            "text/plain": [
              "(889, 7)"
            ]
          },
          "metadata": {},
          "execution_count": 208
        }
      ]
    },
    {
      "cell_type": "code",
      "source": [
        "X_test.shape"
      ],
      "metadata": {
        "execution": {
          "iopub.status.busy": "2022-11-04T10:56:49.374381Z",
          "iopub.execute_input": "2022-11-04T10:56:49.374927Z",
          "iopub.status.idle": "2022-11-04T10:56:49.385034Z",
          "shell.execute_reply.started": "2022-11-04T10:56:49.374893Z",
          "shell.execute_reply": "2022-11-04T10:56:49.384120Z"
        },
        "trusted": true,
        "colab": {
          "base_uri": "https://localhost:8080/"
        },
        "id": "mXna-yjKTAdY",
        "outputId": "498486e1-d3f9-4f97-a644-2b4fadb6a041"
      },
      "execution_count": 209,
      "outputs": [
        {
          "output_type": "execute_result",
          "data": {
            "text/plain": [
              "(418, 7)"
            ]
          },
          "metadata": {},
          "execution_count": 209
        }
      ]
    },
    {
      "cell_type": "code",
      "source": [
        "'''\n",
        "from sklearn.linear_model import LogisticRegression\n",
        "model = LogisticRegression(random_state = 0)\n",
        "model.fit(X_train,y_train)\n",
        "y_pred = model.predict(X_test)\n",
        "y_pred\n",
        "'''\n"
      ],
      "metadata": {
        "execution": {
          "iopub.status.busy": "2022-11-04T10:56:49.386517Z",
          "iopub.execute_input": "2022-11-04T10:56:49.387173Z",
          "iopub.status.idle": "2022-11-04T10:56:49.424919Z",
          "shell.execute_reply.started": "2022-11-04T10:56:49.387135Z",
          "shell.execute_reply": "2022-11-04T10:56:49.424060Z"
        },
        "trusted": true,
        "id": "y7CTWf4dTAdY",
        "colab": {
          "base_uri": "https://localhost:8080/",
          "height": 54
        },
        "outputId": "17aabb7b-9d22-42a3-ffcf-7ff0bf4858f3"
      },
      "execution_count": 210,
      "outputs": [
        {
          "output_type": "execute_result",
          "data": {
            "text/plain": [
              "'\\nfrom sklearn.linear_model import LogisticRegression\\nmodel = LogisticRegression(random_state = 0)\\nmodel.fit(X_train,y_train)\\ny_pred = model.predict(X_test)\\ny_pred\\n'"
            ],
            "application/vnd.google.colaboratory.intrinsic+json": {
              "type": "string"
            }
          },
          "metadata": {},
          "execution_count": 210
        }
      ]
    },
    {
      "cell_type": "code",
      "source": [
        "#df_test['PassengerId']\n",
        "'''\n",
        "data = pd.DataFrame(df_test['PassengerId'])\n",
        "data['Survived'] = y_pred\n",
        "data.head()\n",
        "data.to_csv('submission.csv',index=None)\n",
        "'''"
      ],
      "metadata": {
        "execution": {
          "iopub.status.busy": "2022-11-04T10:56:49.435376Z",
          "iopub.execute_input": "2022-11-04T10:56:49.436247Z",
          "iopub.status.idle": "2022-11-04T10:56:49.447179Z",
          "shell.execute_reply.started": "2022-11-04T10:56:49.436201Z",
          "shell.execute_reply": "2022-11-04T10:56:49.446048Z"
        },
        "trusted": true,
        "id": "yNCgBgFdTAdY",
        "colab": {
          "base_uri": "https://localhost:8080/",
          "height": 36
        },
        "outputId": "aebbf7fd-7827-4af0-97ed-be6aa064b3ef"
      },
      "execution_count": 211,
      "outputs": [
        {
          "output_type": "execute_result",
          "data": {
            "text/plain": [
              "\"\\ndata = pd.DataFrame(df_test['PassengerId'])\\ndata['Survived'] = y_pred\\ndata.head()\\ndata.to_csv('submission.csv',index=None)\\n\""
            ],
            "application/vnd.google.colaboratory.intrinsic+json": {
              "type": "string"
            }
          },
          "metadata": {},
          "execution_count": 211
        }
      ]
    },
    {
      "cell_type": "markdown",
      "source": [
        "**KNN**"
      ],
      "metadata": {
        "id": "FAdUXC35V6uj"
      }
    },
    {
      "cell_type": "code",
      "source": [
        "'''\n",
        "from sklearn.neighbors import KNeighborsClassifier\n",
        "from sklearn.model_selection import cross_val_score\n",
        "import numpy as np\n",
        "\n",
        "from sklearn.preprocessing import StandardScaler\n",
        "scaler = StandardScaler()\n",
        "X_train = scaler.fit_transform(X_train)\n",
        "X_test = scaler.transform(X_test)\n",
        "\n",
        "for i in [1,2,3,4,5,6,7,8,9,10,12,14,16]:\n",
        "  knn = KNeighborsClassifier(i) #initialising the model\n",
        "  knn.fit(X_train,y_train) # training the model\n",
        "  print(\"K value  : \" , i, \" train score : \", knn.score(X_train,y_train) , \" cv score : \", np.mean(cross_val_score(knn, X_train, y_train, cv=10))) #predicting using the model\n",
        "\n",
        "knn = KNeighborsClassifier(10)\n",
        "knn.fit(X_train,y_train)\n",
        "y_pred = knn.predict(X_test)\n",
        "y_pred\n",
        "'''"
      ],
      "metadata": {
        "colab": {
          "base_uri": "https://localhost:8080/",
          "height": 108
        },
        "id": "PQqSy4SmV-yl",
        "outputId": "e3b9b296-4289-416e-bab6-07f944074984"
      },
      "execution_count": 212,
      "outputs": [
        {
          "output_type": "execute_result",
          "data": {
            "text/plain": [
              "'\\nfrom sklearn.neighbors import KNeighborsClassifier\\nfrom sklearn.model_selection import cross_val_score\\nimport numpy as np\\n\\nfrom sklearn.preprocessing import StandardScaler\\nscaler = StandardScaler()\\nX_train = scaler.fit_transform(X_train)\\nX_test = scaler.transform(X_test)\\n\\nfor i in [1,2,3,4,5,6,7,8,9,10,12,14,16]:\\n  knn = KNeighborsClassifier(i) #initialising the model\\n  knn.fit(X_train,y_train) # training the model\\n  print(\"K value  : \" , i, \" train score : \", knn.score(X_train,y_train) , \" cv score : \", np.mean(cross_val_score(knn, X_train, y_train, cv=10))) #predicting using the model\\n\\nknn = KNeighborsClassifier(10)\\nknn.fit(X_train,y_train)\\ny_pred = knn.predict(X_test)\\ny_pred\\n'"
            ],
            "application/vnd.google.colaboratory.intrinsic+json": {
              "type": "string"
            }
          },
          "metadata": {},
          "execution_count": 212
        }
      ]
    },
    {
      "cell_type": "code",
      "source": [
        "'''\n",
        "data = pd.DataFrame(df_test['PassengerId'])\n",
        "data['Survived'] = y_pred\n",
        "data.head()\n",
        "data.to_csv('submission.csv',index=None)\n",
        "'''\n",
        "\n",
        "# KNN gives best acc of 0.77751"
      ],
      "metadata": {
        "colab": {
          "base_uri": "https://localhost:8080/",
          "height": 36
        },
        "id": "Lk6-AslCWDgn",
        "outputId": "625916bc-dc0f-4db3-efbd-bccbe1762d8e"
      },
      "execution_count": 213,
      "outputs": [
        {
          "output_type": "execute_result",
          "data": {
            "text/plain": [
              "\"\\ndata = pd.DataFrame(df_test['PassengerId'])\\ndata['Survived'] = y_pred\\ndata.head()\\ndata.to_csv('submission.csv',index=None)\\n\""
            ],
            "application/vnd.google.colaboratory.intrinsic+json": {
              "type": "string"
            }
          },
          "metadata": {},
          "execution_count": 213
        }
      ]
    },
    {
      "cell_type": "markdown",
      "source": [
        "**Decision Tree**"
      ],
      "metadata": {
        "id": "jRZnKOW_YCit"
      }
    },
    {
      "cell_type": "code",
      "source": [
        "from sklearn.tree import DecisionTreeClassifier\n",
        "from sklearn.model_selection import cross_val_score \n",
        "from sklearn.metrics import accuracy_score\n",
        "import numpy as np\n",
        "\n",
        "for depth in [1,2,3,4,5,6,7,8,9,10,11,12,13,14,20]:\n",
        "  dt = DecisionTreeClassifier(max_depth=depth)\n",
        "  dt.fit(X_train, y_train)\n",
        "  trainAccuracy = accuracy_score(y_train, dt.predict(X_train))\n",
        "  valAccuracy = cross_val_score(dt, X_train, y_train, cv=10)\n",
        "  print(\"Depth  : \", depth, \" Training Accuracy : \", trainAccuracy, \" Cross val score : \" ,np.mean(valAccuracy))"
      ],
      "metadata": {
        "colab": {
          "base_uri": "https://localhost:8080/"
        },
        "id": "vT5sEc1BYHGw",
        "outputId": "64a21dbd-5664-4476-f3d6-8b3219e560c7"
      },
      "execution_count": 214,
      "outputs": [
        {
          "output_type": "stream",
          "name": "stdout",
          "text": [
            "Depth  :  1  Training Accuracy :  0.7862767154105736  Cross val score :  0.7862487231869254\n",
            "Depth  :  2  Training Accuracy :  0.7952755905511811  Cross val score :  0.7682711950970378\n",
            "Depth  :  3  Training Accuracy :  0.8267716535433071  Cross val score :  0.8143896833503576\n",
            "Depth  :  4  Training Accuracy :  0.8346456692913385  Cross val score :  0.8054392236976508\n",
            "Depth  :  5  Training Accuracy :  0.8413948256467941  Cross val score :  0.8031920326864148\n",
            "Depth  :  6  Training Accuracy :  0.8650168728908887  Cross val score :  0.8099336057201226\n",
            "Depth  :  7  Training Accuracy :  0.8785151856017998  Cross val score :  0.821182328907048\n",
            "Depth  :  8  Training Accuracy :  0.889763779527559  Cross val score :  0.7997829417773239\n",
            "Depth  :  9  Training Accuracy :  0.9010123734533183  Cross val score :  0.7975612870275791\n",
            "Depth  :  10  Training Accuracy :  0.922384701912261  Cross val score :  0.7986976506639427\n",
            "Depth  :  11  Training Accuracy :  0.9336332958380202  Cross val score :  0.7852017364657813\n",
            "Depth  :  12  Training Accuracy :  0.9437570303712036  Cross val score :  0.7874361593462718\n",
            "Depth  :  13  Training Accuracy :  0.9550056242969629  Cross val score :  0.7784729315628192\n",
            "Depth  :  14  Training Accuracy :  0.9583802024746907  Cross val score :  0.788585291113381\n",
            "Depth  :  20  Training Accuracy :  0.9808773903262092  Cross val score :  0.7863125638406537\n"
          ]
        }
      ]
    },
    {
      "cell_type": "code",
      "source": [
        "dt = DecisionTreeClassifier(max_depth=7)\n",
        "dt.fit(X_train, y_train)\n",
        "y_pred = dt.predict(X_test)\n",
        "y_pred"
      ],
      "metadata": {
        "colab": {
          "base_uri": "https://localhost:8080/"
        },
        "id": "lkjcPaT1Z6-3",
        "outputId": "47462249-c7f0-4cd6-eb79-7668e3975a1c"
      },
      "execution_count": 215,
      "outputs": [
        {
          "output_type": "execute_result",
          "data": {
            "text/plain": [
              "array([0, 0, 0, 0, 1, 0, 1, 0, 1, 0, 0, 0, 1, 0, 1, 1, 0, 0, 0, 0, 0, 0,\n",
              "       1, 0, 1, 0, 1, 0, 0, 0, 0, 0, 0, 0, 0, 0, 0, 0, 0, 0, 0, 1, 0, 1,\n",
              "       1, 0, 0, 0, 1, 1, 0, 0, 1, 0, 0, 0, 0, 0, 0, 1, 0, 0, 0, 1, 1, 1,\n",
              "       1, 0, 0, 1, 1, 0, 0, 0, 1, 0, 0, 1, 0, 1, 1, 0, 0, 0, 0, 0, 1, 0,\n",
              "       0, 1, 1, 0, 0, 0, 0, 0, 1, 0, 0, 0, 1, 0, 0, 0, 1, 0, 0, 0, 0, 0,\n",
              "       0, 0, 1, 1, 1, 0, 0, 1, 0, 1, 1, 0, 1, 0, 0, 1, 0, 0, 0, 0, 0, 0,\n",
              "       0, 0, 0, 0, 0, 0, 0, 0, 0, 1, 0, 0, 1, 0, 0, 0, 1, 0, 1, 0, 0, 1,\n",
              "       0, 0, 1, 0, 1, 1, 0, 1, 1, 0, 0, 0, 0, 0, 1, 0, 0, 0, 0, 0, 0, 1,\n",
              "       1, 0, 1, 1, 0, 0, 1, 0, 1, 0, 1, 0, 0, 0, 0, 0, 1, 0, 0, 0, 1, 0,\n",
              "       0, 0, 0, 1, 0, 1, 0, 0, 0, 0, 1, 0, 0, 0, 0, 0, 0, 0, 0, 0, 1, 0,\n",
              "       1, 0, 1, 0, 1, 0, 0, 0, 0, 0, 0, 1, 0, 0, 0, 0, 0, 0, 1, 1, 1, 1,\n",
              "       0, 0, 0, 0, 1, 0, 1, 0, 0, 0, 0, 0, 0, 0, 0, 0, 1, 0, 0, 0, 1, 1,\n",
              "       0, 0, 0, 0, 0, 0, 0, 0, 1, 0, 0, 1, 0, 0, 0, 0, 0, 1, 0, 1, 0, 0,\n",
              "       0, 0, 0, 0, 0, 1, 0, 0, 0, 0, 0, 0, 0, 0, 0, 0, 0, 0, 0, 1, 0, 1,\n",
              "       0, 0, 0, 0, 0, 0, 1, 1, 0, 0, 0, 0, 0, 0, 0, 1, 1, 0, 1, 0, 0, 0,\n",
              "       1, 0, 0, 1, 0, 0, 0, 0, 0, 0, 0, 0, 0, 1, 0, 1, 0, 0, 0, 1, 1, 0,\n",
              "       0, 0, 0, 0, 1, 0, 0, 1, 0, 1, 1, 0, 1, 1, 0, 1, 1, 0, 0, 1, 0, 0,\n",
              "       1, 1, 0, 0, 0, 1, 0, 0, 1, 1, 0, 1, 0, 0, 0, 0, 0, 1, 0, 0, 0, 1,\n",
              "       0, 1, 0, 0, 1, 0, 1, 1, 0, 0, 0, 0, 0, 1, 0, 1, 0, 0, 1, 0, 0, 0])"
            ]
          },
          "metadata": {},
          "execution_count": 215
        }
      ]
    },
    {
      "cell_type": "code",
      "source": [
        "data = pd.DataFrame(df_test['PassengerId'])\n",
        "data['Survived'] = y_pred\n",
        "data.head()\n",
        "data.to_csv('submission.csv',index=None)"
      ],
      "metadata": {
        "id": "u8giphxdaGcg"
      },
      "execution_count": 216,
      "outputs": []
    }
  ]
}