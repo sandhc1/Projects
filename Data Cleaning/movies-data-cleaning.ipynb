{
 "cells": [
  {
   "cell_type": "code",
   "execution_count": 1,
   "id": "9bb0a7de",
   "metadata": {
    "_cell_guid": "b1076dfc-b9ad-4769-8c92-a6c4dae69d19",
    "_uuid": "8f2839f25d086af736a60e9eeb907d3b93b6e0e5",
    "execution": {
     "iopub.execute_input": "2022-11-02T12:49:04.130027Z",
     "iopub.status.busy": "2022-11-02T12:49:04.129261Z",
     "iopub.status.idle": "2022-11-02T12:49:04.139539Z",
     "shell.execute_reply": "2022-11-02T12:49:04.138467Z"
    },
    "papermill": {
     "duration": 0.057243,
     "end_time": "2022-11-02T12:49:04.142188",
     "exception": false,
     "start_time": "2022-11-02T12:49:04.084945",
     "status": "completed"
    },
    "tags": []
   },
   "outputs": [],
   "source": [
    "import pandas as pd"
   ]
  },
  {
   "cell_type": "code",
   "execution_count": 2,
   "id": "0db67dbf",
   "metadata": {
    "execution": {
     "iopub.execute_input": "2022-11-02T12:49:04.222466Z",
     "iopub.status.busy": "2022-11-02T12:49:04.222035Z",
     "iopub.status.idle": "2022-11-02T12:49:05.510840Z",
     "shell.execute_reply": "2022-11-02T12:49:05.509506Z"
    },
    "papermill": {
     "duration": 1.332917,
     "end_time": "2022-11-02T12:49:05.514201",
     "exception": false,
     "start_time": "2022-11-02T12:49:04.181284",
     "status": "completed"
    },
    "tags": []
   },
   "outputs": [
    {
     "name": "stderr",
     "output_type": "stream",
     "text": [
      "/opt/conda/lib/python3.7/site-packages/IPython/core/interactiveshell.py:3552: DtypeWarning: Columns (10) have mixed types.Specify dtype option on import or set low_memory=False.\n",
      "  exec(code_obj, self.user_global_ns, self.user_ns)\n"
     ]
    }
   ],
   "source": [
    "df = pd.read_csv(\"../input/the-movies-dataset/movies_metadata.csv\")"
   ]
  },
  {
   "cell_type": "code",
   "execution_count": 3,
   "id": "91b2d15e",
   "metadata": {
    "execution": {
     "iopub.execute_input": "2022-11-02T12:49:05.591818Z",
     "iopub.status.busy": "2022-11-02T12:49:05.591429Z",
     "iopub.status.idle": "2022-11-02T12:49:05.600569Z",
     "shell.execute_reply": "2022-11-02T12:49:05.599324Z"
    },
    "papermill": {
     "duration": 0.05076,
     "end_time": "2022-11-02T12:49:05.603255",
     "exception": false,
     "start_time": "2022-11-02T12:49:05.552495",
     "status": "completed"
    },
    "tags": []
   },
   "outputs": [
    {
     "data": {
      "text/plain": [
       "(45466, 24)"
      ]
     },
     "execution_count": 3,
     "metadata": {},
     "output_type": "execute_result"
    }
   ],
   "source": [
    "df.shape"
   ]
  },
  {
   "cell_type": "code",
   "execution_count": 4,
   "id": "cb042d97",
   "metadata": {
    "execution": {
     "iopub.execute_input": "2022-11-02T12:49:05.683524Z",
     "iopub.status.busy": "2022-11-02T12:49:05.683111Z",
     "iopub.status.idle": "2022-11-02T12:49:05.725996Z",
     "shell.execute_reply": "2022-11-02T12:49:05.724853Z"
    },
    "papermill": {
     "duration": 0.086542,
     "end_time": "2022-11-02T12:49:05.728452",
     "exception": false,
     "start_time": "2022-11-02T12:49:05.641910",
     "status": "completed"
    },
    "tags": []
   },
   "outputs": [
    {
     "data": {
      "text/html": [
       "<div>\n",
       "<style scoped>\n",
       "    .dataframe tbody tr th:only-of-type {\n",
       "        vertical-align: middle;\n",
       "    }\n",
       "\n",
       "    .dataframe tbody tr th {\n",
       "        vertical-align: top;\n",
       "    }\n",
       "\n",
       "    .dataframe thead th {\n",
       "        text-align: right;\n",
       "    }\n",
       "</style>\n",
       "<table border=\"1\" class=\"dataframe\">\n",
       "  <thead>\n",
       "    <tr style=\"text-align: right;\">\n",
       "      <th></th>\n",
       "      <th>adult</th>\n",
       "      <th>belongs_to_collection</th>\n",
       "      <th>budget</th>\n",
       "      <th>genres</th>\n",
       "      <th>homepage</th>\n",
       "      <th>id</th>\n",
       "      <th>imdb_id</th>\n",
       "      <th>original_language</th>\n",
       "      <th>original_title</th>\n",
       "      <th>overview</th>\n",
       "      <th>...</th>\n",
       "      <th>release_date</th>\n",
       "      <th>revenue</th>\n",
       "      <th>runtime</th>\n",
       "      <th>spoken_languages</th>\n",
       "      <th>status</th>\n",
       "      <th>tagline</th>\n",
       "      <th>title</th>\n",
       "      <th>video</th>\n",
       "      <th>vote_average</th>\n",
       "      <th>vote_count</th>\n",
       "    </tr>\n",
       "  </thead>\n",
       "  <tbody>\n",
       "    <tr>\n",
       "      <th>0</th>\n",
       "      <td>False</td>\n",
       "      <td>{'id': 10194, 'name': 'Toy Story Collection', ...</td>\n",
       "      <td>30000000</td>\n",
       "      <td>[{'id': 16, 'name': 'Animation'}, {'id': 35, '...</td>\n",
       "      <td>http://toystory.disney.com/toy-story</td>\n",
       "      <td>862</td>\n",
       "      <td>tt0114709</td>\n",
       "      <td>en</td>\n",
       "      <td>Toy Story</td>\n",
       "      <td>Led by Woody, Andy's toys live happily in his ...</td>\n",
       "      <td>...</td>\n",
       "      <td>1995-10-30</td>\n",
       "      <td>373554033.0</td>\n",
       "      <td>81.0</td>\n",
       "      <td>[{'iso_639_1': 'en', 'name': 'English'}]</td>\n",
       "      <td>Released</td>\n",
       "      <td>NaN</td>\n",
       "      <td>Toy Story</td>\n",
       "      <td>False</td>\n",
       "      <td>7.7</td>\n",
       "      <td>5415.0</td>\n",
       "    </tr>\n",
       "    <tr>\n",
       "      <th>1</th>\n",
       "      <td>False</td>\n",
       "      <td>NaN</td>\n",
       "      <td>65000000</td>\n",
       "      <td>[{'id': 12, 'name': 'Adventure'}, {'id': 14, '...</td>\n",
       "      <td>NaN</td>\n",
       "      <td>8844</td>\n",
       "      <td>tt0113497</td>\n",
       "      <td>en</td>\n",
       "      <td>Jumanji</td>\n",
       "      <td>When siblings Judy and Peter discover an encha...</td>\n",
       "      <td>...</td>\n",
       "      <td>1995-12-15</td>\n",
       "      <td>262797249.0</td>\n",
       "      <td>104.0</td>\n",
       "      <td>[{'iso_639_1': 'en', 'name': 'English'}, {'iso...</td>\n",
       "      <td>Released</td>\n",
       "      <td>Roll the dice and unleash the excitement!</td>\n",
       "      <td>Jumanji</td>\n",
       "      <td>False</td>\n",
       "      <td>6.9</td>\n",
       "      <td>2413.0</td>\n",
       "    </tr>\n",
       "    <tr>\n",
       "      <th>2</th>\n",
       "      <td>False</td>\n",
       "      <td>{'id': 119050, 'name': 'Grumpy Old Men Collect...</td>\n",
       "      <td>0</td>\n",
       "      <td>[{'id': 10749, 'name': 'Romance'}, {'id': 35, ...</td>\n",
       "      <td>NaN</td>\n",
       "      <td>15602</td>\n",
       "      <td>tt0113228</td>\n",
       "      <td>en</td>\n",
       "      <td>Grumpier Old Men</td>\n",
       "      <td>A family wedding reignites the ancient feud be...</td>\n",
       "      <td>...</td>\n",
       "      <td>1995-12-22</td>\n",
       "      <td>0.0</td>\n",
       "      <td>101.0</td>\n",
       "      <td>[{'iso_639_1': 'en', 'name': 'English'}]</td>\n",
       "      <td>Released</td>\n",
       "      <td>Still Yelling. Still Fighting. Still Ready for...</td>\n",
       "      <td>Grumpier Old Men</td>\n",
       "      <td>False</td>\n",
       "      <td>6.5</td>\n",
       "      <td>92.0</td>\n",
       "    </tr>\n",
       "    <tr>\n",
       "      <th>3</th>\n",
       "      <td>False</td>\n",
       "      <td>NaN</td>\n",
       "      <td>16000000</td>\n",
       "      <td>[{'id': 35, 'name': 'Comedy'}, {'id': 18, 'nam...</td>\n",
       "      <td>NaN</td>\n",
       "      <td>31357</td>\n",
       "      <td>tt0114885</td>\n",
       "      <td>en</td>\n",
       "      <td>Waiting to Exhale</td>\n",
       "      <td>Cheated on, mistreated and stepped on, the wom...</td>\n",
       "      <td>...</td>\n",
       "      <td>1995-12-22</td>\n",
       "      <td>81452156.0</td>\n",
       "      <td>127.0</td>\n",
       "      <td>[{'iso_639_1': 'en', 'name': 'English'}]</td>\n",
       "      <td>Released</td>\n",
       "      <td>Friends are the people who let you be yourself...</td>\n",
       "      <td>Waiting to Exhale</td>\n",
       "      <td>False</td>\n",
       "      <td>6.1</td>\n",
       "      <td>34.0</td>\n",
       "    </tr>\n",
       "    <tr>\n",
       "      <th>4</th>\n",
       "      <td>False</td>\n",
       "      <td>{'id': 96871, 'name': 'Father of the Bride Col...</td>\n",
       "      <td>0</td>\n",
       "      <td>[{'id': 35, 'name': 'Comedy'}]</td>\n",
       "      <td>NaN</td>\n",
       "      <td>11862</td>\n",
       "      <td>tt0113041</td>\n",
       "      <td>en</td>\n",
       "      <td>Father of the Bride Part II</td>\n",
       "      <td>Just when George Banks has recovered from his ...</td>\n",
       "      <td>...</td>\n",
       "      <td>1995-02-10</td>\n",
       "      <td>76578911.0</td>\n",
       "      <td>106.0</td>\n",
       "      <td>[{'iso_639_1': 'en', 'name': 'English'}]</td>\n",
       "      <td>Released</td>\n",
       "      <td>Just When His World Is Back To Normal... He's ...</td>\n",
       "      <td>Father of the Bride Part II</td>\n",
       "      <td>False</td>\n",
       "      <td>5.7</td>\n",
       "      <td>173.0</td>\n",
       "    </tr>\n",
       "  </tbody>\n",
       "</table>\n",
       "<p>5 rows × 24 columns</p>\n",
       "</div>"
      ],
      "text/plain": [
       "   adult                              belongs_to_collection    budget  \\\n",
       "0  False  {'id': 10194, 'name': 'Toy Story Collection', ...  30000000   \n",
       "1  False                                                NaN  65000000   \n",
       "2  False  {'id': 119050, 'name': 'Grumpy Old Men Collect...         0   \n",
       "3  False                                                NaN  16000000   \n",
       "4  False  {'id': 96871, 'name': 'Father of the Bride Col...         0   \n",
       "\n",
       "                                              genres  \\\n",
       "0  [{'id': 16, 'name': 'Animation'}, {'id': 35, '...   \n",
       "1  [{'id': 12, 'name': 'Adventure'}, {'id': 14, '...   \n",
       "2  [{'id': 10749, 'name': 'Romance'}, {'id': 35, ...   \n",
       "3  [{'id': 35, 'name': 'Comedy'}, {'id': 18, 'nam...   \n",
       "4                     [{'id': 35, 'name': 'Comedy'}]   \n",
       "\n",
       "                               homepage     id    imdb_id original_language  \\\n",
       "0  http://toystory.disney.com/toy-story    862  tt0114709                en   \n",
       "1                                   NaN   8844  tt0113497                en   \n",
       "2                                   NaN  15602  tt0113228                en   \n",
       "3                                   NaN  31357  tt0114885                en   \n",
       "4                                   NaN  11862  tt0113041                en   \n",
       "\n",
       "                original_title  \\\n",
       "0                    Toy Story   \n",
       "1                      Jumanji   \n",
       "2             Grumpier Old Men   \n",
       "3            Waiting to Exhale   \n",
       "4  Father of the Bride Part II   \n",
       "\n",
       "                                            overview  ... release_date  \\\n",
       "0  Led by Woody, Andy's toys live happily in his ...  ...   1995-10-30   \n",
       "1  When siblings Judy and Peter discover an encha...  ...   1995-12-15   \n",
       "2  A family wedding reignites the ancient feud be...  ...   1995-12-22   \n",
       "3  Cheated on, mistreated and stepped on, the wom...  ...   1995-12-22   \n",
       "4  Just when George Banks has recovered from his ...  ...   1995-02-10   \n",
       "\n",
       "       revenue runtime                                   spoken_languages  \\\n",
       "0  373554033.0    81.0           [{'iso_639_1': 'en', 'name': 'English'}]   \n",
       "1  262797249.0   104.0  [{'iso_639_1': 'en', 'name': 'English'}, {'iso...   \n",
       "2          0.0   101.0           [{'iso_639_1': 'en', 'name': 'English'}]   \n",
       "3   81452156.0   127.0           [{'iso_639_1': 'en', 'name': 'English'}]   \n",
       "4   76578911.0   106.0           [{'iso_639_1': 'en', 'name': 'English'}]   \n",
       "\n",
       "     status                                            tagline  \\\n",
       "0  Released                                                NaN   \n",
       "1  Released          Roll the dice and unleash the excitement!   \n",
       "2  Released  Still Yelling. Still Fighting. Still Ready for...   \n",
       "3  Released  Friends are the people who let you be yourself...   \n",
       "4  Released  Just When His World Is Back To Normal... He's ...   \n",
       "\n",
       "                         title  video vote_average vote_count  \n",
       "0                    Toy Story  False          7.7     5415.0  \n",
       "1                      Jumanji  False          6.9     2413.0  \n",
       "2             Grumpier Old Men  False          6.5       92.0  \n",
       "3            Waiting to Exhale  False          6.1       34.0  \n",
       "4  Father of the Bride Part II  False          5.7      173.0  \n",
       "\n",
       "[5 rows x 24 columns]"
      ]
     },
     "execution_count": 4,
     "metadata": {},
     "output_type": "execute_result"
    }
   ],
   "source": [
    "df.head()"
   ]
  },
  {
   "cell_type": "code",
   "execution_count": 5,
   "id": "160f81bf",
   "metadata": {
    "execution": {
     "iopub.execute_input": "2022-11-02T12:49:05.832371Z",
     "iopub.status.busy": "2022-11-02T12:49:05.831935Z",
     "iopub.status.idle": "2022-11-02T12:49:05.838539Z",
     "shell.execute_reply": "2022-11-02T12:49:05.837696Z"
    },
    "papermill": {
     "duration": 0.061653,
     "end_time": "2022-11-02T12:49:05.840560",
     "exception": false,
     "start_time": "2022-11-02T12:49:05.778907",
     "status": "completed"
    },
    "tags": []
   },
   "outputs": [
    {
     "data": {
      "text/plain": [
       "Index(['adult', 'belongs_to_collection', 'budget', 'genres', 'homepage', 'id',\n",
       "       'imdb_id', 'original_language', 'original_title', 'overview',\n",
       "       'popularity', 'poster_path', 'production_companies',\n",
       "       'production_countries', 'release_date', 'revenue', 'runtime',\n",
       "       'spoken_languages', 'status', 'tagline', 'title', 'video',\n",
       "       'vote_average', 'vote_count'],\n",
       "      dtype='object')"
      ]
     },
     "execution_count": 5,
     "metadata": {},
     "output_type": "execute_result"
    }
   ],
   "source": [
    "df.columns"
   ]
  },
  {
   "cell_type": "markdown",
   "id": "e48e86d8",
   "metadata": {
    "papermill": {
     "duration": 0.038355,
     "end_time": "2022-11-02T12:49:05.917623",
     "exception": false,
     "start_time": "2022-11-02T12:49:05.879268",
     "status": "completed"
    },
    "tags": []
   },
   "source": [
    "# **Adult**"
   ]
  },
  {
   "cell_type": "code",
   "execution_count": 6,
   "id": "5bdf9e5c",
   "metadata": {
    "execution": {
     "iopub.execute_input": "2022-11-02T12:49:05.999120Z",
     "iopub.status.busy": "2022-11-02T12:49:05.998332Z",
     "iopub.status.idle": "2022-11-02T12:49:06.009279Z",
     "shell.execute_reply": "2022-11-02T12:49:06.008200Z"
    },
    "papermill": {
     "duration": 0.055044,
     "end_time": "2022-11-02T12:49:06.011897",
     "exception": false,
     "start_time": "2022-11-02T12:49:05.956853",
     "status": "completed"
    },
    "tags": []
   },
   "outputs": [
    {
     "data": {
      "text/plain": [
       "array(['False', 'False', 'False', ..., 'False', 'False', 'False'],\n",
       "      dtype=object)"
      ]
     },
     "execution_count": 6,
     "metadata": {},
     "output_type": "execute_result"
    }
   ],
   "source": [
    "df[\"adult\"].values"
   ]
  },
  {
   "cell_type": "code",
   "execution_count": 7,
   "id": "2a54caf0",
   "metadata": {
    "execution": {
     "iopub.execute_input": "2022-11-02T12:49:06.093061Z",
     "iopub.status.busy": "2022-11-02T12:49:06.092633Z",
     "iopub.status.idle": "2022-11-02T12:49:06.104928Z",
     "shell.execute_reply": "2022-11-02T12:49:06.104120Z"
    },
    "papermill": {
     "duration": 0.055205,
     "end_time": "2022-11-02T12:49:06.107189",
     "exception": false,
     "start_time": "2022-11-02T12:49:06.051984",
     "status": "completed"
    },
    "tags": []
   },
   "outputs": [
    {
     "data": {
      "text/plain": [
       "array(['False', 'True', ' - Written by Ørnås',\n",
       "       ' Rune Balot goes to a casino connected to the October corporation to try to wrap up her case once and for all.',\n",
       "       ' Avalanche Sharks tells the story of a bikini contest that turns into a horrifying affair when it is hit by a shark avalanche.'],\n",
       "      dtype=object)"
      ]
     },
     "execution_count": 7,
     "metadata": {},
     "output_type": "execute_result"
    }
   ],
   "source": [
    "df[\"adult\"].unique()"
   ]
  },
  {
   "cell_type": "code",
   "execution_count": 8,
   "id": "256181b2",
   "metadata": {
    "execution": {
     "iopub.execute_input": "2022-11-02T12:49:06.193144Z",
     "iopub.status.busy": "2022-11-02T12:49:06.192383Z",
     "iopub.status.idle": "2022-11-02T12:49:06.209098Z",
     "shell.execute_reply": "2022-11-02T12:49:06.208154Z"
    },
    "papermill": {
     "duration": 0.065553,
     "end_time": "2022-11-02T12:49:06.212217",
     "exception": false,
     "start_time": "2022-11-02T12:49:06.146664",
     "status": "completed"
    },
    "tags": []
   },
   "outputs": [
    {
     "data": {
      "text/plain": [
       "False                                                                                                                             45454\n",
       "True                                                                                                                                  9\n",
       " - Written by Ørnås                                                                                                                   1\n",
       " Rune Balot goes to a casino connected to the October corporation to try to wrap up her case once and for all.                        1\n",
       " Avalanche Sharks tells the story of a bikini contest that turns into a horrifying affair when it is hit by a shark avalanche.        1\n",
       "Name: adult, dtype: int64"
      ]
     },
     "execution_count": 8,
     "metadata": {},
     "output_type": "execute_result"
    }
   ],
   "source": [
    "df.adult.value_counts()"
   ]
  },
  {
   "cell_type": "code",
   "execution_count": 9,
   "id": "dca9ba87",
   "metadata": {
    "execution": {
     "iopub.execute_input": "2022-11-02T12:49:06.317880Z",
     "iopub.status.busy": "2022-11-02T12:49:06.317474Z",
     "iopub.status.idle": "2022-11-02T12:49:06.336918Z",
     "shell.execute_reply": "2022-11-02T12:49:06.335635Z"
    },
    "papermill": {
     "duration": 0.067644,
     "end_time": "2022-11-02T12:49:06.339635",
     "exception": false,
     "start_time": "2022-11-02T12:49:06.271991",
     "status": "completed"
    },
    "tags": []
   },
   "outputs": [
    {
     "data": {
      "text/plain": [
       "0        http://toystory.disney.com/toy-story\n",
       "1                                         NaN\n",
       "2                                         NaN\n",
       "3                                         NaN\n",
       "4                                         NaN\n",
       "                         ...                 \n",
       "45461    http://www.imdb.com/title/tt6209470/\n",
       "45462                                     NaN\n",
       "45463                                     NaN\n",
       "45464                                     NaN\n",
       "45465                                     NaN\n",
       "Name: homepage, Length: 45454, dtype: object"
      ]
     },
     "execution_count": 9,
     "metadata": {},
     "output_type": "execute_result"
    }
   ],
   "source": [
    "df.loc[df.adult == 'True',:] #df.loc[row_criteria, column_criteria]\n",
    "df.loc[df.adult == 'False', 'homepage']"
   ]
  },
  {
   "cell_type": "code",
   "execution_count": 10,
   "id": "ee44e257",
   "metadata": {
    "execution": {
     "iopub.execute_input": "2022-11-02T12:49:06.426268Z",
     "iopub.status.busy": "2022-11-02T12:49:06.424974Z",
     "iopub.status.idle": "2022-11-02T12:49:06.439815Z",
     "shell.execute_reply": "2022-11-02T12:49:06.438570Z"
    },
    "papermill": {
     "duration": 0.063985,
     "end_time": "2022-11-02T12:49:06.445667",
     "exception": false,
     "start_time": "2022-11-02T12:49:06.381682",
     "status": "completed"
    },
    "tags": []
   },
   "outputs": [
    {
     "data": {
      "text/plain": [
       "46       33000000\n",
       "49        6000000\n",
       "109       1300000\n",
       "186             0\n",
       "256      11000000\n",
       "           ...   \n",
       "45362           0\n",
       "45371           0\n",
       "45378           0\n",
       "45437           0\n",
       "45462           0\n",
       "Name: budget, Length: 1130, dtype: object"
      ]
     },
     "execution_count": 10,
     "metadata": {},
     "output_type": "execute_result"
    }
   ],
   "source": [
    "# I want to know the budget of all the movies which is not adult and whose rating is > 8\n",
    "df.loc[((~(df.adult == 'True')) & (df.vote_average > 8)) , 'budget']"
   ]
  },
  {
   "cell_type": "code",
   "execution_count": 11,
   "id": "9e300aa5",
   "metadata": {
    "execution": {
     "iopub.execute_input": "2022-11-02T12:49:06.527491Z",
     "iopub.status.busy": "2022-11-02T12:49:06.527079Z",
     "iopub.status.idle": "2022-11-02T12:49:06.554657Z",
     "shell.execute_reply": "2022-11-02T12:49:06.553417Z"
    },
    "papermill": {
     "duration": 0.072148,
     "end_time": "2022-11-02T12:49:06.557604",
     "exception": false,
     "start_time": "2022-11-02T12:49:06.485456",
     "status": "completed"
    },
    "tags": []
   },
   "outputs": [
    {
     "data": {
      "text/html": [
       "<div>\n",
       "<style scoped>\n",
       "    .dataframe tbody tr th:only-of-type {\n",
       "        vertical-align: middle;\n",
       "    }\n",
       "\n",
       "    .dataframe tbody tr th {\n",
       "        vertical-align: top;\n",
       "    }\n",
       "\n",
       "    .dataframe thead th {\n",
       "        text-align: right;\n",
       "    }\n",
       "</style>\n",
       "<table border=\"1\" class=\"dataframe\">\n",
       "  <thead>\n",
       "    <tr style=\"text-align: right;\">\n",
       "      <th></th>\n",
       "      <th>adult</th>\n",
       "      <th>belongs_to_collection</th>\n",
       "      <th>budget</th>\n",
       "      <th>genres</th>\n",
       "      <th>homepage</th>\n",
       "      <th>id</th>\n",
       "      <th>imdb_id</th>\n",
       "      <th>original_language</th>\n",
       "      <th>original_title</th>\n",
       "      <th>overview</th>\n",
       "      <th>...</th>\n",
       "      <th>release_date</th>\n",
       "      <th>revenue</th>\n",
       "      <th>runtime</th>\n",
       "      <th>spoken_languages</th>\n",
       "      <th>status</th>\n",
       "      <th>tagline</th>\n",
       "      <th>title</th>\n",
       "      <th>video</th>\n",
       "      <th>vote_average</th>\n",
       "      <th>vote_count</th>\n",
       "    </tr>\n",
       "  </thead>\n",
       "  <tbody>\n",
       "    <tr>\n",
       "      <th>19730</th>\n",
       "      <td>- Written by Ørnås</td>\n",
       "      <td>0.065736</td>\n",
       "      <td>/ff9qCepilowshEtG2GYWwzt2bs4.jpg</td>\n",
       "      <td>[{'name': 'Carousel Productions', 'id': 11176}...</td>\n",
       "      <td>[{'iso_3166_1': 'CA', 'name': 'Canada'}, {'iso...</td>\n",
       "      <td>1997-08-20</td>\n",
       "      <td>0</td>\n",
       "      <td>104.0</td>\n",
       "      <td>[{'iso_639_1': 'en', 'name': 'English'}]</td>\n",
       "      <td>Released</td>\n",
       "      <td>...</td>\n",
       "      <td>1</td>\n",
       "      <td>NaN</td>\n",
       "      <td>NaN</td>\n",
       "      <td>NaN</td>\n",
       "      <td>NaN</td>\n",
       "      <td>NaN</td>\n",
       "      <td>NaN</td>\n",
       "      <td>NaN</td>\n",
       "      <td>NaN</td>\n",
       "      <td>NaN</td>\n",
       "    </tr>\n",
       "    <tr>\n",
       "      <th>29503</th>\n",
       "      <td>Rune Balot goes to a casino connected to the ...</td>\n",
       "      <td>1.931659</td>\n",
       "      <td>/zV8bHuSL6WXoD6FWogP9j4x80bL.jpg</td>\n",
       "      <td>[{'name': 'Aniplex', 'id': 2883}, {'name': 'Go...</td>\n",
       "      <td>[{'iso_3166_1': 'US', 'name': 'United States o...</td>\n",
       "      <td>2012-09-29</td>\n",
       "      <td>0</td>\n",
       "      <td>68.0</td>\n",
       "      <td>[{'iso_639_1': 'ja', 'name': '日本語'}]</td>\n",
       "      <td>Released</td>\n",
       "      <td>...</td>\n",
       "      <td>12</td>\n",
       "      <td>NaN</td>\n",
       "      <td>NaN</td>\n",
       "      <td>NaN</td>\n",
       "      <td>NaN</td>\n",
       "      <td>NaN</td>\n",
       "      <td>NaN</td>\n",
       "      <td>NaN</td>\n",
       "      <td>NaN</td>\n",
       "      <td>NaN</td>\n",
       "    </tr>\n",
       "    <tr>\n",
       "      <th>35587</th>\n",
       "      <td>Avalanche Sharks tells the story of a bikini ...</td>\n",
       "      <td>2.185485</td>\n",
       "      <td>/zaSf5OG7V8X8gqFvly88zDdRm46.jpg</td>\n",
       "      <td>[{'name': 'Odyssey Media', 'id': 17161}, {'nam...</td>\n",
       "      <td>[{'iso_3166_1': 'CA', 'name': 'Canada'}]</td>\n",
       "      <td>2014-01-01</td>\n",
       "      <td>0</td>\n",
       "      <td>82.0</td>\n",
       "      <td>[{'iso_639_1': 'en', 'name': 'English'}]</td>\n",
       "      <td>Released</td>\n",
       "      <td>...</td>\n",
       "      <td>22</td>\n",
       "      <td>NaN</td>\n",
       "      <td>NaN</td>\n",
       "      <td>NaN</td>\n",
       "      <td>NaN</td>\n",
       "      <td>NaN</td>\n",
       "      <td>NaN</td>\n",
       "      <td>NaN</td>\n",
       "      <td>NaN</td>\n",
       "      <td>NaN</td>\n",
       "    </tr>\n",
       "  </tbody>\n",
       "</table>\n",
       "<p>3 rows × 24 columns</p>\n",
       "</div>"
      ],
      "text/plain": [
       "                                                   adult  \\\n",
       "19730                                 - Written by Ørnås   \n",
       "29503   Rune Balot goes to a casino connected to the ...   \n",
       "35587   Avalanche Sharks tells the story of a bikini ...   \n",
       "\n",
       "      belongs_to_collection                            budget  \\\n",
       "19730              0.065736  /ff9qCepilowshEtG2GYWwzt2bs4.jpg   \n",
       "29503              1.931659  /zV8bHuSL6WXoD6FWogP9j4x80bL.jpg   \n",
       "35587              2.185485  /zaSf5OG7V8X8gqFvly88zDdRm46.jpg   \n",
       "\n",
       "                                                  genres  \\\n",
       "19730  [{'name': 'Carousel Productions', 'id': 11176}...   \n",
       "29503  [{'name': 'Aniplex', 'id': 2883}, {'name': 'Go...   \n",
       "35587  [{'name': 'Odyssey Media', 'id': 17161}, {'nam...   \n",
       "\n",
       "                                                homepage          id imdb_id  \\\n",
       "19730  [{'iso_3166_1': 'CA', 'name': 'Canada'}, {'iso...  1997-08-20       0   \n",
       "29503  [{'iso_3166_1': 'US', 'name': 'United States o...  2012-09-29       0   \n",
       "35587           [{'iso_3166_1': 'CA', 'name': 'Canada'}]  2014-01-01       0   \n",
       "\n",
       "      original_language                            original_title  overview  \\\n",
       "19730             104.0  [{'iso_639_1': 'en', 'name': 'English'}]  Released   \n",
       "29503              68.0      [{'iso_639_1': 'ja', 'name': '日本語'}]  Released   \n",
       "35587              82.0  [{'iso_639_1': 'en', 'name': 'English'}]  Released   \n",
       "\n",
       "       ... release_date revenue runtime spoken_languages status  tagline  \\\n",
       "19730  ...            1     NaN     NaN              NaN    NaN      NaN   \n",
       "29503  ...           12     NaN     NaN              NaN    NaN      NaN   \n",
       "35587  ...           22     NaN     NaN              NaN    NaN      NaN   \n",
       "\n",
       "       title video vote_average vote_count  \n",
       "19730    NaN   NaN          NaN        NaN  \n",
       "29503    NaN   NaN          NaN        NaN  \n",
       "35587    NaN   NaN          NaN        NaN  \n",
       "\n",
       "[3 rows x 24 columns]"
      ]
     },
     "execution_count": 11,
     "metadata": {},
     "output_type": "execute_result"
    }
   ],
   "source": [
    "df.loc[~df.adult.isin(['True','False']), :]\n",
    "\n",
    "# belongs to collections can't be number and budget also\n",
    "# wrong data so we ca delete these rows"
   ]
  },
  {
   "cell_type": "code",
   "execution_count": 12,
   "id": "1e317fc0",
   "metadata": {
    "execution": {
     "iopub.execute_input": "2022-11-02T12:49:06.649995Z",
     "iopub.status.busy": "2022-11-02T12:49:06.648721Z",
     "iopub.status.idle": "2022-11-02T12:49:06.682059Z",
     "shell.execute_reply": "2022-11-02T12:49:06.679611Z"
    },
    "papermill": {
     "duration": 0.087057,
     "end_time": "2022-11-02T12:49:06.685499",
     "exception": false,
     "start_time": "2022-11-02T12:49:06.598442",
     "status": "completed"
    },
    "tags": []
   },
   "outputs": [
    {
     "data": {
      "text/plain": [
       "(45463, 24)"
      ]
     },
     "execution_count": 12,
     "metadata": {},
     "output_type": "execute_result"
    }
   ],
   "source": [
    "# only choosing the rows where the adult column is either true or false\n",
    "df = df.loc[df.adult.isin(['True','False']), :]\n",
    "df.shape"
   ]
  },
  {
   "cell_type": "code",
   "execution_count": 13,
   "id": "1481ed34",
   "metadata": {
    "execution": {
     "iopub.execute_input": "2022-11-02T12:49:06.771146Z",
     "iopub.status.busy": "2022-11-02T12:49:06.770703Z",
     "iopub.status.idle": "2022-11-02T12:49:06.781555Z",
     "shell.execute_reply": "2022-11-02T12:49:06.780500Z"
    },
    "papermill": {
     "duration": 0.058042,
     "end_time": "2022-11-02T12:49:06.783922",
     "exception": false,
     "start_time": "2022-11-02T12:49:06.725880",
     "status": "completed"
    },
    "tags": []
   },
   "outputs": [
    {
     "data": {
      "text/plain": [
       "array(['False', 'True'], dtype=object)"
      ]
     },
     "execution_count": 13,
     "metadata": {},
     "output_type": "execute_result"
    }
   ],
   "source": [
    "df.adult.unique()\n",
    "\n",
    "# but the values are in string data type"
   ]
  },
  {
   "cell_type": "code",
   "execution_count": 14,
   "id": "06f73256",
   "metadata": {
    "execution": {
     "iopub.execute_input": "2022-11-02T12:49:06.869255Z",
     "iopub.status.busy": "2022-11-02T12:49:06.868872Z",
     "iopub.status.idle": "2022-11-02T12:49:06.932411Z",
     "shell.execute_reply": "2022-11-02T12:49:06.931176Z"
    },
    "papermill": {
     "duration": 0.110032,
     "end_time": "2022-11-02T12:49:06.935767",
     "exception": false,
     "start_time": "2022-11-02T12:49:06.825735",
     "status": "completed"
    },
    "tags": []
   },
   "outputs": [
    {
     "name": "stdout",
     "output_type": "stream",
     "text": [
      "<class 'pandas.core.frame.DataFrame'>\n",
      "Int64Index: 45463 entries, 0 to 45465\n",
      "Data columns (total 24 columns):\n",
      " #   Column                 Non-Null Count  Dtype  \n",
      "---  ------                 --------------  -----  \n",
      " 0   adult                  45463 non-null  object \n",
      " 1   belongs_to_collection  4491 non-null   object \n",
      " 2   budget                 45463 non-null  object \n",
      " 3   genres                 45463 non-null  object \n",
      " 4   homepage               7779 non-null   object \n",
      " 5   id                     45463 non-null  object \n",
      " 6   imdb_id                45446 non-null  object \n",
      " 7   original_language      45452 non-null  object \n",
      " 8   original_title         45463 non-null  object \n",
      " 9   overview               44509 non-null  object \n",
      " 10  popularity             45460 non-null  object \n",
      " 11  poster_path            45077 non-null  object \n",
      " 12  production_companies   45460 non-null  object \n",
      " 13  production_countries   45460 non-null  object \n",
      " 14  release_date           45376 non-null  object \n",
      " 15  revenue                45460 non-null  float64\n",
      " 16  runtime                45203 non-null  float64\n",
      " 17  spoken_languages       45460 non-null  object \n",
      " 18  status                 45379 non-null  object \n",
      " 19  tagline                20412 non-null  object \n",
      " 20  title                  45460 non-null  object \n",
      " 21  video                  45460 non-null  object \n",
      " 22  vote_average           45460 non-null  float64\n",
      " 23  vote_count             45460 non-null  float64\n",
      "dtypes: float64(4), object(20)\n",
      "memory usage: 8.7+ MB\n"
     ]
    }
   ],
   "source": [
    "df.info()"
   ]
  },
  {
   "cell_type": "code",
   "execution_count": 15,
   "id": "e4a520a0",
   "metadata": {
    "execution": {
     "iopub.execute_input": "2022-11-02T12:49:07.020471Z",
     "iopub.status.busy": "2022-11-02T12:49:07.020003Z",
     "iopub.status.idle": "2022-11-02T12:49:07.027833Z",
     "shell.execute_reply": "2022-11-02T12:49:07.026617Z"
    },
    "papermill": {
     "duration": 0.053159,
     "end_time": "2022-11-02T12:49:07.030337",
     "exception": false,
     "start_time": "2022-11-02T12:49:06.977178",
     "status": "completed"
    },
    "tags": []
   },
   "outputs": [
    {
     "data": {
      "text/plain": [
       "dtype('O')"
      ]
     },
     "execution_count": 15,
     "metadata": {},
     "output_type": "execute_result"
    }
   ],
   "source": [
    "df.adult.dtype"
   ]
  },
  {
   "cell_type": "code",
   "execution_count": 16,
   "id": "f6db68fc",
   "metadata": {
    "execution": {
     "iopub.execute_input": "2022-11-02T12:49:07.114985Z",
     "iopub.status.busy": "2022-11-02T12:49:07.114036Z",
     "iopub.status.idle": "2022-11-02T12:49:07.145692Z",
     "shell.execute_reply": "2022-11-02T12:49:07.144500Z"
    },
    "papermill": {
     "duration": 0.077329,
     "end_time": "2022-11-02T12:49:07.148661",
     "exception": false,
     "start_time": "2022-11-02T12:49:07.071332",
     "status": "completed"
    },
    "tags": []
   },
   "outputs": [],
   "source": [
    "# convert from string to True/False or 0/1\n",
    "df.adult = df.adult.map({'True':1,'False':0})"
   ]
  },
  {
   "cell_type": "code",
   "execution_count": 17,
   "id": "0d20776a",
   "metadata": {
    "execution": {
     "iopub.execute_input": "2022-11-02T12:49:07.236080Z",
     "iopub.status.busy": "2022-11-02T12:49:07.234965Z",
     "iopub.status.idle": "2022-11-02T12:49:07.243307Z",
     "shell.execute_reply": "2022-11-02T12:49:07.242418Z"
    },
    "papermill": {
     "duration": 0.053534,
     "end_time": "2022-11-02T12:49:07.245657",
     "exception": false,
     "start_time": "2022-11-02T12:49:07.192123",
     "status": "completed"
    },
    "tags": []
   },
   "outputs": [
    {
     "data": {
      "text/plain": [
       "array([0, 1])"
      ]
     },
     "execution_count": 17,
     "metadata": {},
     "output_type": "execute_result"
    }
   ],
   "source": [
    "df.adult.unique()"
   ]
  },
  {
   "cell_type": "markdown",
   "id": "e6b62745",
   "metadata": {
    "papermill": {
     "duration": 0.040525,
     "end_time": "2022-11-02T12:49:07.327181",
     "exception": false,
     "start_time": "2022-11-02T12:49:07.286656",
     "status": "completed"
    },
    "tags": []
   },
   "source": [
    "# **Belongs to Collection**"
   ]
  },
  {
   "cell_type": "code",
   "execution_count": 18,
   "id": "d26a7b0c",
   "metadata": {
    "execution": {
     "iopub.execute_input": "2022-11-02T12:49:07.411740Z",
     "iopub.status.busy": "2022-11-02T12:49:07.411093Z",
     "iopub.status.idle": "2022-11-02T12:49:07.417147Z",
     "shell.execute_reply": "2022-11-02T12:49:07.416380Z"
    },
    "papermill": {
     "duration": 0.051555,
     "end_time": "2022-11-02T12:49:07.419424",
     "exception": false,
     "start_time": "2022-11-02T12:49:07.367869",
     "status": "completed"
    },
    "tags": []
   },
   "outputs": [
    {
     "data": {
      "text/plain": [
       "\"{'id': 10194, 'name': 'Toy Story Collection', 'poster_path': '/7G9915LfUQ2lVfwMEEhDsn3kT4B.jpg', 'backdrop_path': '/9FBwqcd9IRruEDUrTdcaafOMKUq.jpg'}\""
      ]
     },
     "execution_count": 18,
     "metadata": {},
     "output_type": "execute_result"
    }
   ],
   "source": [
    "import numpy as np\n",
    "df.belongs_to_collection.values[0]\n",
    "# look at the row :\n",
    "# if the row is a nan value - put the name of collection as \"No collection\"\n",
    "# if the row is a non-nan value - convert the string into a dictionary and take the name value of the dictionary as name of the collection"
   ]
  },
  {
   "cell_type": "code",
   "execution_count": 19,
   "id": "565b05ee",
   "metadata": {
    "execution": {
     "iopub.execute_input": "2022-11-02T12:49:07.503610Z",
     "iopub.status.busy": "2022-11-02T12:49:07.503201Z",
     "iopub.status.idle": "2022-11-02T12:49:07.509459Z",
     "shell.execute_reply": "2022-11-02T12:49:07.508567Z"
    },
    "papermill": {
     "duration": 0.050698,
     "end_time": "2022-11-02T12:49:07.511641",
     "exception": false,
     "start_time": "2022-11-02T12:49:07.460943",
     "status": "completed"
    },
    "tags": []
   },
   "outputs": [
    {
     "data": {
      "text/plain": [
       "{'id': 10194,\n",
       " 'name': 'Toy Story Collection',\n",
       " 'poster_path': '/7G9915LfUQ2lVfwMEEhDsn3kT4B.jpg',\n",
       " 'backdrop_path': '/9FBwqcd9IRruEDUrTdcaafOMKUq.jpg'}"
      ]
     },
     "execution_count": 19,
     "metadata": {},
     "output_type": "execute_result"
    }
   ],
   "source": [
    "import ast # package to convert string to dictionary\n",
    "ast.literal_eval(df.belongs_to_collection.values[0])"
   ]
  },
  {
   "cell_type": "code",
   "execution_count": 20,
   "id": "f8bf11bc",
   "metadata": {
    "execution": {
     "iopub.execute_input": "2022-11-02T12:49:07.595734Z",
     "iopub.status.busy": "2022-11-02T12:49:07.595201Z",
     "iopub.status.idle": "2022-11-02T12:49:07.604022Z",
     "shell.execute_reply": "2022-11-02T12:49:07.602545Z"
    },
    "papermill": {
     "duration": 0.054388,
     "end_time": "2022-11-02T12:49:07.606939",
     "exception": false,
     "start_time": "2022-11-02T12:49:07.552551",
     "status": "completed"
    },
    "tags": []
   },
   "outputs": [
    {
     "name": "stdout",
     "output_type": "stream",
     "text": [
      "nan\n"
     ]
    },
    {
     "data": {
      "text/plain": [
       "False"
      ]
     },
     "execution_count": 20,
     "metadata": {},
     "output_type": "execute_result"
    }
   ],
   "source": [
    "a = np.nan\n",
    "print(a)\n",
    "a == a"
   ]
  },
  {
   "cell_type": "code",
   "execution_count": 21,
   "id": "cb144223",
   "metadata": {
    "execution": {
     "iopub.execute_input": "2022-11-02T12:49:07.693119Z",
     "iopub.status.busy": "2022-11-02T12:49:07.692691Z",
     "iopub.status.idle": "2022-11-02T12:49:07.699100Z",
     "shell.execute_reply": "2022-11-02T12:49:07.698093Z"
    },
    "papermill": {
     "duration": 0.052016,
     "end_time": "2022-11-02T12:49:07.701389",
     "exception": false,
     "start_time": "2022-11-02T12:49:07.649373",
     "status": "completed"
    },
    "tags": []
   },
   "outputs": [
    {
     "data": {
      "text/plain": [
       "False"
      ]
     },
     "execution_count": 21,
     "metadata": {},
     "output_type": "execute_result"
    }
   ],
   "source": [
    "import numpy as np\n",
    "np.nan == np.nan"
   ]
  },
  {
   "cell_type": "code",
   "execution_count": 22,
   "id": "e835712f",
   "metadata": {
    "execution": {
     "iopub.execute_input": "2022-11-02T12:49:07.790579Z",
     "iopub.status.busy": "2022-11-02T12:49:07.788638Z",
     "iopub.status.idle": "2022-11-02T12:49:07.801700Z",
     "shell.execute_reply": "2022-11-02T12:49:07.797059Z"
    },
    "papermill": {
     "duration": 0.062182,
     "end_time": "2022-11-02T12:49:07.804631",
     "exception": false,
     "start_time": "2022-11-02T12:49:07.742449",
     "status": "completed"
    },
    "tags": []
   },
   "outputs": [
    {
     "data": {
      "text/plain": [
       "False"
      ]
     },
     "execution_count": 22,
     "metadata": {},
     "output_type": "execute_result"
    }
   ],
   "source": [
    "#\"kousik\" == \"kousik\"\n",
    "a = np.nan\n",
    "a == a\n",
    "# if variable == variable returns a false, then it means the variable is a nan value "
   ]
  },
  {
   "cell_type": "code",
   "execution_count": 23,
   "id": "c86dacc5",
   "metadata": {
    "execution": {
     "iopub.execute_input": "2022-11-02T12:49:07.899426Z",
     "iopub.status.busy": "2022-11-02T12:49:07.898997Z",
     "iopub.status.idle": "2022-11-02T12:49:07.906674Z",
     "shell.execute_reply": "2022-11-02T12:49:07.905410Z"
    },
    "papermill": {
     "duration": 0.054417,
     "end_time": "2022-11-02T12:49:07.909377",
     "exception": false,
     "start_time": "2022-11-02T12:49:07.854960",
     "status": "completed"
    },
    "tags": []
   },
   "outputs": [
    {
     "data": {
      "text/plain": [
       "False"
      ]
     },
     "execution_count": 23,
     "metadata": {},
     "output_type": "execute_result"
    }
   ],
   "source": [
    "a = np.nan\n",
    "a == a"
   ]
  },
  {
   "cell_type": "code",
   "execution_count": 24,
   "id": "23a1c67d",
   "metadata": {
    "execution": {
     "iopub.execute_input": "2022-11-02T12:49:07.995454Z",
     "iopub.status.busy": "2022-11-02T12:49:07.994608Z",
     "iopub.status.idle": "2022-11-02T12:49:08.003180Z",
     "shell.execute_reply": "2022-11-02T12:49:08.001666Z"
    },
    "papermill": {
     "duration": 0.05363,
     "end_time": "2022-11-02T12:49:08.005886",
     "exception": false,
     "start_time": "2022-11-02T12:49:07.952256",
     "status": "completed"
    },
    "tags": []
   },
   "outputs": [
    {
     "data": {
      "text/plain": [
       "array([\"{'id': 10194, 'name': 'Toy Story Collection', 'poster_path': '/7G9915LfUQ2lVfwMEEhDsn3kT4B.jpg', 'backdrop_path': '/9FBwqcd9IRruEDUrTdcaafOMKUq.jpg'}\",\n",
       "       nan,\n",
       "       \"{'id': 119050, 'name': 'Grumpy Old Men Collection', 'poster_path': '/nLvUdqgPgm3F85NMCii9gVFUcet.jpg', 'backdrop_path': '/hypTnLot2z8wpFS7qwsQHW1uV8u.jpg'}\",\n",
       "       ..., nan, nan, nan], dtype=object)"
      ]
     },
     "execution_count": 24,
     "metadata": {},
     "output_type": "execute_result"
    }
   ],
   "source": [
    "df['belongs_to_collection'].values"
   ]
  },
  {
   "cell_type": "code",
   "execution_count": 25,
   "id": "7ea30858",
   "metadata": {
    "execution": {
     "iopub.execute_input": "2022-11-02T12:49:08.091660Z",
     "iopub.status.busy": "2022-11-02T12:49:08.091259Z",
     "iopub.status.idle": "2022-11-02T12:49:08.264644Z",
     "shell.execute_reply": "2022-11-02T12:49:08.263485Z"
    },
    "papermill": {
     "duration": 0.2191,
     "end_time": "2022-11-02T12:49:08.267557",
     "exception": false,
     "start_time": "2022-11-02T12:49:08.048457",
     "status": "completed"
    },
    "tags": []
   },
   "outputs": [],
   "source": [
    "import ast\n",
    "import numpy as np\n",
    "\n",
    "#list to store collections names - list that is going to store the vleaned value\n",
    "collectionNames = [] \n",
    "\n",
    "for i in df['belongs_to_collection'].values: #Iterating through the column\n",
    "    if i==i: # check if it is nan \n",
    "      #not a nan value\n",
    "      collectionNames.append(ast.literal_eval(i)['name'])\n",
    "    else:\n",
    "      # a nan value\n",
    "      collectionNames.append(\"No Collection\") #append -1\n",
    "\n",
    "#collectionIds\n",
    "df['collectionName'] = collectionNames\n",
    "df = df.drop(columns = ['belongs_to_collection'])"
   ]
  },
  {
   "cell_type": "code",
   "execution_count": 26,
   "id": "53f02a80",
   "metadata": {
    "execution": {
     "iopub.execute_input": "2022-11-02T12:49:08.351829Z",
     "iopub.status.busy": "2022-11-02T12:49:08.351432Z",
     "iopub.status.idle": "2022-11-02T12:49:08.358614Z",
     "shell.execute_reply": "2022-11-02T12:49:08.357406Z"
    },
    "papermill": {
     "duration": 0.052682,
     "end_time": "2022-11-02T12:49:08.361373",
     "exception": false,
     "start_time": "2022-11-02T12:49:08.308691",
     "status": "completed"
    },
    "tags": []
   },
   "outputs": [
    {
     "data": {
      "text/plain": [
       "(45463, 24)"
      ]
     },
     "execution_count": 26,
     "metadata": {},
     "output_type": "execute_result"
    }
   ],
   "source": [
    "df.shape"
   ]
  },
  {
   "cell_type": "code",
   "execution_count": 27,
   "id": "e19a5fea",
   "metadata": {
    "execution": {
     "iopub.execute_input": "2022-11-02T12:49:08.446768Z",
     "iopub.status.busy": "2022-11-02T12:49:08.446380Z",
     "iopub.status.idle": "2022-11-02T12:49:08.478763Z",
     "shell.execute_reply": "2022-11-02T12:49:08.477417Z"
    },
    "papermill": {
     "duration": 0.078486,
     "end_time": "2022-11-02T12:49:08.481268",
     "exception": false,
     "start_time": "2022-11-02T12:49:08.402782",
     "status": "completed"
    },
    "tags": []
   },
   "outputs": [
    {
     "data": {
      "text/html": [
       "<div>\n",
       "<style scoped>\n",
       "    .dataframe tbody tr th:only-of-type {\n",
       "        vertical-align: middle;\n",
       "    }\n",
       "\n",
       "    .dataframe tbody tr th {\n",
       "        vertical-align: top;\n",
       "    }\n",
       "\n",
       "    .dataframe thead th {\n",
       "        text-align: right;\n",
       "    }\n",
       "</style>\n",
       "<table border=\"1\" class=\"dataframe\">\n",
       "  <thead>\n",
       "    <tr style=\"text-align: right;\">\n",
       "      <th></th>\n",
       "      <th>adult</th>\n",
       "      <th>budget</th>\n",
       "      <th>genres</th>\n",
       "      <th>homepage</th>\n",
       "      <th>id</th>\n",
       "      <th>imdb_id</th>\n",
       "      <th>original_language</th>\n",
       "      <th>original_title</th>\n",
       "      <th>overview</th>\n",
       "      <th>popularity</th>\n",
       "      <th>...</th>\n",
       "      <th>revenue</th>\n",
       "      <th>runtime</th>\n",
       "      <th>spoken_languages</th>\n",
       "      <th>status</th>\n",
       "      <th>tagline</th>\n",
       "      <th>title</th>\n",
       "      <th>video</th>\n",
       "      <th>vote_average</th>\n",
       "      <th>vote_count</th>\n",
       "      <th>collectionName</th>\n",
       "    </tr>\n",
       "  </thead>\n",
       "  <tbody>\n",
       "    <tr>\n",
       "      <th>0</th>\n",
       "      <td>0</td>\n",
       "      <td>30000000</td>\n",
       "      <td>[{'id': 16, 'name': 'Animation'}, {'id': 35, '...</td>\n",
       "      <td>http://toystory.disney.com/toy-story</td>\n",
       "      <td>862</td>\n",
       "      <td>tt0114709</td>\n",
       "      <td>en</td>\n",
       "      <td>Toy Story</td>\n",
       "      <td>Led by Woody, Andy's toys live happily in his ...</td>\n",
       "      <td>21.946943</td>\n",
       "      <td>...</td>\n",
       "      <td>373554033.0</td>\n",
       "      <td>81.0</td>\n",
       "      <td>[{'iso_639_1': 'en', 'name': 'English'}]</td>\n",
       "      <td>Released</td>\n",
       "      <td>NaN</td>\n",
       "      <td>Toy Story</td>\n",
       "      <td>False</td>\n",
       "      <td>7.7</td>\n",
       "      <td>5415.0</td>\n",
       "      <td>Toy Story Collection</td>\n",
       "    </tr>\n",
       "    <tr>\n",
       "      <th>1</th>\n",
       "      <td>0</td>\n",
       "      <td>65000000</td>\n",
       "      <td>[{'id': 12, 'name': 'Adventure'}, {'id': 14, '...</td>\n",
       "      <td>NaN</td>\n",
       "      <td>8844</td>\n",
       "      <td>tt0113497</td>\n",
       "      <td>en</td>\n",
       "      <td>Jumanji</td>\n",
       "      <td>When siblings Judy and Peter discover an encha...</td>\n",
       "      <td>17.015539</td>\n",
       "      <td>...</td>\n",
       "      <td>262797249.0</td>\n",
       "      <td>104.0</td>\n",
       "      <td>[{'iso_639_1': 'en', 'name': 'English'}, {'iso...</td>\n",
       "      <td>Released</td>\n",
       "      <td>Roll the dice and unleash the excitement!</td>\n",
       "      <td>Jumanji</td>\n",
       "      <td>False</td>\n",
       "      <td>6.9</td>\n",
       "      <td>2413.0</td>\n",
       "      <td>No Collection</td>\n",
       "    </tr>\n",
       "    <tr>\n",
       "      <th>2</th>\n",
       "      <td>0</td>\n",
       "      <td>0</td>\n",
       "      <td>[{'id': 10749, 'name': 'Romance'}, {'id': 35, ...</td>\n",
       "      <td>NaN</td>\n",
       "      <td>15602</td>\n",
       "      <td>tt0113228</td>\n",
       "      <td>en</td>\n",
       "      <td>Grumpier Old Men</td>\n",
       "      <td>A family wedding reignites the ancient feud be...</td>\n",
       "      <td>11.7129</td>\n",
       "      <td>...</td>\n",
       "      <td>0.0</td>\n",
       "      <td>101.0</td>\n",
       "      <td>[{'iso_639_1': 'en', 'name': 'English'}]</td>\n",
       "      <td>Released</td>\n",
       "      <td>Still Yelling. Still Fighting. Still Ready for...</td>\n",
       "      <td>Grumpier Old Men</td>\n",
       "      <td>False</td>\n",
       "      <td>6.5</td>\n",
       "      <td>92.0</td>\n",
       "      <td>Grumpy Old Men Collection</td>\n",
       "    </tr>\n",
       "    <tr>\n",
       "      <th>3</th>\n",
       "      <td>0</td>\n",
       "      <td>16000000</td>\n",
       "      <td>[{'id': 35, 'name': 'Comedy'}, {'id': 18, 'nam...</td>\n",
       "      <td>NaN</td>\n",
       "      <td>31357</td>\n",
       "      <td>tt0114885</td>\n",
       "      <td>en</td>\n",
       "      <td>Waiting to Exhale</td>\n",
       "      <td>Cheated on, mistreated and stepped on, the wom...</td>\n",
       "      <td>3.859495</td>\n",
       "      <td>...</td>\n",
       "      <td>81452156.0</td>\n",
       "      <td>127.0</td>\n",
       "      <td>[{'iso_639_1': 'en', 'name': 'English'}]</td>\n",
       "      <td>Released</td>\n",
       "      <td>Friends are the people who let you be yourself...</td>\n",
       "      <td>Waiting to Exhale</td>\n",
       "      <td>False</td>\n",
       "      <td>6.1</td>\n",
       "      <td>34.0</td>\n",
       "      <td>No Collection</td>\n",
       "    </tr>\n",
       "    <tr>\n",
       "      <th>4</th>\n",
       "      <td>0</td>\n",
       "      <td>0</td>\n",
       "      <td>[{'id': 35, 'name': 'Comedy'}]</td>\n",
       "      <td>NaN</td>\n",
       "      <td>11862</td>\n",
       "      <td>tt0113041</td>\n",
       "      <td>en</td>\n",
       "      <td>Father of the Bride Part II</td>\n",
       "      <td>Just when George Banks has recovered from his ...</td>\n",
       "      <td>8.387519</td>\n",
       "      <td>...</td>\n",
       "      <td>76578911.0</td>\n",
       "      <td>106.0</td>\n",
       "      <td>[{'iso_639_1': 'en', 'name': 'English'}]</td>\n",
       "      <td>Released</td>\n",
       "      <td>Just When His World Is Back To Normal... He's ...</td>\n",
       "      <td>Father of the Bride Part II</td>\n",
       "      <td>False</td>\n",
       "      <td>5.7</td>\n",
       "      <td>173.0</td>\n",
       "      <td>Father of the Bride Collection</td>\n",
       "    </tr>\n",
       "  </tbody>\n",
       "</table>\n",
       "<p>5 rows × 24 columns</p>\n",
       "</div>"
      ],
      "text/plain": [
       "   adult    budget                                             genres  \\\n",
       "0      0  30000000  [{'id': 16, 'name': 'Animation'}, {'id': 35, '...   \n",
       "1      0  65000000  [{'id': 12, 'name': 'Adventure'}, {'id': 14, '...   \n",
       "2      0         0  [{'id': 10749, 'name': 'Romance'}, {'id': 35, ...   \n",
       "3      0  16000000  [{'id': 35, 'name': 'Comedy'}, {'id': 18, 'nam...   \n",
       "4      0         0                     [{'id': 35, 'name': 'Comedy'}]   \n",
       "\n",
       "                               homepage     id    imdb_id original_language  \\\n",
       "0  http://toystory.disney.com/toy-story    862  tt0114709                en   \n",
       "1                                   NaN   8844  tt0113497                en   \n",
       "2                                   NaN  15602  tt0113228                en   \n",
       "3                                   NaN  31357  tt0114885                en   \n",
       "4                                   NaN  11862  tt0113041                en   \n",
       "\n",
       "                original_title  \\\n",
       "0                    Toy Story   \n",
       "1                      Jumanji   \n",
       "2             Grumpier Old Men   \n",
       "3            Waiting to Exhale   \n",
       "4  Father of the Bride Part II   \n",
       "\n",
       "                                            overview popularity  ...  \\\n",
       "0  Led by Woody, Andy's toys live happily in his ...  21.946943  ...   \n",
       "1  When siblings Judy and Peter discover an encha...  17.015539  ...   \n",
       "2  A family wedding reignites the ancient feud be...    11.7129  ...   \n",
       "3  Cheated on, mistreated and stepped on, the wom...   3.859495  ...   \n",
       "4  Just when George Banks has recovered from his ...   8.387519  ...   \n",
       "\n",
       "       revenue runtime                                   spoken_languages  \\\n",
       "0  373554033.0    81.0           [{'iso_639_1': 'en', 'name': 'English'}]   \n",
       "1  262797249.0   104.0  [{'iso_639_1': 'en', 'name': 'English'}, {'iso...   \n",
       "2          0.0   101.0           [{'iso_639_1': 'en', 'name': 'English'}]   \n",
       "3   81452156.0   127.0           [{'iso_639_1': 'en', 'name': 'English'}]   \n",
       "4   76578911.0   106.0           [{'iso_639_1': 'en', 'name': 'English'}]   \n",
       "\n",
       "     status                                            tagline  \\\n",
       "0  Released                                                NaN   \n",
       "1  Released          Roll the dice and unleash the excitement!   \n",
       "2  Released  Still Yelling. Still Fighting. Still Ready for...   \n",
       "3  Released  Friends are the people who let you be yourself...   \n",
       "4  Released  Just When His World Is Back To Normal... He's ...   \n",
       "\n",
       "                         title  video vote_average vote_count  \\\n",
       "0                    Toy Story  False          7.7     5415.0   \n",
       "1                      Jumanji  False          6.9     2413.0   \n",
       "2             Grumpier Old Men  False          6.5       92.0   \n",
       "3            Waiting to Exhale  False          6.1       34.0   \n",
       "4  Father of the Bride Part II  False          5.7      173.0   \n",
       "\n",
       "                   collectionName  \n",
       "0            Toy Story Collection  \n",
       "1                   No Collection  \n",
       "2       Grumpy Old Men Collection  \n",
       "3                   No Collection  \n",
       "4  Father of the Bride Collection  \n",
       "\n",
       "[5 rows x 24 columns]"
      ]
     },
     "execution_count": 27,
     "metadata": {},
     "output_type": "execute_result"
    }
   ],
   "source": [
    "df.head()"
   ]
  },
  {
   "cell_type": "markdown",
   "id": "6048dd62",
   "metadata": {
    "papermill": {
     "duration": 0.043088,
     "end_time": "2022-11-02T12:49:08.568365",
     "exception": false,
     "start_time": "2022-11-02T12:49:08.525277",
     "status": "completed"
    },
    "tags": []
   },
   "source": [
    "# **Budget**"
   ]
  },
  {
   "cell_type": "code",
   "execution_count": 28,
   "id": "a6fca56e",
   "metadata": {
    "execution": {
     "iopub.execute_input": "2022-11-02T12:49:08.656562Z",
     "iopub.status.busy": "2022-11-02T12:49:08.656122Z",
     "iopub.status.idle": "2022-11-02T12:49:08.664881Z",
     "shell.execute_reply": "2022-11-02T12:49:08.663544Z"
    },
    "papermill": {
     "duration": 0.056837,
     "end_time": "2022-11-02T12:49:08.667548",
     "exception": false,
     "start_time": "2022-11-02T12:49:08.610711",
     "status": "completed"
    },
    "tags": []
   },
   "outputs": [
    {
     "data": {
      "text/plain": [
       "'30000000'"
      ]
     },
     "execution_count": 28,
     "metadata": {},
     "output_type": "execute_result"
    }
   ],
   "source": [
    "df.budget[0]\n",
    "\n",
    "# dtype -> str but it should be a integer"
   ]
  },
  {
   "cell_type": "code",
   "execution_count": 29,
   "id": "4b6627b4",
   "metadata": {
    "execution": {
     "iopub.execute_input": "2022-11-02T12:49:08.757427Z",
     "iopub.status.busy": "2022-11-02T12:49:08.757014Z",
     "iopub.status.idle": "2022-11-02T12:49:08.774920Z",
     "shell.execute_reply": "2022-11-02T12:49:08.773657Z"
    },
    "papermill": {
     "duration": 0.066696,
     "end_time": "2022-11-02T12:49:08.777613",
     "exception": false,
     "start_time": "2022-11-02T12:49:08.710917",
     "status": "completed"
    },
    "tags": []
   },
   "outputs": [],
   "source": [
    "df.budget = df.budget.astype('int64')"
   ]
  },
  {
   "cell_type": "code",
   "execution_count": 30,
   "id": "8d51fb8e",
   "metadata": {
    "execution": {
     "iopub.execute_input": "2022-11-02T12:49:08.865833Z",
     "iopub.status.busy": "2022-11-02T12:49:08.864826Z",
     "iopub.status.idle": "2022-11-02T12:49:08.879371Z",
     "shell.execute_reply": "2022-11-02T12:49:08.878286Z"
    },
    "papermill": {
     "duration": 0.061262,
     "end_time": "2022-11-02T12:49:08.881790",
     "exception": false,
     "start_time": "2022-11-02T12:49:08.820528",
     "status": "completed"
    },
    "tags": []
   },
   "outputs": [
    {
     "data": {
      "text/plain": [
       "count    4.546300e+04\n",
       "mean     4.224579e+06\n",
       "std      1.742413e+07\n",
       "min      0.000000e+00\n",
       "25%      0.000000e+00\n",
       "50%      0.000000e+00\n",
       "75%      0.000000e+00\n",
       "max      3.800000e+08\n",
       "Name: budget, dtype: float64"
      ]
     },
     "execution_count": 30,
     "metadata": {},
     "output_type": "execute_result"
    }
   ],
   "source": [
    "df.budget.describe()\n",
    "\n",
    "# 0 - 75th percentile the budget is 0\n",
    "# which mean nan value"
   ]
  },
  {
   "cell_type": "code",
   "execution_count": 31,
   "id": "c54780d2",
   "metadata": {
    "execution": {
     "iopub.execute_input": "2022-11-02T12:49:08.967967Z",
     "iopub.status.busy": "2022-11-02T12:49:08.966918Z",
     "iopub.status.idle": "2022-11-02T12:49:08.979929Z",
     "shell.execute_reply": "2022-11-02T12:49:08.978890Z"
    },
    "papermill": {
     "duration": 0.058601,
     "end_time": "2022-11-02T12:49:08.982275",
     "exception": false,
     "start_time": "2022-11-02T12:49:08.923674",
     "status": "completed"
    },
    "tags": []
   },
   "outputs": [
    {
     "data": {
      "text/plain": [
       "36573"
      ]
     },
     "execution_count": 31,
     "metadata": {},
     "output_type": "execute_result"
    }
   ],
   "source": [
    "sum(df.budget == 0)"
   ]
  },
  {
   "cell_type": "code",
   "execution_count": 32,
   "id": "84e71e3a",
   "metadata": {
    "execution": {
     "iopub.execute_input": "2022-11-02T12:49:09.074124Z",
     "iopub.status.busy": "2022-11-02T12:49:09.072783Z",
     "iopub.status.idle": "2022-11-02T12:49:09.086465Z",
     "shell.execute_reply": "2022-11-02T12:49:09.085389Z"
    },
    "papermill": {
     "duration": 0.060194,
     "end_time": "2022-11-02T12:49:09.088966",
     "exception": false,
     "start_time": "2022-11-02T12:49:09.028772",
     "status": "completed"
    },
    "tags": []
   },
   "outputs": [
    {
     "data": {
      "text/plain": [
       "80.44563711149726"
      ]
     },
     "execution_count": 32,
     "metadata": {},
     "output_type": "execute_result"
    }
   ],
   "source": [
    "# percentage\n",
    "\n",
    "(sum(df.budget == 0)/df.shape[0])*100\n",
    "\n",
    "# 80% of data is missing. we cant impute as most of the data is missing."
   ]
  },
  {
   "cell_type": "markdown",
   "id": "9661693f",
   "metadata": {
    "papermill": {
     "duration": 0.049161,
     "end_time": "2022-11-02T12:49:09.182594",
     "exception": false,
     "start_time": "2022-11-02T12:49:09.133433",
     "status": "completed"
    },
    "tags": []
   },
   "source": [
    "****1) Dont use budget ****\n",
    "\n",
    "**2) Try to look for some other dataset where these details are available**\n",
    "\n",
    "**3) Bite the bullet and only do analysis with the rest of the data**"
   ]
  },
  {
   "cell_type": "markdown",
   "id": "383fe728",
   "metadata": {
    "papermill": {
     "duration": 0.041856,
     "end_time": "2022-11-02T12:49:09.267985",
     "exception": false,
     "start_time": "2022-11-02T12:49:09.226129",
     "status": "completed"
    },
    "tags": []
   },
   "source": [
    "# **genres**"
   ]
  },
  {
   "cell_type": "code",
   "execution_count": 33,
   "id": "225a42d8",
   "metadata": {
    "execution": {
     "iopub.execute_input": "2022-11-02T12:49:09.355354Z",
     "iopub.status.busy": "2022-11-02T12:49:09.354211Z",
     "iopub.status.idle": "2022-11-02T12:49:09.360864Z",
     "shell.execute_reply": "2022-11-02T12:49:09.359936Z"
    },
    "papermill": {
     "duration": 0.052715,
     "end_time": "2022-11-02T12:49:09.363206",
     "exception": false,
     "start_time": "2022-11-02T12:49:09.310491",
     "status": "completed"
    },
    "tags": []
   },
   "outputs": [
    {
     "data": {
      "text/plain": [
       "\"[{'id': 16, 'name': 'Animation'}, {'id': 35, 'name': 'Comedy'}, {'id': 10751, 'name': 'Family'}]\""
      ]
     },
     "execution_count": 33,
     "metadata": {},
     "output_type": "execute_result"
    }
   ],
   "source": [
    "df.genres.values[0]"
   ]
  },
  {
   "cell_type": "code",
   "execution_count": 34,
   "id": "93a33165",
   "metadata": {
    "execution": {
     "iopub.execute_input": "2022-11-02T12:49:09.450881Z",
     "iopub.status.busy": "2022-11-02T12:49:09.450258Z",
     "iopub.status.idle": "2022-11-02T12:49:09.457006Z",
     "shell.execute_reply": "2022-11-02T12:49:09.455804Z"
    },
    "papermill": {
     "duration": 0.053535,
     "end_time": "2022-11-02T12:49:09.459485",
     "exception": false,
     "start_time": "2022-11-02T12:49:09.405950",
     "status": "completed"
    },
    "tags": []
   },
   "outputs": [
    {
     "data": {
      "text/plain": [
       "dtype('O')"
      ]
     },
     "execution_count": 34,
     "metadata": {},
     "output_type": "execute_result"
    }
   ],
   "source": [
    "df.genres.dtype"
   ]
  },
  {
   "cell_type": "code",
   "execution_count": 35,
   "id": "ef36d8e2",
   "metadata": {
    "execution": {
     "iopub.execute_input": "2022-11-02T12:49:09.546712Z",
     "iopub.status.busy": "2022-11-02T12:49:09.546251Z",
     "iopub.status.idle": "2022-11-02T12:49:09.554018Z",
     "shell.execute_reply": "2022-11-02T12:49:09.552786Z"
    },
    "papermill": {
     "duration": 0.054177,
     "end_time": "2022-11-02T12:49:09.556474",
     "exception": false,
     "start_time": "2022-11-02T12:49:09.502297",
     "status": "completed"
    },
    "tags": []
   },
   "outputs": [
    {
     "data": {
      "text/plain": [
       "[{'id': 16, 'name': 'Animation'},\n",
       " {'id': 35, 'name': 'Comedy'},\n",
       " {'id': 10751, 'name': 'Family'}]"
      ]
     },
     "execution_count": 35,
     "metadata": {},
     "output_type": "execute_result"
    }
   ],
   "source": [
    "ast.literal_eval(df.genres.values[0])"
   ]
  },
  {
   "cell_type": "code",
   "execution_count": 36,
   "id": "d9dd8105",
   "metadata": {
    "execution": {
     "iopub.execute_input": "2022-11-02T12:49:09.645059Z",
     "iopub.status.busy": "2022-11-02T12:49:09.644615Z",
     "iopub.status.idle": "2022-11-02T12:49:09.652762Z",
     "shell.execute_reply": "2022-11-02T12:49:09.651388Z"
    },
    "papermill": {
     "duration": 0.055659,
     "end_time": "2022-11-02T12:49:09.655247",
     "exception": false,
     "start_time": "2022-11-02T12:49:09.599588",
     "status": "completed"
    },
    "tags": []
   },
   "outputs": [
    {
     "data": {
      "text/plain": [
       "{1, 2}"
      ]
     },
     "execution_count": 36,
     "metadata": {},
     "output_type": "execute_result"
    }
   ],
   "source": [
    "a = {1,2}\n",
    "a.add(2)\n",
    "a"
   ]
  },
  {
   "cell_type": "code",
   "execution_count": 37,
   "id": "f065f9b3",
   "metadata": {
    "execution": {
     "iopub.execute_input": "2022-11-02T12:49:09.743726Z",
     "iopub.status.busy": "2022-11-02T12:49:09.742928Z",
     "iopub.status.idle": "2022-11-02T12:49:09.749923Z",
     "shell.execute_reply": "2022-11-02T12:49:09.749075Z"
    },
    "papermill": {
     "duration": 0.053741,
     "end_time": "2022-11-02T12:49:09.752400",
     "exception": false,
     "start_time": "2022-11-02T12:49:09.698659",
     "status": "completed"
    },
    "tags": []
   },
   "outputs": [
    {
     "data": {
      "text/plain": [
       "{1, 2, 3}"
      ]
     },
     "execution_count": 37,
     "metadata": {},
     "output_type": "execute_result"
    }
   ],
   "source": [
    "set([1,1,1,2,3])"
   ]
  },
  {
   "cell_type": "markdown",
   "id": "7c48d428",
   "metadata": {
    "papermill": {
     "duration": 0.042904,
     "end_time": "2022-11-02T12:49:09.839602",
     "exception": false,
     "start_time": "2022-11-02T12:49:09.796698",
     "status": "completed"
    },
    "tags": []
   },
   "source": [
    "**New Idea : Create a column for each genre - say 1 if the movie has the genre, else put 0**"
   ]
  },
  {
   "cell_type": "code",
   "execution_count": 38,
   "id": "ede893fa",
   "metadata": {
    "execution": {
     "iopub.execute_input": "2022-11-02T12:49:09.927482Z",
     "iopub.status.busy": "2022-11-02T12:49:09.926769Z",
     "iopub.status.idle": "2022-11-02T12:49:11.130224Z",
     "shell.execute_reply": "2022-11-02T12:49:11.128775Z"
    },
    "papermill": {
     "duration": 1.250592,
     "end_time": "2022-11-02T12:49:11.133139",
     "exception": false,
     "start_time": "2022-11-02T12:49:09.882547",
     "status": "completed"
    },
    "tags": []
   },
   "outputs": [],
   "source": [
    "uniqueGenres = set([])\n",
    "for i in df.genres.values: # I am looping through all the rows\n",
    "    genList = ast.literal_eval(i) # convert from string to list of dict\n",
    "    for j in genList: # loop through the list of dict\n",
    "        uniqueGenres.add(j[\"name\"]) # add the name of the genre to my uniqueGenres variabe"
   ]
  },
  {
   "cell_type": "code",
   "execution_count": 39,
   "id": "dd0ad2cd",
   "metadata": {
    "execution": {
     "iopub.execute_input": "2022-11-02T12:49:11.223101Z",
     "iopub.status.busy": "2022-11-02T12:49:11.222096Z",
     "iopub.status.idle": "2022-11-02T12:49:11.230297Z",
     "shell.execute_reply": "2022-11-02T12:49:11.228770Z"
    },
    "papermill": {
     "duration": 0.0557,
     "end_time": "2022-11-02T12:49:11.233133",
     "exception": false,
     "start_time": "2022-11-02T12:49:11.177433",
     "status": "completed"
    },
    "tags": []
   },
   "outputs": [
    {
     "data": {
      "text/plain": [
       "{'Action',\n",
       " 'Adventure',\n",
       " 'Animation',\n",
       " 'Comedy',\n",
       " 'Crime',\n",
       " 'Documentary',\n",
       " 'Drama',\n",
       " 'Family',\n",
       " 'Fantasy',\n",
       " 'Foreign',\n",
       " 'History',\n",
       " 'Horror',\n",
       " 'Music',\n",
       " 'Mystery',\n",
       " 'Romance',\n",
       " 'Science Fiction',\n",
       " 'TV Movie',\n",
       " 'Thriller',\n",
       " 'War',\n",
       " 'Western'}"
      ]
     },
     "execution_count": 39,
     "metadata": {},
     "output_type": "execute_result"
    }
   ],
   "source": [
    "uniqueGenres"
   ]
  },
  {
   "cell_type": "code",
   "execution_count": 40,
   "id": "6afd2c06",
   "metadata": {
    "execution": {
     "iopub.execute_input": "2022-11-02T12:49:11.323451Z",
     "iopub.status.busy": "2022-11-02T12:49:11.323042Z",
     "iopub.status.idle": "2022-11-02T12:49:11.331160Z",
     "shell.execute_reply": "2022-11-02T12:49:11.329726Z"
    },
    "papermill": {
     "duration": 0.0556,
     "end_time": "2022-11-02T12:49:11.333544",
     "exception": false,
     "start_time": "2022-11-02T12:49:11.277944",
     "status": "completed"
    },
    "tags": []
   },
   "outputs": [
    {
     "data": {
      "text/plain": [
       "20"
      ]
     },
     "execution_count": 40,
     "metadata": {},
     "output_type": "execute_result"
    }
   ],
   "source": [
    "len(uniqueGenres)"
   ]
  },
  {
   "cell_type": "code",
   "execution_count": 41,
   "id": "029bfd91",
   "metadata": {
    "execution": {
     "iopub.execute_input": "2022-11-02T12:49:11.424701Z",
     "iopub.status.busy": "2022-11-02T12:49:11.424276Z",
     "iopub.status.idle": "2022-11-02T12:49:13.132765Z",
     "shell.execute_reply": "2022-11-02T12:49:13.131415Z"
    },
    "papermill": {
     "duration": 1.757658,
     "end_time": "2022-11-02T12:49:13.135546",
     "exception": false,
     "start_time": "2022-11-02T12:49:11.377888",
     "status": "completed"
    },
    "tags": []
   },
   "outputs": [],
   "source": [
    "rows = [] # for all the movies\n",
    "genres = list(uniqueGenres) # all unique Genres\n",
    "\n",
    "for i in df.genres: #looping through all the rows/movies\n",
    "  genList = ast.literal_eval(i) #converting from string to list of dict for a particular movie\n",
    "  movieGenres = [x['name'] for x in genList] # list of all the genres of the movie\n",
    "  row = [] # store a list of 1s and 0s for one movie\n",
    "  for j in genres: #loop through all unique genres\n",
    "    row.append(int(j in movieGenres)) #checking if the genre is present in that movie - if the genre is present 1 else 0\n",
    "  rows.append(row)"
   ]
  },
  {
   "cell_type": "code",
   "execution_count": 42,
   "id": "b651c7eb",
   "metadata": {
    "execution": {
     "iopub.execute_input": "2022-11-02T12:49:13.226618Z",
     "iopub.status.busy": "2022-11-02T12:49:13.225583Z",
     "iopub.status.idle": "2022-11-02T12:49:13.515468Z",
     "shell.execute_reply": "2022-11-02T12:49:13.514345Z"
    },
    "papermill": {
     "duration": 0.33835,
     "end_time": "2022-11-02T12:49:13.518036",
     "exception": false,
     "start_time": "2022-11-02T12:49:13.179686",
     "status": "completed"
    },
    "tags": []
   },
   "outputs": [
    {
     "data": {
      "text/html": [
       "<div>\n",
       "<style scoped>\n",
       "    .dataframe tbody tr th:only-of-type {\n",
       "        vertical-align: middle;\n",
       "    }\n",
       "\n",
       "    .dataframe tbody tr th {\n",
       "        vertical-align: top;\n",
       "    }\n",
       "\n",
       "    .dataframe thead th {\n",
       "        text-align: right;\n",
       "    }\n",
       "</style>\n",
       "<table border=\"1\" class=\"dataframe\">\n",
       "  <thead>\n",
       "    <tr style=\"text-align: right;\">\n",
       "      <th></th>\n",
       "      <th>Romance</th>\n",
       "      <th>Drama</th>\n",
       "      <th>History</th>\n",
       "      <th>Thriller</th>\n",
       "      <th>Science Fiction</th>\n",
       "      <th>Family</th>\n",
       "      <th>Fantasy</th>\n",
       "      <th>Action</th>\n",
       "      <th>Horror</th>\n",
       "      <th>Documentary</th>\n",
       "      <th>TV Movie</th>\n",
       "      <th>Music</th>\n",
       "      <th>War</th>\n",
       "      <th>Foreign</th>\n",
       "      <th>Crime</th>\n",
       "      <th>Western</th>\n",
       "      <th>Animation</th>\n",
       "      <th>Adventure</th>\n",
       "      <th>Mystery</th>\n",
       "      <th>Comedy</th>\n",
       "    </tr>\n",
       "  </thead>\n",
       "  <tbody>\n",
       "    <tr>\n",
       "      <th>0</th>\n",
       "      <td>0</td>\n",
       "      <td>0</td>\n",
       "      <td>0</td>\n",
       "      <td>0</td>\n",
       "      <td>0</td>\n",
       "      <td>1</td>\n",
       "      <td>0</td>\n",
       "      <td>0</td>\n",
       "      <td>0</td>\n",
       "      <td>0</td>\n",
       "      <td>0</td>\n",
       "      <td>0</td>\n",
       "      <td>0</td>\n",
       "      <td>0</td>\n",
       "      <td>0</td>\n",
       "      <td>0</td>\n",
       "      <td>1</td>\n",
       "      <td>0</td>\n",
       "      <td>0</td>\n",
       "      <td>1</td>\n",
       "    </tr>\n",
       "    <tr>\n",
       "      <th>1</th>\n",
       "      <td>0</td>\n",
       "      <td>0</td>\n",
       "      <td>0</td>\n",
       "      <td>0</td>\n",
       "      <td>0</td>\n",
       "      <td>1</td>\n",
       "      <td>1</td>\n",
       "      <td>0</td>\n",
       "      <td>0</td>\n",
       "      <td>0</td>\n",
       "      <td>0</td>\n",
       "      <td>0</td>\n",
       "      <td>0</td>\n",
       "      <td>0</td>\n",
       "      <td>0</td>\n",
       "      <td>0</td>\n",
       "      <td>0</td>\n",
       "      <td>1</td>\n",
       "      <td>0</td>\n",
       "      <td>0</td>\n",
       "    </tr>\n",
       "    <tr>\n",
       "      <th>2</th>\n",
       "      <td>1</td>\n",
       "      <td>0</td>\n",
       "      <td>0</td>\n",
       "      <td>0</td>\n",
       "      <td>0</td>\n",
       "      <td>0</td>\n",
       "      <td>0</td>\n",
       "      <td>0</td>\n",
       "      <td>0</td>\n",
       "      <td>0</td>\n",
       "      <td>0</td>\n",
       "      <td>0</td>\n",
       "      <td>0</td>\n",
       "      <td>0</td>\n",
       "      <td>0</td>\n",
       "      <td>0</td>\n",
       "      <td>0</td>\n",
       "      <td>0</td>\n",
       "      <td>0</td>\n",
       "      <td>1</td>\n",
       "    </tr>\n",
       "    <tr>\n",
       "      <th>3</th>\n",
       "      <td>1</td>\n",
       "      <td>1</td>\n",
       "      <td>0</td>\n",
       "      <td>0</td>\n",
       "      <td>0</td>\n",
       "      <td>0</td>\n",
       "      <td>0</td>\n",
       "      <td>0</td>\n",
       "      <td>0</td>\n",
       "      <td>0</td>\n",
       "      <td>0</td>\n",
       "      <td>0</td>\n",
       "      <td>0</td>\n",
       "      <td>0</td>\n",
       "      <td>0</td>\n",
       "      <td>0</td>\n",
       "      <td>0</td>\n",
       "      <td>0</td>\n",
       "      <td>0</td>\n",
       "      <td>1</td>\n",
       "    </tr>\n",
       "    <tr>\n",
       "      <th>4</th>\n",
       "      <td>0</td>\n",
       "      <td>0</td>\n",
       "      <td>0</td>\n",
       "      <td>0</td>\n",
       "      <td>0</td>\n",
       "      <td>0</td>\n",
       "      <td>0</td>\n",
       "      <td>0</td>\n",
       "      <td>0</td>\n",
       "      <td>0</td>\n",
       "      <td>0</td>\n",
       "      <td>0</td>\n",
       "      <td>0</td>\n",
       "      <td>0</td>\n",
       "      <td>0</td>\n",
       "      <td>0</td>\n",
       "      <td>0</td>\n",
       "      <td>0</td>\n",
       "      <td>0</td>\n",
       "      <td>1</td>\n",
       "    </tr>\n",
       "    <tr>\n",
       "      <th>...</th>\n",
       "      <td>...</td>\n",
       "      <td>...</td>\n",
       "      <td>...</td>\n",
       "      <td>...</td>\n",
       "      <td>...</td>\n",
       "      <td>...</td>\n",
       "      <td>...</td>\n",
       "      <td>...</td>\n",
       "      <td>...</td>\n",
       "      <td>...</td>\n",
       "      <td>...</td>\n",
       "      <td>...</td>\n",
       "      <td>...</td>\n",
       "      <td>...</td>\n",
       "      <td>...</td>\n",
       "      <td>...</td>\n",
       "      <td>...</td>\n",
       "      <td>...</td>\n",
       "      <td>...</td>\n",
       "      <td>...</td>\n",
       "    </tr>\n",
       "    <tr>\n",
       "      <th>45458</th>\n",
       "      <td>0</td>\n",
       "      <td>1</td>\n",
       "      <td>0</td>\n",
       "      <td>0</td>\n",
       "      <td>0</td>\n",
       "      <td>1</td>\n",
       "      <td>0</td>\n",
       "      <td>0</td>\n",
       "      <td>0</td>\n",
       "      <td>0</td>\n",
       "      <td>0</td>\n",
       "      <td>0</td>\n",
       "      <td>0</td>\n",
       "      <td>0</td>\n",
       "      <td>0</td>\n",
       "      <td>0</td>\n",
       "      <td>0</td>\n",
       "      <td>0</td>\n",
       "      <td>0</td>\n",
       "      <td>0</td>\n",
       "    </tr>\n",
       "    <tr>\n",
       "      <th>45459</th>\n",
       "      <td>0</td>\n",
       "      <td>1</td>\n",
       "      <td>0</td>\n",
       "      <td>0</td>\n",
       "      <td>0</td>\n",
       "      <td>0</td>\n",
       "      <td>0</td>\n",
       "      <td>0</td>\n",
       "      <td>0</td>\n",
       "      <td>0</td>\n",
       "      <td>0</td>\n",
       "      <td>0</td>\n",
       "      <td>0</td>\n",
       "      <td>0</td>\n",
       "      <td>0</td>\n",
       "      <td>0</td>\n",
       "      <td>0</td>\n",
       "      <td>0</td>\n",
       "      <td>0</td>\n",
       "      <td>0</td>\n",
       "    </tr>\n",
       "    <tr>\n",
       "      <th>45460</th>\n",
       "      <td>0</td>\n",
       "      <td>1</td>\n",
       "      <td>0</td>\n",
       "      <td>1</td>\n",
       "      <td>0</td>\n",
       "      <td>0</td>\n",
       "      <td>0</td>\n",
       "      <td>1</td>\n",
       "      <td>0</td>\n",
       "      <td>0</td>\n",
       "      <td>0</td>\n",
       "      <td>0</td>\n",
       "      <td>0</td>\n",
       "      <td>0</td>\n",
       "      <td>0</td>\n",
       "      <td>0</td>\n",
       "      <td>0</td>\n",
       "      <td>0</td>\n",
       "      <td>0</td>\n",
       "      <td>0</td>\n",
       "    </tr>\n",
       "    <tr>\n",
       "      <th>45461</th>\n",
       "      <td>0</td>\n",
       "      <td>0</td>\n",
       "      <td>0</td>\n",
       "      <td>0</td>\n",
       "      <td>0</td>\n",
       "      <td>0</td>\n",
       "      <td>0</td>\n",
       "      <td>0</td>\n",
       "      <td>0</td>\n",
       "      <td>0</td>\n",
       "      <td>0</td>\n",
       "      <td>0</td>\n",
       "      <td>0</td>\n",
       "      <td>0</td>\n",
       "      <td>0</td>\n",
       "      <td>0</td>\n",
       "      <td>0</td>\n",
       "      <td>0</td>\n",
       "      <td>0</td>\n",
       "      <td>0</td>\n",
       "    </tr>\n",
       "    <tr>\n",
       "      <th>45462</th>\n",
       "      <td>0</td>\n",
       "      <td>0</td>\n",
       "      <td>0</td>\n",
       "      <td>0</td>\n",
       "      <td>0</td>\n",
       "      <td>0</td>\n",
       "      <td>0</td>\n",
       "      <td>0</td>\n",
       "      <td>0</td>\n",
       "      <td>0</td>\n",
       "      <td>0</td>\n",
       "      <td>0</td>\n",
       "      <td>0</td>\n",
       "      <td>0</td>\n",
       "      <td>0</td>\n",
       "      <td>0</td>\n",
       "      <td>0</td>\n",
       "      <td>0</td>\n",
       "      <td>0</td>\n",
       "      <td>0</td>\n",
       "    </tr>\n",
       "  </tbody>\n",
       "</table>\n",
       "<p>45463 rows × 20 columns</p>\n",
       "</div>"
      ],
      "text/plain": [
       "       Romance  Drama  History  Thriller  Science Fiction  Family  Fantasy  \\\n",
       "0            0      0        0         0                0       1        0   \n",
       "1            0      0        0         0                0       1        1   \n",
       "2            1      0        0         0                0       0        0   \n",
       "3            1      1        0         0                0       0        0   \n",
       "4            0      0        0         0                0       0        0   \n",
       "...        ...    ...      ...       ...              ...     ...      ...   \n",
       "45458        0      1        0         0                0       1        0   \n",
       "45459        0      1        0         0                0       0        0   \n",
       "45460        0      1        0         1                0       0        0   \n",
       "45461        0      0        0         0                0       0        0   \n",
       "45462        0      0        0         0                0       0        0   \n",
       "\n",
       "       Action  Horror  Documentary  TV Movie  Music  War  Foreign  Crime  \\\n",
       "0           0       0            0         0      0    0        0      0   \n",
       "1           0       0            0         0      0    0        0      0   \n",
       "2           0       0            0         0      0    0        0      0   \n",
       "3           0       0            0         0      0    0        0      0   \n",
       "4           0       0            0         0      0    0        0      0   \n",
       "...       ...     ...          ...       ...    ...  ...      ...    ...   \n",
       "45458       0       0            0         0      0    0        0      0   \n",
       "45459       0       0            0         0      0    0        0      0   \n",
       "45460       1       0            0         0      0    0        0      0   \n",
       "45461       0       0            0         0      0    0        0      0   \n",
       "45462       0       0            0         0      0    0        0      0   \n",
       "\n",
       "       Western  Animation  Adventure  Mystery  Comedy  \n",
       "0            0          1          0        0       1  \n",
       "1            0          0          1        0       0  \n",
       "2            0          0          0        0       1  \n",
       "3            0          0          0        0       1  \n",
       "4            0          0          0        0       1  \n",
       "...        ...        ...        ...      ...     ...  \n",
       "45458        0          0          0        0       0  \n",
       "45459        0          0          0        0       0  \n",
       "45460        0          0          0        0       0  \n",
       "45461        0          0          0        0       0  \n",
       "45462        0          0          0        0       0  \n",
       "\n",
       "[45463 rows x 20 columns]"
      ]
     },
     "execution_count": 42,
     "metadata": {},
     "output_type": "execute_result"
    }
   ],
   "source": [
    "genre = pd.DataFrame(rows,columns = genres)\n",
    "genre"
   ]
  },
  {
   "cell_type": "code",
   "execution_count": 43,
   "id": "9b2b628f",
   "metadata": {
    "execution": {
     "iopub.execute_input": "2022-11-02T12:49:13.609111Z",
     "iopub.status.busy": "2022-11-02T12:49:13.608682Z",
     "iopub.status.idle": "2022-11-02T12:49:13.615730Z",
     "shell.execute_reply": "2022-11-02T12:49:13.614614Z"
    },
    "papermill": {
     "duration": 0.056171,
     "end_time": "2022-11-02T12:49:13.618304",
     "exception": false,
     "start_time": "2022-11-02T12:49:13.562133",
     "status": "completed"
    },
    "tags": []
   },
   "outputs": [
    {
     "data": {
      "text/plain": [
       "(45463, 20)"
      ]
     },
     "execution_count": 43,
     "metadata": {},
     "output_type": "execute_result"
    }
   ],
   "source": [
    "genre.shape"
   ]
  },
  {
   "cell_type": "code",
   "execution_count": 44,
   "id": "e6741ea2",
   "metadata": {
    "execution": {
     "iopub.execute_input": "2022-11-02T12:49:13.710400Z",
     "iopub.status.busy": "2022-11-02T12:49:13.709671Z",
     "iopub.status.idle": "2022-11-02T12:49:13.715648Z",
     "shell.execute_reply": "2022-11-02T12:49:13.714580Z"
    },
    "papermill": {
     "duration": 0.053777,
     "end_time": "2022-11-02T12:49:13.717916",
     "exception": false,
     "start_time": "2022-11-02T12:49:13.664139",
     "status": "completed"
    },
    "tags": []
   },
   "outputs": [
    {
     "data": {
      "text/plain": [
       "(45463, 24)"
      ]
     },
     "execution_count": 44,
     "metadata": {},
     "output_type": "execute_result"
    }
   ],
   "source": [
    "df.shape"
   ]
  },
  {
   "cell_type": "code",
   "execution_count": 45,
   "id": "fe4b0d74",
   "metadata": {
    "execution": {
     "iopub.execute_input": "2022-11-02T12:49:13.809602Z",
     "iopub.status.busy": "2022-11-02T12:49:13.808883Z",
     "iopub.status.idle": "2022-11-02T12:49:13.907693Z",
     "shell.execute_reply": "2022-11-02T12:49:13.906776Z"
    },
    "papermill": {
     "duration": 0.147875,
     "end_time": "2022-11-02T12:49:13.909967",
     "exception": false,
     "start_time": "2022-11-02T12:49:13.762092",
     "status": "completed"
    },
    "tags": []
   },
   "outputs": [
    {
     "data": {
      "text/plain": [
       "((45466, 44), (45463, 20))"
      ]
     },
     "execution_count": 45,
     "metadata": {},
     "output_type": "execute_result"
    }
   ],
   "source": [
    "df = pd.concat([df,genre], axis = 1) # joing the two dataframes\n",
    "df.shape, genre.shape"
   ]
  },
  {
   "cell_type": "code",
   "execution_count": 46,
   "id": "a65aae07",
   "metadata": {
    "execution": {
     "iopub.execute_input": "2022-11-02T12:49:14.002267Z",
     "iopub.status.busy": "2022-11-02T12:49:14.001470Z",
     "iopub.status.idle": "2022-11-02T12:49:14.057422Z",
     "shell.execute_reply": "2022-11-02T12:49:14.056520Z"
    },
    "papermill": {
     "duration": 0.105762,
     "end_time": "2022-11-02T12:49:14.060050",
     "exception": false,
     "start_time": "2022-11-02T12:49:13.954288",
     "status": "completed"
    },
    "tags": []
   },
   "outputs": [],
   "source": [
    "df = df.drop(columns = ['genres'])"
   ]
  },
  {
   "cell_type": "code",
   "execution_count": 47,
   "id": "6dd96049",
   "metadata": {
    "execution": {
     "iopub.execute_input": "2022-11-02T12:49:14.153287Z",
     "iopub.status.busy": "2022-11-02T12:49:14.152420Z",
     "iopub.status.idle": "2022-11-02T12:49:14.181665Z",
     "shell.execute_reply": "2022-11-02T12:49:14.180783Z"
    },
    "papermill": {
     "duration": 0.079314,
     "end_time": "2022-11-02T12:49:14.184255",
     "exception": false,
     "start_time": "2022-11-02T12:49:14.104941",
     "status": "completed"
    },
    "tags": []
   },
   "outputs": [
    {
     "data": {
      "text/html": [
       "<div>\n",
       "<style scoped>\n",
       "    .dataframe tbody tr th:only-of-type {\n",
       "        vertical-align: middle;\n",
       "    }\n",
       "\n",
       "    .dataframe tbody tr th {\n",
       "        vertical-align: top;\n",
       "    }\n",
       "\n",
       "    .dataframe thead th {\n",
       "        text-align: right;\n",
       "    }\n",
       "</style>\n",
       "<table border=\"1\" class=\"dataframe\">\n",
       "  <thead>\n",
       "    <tr style=\"text-align: right;\">\n",
       "      <th></th>\n",
       "      <th>adult</th>\n",
       "      <th>budget</th>\n",
       "      <th>homepage</th>\n",
       "      <th>id</th>\n",
       "      <th>imdb_id</th>\n",
       "      <th>original_language</th>\n",
       "      <th>original_title</th>\n",
       "      <th>overview</th>\n",
       "      <th>popularity</th>\n",
       "      <th>poster_path</th>\n",
       "      <th>...</th>\n",
       "      <th>TV Movie</th>\n",
       "      <th>Music</th>\n",
       "      <th>War</th>\n",
       "      <th>Foreign</th>\n",
       "      <th>Crime</th>\n",
       "      <th>Western</th>\n",
       "      <th>Animation</th>\n",
       "      <th>Adventure</th>\n",
       "      <th>Mystery</th>\n",
       "      <th>Comedy</th>\n",
       "    </tr>\n",
       "  </thead>\n",
       "  <tbody>\n",
       "    <tr>\n",
       "      <th>0</th>\n",
       "      <td>0.0</td>\n",
       "      <td>30000000.0</td>\n",
       "      <td>http://toystory.disney.com/toy-story</td>\n",
       "      <td>862</td>\n",
       "      <td>tt0114709</td>\n",
       "      <td>en</td>\n",
       "      <td>Toy Story</td>\n",
       "      <td>Led by Woody, Andy's toys live happily in his ...</td>\n",
       "      <td>21.946943</td>\n",
       "      <td>/rhIRbceoE9lR4veEXuwCC2wARtG.jpg</td>\n",
       "      <td>...</td>\n",
       "      <td>0.0</td>\n",
       "      <td>0.0</td>\n",
       "      <td>0.0</td>\n",
       "      <td>0.0</td>\n",
       "      <td>0.0</td>\n",
       "      <td>0.0</td>\n",
       "      <td>1.0</td>\n",
       "      <td>0.0</td>\n",
       "      <td>0.0</td>\n",
       "      <td>1.0</td>\n",
       "    </tr>\n",
       "    <tr>\n",
       "      <th>1</th>\n",
       "      <td>0.0</td>\n",
       "      <td>65000000.0</td>\n",
       "      <td>NaN</td>\n",
       "      <td>8844</td>\n",
       "      <td>tt0113497</td>\n",
       "      <td>en</td>\n",
       "      <td>Jumanji</td>\n",
       "      <td>When siblings Judy and Peter discover an encha...</td>\n",
       "      <td>17.015539</td>\n",
       "      <td>/vzmL6fP7aPKNKPRTFnZmiUfciyV.jpg</td>\n",
       "      <td>...</td>\n",
       "      <td>0.0</td>\n",
       "      <td>0.0</td>\n",
       "      <td>0.0</td>\n",
       "      <td>0.0</td>\n",
       "      <td>0.0</td>\n",
       "      <td>0.0</td>\n",
       "      <td>0.0</td>\n",
       "      <td>1.0</td>\n",
       "      <td>0.0</td>\n",
       "      <td>0.0</td>\n",
       "    </tr>\n",
       "    <tr>\n",
       "      <th>2</th>\n",
       "      <td>0.0</td>\n",
       "      <td>0.0</td>\n",
       "      <td>NaN</td>\n",
       "      <td>15602</td>\n",
       "      <td>tt0113228</td>\n",
       "      <td>en</td>\n",
       "      <td>Grumpier Old Men</td>\n",
       "      <td>A family wedding reignites the ancient feud be...</td>\n",
       "      <td>11.7129</td>\n",
       "      <td>/6ksm1sjKMFLbO7UY2i6G1ju9SML.jpg</td>\n",
       "      <td>...</td>\n",
       "      <td>0.0</td>\n",
       "      <td>0.0</td>\n",
       "      <td>0.0</td>\n",
       "      <td>0.0</td>\n",
       "      <td>0.0</td>\n",
       "      <td>0.0</td>\n",
       "      <td>0.0</td>\n",
       "      <td>0.0</td>\n",
       "      <td>0.0</td>\n",
       "      <td>1.0</td>\n",
       "    </tr>\n",
       "    <tr>\n",
       "      <th>3</th>\n",
       "      <td>0.0</td>\n",
       "      <td>16000000.0</td>\n",
       "      <td>NaN</td>\n",
       "      <td>31357</td>\n",
       "      <td>tt0114885</td>\n",
       "      <td>en</td>\n",
       "      <td>Waiting to Exhale</td>\n",
       "      <td>Cheated on, mistreated and stepped on, the wom...</td>\n",
       "      <td>3.859495</td>\n",
       "      <td>/16XOMpEaLWkrcPqSQqhTmeJuqQl.jpg</td>\n",
       "      <td>...</td>\n",
       "      <td>0.0</td>\n",
       "      <td>0.0</td>\n",
       "      <td>0.0</td>\n",
       "      <td>0.0</td>\n",
       "      <td>0.0</td>\n",
       "      <td>0.0</td>\n",
       "      <td>0.0</td>\n",
       "      <td>0.0</td>\n",
       "      <td>0.0</td>\n",
       "      <td>1.0</td>\n",
       "    </tr>\n",
       "    <tr>\n",
       "      <th>4</th>\n",
       "      <td>0.0</td>\n",
       "      <td>0.0</td>\n",
       "      <td>NaN</td>\n",
       "      <td>11862</td>\n",
       "      <td>tt0113041</td>\n",
       "      <td>en</td>\n",
       "      <td>Father of the Bride Part II</td>\n",
       "      <td>Just when George Banks has recovered from his ...</td>\n",
       "      <td>8.387519</td>\n",
       "      <td>/e64sOI48hQXyru7naBFyssKFxVd.jpg</td>\n",
       "      <td>...</td>\n",
       "      <td>0.0</td>\n",
       "      <td>0.0</td>\n",
       "      <td>0.0</td>\n",
       "      <td>0.0</td>\n",
       "      <td>0.0</td>\n",
       "      <td>0.0</td>\n",
       "      <td>0.0</td>\n",
       "      <td>0.0</td>\n",
       "      <td>0.0</td>\n",
       "      <td>1.0</td>\n",
       "    </tr>\n",
       "  </tbody>\n",
       "</table>\n",
       "<p>5 rows × 43 columns</p>\n",
       "</div>"
      ],
      "text/plain": [
       "   adult      budget                              homepage     id    imdb_id  \\\n",
       "0    0.0  30000000.0  http://toystory.disney.com/toy-story    862  tt0114709   \n",
       "1    0.0  65000000.0                                   NaN   8844  tt0113497   \n",
       "2    0.0         0.0                                   NaN  15602  tt0113228   \n",
       "3    0.0  16000000.0                                   NaN  31357  tt0114885   \n",
       "4    0.0         0.0                                   NaN  11862  tt0113041   \n",
       "\n",
       "  original_language               original_title  \\\n",
       "0                en                    Toy Story   \n",
       "1                en                      Jumanji   \n",
       "2                en             Grumpier Old Men   \n",
       "3                en            Waiting to Exhale   \n",
       "4                en  Father of the Bride Part II   \n",
       "\n",
       "                                            overview popularity  \\\n",
       "0  Led by Woody, Andy's toys live happily in his ...  21.946943   \n",
       "1  When siblings Judy and Peter discover an encha...  17.015539   \n",
       "2  A family wedding reignites the ancient feud be...    11.7129   \n",
       "3  Cheated on, mistreated and stepped on, the wom...   3.859495   \n",
       "4  Just when George Banks has recovered from his ...   8.387519   \n",
       "\n",
       "                        poster_path  ... TV Movie Music  War  Foreign  Crime  \\\n",
       "0  /rhIRbceoE9lR4veEXuwCC2wARtG.jpg  ...      0.0   0.0  0.0      0.0    0.0   \n",
       "1  /vzmL6fP7aPKNKPRTFnZmiUfciyV.jpg  ...      0.0   0.0  0.0      0.0    0.0   \n",
       "2  /6ksm1sjKMFLbO7UY2i6G1ju9SML.jpg  ...      0.0   0.0  0.0      0.0    0.0   \n",
       "3  /16XOMpEaLWkrcPqSQqhTmeJuqQl.jpg  ...      0.0   0.0  0.0      0.0    0.0   \n",
       "4  /e64sOI48hQXyru7naBFyssKFxVd.jpg  ...      0.0   0.0  0.0      0.0    0.0   \n",
       "\n",
       "  Western Animation Adventure Mystery Comedy  \n",
       "0     0.0       1.0       0.0     0.0    1.0  \n",
       "1     0.0       0.0       1.0     0.0    0.0  \n",
       "2     0.0       0.0       0.0     0.0    1.0  \n",
       "3     0.0       0.0       0.0     0.0    1.0  \n",
       "4     0.0       0.0       0.0     0.0    1.0  \n",
       "\n",
       "[5 rows x 43 columns]"
      ]
     },
     "execution_count": 47,
     "metadata": {},
     "output_type": "execute_result"
    }
   ],
   "source": [
    "df.head()"
   ]
  },
  {
   "cell_type": "markdown",
   "id": "e848adbf",
   "metadata": {
    "papermill": {
     "duration": 0.044403,
     "end_time": "2022-11-02T12:49:14.273376",
     "exception": false,
     "start_time": "2022-11-02T12:49:14.228973",
     "status": "completed"
    },
    "tags": []
   },
   "source": [
    "# **Homepage**"
   ]
  },
  {
   "cell_type": "code",
   "execution_count": 48,
   "id": "2cc99617",
   "metadata": {
    "execution": {
     "iopub.execute_input": "2022-11-02T12:49:14.365202Z",
     "iopub.status.busy": "2022-11-02T12:49:14.363968Z",
     "iopub.status.idle": "2022-11-02T12:49:14.370653Z",
     "shell.execute_reply": "2022-11-02T12:49:14.369850Z"
    },
    "papermill": {
     "duration": 0.054837,
     "end_time": "2022-11-02T12:49:14.372871",
     "exception": false,
     "start_time": "2022-11-02T12:49:14.318034",
     "status": "completed"
    },
    "tags": []
   },
   "outputs": [
    {
     "data": {
      "text/plain": [
       "'http://toystory.disney.com/toy-story'"
      ]
     },
     "execution_count": 48,
     "metadata": {},
     "output_type": "execute_result"
    }
   ],
   "source": [
    "df.homepage.values[0]"
   ]
  },
  {
   "cell_type": "code",
   "execution_count": 49,
   "id": "6a80d88a",
   "metadata": {
    "execution": {
     "iopub.execute_input": "2022-11-02T12:49:14.466043Z",
     "iopub.status.busy": "2022-11-02T12:49:14.464768Z",
     "iopub.status.idle": "2022-11-02T12:49:14.475343Z",
     "shell.execute_reply": "2022-11-02T12:49:14.474438Z"
    },
    "papermill": {
     "duration": 0.060323,
     "end_time": "2022-11-02T12:49:14.477696",
     "exception": false,
     "start_time": "2022-11-02T12:49:14.417373",
     "status": "completed"
    },
    "tags": []
   },
   "outputs": [
    {
     "data": {
      "text/plain": [
       "0        False\n",
       "1         True\n",
       "2         True\n",
       "3         True\n",
       "4         True\n",
       "         ...  \n",
       "45461    False\n",
       "45462     True\n",
       "45463     True\n",
       "45464     True\n",
       "45465     True\n",
       "Name: homepage, Length: 45466, dtype: bool"
      ]
     },
     "execution_count": 49,
     "metadata": {},
     "output_type": "execute_result"
    }
   ],
   "source": [
    "df.homepage.isnull()\n",
    "\n",
    "#true -> where there is a null value"
   ]
  },
  {
   "cell_type": "code",
   "execution_count": 50,
   "id": "44f40b3d",
   "metadata": {
    "execution": {
     "iopub.execute_input": "2022-11-02T12:49:14.570158Z",
     "iopub.status.busy": "2022-11-02T12:49:14.569391Z",
     "iopub.status.idle": "2022-11-02T12:49:14.581098Z",
     "shell.execute_reply": "2022-11-02T12:49:14.580031Z"
    },
    "papermill": {
     "duration": 0.060122,
     "end_time": "2022-11-02T12:49:14.583597",
     "exception": false,
     "start_time": "2022-11-02T12:49:14.523475",
     "status": "completed"
    },
    "tags": []
   },
   "outputs": [
    {
     "data": {
      "text/plain": [
       "0         True\n",
       "1        False\n",
       "2        False\n",
       "3        False\n",
       "4        False\n",
       "         ...  \n",
       "45461     True\n",
       "45462    False\n",
       "45463    False\n",
       "45464    False\n",
       "45465    False\n",
       "Name: homepage, Length: 45466, dtype: bool"
      ]
     },
     "execution_count": 50,
     "metadata": {},
     "output_type": "execute_result"
    }
   ],
   "source": [
    "~df.homepage.isnull()\n",
    "\n",
    "#true -> where there is home page present"
   ]
  },
  {
   "cell_type": "code",
   "execution_count": 51,
   "id": "c580844d",
   "metadata": {
    "execution": {
     "iopub.execute_input": "2022-11-02T12:49:14.675026Z",
     "iopub.status.busy": "2022-11-02T12:49:14.674476Z",
     "iopub.status.idle": "2022-11-02T12:49:14.683831Z",
     "shell.execute_reply": "2022-11-02T12:49:14.682621Z"
    },
    "papermill": {
     "duration": 0.057682,
     "end_time": "2022-11-02T12:49:14.686294",
     "exception": false,
     "start_time": "2022-11-02T12:49:14.628612",
     "status": "completed"
    },
    "tags": []
   },
   "outputs": [],
   "source": [
    "df[\"homepagePresent\"] = (~df.homepage.isnull())"
   ]
  },
  {
   "cell_type": "code",
   "execution_count": 52,
   "id": "031f0f30",
   "metadata": {
    "execution": {
     "iopub.execute_input": "2022-11-02T12:49:14.779033Z",
     "iopub.status.busy": "2022-11-02T12:49:14.778146Z",
     "iopub.status.idle": "2022-11-02T12:49:14.798042Z",
     "shell.execute_reply": "2022-11-02T12:49:14.796944Z"
    },
    "papermill": {
     "duration": 0.068828,
     "end_time": "2022-11-02T12:49:14.800684",
     "exception": false,
     "start_time": "2022-11-02T12:49:14.731856",
     "status": "completed"
    },
    "tags": []
   },
   "outputs": [],
   "source": [
    "df.drop(columns=['homepage'],inplace=True)"
   ]
  },
  {
   "cell_type": "code",
   "execution_count": 53,
   "id": "f6210c5f",
   "metadata": {
    "execution": {
     "iopub.execute_input": "2022-11-02T12:49:14.893063Z",
     "iopub.status.busy": "2022-11-02T12:49:14.892454Z",
     "iopub.status.idle": "2022-11-02T12:49:14.903665Z",
     "shell.execute_reply": "2022-11-02T12:49:14.902461Z"
    },
    "papermill": {
     "duration": 0.060194,
     "end_time": "2022-11-02T12:49:14.906332",
     "exception": false,
     "start_time": "2022-11-02T12:49:14.846138",
     "status": "completed"
    },
    "tags": []
   },
   "outputs": [],
   "source": [
    "df.homepagePresent = df.homepagePresent.map({True:1,False:0})"
   ]
  },
  {
   "cell_type": "code",
   "execution_count": 54,
   "id": "bcbb27fb",
   "metadata": {
    "execution": {
     "iopub.execute_input": "2022-11-02T12:49:14.997211Z",
     "iopub.status.busy": "2022-11-02T12:49:14.996783Z",
     "iopub.status.idle": "2022-11-02T12:49:15.028001Z",
     "shell.execute_reply": "2022-11-02T12:49:15.026818Z"
    },
    "papermill": {
     "duration": 0.07964,
     "end_time": "2022-11-02T12:49:15.030577",
     "exception": false,
     "start_time": "2022-11-02T12:49:14.950937",
     "status": "completed"
    },
    "tags": []
   },
   "outputs": [
    {
     "data": {
      "text/html": [
       "<div>\n",
       "<style scoped>\n",
       "    .dataframe tbody tr th:only-of-type {\n",
       "        vertical-align: middle;\n",
       "    }\n",
       "\n",
       "    .dataframe tbody tr th {\n",
       "        vertical-align: top;\n",
       "    }\n",
       "\n",
       "    .dataframe thead th {\n",
       "        text-align: right;\n",
       "    }\n",
       "</style>\n",
       "<table border=\"1\" class=\"dataframe\">\n",
       "  <thead>\n",
       "    <tr style=\"text-align: right;\">\n",
       "      <th></th>\n",
       "      <th>adult</th>\n",
       "      <th>budget</th>\n",
       "      <th>id</th>\n",
       "      <th>imdb_id</th>\n",
       "      <th>original_language</th>\n",
       "      <th>original_title</th>\n",
       "      <th>overview</th>\n",
       "      <th>popularity</th>\n",
       "      <th>poster_path</th>\n",
       "      <th>production_companies</th>\n",
       "      <th>...</th>\n",
       "      <th>Music</th>\n",
       "      <th>War</th>\n",
       "      <th>Foreign</th>\n",
       "      <th>Crime</th>\n",
       "      <th>Western</th>\n",
       "      <th>Animation</th>\n",
       "      <th>Adventure</th>\n",
       "      <th>Mystery</th>\n",
       "      <th>Comedy</th>\n",
       "      <th>homepagePresent</th>\n",
       "    </tr>\n",
       "  </thead>\n",
       "  <tbody>\n",
       "    <tr>\n",
       "      <th>0</th>\n",
       "      <td>0.0</td>\n",
       "      <td>30000000.0</td>\n",
       "      <td>862</td>\n",
       "      <td>tt0114709</td>\n",
       "      <td>en</td>\n",
       "      <td>Toy Story</td>\n",
       "      <td>Led by Woody, Andy's toys live happily in his ...</td>\n",
       "      <td>21.946943</td>\n",
       "      <td>/rhIRbceoE9lR4veEXuwCC2wARtG.jpg</td>\n",
       "      <td>[{'name': 'Pixar Animation Studios', 'id': 3}]</td>\n",
       "      <td>...</td>\n",
       "      <td>0.0</td>\n",
       "      <td>0.0</td>\n",
       "      <td>0.0</td>\n",
       "      <td>0.0</td>\n",
       "      <td>0.0</td>\n",
       "      <td>1.0</td>\n",
       "      <td>0.0</td>\n",
       "      <td>0.0</td>\n",
       "      <td>1.0</td>\n",
       "      <td>1</td>\n",
       "    </tr>\n",
       "    <tr>\n",
       "      <th>1</th>\n",
       "      <td>0.0</td>\n",
       "      <td>65000000.0</td>\n",
       "      <td>8844</td>\n",
       "      <td>tt0113497</td>\n",
       "      <td>en</td>\n",
       "      <td>Jumanji</td>\n",
       "      <td>When siblings Judy and Peter discover an encha...</td>\n",
       "      <td>17.015539</td>\n",
       "      <td>/vzmL6fP7aPKNKPRTFnZmiUfciyV.jpg</td>\n",
       "      <td>[{'name': 'TriStar Pictures', 'id': 559}, {'na...</td>\n",
       "      <td>...</td>\n",
       "      <td>0.0</td>\n",
       "      <td>0.0</td>\n",
       "      <td>0.0</td>\n",
       "      <td>0.0</td>\n",
       "      <td>0.0</td>\n",
       "      <td>0.0</td>\n",
       "      <td>1.0</td>\n",
       "      <td>0.0</td>\n",
       "      <td>0.0</td>\n",
       "      <td>0</td>\n",
       "    </tr>\n",
       "    <tr>\n",
       "      <th>2</th>\n",
       "      <td>0.0</td>\n",
       "      <td>0.0</td>\n",
       "      <td>15602</td>\n",
       "      <td>tt0113228</td>\n",
       "      <td>en</td>\n",
       "      <td>Grumpier Old Men</td>\n",
       "      <td>A family wedding reignites the ancient feud be...</td>\n",
       "      <td>11.7129</td>\n",
       "      <td>/6ksm1sjKMFLbO7UY2i6G1ju9SML.jpg</td>\n",
       "      <td>[{'name': 'Warner Bros.', 'id': 6194}, {'name'...</td>\n",
       "      <td>...</td>\n",
       "      <td>0.0</td>\n",
       "      <td>0.0</td>\n",
       "      <td>0.0</td>\n",
       "      <td>0.0</td>\n",
       "      <td>0.0</td>\n",
       "      <td>0.0</td>\n",
       "      <td>0.0</td>\n",
       "      <td>0.0</td>\n",
       "      <td>1.0</td>\n",
       "      <td>0</td>\n",
       "    </tr>\n",
       "    <tr>\n",
       "      <th>3</th>\n",
       "      <td>0.0</td>\n",
       "      <td>16000000.0</td>\n",
       "      <td>31357</td>\n",
       "      <td>tt0114885</td>\n",
       "      <td>en</td>\n",
       "      <td>Waiting to Exhale</td>\n",
       "      <td>Cheated on, mistreated and stepped on, the wom...</td>\n",
       "      <td>3.859495</td>\n",
       "      <td>/16XOMpEaLWkrcPqSQqhTmeJuqQl.jpg</td>\n",
       "      <td>[{'name': 'Twentieth Century Fox Film Corporat...</td>\n",
       "      <td>...</td>\n",
       "      <td>0.0</td>\n",
       "      <td>0.0</td>\n",
       "      <td>0.0</td>\n",
       "      <td>0.0</td>\n",
       "      <td>0.0</td>\n",
       "      <td>0.0</td>\n",
       "      <td>0.0</td>\n",
       "      <td>0.0</td>\n",
       "      <td>1.0</td>\n",
       "      <td>0</td>\n",
       "    </tr>\n",
       "    <tr>\n",
       "      <th>4</th>\n",
       "      <td>0.0</td>\n",
       "      <td>0.0</td>\n",
       "      <td>11862</td>\n",
       "      <td>tt0113041</td>\n",
       "      <td>en</td>\n",
       "      <td>Father of the Bride Part II</td>\n",
       "      <td>Just when George Banks has recovered from his ...</td>\n",
       "      <td>8.387519</td>\n",
       "      <td>/e64sOI48hQXyru7naBFyssKFxVd.jpg</td>\n",
       "      <td>[{'name': 'Sandollar Productions', 'id': 5842}...</td>\n",
       "      <td>...</td>\n",
       "      <td>0.0</td>\n",
       "      <td>0.0</td>\n",
       "      <td>0.0</td>\n",
       "      <td>0.0</td>\n",
       "      <td>0.0</td>\n",
       "      <td>0.0</td>\n",
       "      <td>0.0</td>\n",
       "      <td>0.0</td>\n",
       "      <td>1.0</td>\n",
       "      <td>0</td>\n",
       "    </tr>\n",
       "  </tbody>\n",
       "</table>\n",
       "<p>5 rows × 43 columns</p>\n",
       "</div>"
      ],
      "text/plain": [
       "   adult      budget     id    imdb_id original_language  \\\n",
       "0    0.0  30000000.0    862  tt0114709                en   \n",
       "1    0.0  65000000.0   8844  tt0113497                en   \n",
       "2    0.0         0.0  15602  tt0113228                en   \n",
       "3    0.0  16000000.0  31357  tt0114885                en   \n",
       "4    0.0         0.0  11862  tt0113041                en   \n",
       "\n",
       "                original_title  \\\n",
       "0                    Toy Story   \n",
       "1                      Jumanji   \n",
       "2             Grumpier Old Men   \n",
       "3            Waiting to Exhale   \n",
       "4  Father of the Bride Part II   \n",
       "\n",
       "                                            overview popularity  \\\n",
       "0  Led by Woody, Andy's toys live happily in his ...  21.946943   \n",
       "1  When siblings Judy and Peter discover an encha...  17.015539   \n",
       "2  A family wedding reignites the ancient feud be...    11.7129   \n",
       "3  Cheated on, mistreated and stepped on, the wom...   3.859495   \n",
       "4  Just when George Banks has recovered from his ...   8.387519   \n",
       "\n",
       "                        poster_path  \\\n",
       "0  /rhIRbceoE9lR4veEXuwCC2wARtG.jpg   \n",
       "1  /vzmL6fP7aPKNKPRTFnZmiUfciyV.jpg   \n",
       "2  /6ksm1sjKMFLbO7UY2i6G1ju9SML.jpg   \n",
       "3  /16XOMpEaLWkrcPqSQqhTmeJuqQl.jpg   \n",
       "4  /e64sOI48hQXyru7naBFyssKFxVd.jpg   \n",
       "\n",
       "                                production_companies  ... Music  War  Foreign  \\\n",
       "0     [{'name': 'Pixar Animation Studios', 'id': 3}]  ...   0.0  0.0      0.0   \n",
       "1  [{'name': 'TriStar Pictures', 'id': 559}, {'na...  ...   0.0  0.0      0.0   \n",
       "2  [{'name': 'Warner Bros.', 'id': 6194}, {'name'...  ...   0.0  0.0      0.0   \n",
       "3  [{'name': 'Twentieth Century Fox Film Corporat...  ...   0.0  0.0      0.0   \n",
       "4  [{'name': 'Sandollar Productions', 'id': 5842}...  ...   0.0  0.0      0.0   \n",
       "\n",
       "   Crime Western Animation Adventure Mystery Comedy  homepagePresent  \n",
       "0    0.0     0.0       1.0       0.0     0.0    1.0                1  \n",
       "1    0.0     0.0       0.0       1.0     0.0    0.0                0  \n",
       "2    0.0     0.0       0.0       0.0     0.0    1.0                0  \n",
       "3    0.0     0.0       0.0       0.0     0.0    1.0                0  \n",
       "4    0.0     0.0       0.0       0.0     0.0    1.0                0  \n",
       "\n",
       "[5 rows x 43 columns]"
      ]
     },
     "execution_count": 54,
     "metadata": {},
     "output_type": "execute_result"
    }
   ],
   "source": [
    "df.head()"
   ]
  },
  {
   "cell_type": "markdown",
   "id": "b6c76ed9",
   "metadata": {
    "papermill": {
     "duration": 0.044363,
     "end_time": "2022-11-02T12:49:15.120017",
     "exception": false,
     "start_time": "2022-11-02T12:49:15.075654",
     "status": "completed"
    },
    "tags": []
   },
   "source": [
    "# **Id**"
   ]
  },
  {
   "cell_type": "code",
   "execution_count": 55,
   "id": "b0305c98",
   "metadata": {
    "execution": {
     "iopub.execute_input": "2022-11-02T12:49:15.212302Z",
     "iopub.status.busy": "2022-11-02T12:49:15.211037Z",
     "iopub.status.idle": "2022-11-02T12:49:15.219007Z",
     "shell.execute_reply": "2022-11-02T12:49:15.217742Z"
    },
    "papermill": {
     "duration": 0.056848,
     "end_time": "2022-11-02T12:49:15.221974",
     "exception": false,
     "start_time": "2022-11-02T12:49:15.165126",
     "status": "completed"
    },
    "tags": []
   },
   "outputs": [
    {
     "data": {
      "text/plain": [
       "(45466, 43)"
      ]
     },
     "execution_count": 55,
     "metadata": {},
     "output_type": "execute_result"
    }
   ],
   "source": [
    "df.shape"
   ]
  },
  {
   "cell_type": "code",
   "execution_count": 56,
   "id": "141c3c2e",
   "metadata": {
    "execution": {
     "iopub.execute_input": "2022-11-02T12:49:15.320439Z",
     "iopub.status.busy": "2022-11-02T12:49:15.319972Z",
     "iopub.status.idle": "2022-11-02T12:49:15.344606Z",
     "shell.execute_reply": "2022-11-02T12:49:15.342943Z"
    },
    "papermill": {
     "duration": 0.079683,
     "end_time": "2022-11-02T12:49:15.347511",
     "exception": false,
     "start_time": "2022-11-02T12:49:15.267828",
     "status": "completed"
    },
    "tags": []
   },
   "outputs": [
    {
     "data": {
      "text/plain": [
       "45434"
      ]
     },
     "execution_count": 56,
     "metadata": {},
     "output_type": "execute_result"
    }
   ],
   "source": [
    "len(df.id.unique())"
   ]
  },
  {
   "cell_type": "code",
   "execution_count": 57,
   "id": "e5daa862",
   "metadata": {
    "execution": {
     "iopub.execute_input": "2022-11-02T12:49:15.451336Z",
     "iopub.status.busy": "2022-11-02T12:49:15.450490Z",
     "iopub.status.idle": "2022-11-02T12:49:15.469013Z",
     "shell.execute_reply": "2022-11-02T12:49:15.467806Z"
    },
    "papermill": {
     "duration": 0.069025,
     "end_time": "2022-11-02T12:49:15.471593",
     "exception": false,
     "start_time": "2022-11-02T12:49:15.402568",
     "status": "completed"
    },
    "tags": []
   },
   "outputs": [
    {
     "data": {
      "text/plain": [
       "32"
      ]
     },
     "execution_count": 57,
     "metadata": {},
     "output_type": "execute_result"
    }
   ],
   "source": [
    "#difference between movies and unique ids\n",
    "\n",
    "(df.shape[0]) - len(df.id.unique())"
   ]
  },
  {
   "cell_type": "code",
   "execution_count": 58,
   "id": "c0de6083",
   "metadata": {
    "execution": {
     "iopub.execute_input": "2022-11-02T12:49:15.574777Z",
     "iopub.status.busy": "2022-11-02T12:49:15.574085Z",
     "iopub.status.idle": "2022-11-02T12:49:15.620345Z",
     "shell.execute_reply": "2022-11-02T12:49:15.618978Z"
    },
    "papermill": {
     "duration": 0.099181,
     "end_time": "2022-11-02T12:49:15.623175",
     "exception": false,
     "start_time": "2022-11-02T12:49:15.523994",
     "status": "completed"
    },
    "tags": []
   },
   "outputs": [],
   "source": [
    "# delete the rows which has id column to be the same\n",
    "\n",
    "df.drop_duplicates(subset = 'id',inplace=True)"
   ]
  },
  {
   "cell_type": "code",
   "execution_count": 59,
   "id": "0b4f199e",
   "metadata": {
    "execution": {
     "iopub.execute_input": "2022-11-02T12:49:15.738949Z",
     "iopub.status.busy": "2022-11-02T12:49:15.738196Z",
     "iopub.status.idle": "2022-11-02T12:49:15.763362Z",
     "shell.execute_reply": "2022-11-02T12:49:15.762162Z"
    },
    "papermill": {
     "duration": 0.087625,
     "end_time": "2022-11-02T12:49:15.766003",
     "exception": false,
     "start_time": "2022-11-02T12:49:15.678378",
     "status": "completed"
    },
    "tags": []
   },
   "outputs": [
    {
     "data": {
      "text/plain": [
       "0"
      ]
     },
     "execution_count": 59,
     "metadata": {},
     "output_type": "execute_result"
    }
   ],
   "source": [
    "#difference between movies and unique ids\n",
    "\n",
    "(df.shape[0]) - len(df.id.unique())"
   ]
  },
  {
   "cell_type": "code",
   "execution_count": 60,
   "id": "3e35044e",
   "metadata": {
    "execution": {
     "iopub.execute_input": "2022-11-02T12:49:15.863243Z",
     "iopub.status.busy": "2022-11-02T12:49:15.862300Z",
     "iopub.status.idle": "2022-11-02T12:49:15.874976Z",
     "shell.execute_reply": "2022-11-02T12:49:15.873889Z"
    },
    "papermill": {
     "duration": 0.064158,
     "end_time": "2022-11-02T12:49:15.877510",
     "exception": false,
     "start_time": "2022-11-02T12:49:15.813352",
     "status": "completed"
    },
    "tags": []
   },
   "outputs": [
    {
     "data": {
      "text/plain": [
       "1"
      ]
     },
     "execution_count": 60,
     "metadata": {},
     "output_type": "execute_result"
    }
   ],
   "source": [
    "df.id.isnull().sum()"
   ]
  },
  {
   "cell_type": "code",
   "execution_count": 61,
   "id": "6a03e7f7",
   "metadata": {
    "execution": {
     "iopub.execute_input": "2022-11-02T12:49:15.974491Z",
     "iopub.status.busy": "2022-11-02T12:49:15.973550Z",
     "iopub.status.idle": "2022-11-02T12:49:16.013815Z",
     "shell.execute_reply": "2022-11-02T12:49:16.012660Z"
    },
    "papermill": {
     "duration": 0.091739,
     "end_time": "2022-11-02T12:49:16.016497",
     "exception": false,
     "start_time": "2022-11-02T12:49:15.924758",
     "status": "completed"
    },
    "tags": []
   },
   "outputs": [],
   "source": [
    "df.dropna(subset = ['id'],inplace=True)"
   ]
  },
  {
   "cell_type": "code",
   "execution_count": 62,
   "id": "9c868d8e",
   "metadata": {
    "execution": {
     "iopub.execute_input": "2022-11-02T12:49:16.118884Z",
     "iopub.status.busy": "2022-11-02T12:49:16.118507Z",
     "iopub.status.idle": "2022-11-02T12:49:16.129242Z",
     "shell.execute_reply": "2022-11-02T12:49:16.128329Z"
    },
    "papermill": {
     "duration": 0.061786,
     "end_time": "2022-11-02T12:49:16.131653",
     "exception": false,
     "start_time": "2022-11-02T12:49:16.069867",
     "status": "completed"
    },
    "tags": []
   },
   "outputs": [
    {
     "data": {
      "text/plain": [
       "0"
      ]
     },
     "execution_count": 62,
     "metadata": {},
     "output_type": "execute_result"
    }
   ],
   "source": [
    "df.id.isnull().sum()"
   ]
  },
  {
   "cell_type": "code",
   "execution_count": 63,
   "id": "7d532467",
   "metadata": {
    "execution": {
     "iopub.execute_input": "2022-11-02T12:49:16.229021Z",
     "iopub.status.busy": "2022-11-02T12:49:16.228190Z",
     "iopub.status.idle": "2022-11-02T12:49:16.235880Z",
     "shell.execute_reply": "2022-11-02T12:49:16.234658Z"
    },
    "papermill": {
     "duration": 0.060119,
     "end_time": "2022-11-02T12:49:16.238734",
     "exception": false,
     "start_time": "2022-11-02T12:49:16.178615",
     "status": "completed"
    },
    "tags": []
   },
   "outputs": [
    {
     "data": {
      "text/plain": [
       "(45433, 43)"
      ]
     },
     "execution_count": 63,
     "metadata": {},
     "output_type": "execute_result"
    }
   ],
   "source": [
    "df.shape"
   ]
  },
  {
   "cell_type": "code",
   "execution_count": 64,
   "id": "28428144",
   "metadata": {
    "execution": {
     "iopub.execute_input": "2022-11-02T12:49:16.338682Z",
     "iopub.status.busy": "2022-11-02T12:49:16.337850Z",
     "iopub.status.idle": "2022-11-02T12:49:16.345924Z",
     "shell.execute_reply": "2022-11-02T12:49:16.345101Z"
    },
    "papermill": {
     "duration": 0.057688,
     "end_time": "2022-11-02T12:49:16.348144",
     "exception": false,
     "start_time": "2022-11-02T12:49:16.290456",
     "status": "completed"
    },
    "tags": []
   },
   "outputs": [
    {
     "data": {
      "text/plain": [
       "'862'"
      ]
     },
     "execution_count": 64,
     "metadata": {},
     "output_type": "execute_result"
    }
   ],
   "source": [
    "df.id[0]"
   ]
  },
  {
   "cell_type": "code",
   "execution_count": 65,
   "id": "f624d039",
   "metadata": {
    "execution": {
     "iopub.execute_input": "2022-11-02T12:49:16.442934Z",
     "iopub.status.busy": "2022-11-02T12:49:16.441445Z",
     "iopub.status.idle": "2022-11-02T12:49:16.448868Z",
     "shell.execute_reply": "2022-11-02T12:49:16.447704Z"
    },
    "papermill": {
     "duration": 0.056878,
     "end_time": "2022-11-02T12:49:16.451393",
     "exception": false,
     "start_time": "2022-11-02T12:49:16.394515",
     "status": "completed"
    },
    "tags": []
   },
   "outputs": [
    {
     "data": {
      "text/plain": [
       "dtype('O')"
      ]
     },
     "execution_count": 65,
     "metadata": {},
     "output_type": "execute_result"
    }
   ],
   "source": [
    "df.id.dtype"
   ]
  },
  {
   "cell_type": "code",
   "execution_count": 66,
   "id": "58e4b5c2",
   "metadata": {
    "execution": {
     "iopub.execute_input": "2022-11-02T12:49:16.546702Z",
     "iopub.status.busy": "2022-11-02T12:49:16.546240Z",
     "iopub.status.idle": "2022-11-02T12:49:16.567273Z",
     "shell.execute_reply": "2022-11-02T12:49:16.566405Z"
    },
    "papermill": {
     "duration": 0.071592,
     "end_time": "2022-11-02T12:49:16.569775",
     "exception": false,
     "start_time": "2022-11-02T12:49:16.498183",
     "status": "completed"
    },
    "tags": []
   },
   "outputs": [],
   "source": [
    "df.id = df.id.astype('int64')"
   ]
  },
  {
   "cell_type": "code",
   "execution_count": 67,
   "id": "f3376e7a",
   "metadata": {
    "execution": {
     "iopub.execute_input": "2022-11-02T12:49:16.665928Z",
     "iopub.status.busy": "2022-11-02T12:49:16.665256Z",
     "iopub.status.idle": "2022-11-02T12:49:16.672853Z",
     "shell.execute_reply": "2022-11-02T12:49:16.671681Z"
    },
    "papermill": {
     "duration": 0.058334,
     "end_time": "2022-11-02T12:49:16.675200",
     "exception": false,
     "start_time": "2022-11-02T12:49:16.616866",
     "status": "completed"
    },
    "tags": []
   },
   "outputs": [
    {
     "data": {
      "text/plain": [
       "dtype('int64')"
      ]
     },
     "execution_count": 67,
     "metadata": {},
     "output_type": "execute_result"
    }
   ],
   "source": [
    "df.id.dtype"
   ]
  },
  {
   "cell_type": "markdown",
   "id": "9c69878b",
   "metadata": {
    "papermill": {
     "duration": 0.047064,
     "end_time": "2022-11-02T12:49:16.768632",
     "exception": false,
     "start_time": "2022-11-02T12:49:16.721568",
     "status": "completed"
    },
    "tags": []
   },
   "source": [
    "# **imdb_id**"
   ]
  },
  {
   "cell_type": "code",
   "execution_count": 68,
   "id": "bf334961",
   "metadata": {
    "execution": {
     "iopub.execute_input": "2022-11-02T12:49:16.864682Z",
     "iopub.status.busy": "2022-11-02T12:49:16.864273Z",
     "iopub.status.idle": "2022-11-02T12:49:16.871582Z",
     "shell.execute_reply": "2022-11-02T12:49:16.870374Z"
    },
    "papermill": {
     "duration": 0.058493,
     "end_time": "2022-11-02T12:49:16.873887",
     "exception": false,
     "start_time": "2022-11-02T12:49:16.815394",
     "status": "completed"
    },
    "tags": []
   },
   "outputs": [
    {
     "data": {
      "text/plain": [
       "(45433, 43)"
      ]
     },
     "execution_count": 68,
     "metadata": {},
     "output_type": "execute_result"
    }
   ],
   "source": [
    "df.shape"
   ]
  },
  {
   "cell_type": "code",
   "execution_count": 69,
   "id": "34dc8109",
   "metadata": {
    "execution": {
     "iopub.execute_input": "2022-11-02T12:49:16.968544Z",
     "iopub.status.busy": "2022-11-02T12:49:16.967862Z",
     "iopub.status.idle": "2022-11-02T12:49:16.986111Z",
     "shell.execute_reply": "2022-11-02T12:49:16.984760Z"
    },
    "papermill": {
     "duration": 0.069051,
     "end_time": "2022-11-02T12:49:16.988559",
     "exception": false,
     "start_time": "2022-11-02T12:49:16.919508",
     "status": "completed"
    },
    "tags": []
   },
   "outputs": [
    {
     "data": {
      "text/plain": [
       "16"
      ]
     },
     "execution_count": 69,
     "metadata": {},
     "output_type": "execute_result"
    }
   ],
   "source": [
    "df.shape[0] - len(df.imdb_id.unique())"
   ]
  },
  {
   "cell_type": "code",
   "execution_count": 70,
   "id": "0bfb50b2",
   "metadata": {
    "execution": {
     "iopub.execute_input": "2022-11-02T12:49:17.084630Z",
     "iopub.status.busy": "2022-11-02T12:49:17.084185Z",
     "iopub.status.idle": "2022-11-02T12:49:17.126848Z",
     "shell.execute_reply": "2022-11-02T12:49:17.125653Z"
    },
    "papermill": {
     "duration": 0.094451,
     "end_time": "2022-11-02T12:49:17.129631",
     "exception": false,
     "start_time": "2022-11-02T12:49:17.035180",
     "status": "completed"
    },
    "tags": []
   },
   "outputs": [],
   "source": [
    "df.drop_duplicates(subset = 'imdb_id',inplace=True)"
   ]
  },
  {
   "cell_type": "code",
   "execution_count": 71,
   "id": "8823464d",
   "metadata": {
    "execution": {
     "iopub.execute_input": "2022-11-02T12:49:17.224733Z",
     "iopub.status.busy": "2022-11-02T12:49:17.224292Z",
     "iopub.status.idle": "2022-11-02T12:49:17.240269Z",
     "shell.execute_reply": "2022-11-02T12:49:17.239451Z"
    },
    "papermill": {
     "duration": 0.066299,
     "end_time": "2022-11-02T12:49:17.242468",
     "exception": false,
     "start_time": "2022-11-02T12:49:17.176169",
     "status": "completed"
    },
    "tags": []
   },
   "outputs": [
    {
     "data": {
      "text/plain": [
       "0"
      ]
     },
     "execution_count": 71,
     "metadata": {},
     "output_type": "execute_result"
    }
   ],
   "source": [
    "df.shape[0] - len(df.imdb_id.unique())"
   ]
  },
  {
   "cell_type": "code",
   "execution_count": 72,
   "id": "6da3e7ff",
   "metadata": {
    "execution": {
     "iopub.execute_input": "2022-11-02T12:49:17.336763Z",
     "iopub.status.busy": "2022-11-02T12:49:17.335698Z",
     "iopub.status.idle": "2022-11-02T12:49:17.343286Z",
     "shell.execute_reply": "2022-11-02T12:49:17.342212Z"
    },
    "papermill": {
     "duration": 0.0573,
     "end_time": "2022-11-02T12:49:17.345686",
     "exception": false,
     "start_time": "2022-11-02T12:49:17.288386",
     "status": "completed"
    },
    "tags": []
   },
   "outputs": [
    {
     "data": {
      "text/plain": [
       "(45417, 43)"
      ]
     },
     "execution_count": 72,
     "metadata": {},
     "output_type": "execute_result"
    }
   ],
   "source": [
    "df.shape"
   ]
  },
  {
   "cell_type": "code",
   "execution_count": 73,
   "id": "7d1c3407",
   "metadata": {
    "execution": {
     "iopub.execute_input": "2022-11-02T12:49:17.440820Z",
     "iopub.status.busy": "2022-11-02T12:49:17.440121Z",
     "iopub.status.idle": "2022-11-02T12:49:17.449910Z",
     "shell.execute_reply": "2022-11-02T12:49:17.448734Z"
    },
    "papermill": {
     "duration": 0.059783,
     "end_time": "2022-11-02T12:49:17.452253",
     "exception": false,
     "start_time": "2022-11-02T12:49:17.392470",
     "status": "completed"
    },
    "tags": []
   },
   "outputs": [
    {
     "data": {
      "text/plain": [
       "1"
      ]
     },
     "execution_count": 73,
     "metadata": {},
     "output_type": "execute_result"
    }
   ],
   "source": [
    "df.imdb_id.isnull().sum()"
   ]
  },
  {
   "cell_type": "code",
   "execution_count": 74,
   "id": "013ff8e3",
   "metadata": {
    "execution": {
     "iopub.execute_input": "2022-11-02T12:49:17.548580Z",
     "iopub.status.busy": "2022-11-02T12:49:17.547896Z",
     "iopub.status.idle": "2022-11-02T12:49:17.577626Z",
     "shell.execute_reply": "2022-11-02T12:49:17.576398Z"
    },
    "papermill": {
     "duration": 0.080524,
     "end_time": "2022-11-02T12:49:17.580372",
     "exception": false,
     "start_time": "2022-11-02T12:49:17.499848",
     "status": "completed"
    },
    "tags": []
   },
   "outputs": [],
   "source": [
    "df.dropna(subset = ['imdb_id'],inplace=True)"
   ]
  },
  {
   "cell_type": "code",
   "execution_count": 75,
   "id": "c842edc6",
   "metadata": {
    "execution": {
     "iopub.execute_input": "2022-11-02T12:49:17.675368Z",
     "iopub.status.busy": "2022-11-02T12:49:17.674105Z",
     "iopub.status.idle": "2022-11-02T12:49:17.685099Z",
     "shell.execute_reply": "2022-11-02T12:49:17.684020Z"
    },
    "papermill": {
     "duration": 0.060834,
     "end_time": "2022-11-02T12:49:17.687563",
     "exception": false,
     "start_time": "2022-11-02T12:49:17.626729",
     "status": "completed"
    },
    "tags": []
   },
   "outputs": [
    {
     "data": {
      "text/plain": [
       "0"
      ]
     },
     "execution_count": 75,
     "metadata": {},
     "output_type": "execute_result"
    }
   ],
   "source": [
    "df.imdb_id.isnull().sum()"
   ]
  },
  {
   "cell_type": "code",
   "execution_count": 76,
   "id": "8a08d52a",
   "metadata": {
    "execution": {
     "iopub.execute_input": "2022-11-02T12:49:17.784596Z",
     "iopub.status.busy": "2022-11-02T12:49:17.784166Z",
     "iopub.status.idle": "2022-11-02T12:49:17.791382Z",
     "shell.execute_reply": "2022-11-02T12:49:17.790023Z"
    },
    "papermill": {
     "duration": 0.059799,
     "end_time": "2022-11-02T12:49:17.794040",
     "exception": false,
     "start_time": "2022-11-02T12:49:17.734241",
     "status": "completed"
    },
    "tags": []
   },
   "outputs": [
    {
     "data": {
      "text/plain": [
       "(45416, 43)"
      ]
     },
     "execution_count": 76,
     "metadata": {},
     "output_type": "execute_result"
    }
   ],
   "source": [
    "df.shape"
   ]
  },
  {
   "cell_type": "markdown",
   "id": "8f013ee2",
   "metadata": {
    "papermill": {
     "duration": 0.046363,
     "end_time": "2022-11-02T12:49:17.887447",
     "exception": false,
     "start_time": "2022-11-02T12:49:17.841084",
     "status": "completed"
    },
    "tags": []
   },
   "source": [
    "# **Original Language**"
   ]
  },
  {
   "cell_type": "code",
   "execution_count": 77,
   "id": "e8f81ea8",
   "metadata": {
    "execution": {
     "iopub.execute_input": "2022-11-02T12:49:17.983863Z",
     "iopub.status.busy": "2022-11-02T12:49:17.982740Z",
     "iopub.status.idle": "2022-11-02T12:49:17.991615Z",
     "shell.execute_reply": "2022-11-02T12:49:17.990209Z"
    },
    "papermill": {
     "duration": 0.059968,
     "end_time": "2022-11-02T12:49:17.994257",
     "exception": false,
     "start_time": "2022-11-02T12:49:17.934289",
     "status": "completed"
    },
    "tags": []
   },
   "outputs": [
    {
     "data": {
      "text/plain": [
       "'en'"
      ]
     },
     "execution_count": 77,
     "metadata": {},
     "output_type": "execute_result"
    }
   ],
   "source": [
    "df.original_language.values[0]"
   ]
  },
  {
   "cell_type": "code",
   "execution_count": 78,
   "id": "61ffb67f",
   "metadata": {
    "execution": {
     "iopub.execute_input": "2022-11-02T12:49:18.093160Z",
     "iopub.status.busy": "2022-11-02T12:49:18.092751Z",
     "iopub.status.idle": "2022-11-02T12:49:18.103261Z",
     "shell.execute_reply": "2022-11-02T12:49:18.102054Z"
    },
    "papermill": {
     "duration": 0.062652,
     "end_time": "2022-11-02T12:49:18.105720",
     "exception": false,
     "start_time": "2022-11-02T12:49:18.043068",
     "status": "completed"
    },
    "tags": []
   },
   "outputs": [
    {
     "data": {
      "text/plain": [
       "90"
      ]
     },
     "execution_count": 78,
     "metadata": {},
     "output_type": "execute_result"
    }
   ],
   "source": [
    "len(df.original_language.unique())"
   ]
  },
  {
   "cell_type": "code",
   "execution_count": 79,
   "id": "4b2bf7e6",
   "metadata": {
    "execution": {
     "iopub.execute_input": "2022-11-02T12:49:18.202196Z",
     "iopub.status.busy": "2022-11-02T12:49:18.201822Z",
     "iopub.status.idle": "2022-11-02T12:49:18.213618Z",
     "shell.execute_reply": "2022-11-02T12:49:18.212161Z"
    },
    "papermill": {
     "duration": 0.063065,
     "end_time": "2022-11-02T12:49:18.216283",
     "exception": false,
     "start_time": "2022-11-02T12:49:18.153218",
     "status": "completed"
    },
    "tags": []
   },
   "outputs": [
    {
     "data": {
      "text/plain": [
       "en    32238\n",
       "fr     2435\n",
       "it     1529\n",
       "ja     1346\n",
       "de     1079\n",
       "      ...  \n",
       "ay        1\n",
       "rw        1\n",
       "cy        1\n",
       "tg        1\n",
       "si        1\n",
       "Name: original_language, Length: 89, dtype: int64"
      ]
     },
     "execution_count": 79,
     "metadata": {},
     "output_type": "execute_result"
    }
   ],
   "source": [
    "df.original_language.value_counts()"
   ]
  },
  {
   "cell_type": "code",
   "execution_count": 80,
   "id": "ec510dc8",
   "metadata": {
    "execution": {
     "iopub.execute_input": "2022-11-02T12:49:18.314032Z",
     "iopub.status.busy": "2022-11-02T12:49:18.313564Z",
     "iopub.status.idle": "2022-11-02T12:49:18.324723Z",
     "shell.execute_reply": "2022-11-02T12:49:18.323428Z"
    },
    "papermill": {
     "duration": 0.062993,
     "end_time": "2022-11-02T12:49:18.327254",
     "exception": false,
     "start_time": "2022-11-02T12:49:18.264261",
     "status": "completed"
    },
    "tags": []
   },
   "outputs": [
    {
     "data": {
      "text/plain": [
       "11"
      ]
     },
     "execution_count": 80,
     "metadata": {},
     "output_type": "execute_result"
    }
   ],
   "source": [
    "df.original_language.isnull().sum()"
   ]
  },
  {
   "cell_type": "code",
   "execution_count": 81,
   "id": "65a77076",
   "metadata": {
    "execution": {
     "iopub.execute_input": "2022-11-02T12:49:18.428656Z",
     "iopub.status.busy": "2022-11-02T12:49:18.428246Z",
     "iopub.status.idle": "2022-11-02T12:49:18.473027Z",
     "shell.execute_reply": "2022-11-02T12:49:18.471600Z"
    },
    "papermill": {
     "duration": 0.098471,
     "end_time": "2022-11-02T12:49:18.475837",
     "exception": false,
     "start_time": "2022-11-02T12:49:18.377366",
     "status": "completed"
    },
    "tags": []
   },
   "outputs": [
    {
     "data": {
      "text/html": [
       "<div>\n",
       "<style scoped>\n",
       "    .dataframe tbody tr th:only-of-type {\n",
       "        vertical-align: middle;\n",
       "    }\n",
       "\n",
       "    .dataframe tbody tr th {\n",
       "        vertical-align: top;\n",
       "    }\n",
       "\n",
       "    .dataframe thead th {\n",
       "        text-align: right;\n",
       "    }\n",
       "</style>\n",
       "<table border=\"1\" class=\"dataframe\">\n",
       "  <thead>\n",
       "    <tr style=\"text-align: right;\">\n",
       "      <th></th>\n",
       "      <th>adult</th>\n",
       "      <th>budget</th>\n",
       "      <th>id</th>\n",
       "      <th>imdb_id</th>\n",
       "      <th>original_language</th>\n",
       "      <th>original_title</th>\n",
       "      <th>overview</th>\n",
       "      <th>popularity</th>\n",
       "      <th>poster_path</th>\n",
       "      <th>production_companies</th>\n",
       "      <th>...</th>\n",
       "      <th>Music</th>\n",
       "      <th>War</th>\n",
       "      <th>Foreign</th>\n",
       "      <th>Crime</th>\n",
       "      <th>Western</th>\n",
       "      <th>Animation</th>\n",
       "      <th>Adventure</th>\n",
       "      <th>Mystery</th>\n",
       "      <th>Comedy</th>\n",
       "      <th>homepagePresent</th>\n",
       "    </tr>\n",
       "  </thead>\n",
       "  <tbody>\n",
       "    <tr>\n",
       "      <th>19574</th>\n",
       "      <td>0.0</td>\n",
       "      <td>0.0</td>\n",
       "      <td>283101</td>\n",
       "      <td>tt0429086</td>\n",
       "      <td>NaN</td>\n",
       "      <td>Shadowing the Third Man</td>\n",
       "      <td>Documentary about the production of The Third ...</td>\n",
       "      <td>0.017007</td>\n",
       "      <td>/xT9csxMKYbizRQgvNzCXJ67R7er.jpg</td>\n",
       "      <td>[{'name': 'StudioCanal', 'id': 694}, {'name': ...</td>\n",
       "      <td>...</td>\n",
       "      <td>0.0</td>\n",
       "      <td>0.0</td>\n",
       "      <td>0.0</td>\n",
       "      <td>0.0</td>\n",
       "      <td>0.0</td>\n",
       "      <td>0.0</td>\n",
       "      <td>0.0</td>\n",
       "      <td>0.0</td>\n",
       "      <td>0.0</td>\n",
       "      <td>0</td>\n",
       "    </tr>\n",
       "    <tr>\n",
       "      <th>21602</th>\n",
       "      <td>0.0</td>\n",
       "      <td>0.0</td>\n",
       "      <td>103902</td>\n",
       "      <td>tt0838231</td>\n",
       "      <td>NaN</td>\n",
       "      <td>Unfinished Sky</td>\n",
       "      <td>An Outback farmer takes in an Afghani woman wh...</td>\n",
       "      <td>0.359818</td>\n",
       "      <td>/vfaJuZF0ocVwBEDYZhoULGuVxrz.jpg</td>\n",
       "      <td>[{'name': 'New Holland Pictures', 'id': 10229}...</td>\n",
       "      <td>...</td>\n",
       "      <td>1.0</td>\n",
       "      <td>0.0</td>\n",
       "      <td>0.0</td>\n",
       "      <td>0.0</td>\n",
       "      <td>0.0</td>\n",
       "      <td>0.0</td>\n",
       "      <td>0.0</td>\n",
       "      <td>0.0</td>\n",
       "      <td>1.0</td>\n",
       "      <td>0</td>\n",
       "    </tr>\n",
       "    <tr>\n",
       "      <th>22832</th>\n",
       "      <td>0.0</td>\n",
       "      <td>0.0</td>\n",
       "      <td>359195</td>\n",
       "      <td>tt0053558</td>\n",
       "      <td>NaN</td>\n",
       "      <td>13 Fighting Men</td>\n",
       "      <td>A group of Union Army soldiers is charged with...</td>\n",
       "      <td>0.070647</td>\n",
       "      <td>/q5ADXvvzYtAOyrReIg1HckdPj62.jpg</td>\n",
       "      <td>[{'name': 'Associated Producers (API)', 'id': ...</td>\n",
       "      <td>...</td>\n",
       "      <td>0.0</td>\n",
       "      <td>0.0</td>\n",
       "      <td>0.0</td>\n",
       "      <td>0.0</td>\n",
       "      <td>0.0</td>\n",
       "      <td>0.0</td>\n",
       "      <td>0.0</td>\n",
       "      <td>0.0</td>\n",
       "      <td>0.0</td>\n",
       "      <td>0</td>\n",
       "    </tr>\n",
       "    <tr>\n",
       "      <th>32141</th>\n",
       "      <td>0.0</td>\n",
       "      <td>0.0</td>\n",
       "      <td>147050</td>\n",
       "      <td>tt0122580</td>\n",
       "      <td>NaN</td>\n",
       "      <td>Lambchops</td>\n",
       "      <td>George and Gracie enter an elegant drawing roo...</td>\n",
       "      <td>0.073418</td>\n",
       "      <td>/upQByEwY58sHWdL3RZm7kmRc44s.jpg</td>\n",
       "      <td>[{'name': 'Warner Bros.', 'id': 6194}, {'name'...</td>\n",
       "      <td>...</td>\n",
       "      <td>0.0</td>\n",
       "      <td>0.0</td>\n",
       "      <td>0.0</td>\n",
       "      <td>0.0</td>\n",
       "      <td>0.0</td>\n",
       "      <td>0.0</td>\n",
       "      <td>0.0</td>\n",
       "      <td>0.0</td>\n",
       "      <td>1.0</td>\n",
       "      <td>0</td>\n",
       "    </tr>\n",
       "    <tr>\n",
       "      <th>37407</th>\n",
       "      <td>0.0</td>\n",
       "      <td>0.0</td>\n",
       "      <td>257095</td>\n",
       "      <td>tt0225145</td>\n",
       "      <td>NaN</td>\n",
       "      <td>Bajaja</td>\n",
       "      <td>The first fairy tale transformed into a full-l...</td>\n",
       "      <td>0.036841</td>\n",
       "      <td>/12wf2EkrPGxNzRbNyoau8GIFp3M.jpg</td>\n",
       "      <td>[{'name': 'Ceskoslovenský Státní Film', 'id': ...</td>\n",
       "      <td>...</td>\n",
       "      <td>0.0</td>\n",
       "      <td>0.0</td>\n",
       "      <td>1.0</td>\n",
       "      <td>0.0</td>\n",
       "      <td>0.0</td>\n",
       "      <td>1.0</td>\n",
       "      <td>0.0</td>\n",
       "      <td>0.0</td>\n",
       "      <td>1.0</td>\n",
       "      <td>0</td>\n",
       "    </tr>\n",
       "    <tr>\n",
       "      <th>41047</th>\n",
       "      <td>0.0</td>\n",
       "      <td>0.0</td>\n",
       "      <td>332742</td>\n",
       "      <td>tt4432912</td>\n",
       "      <td>NaN</td>\n",
       "      <td>Song of Lahore</td>\n",
       "      <td>Until the late 1970s, the Pakistani city of La...</td>\n",
       "      <td>0.373688</td>\n",
       "      <td>/6iJqscs2xQLKKvrTCWmlHd9rf3W.jpg</td>\n",
       "      <td>[]</td>\n",
       "      <td>...</td>\n",
       "      <td>0.0</td>\n",
       "      <td>0.0</td>\n",
       "      <td>0.0</td>\n",
       "      <td>0.0</td>\n",
       "      <td>0.0</td>\n",
       "      <td>0.0</td>\n",
       "      <td>0.0</td>\n",
       "      <td>0.0</td>\n",
       "      <td>1.0</td>\n",
       "      <td>0</td>\n",
       "    </tr>\n",
       "    <tr>\n",
       "      <th>41872</th>\n",
       "      <td>0.0</td>\n",
       "      <td>0.0</td>\n",
       "      <td>144410</td>\n",
       "      <td>tt0154152</td>\n",
       "      <td>NaN</td>\n",
       "      <td>Annabelle Serpentine Dance</td>\n",
       "      <td>Two dancers perform in succession facing a sta...</td>\n",
       "      <td>1.58434</td>\n",
       "      <td>/l7Lzvah6PL6vdMF5p0elKiyYqp9.jpg</td>\n",
       "      <td>[{'name': 'Edison Manufacturing Company', 'id'...</td>\n",
       "      <td>...</td>\n",
       "      <td>0.0</td>\n",
       "      <td>0.0</td>\n",
       "      <td>0.0</td>\n",
       "      <td>0.0</td>\n",
       "      <td>0.0</td>\n",
       "      <td>0.0</td>\n",
       "      <td>0.0</td>\n",
       "      <td>0.0</td>\n",
       "      <td>0.0</td>\n",
       "      <td>0</td>\n",
       "    </tr>\n",
       "    <tr>\n",
       "      <th>44057</th>\n",
       "      <td>0.0</td>\n",
       "      <td>0.0</td>\n",
       "      <td>380438</td>\n",
       "      <td>tt0298411</td>\n",
       "      <td>NaN</td>\n",
       "      <td>Lettre d'une inconnue</td>\n",
       "      <td>NaN</td>\n",
       "      <td>0.001283</td>\n",
       "      <td>/gk32ZWTYgfTXctEyCDAWeMcxo7X.jpg</td>\n",
       "      <td>[]</td>\n",
       "      <td>...</td>\n",
       "      <td>0.0</td>\n",
       "      <td>0.0</td>\n",
       "      <td>0.0</td>\n",
       "      <td>0.0</td>\n",
       "      <td>0.0</td>\n",
       "      <td>0.0</td>\n",
       "      <td>0.0</td>\n",
       "      <td>0.0</td>\n",
       "      <td>0.0</td>\n",
       "      <td>0</td>\n",
       "    </tr>\n",
       "    <tr>\n",
       "      <th>44410</th>\n",
       "      <td>0.0</td>\n",
       "      <td>0.0</td>\n",
       "      <td>381096</td>\n",
       "      <td>tt5333518</td>\n",
       "      <td>NaN</td>\n",
       "      <td>Garn</td>\n",
       "      <td>The traditional crafts of crochet and knitting...</td>\n",
       "      <td>0.067624</td>\n",
       "      <td>/olEOCEGTW15WBPC0UnmLjokrmNF.jpg</td>\n",
       "      <td>[]</td>\n",
       "      <td>...</td>\n",
       "      <td>0.0</td>\n",
       "      <td>0.0</td>\n",
       "      <td>0.0</td>\n",
       "      <td>0.0</td>\n",
       "      <td>0.0</td>\n",
       "      <td>0.0</td>\n",
       "      <td>0.0</td>\n",
       "      <td>0.0</td>\n",
       "      <td>0.0</td>\n",
       "      <td>0</td>\n",
       "    </tr>\n",
       "    <tr>\n",
       "      <th>44576</th>\n",
       "      <td>0.0</td>\n",
       "      <td>0.0</td>\n",
       "      <td>381525</td>\n",
       "      <td>tt5376720</td>\n",
       "      <td>NaN</td>\n",
       "      <td>WiNWiN</td>\n",
       "      <td>American investment fund buys Austrian compani...</td>\n",
       "      <td>0.030766</td>\n",
       "      <td>/pErCRQoc3nt8lCsExd3fFYgyBox.jpg</td>\n",
       "      <td>[]</td>\n",
       "      <td>...</td>\n",
       "      <td>0.0</td>\n",
       "      <td>1.0</td>\n",
       "      <td>0.0</td>\n",
       "      <td>0.0</td>\n",
       "      <td>0.0</td>\n",
       "      <td>0.0</td>\n",
       "      <td>1.0</td>\n",
       "      <td>0.0</td>\n",
       "      <td>0.0</td>\n",
       "      <td>0</td>\n",
       "    </tr>\n",
       "    <tr>\n",
       "      <th>44655</th>\n",
       "      <td>0.0</td>\n",
       "      <td>0.0</td>\n",
       "      <td>104473</td>\n",
       "      <td>tt0223958</td>\n",
       "      <td>NaN</td>\n",
       "      <td>La prise de Tournavos</td>\n",
       "      <td>Three military men, seen inside a fortificatio...</td>\n",
       "      <td>0.471325</td>\n",
       "      <td>/4VmQBE9qBRxCE3gHtSAa5AUsURq.jpg</td>\n",
       "      <td>[{'name': 'Star-Film', 'id': 7159}]</td>\n",
       "      <td>...</td>\n",
       "      <td>0.0</td>\n",
       "      <td>0.0</td>\n",
       "      <td>0.0</td>\n",
       "      <td>0.0</td>\n",
       "      <td>0.0</td>\n",
       "      <td>0.0</td>\n",
       "      <td>0.0</td>\n",
       "      <td>1.0</td>\n",
       "      <td>0.0</td>\n",
       "      <td>0</td>\n",
       "    </tr>\n",
       "  </tbody>\n",
       "</table>\n",
       "<p>11 rows × 43 columns</p>\n",
       "</div>"
      ],
      "text/plain": [
       "       adult  budget      id    imdb_id original_language  \\\n",
       "19574    0.0     0.0  283101  tt0429086               NaN   \n",
       "21602    0.0     0.0  103902  tt0838231               NaN   \n",
       "22832    0.0     0.0  359195  tt0053558               NaN   \n",
       "32141    0.0     0.0  147050  tt0122580               NaN   \n",
       "37407    0.0     0.0  257095  tt0225145               NaN   \n",
       "41047    0.0     0.0  332742  tt4432912               NaN   \n",
       "41872    0.0     0.0  144410  tt0154152               NaN   \n",
       "44057    0.0     0.0  380438  tt0298411               NaN   \n",
       "44410    0.0     0.0  381096  tt5333518               NaN   \n",
       "44576    0.0     0.0  381525  tt5376720               NaN   \n",
       "44655    0.0     0.0  104473  tt0223958               NaN   \n",
       "\n",
       "                   original_title  \\\n",
       "19574     Shadowing the Third Man   \n",
       "21602              Unfinished Sky   \n",
       "22832             13 Fighting Men   \n",
       "32141                   Lambchops   \n",
       "37407                      Bajaja   \n",
       "41047              Song of Lahore   \n",
       "41872  Annabelle Serpentine Dance   \n",
       "44057       Lettre d'une inconnue   \n",
       "44410                        Garn   \n",
       "44576                      WiNWiN   \n",
       "44655       La prise de Tournavos   \n",
       "\n",
       "                                                overview popularity  \\\n",
       "19574  Documentary about the production of The Third ...   0.017007   \n",
       "21602  An Outback farmer takes in an Afghani woman wh...   0.359818   \n",
       "22832  A group of Union Army soldiers is charged with...   0.070647   \n",
       "32141  George and Gracie enter an elegant drawing roo...   0.073418   \n",
       "37407  The first fairy tale transformed into a full-l...   0.036841   \n",
       "41047  Until the late 1970s, the Pakistani city of La...   0.373688   \n",
       "41872  Two dancers perform in succession facing a sta...    1.58434   \n",
       "44057                                                NaN   0.001283   \n",
       "44410  The traditional crafts of crochet and knitting...   0.067624   \n",
       "44576  American investment fund buys Austrian compani...   0.030766   \n",
       "44655  Three military men, seen inside a fortificatio...   0.471325   \n",
       "\n",
       "                            poster_path  \\\n",
       "19574  /xT9csxMKYbizRQgvNzCXJ67R7er.jpg   \n",
       "21602  /vfaJuZF0ocVwBEDYZhoULGuVxrz.jpg   \n",
       "22832  /q5ADXvvzYtAOyrReIg1HckdPj62.jpg   \n",
       "32141  /upQByEwY58sHWdL3RZm7kmRc44s.jpg   \n",
       "37407  /12wf2EkrPGxNzRbNyoau8GIFp3M.jpg   \n",
       "41047  /6iJqscs2xQLKKvrTCWmlHd9rf3W.jpg   \n",
       "41872  /l7Lzvah6PL6vdMF5p0elKiyYqp9.jpg   \n",
       "44057  /gk32ZWTYgfTXctEyCDAWeMcxo7X.jpg   \n",
       "44410  /olEOCEGTW15WBPC0UnmLjokrmNF.jpg   \n",
       "44576  /pErCRQoc3nt8lCsExd3fFYgyBox.jpg   \n",
       "44655  /4VmQBE9qBRxCE3gHtSAa5AUsURq.jpg   \n",
       "\n",
       "                                    production_companies  ... Music  War  \\\n",
       "19574  [{'name': 'StudioCanal', 'id': 694}, {'name': ...  ...   0.0  0.0   \n",
       "21602  [{'name': 'New Holland Pictures', 'id': 10229}...  ...   1.0  0.0   \n",
       "22832  [{'name': 'Associated Producers (API)', 'id': ...  ...   0.0  0.0   \n",
       "32141  [{'name': 'Warner Bros.', 'id': 6194}, {'name'...  ...   0.0  0.0   \n",
       "37407  [{'name': 'Ceskoslovenský Státní Film', 'id': ...  ...   0.0  0.0   \n",
       "41047                                                 []  ...   0.0  0.0   \n",
       "41872  [{'name': 'Edison Manufacturing Company', 'id'...  ...   0.0  0.0   \n",
       "44057                                                 []  ...   0.0  0.0   \n",
       "44410                                                 []  ...   0.0  0.0   \n",
       "44576                                                 []  ...   0.0  1.0   \n",
       "44655                [{'name': 'Star-Film', 'id': 7159}]  ...   0.0  0.0   \n",
       "\n",
       "       Foreign  Crime Western Animation Adventure Mystery Comedy  \\\n",
       "19574      0.0    0.0     0.0       0.0       0.0     0.0    0.0   \n",
       "21602      0.0    0.0     0.0       0.0       0.0     0.0    1.0   \n",
       "22832      0.0    0.0     0.0       0.0       0.0     0.0    0.0   \n",
       "32141      0.0    0.0     0.0       0.0       0.0     0.0    1.0   \n",
       "37407      1.0    0.0     0.0       1.0       0.0     0.0    1.0   \n",
       "41047      0.0    0.0     0.0       0.0       0.0     0.0    1.0   \n",
       "41872      0.0    0.0     0.0       0.0       0.0     0.0    0.0   \n",
       "44057      0.0    0.0     0.0       0.0       0.0     0.0    0.0   \n",
       "44410      0.0    0.0     0.0       0.0       0.0     0.0    0.0   \n",
       "44576      0.0    0.0     0.0       0.0       1.0     0.0    0.0   \n",
       "44655      0.0    0.0     0.0       0.0       0.0     1.0    0.0   \n",
       "\n",
       "       homepagePresent  \n",
       "19574                0  \n",
       "21602                0  \n",
       "22832                0  \n",
       "32141                0  \n",
       "37407                0  \n",
       "41047                0  \n",
       "41872                0  \n",
       "44057                0  \n",
       "44410                0  \n",
       "44576                0  \n",
       "44655                0  \n",
       "\n",
       "[11 rows x 43 columns]"
      ]
     },
     "execution_count": 81,
     "metadata": {},
     "output_type": "execute_result"
    }
   ],
   "source": [
    "df.loc[df.original_language.isnull(),:]"
   ]
  },
  {
   "cell_type": "code",
   "execution_count": 82,
   "id": "5b291046",
   "metadata": {
    "execution": {
     "iopub.execute_input": "2022-11-02T12:49:18.659061Z",
     "iopub.status.busy": "2022-11-02T12:49:18.658484Z",
     "iopub.status.idle": "2022-11-02T12:49:18.692638Z",
     "shell.execute_reply": "2022-11-02T12:49:18.690971Z"
    },
    "papermill": {
     "duration": 0.089925,
     "end_time": "2022-11-02T12:49:18.695438",
     "exception": false,
     "start_time": "2022-11-02T12:49:18.605513",
     "status": "completed"
    },
    "tags": []
   },
   "outputs": [],
   "source": [
    "df.dropna(subset=[\"original_language\"],inplace=True)"
   ]
  },
  {
   "cell_type": "code",
   "execution_count": 83,
   "id": "ef43a93c",
   "metadata": {
    "execution": {
     "iopub.execute_input": "2022-11-02T12:49:18.820149Z",
     "iopub.status.busy": "2022-11-02T12:49:18.819217Z",
     "iopub.status.idle": "2022-11-02T12:49:18.829577Z",
     "shell.execute_reply": "2022-11-02T12:49:18.827853Z"
    },
    "papermill": {
     "duration": 0.08592,
     "end_time": "2022-11-02T12:49:18.833892",
     "exception": false,
     "start_time": "2022-11-02T12:49:18.747972",
     "status": "completed"
    },
    "tags": []
   },
   "outputs": [
    {
     "data": {
      "text/plain": [
       "(45405, 43)"
      ]
     },
     "execution_count": 83,
     "metadata": {},
     "output_type": "execute_result"
    }
   ],
   "source": [
    "df.shape"
   ]
  },
  {
   "cell_type": "code",
   "execution_count": 84,
   "id": "186eeb91",
   "metadata": {
    "execution": {
     "iopub.execute_input": "2022-11-02T12:49:18.962622Z",
     "iopub.status.busy": "2022-11-02T12:49:18.962131Z",
     "iopub.status.idle": "2022-11-02T12:49:18.972187Z",
     "shell.execute_reply": "2022-11-02T12:49:18.970900Z"
    },
    "papermill": {
     "duration": 0.069266,
     "end_time": "2022-11-02T12:49:18.975341",
     "exception": false,
     "start_time": "2022-11-02T12:49:18.906075",
     "status": "completed"
    },
    "tags": []
   },
   "outputs": [
    {
     "data": {
      "text/plain": [
       "Index(['adult', 'budget', 'id', 'imdb_id', 'original_language',\n",
       "       'original_title', 'overview', 'popularity', 'poster_path',\n",
       "       'production_companies', 'production_countries', 'release_date',\n",
       "       'revenue', 'runtime', 'spoken_languages', 'status', 'tagline', 'title',\n",
       "       'video', 'vote_average', 'vote_count', 'collectionName', 'Romance',\n",
       "       'Drama', 'History', 'Thriller', 'Science Fiction', 'Family', 'Fantasy',\n",
       "       'Action', 'Horror', 'Documentary', 'TV Movie', 'Music', 'War',\n",
       "       'Foreign', 'Crime', 'Western', 'Animation', 'Adventure', 'Mystery',\n",
       "       'Comedy', 'homepagePresent'],\n",
       "      dtype='object')"
      ]
     },
     "execution_count": 84,
     "metadata": {},
     "output_type": "execute_result"
    }
   ],
   "source": [
    "df.columns"
   ]
  },
  {
   "cell_type": "markdown",
   "id": "c125ef6d",
   "metadata": {
    "papermill": {
     "duration": 0.051759,
     "end_time": "2022-11-02T12:49:19.084411",
     "exception": false,
     "start_time": "2022-11-02T12:49:19.032652",
     "status": "completed"
    },
    "tags": []
   },
   "source": [
    "# **Title**"
   ]
  },
  {
   "cell_type": "code",
   "execution_count": 85,
   "id": "756f52b4",
   "metadata": {
    "execution": {
     "iopub.execute_input": "2022-11-02T12:49:19.193651Z",
     "iopub.status.busy": "2022-11-02T12:49:19.193213Z",
     "iopub.status.idle": "2022-11-02T12:49:19.206430Z",
     "shell.execute_reply": "2022-11-02T12:49:19.205081Z"
    },
    "papermill": {
     "duration": 0.070929,
     "end_time": "2022-11-02T12:49:19.209046",
     "exception": false,
     "start_time": "2022-11-02T12:49:19.138117",
     "status": "completed"
    },
    "tags": []
   },
   "outputs": [
    {
     "data": {
      "text/plain": [
       "3"
      ]
     },
     "execution_count": 85,
     "metadata": {},
     "output_type": "execute_result"
    }
   ],
   "source": [
    "df.title.isnull().sum()"
   ]
  },
  {
   "cell_type": "code",
   "execution_count": 86,
   "id": "ce8bb9ff",
   "metadata": {
    "execution": {
     "iopub.execute_input": "2022-11-02T12:49:19.314455Z",
     "iopub.status.busy": "2022-11-02T12:49:19.313947Z",
     "iopub.status.idle": "2022-11-02T12:49:19.346464Z",
     "shell.execute_reply": "2022-11-02T12:49:19.345012Z"
    },
    "papermill": {
     "duration": 0.088317,
     "end_time": "2022-11-02T12:49:19.349226",
     "exception": false,
     "start_time": "2022-11-02T12:49:19.260909",
     "status": "completed"
    },
    "tags": []
   },
   "outputs": [],
   "source": [
    "df.dropna(subset=[\"title\"],inplace=True)"
   ]
  },
  {
   "cell_type": "code",
   "execution_count": 87,
   "id": "74685d3c",
   "metadata": {
    "execution": {
     "iopub.execute_input": "2022-11-02T12:49:19.452851Z",
     "iopub.status.busy": "2022-11-02T12:49:19.452460Z",
     "iopub.status.idle": "2022-11-02T12:49:19.469724Z",
     "shell.execute_reply": "2022-11-02T12:49:19.468537Z"
    },
    "papermill": {
     "duration": 0.073221,
     "end_time": "2022-11-02T12:49:19.472472",
     "exception": false,
     "start_time": "2022-11-02T12:49:19.399251",
     "status": "completed"
    },
    "tags": []
   },
   "outputs": [
    {
     "data": {
      "text/plain": [
       "93.06197964847364"
      ]
     },
     "execution_count": 87,
     "metadata": {},
     "output_type": "execute_result"
    }
   ],
   "source": [
    "(len(df.title.unique())/df.shape[0])*100"
   ]
  },
  {
   "cell_type": "code",
   "execution_count": 88,
   "id": "ad06468c",
   "metadata": {
    "execution": {
     "iopub.execute_input": "2022-11-02T12:49:19.578414Z",
     "iopub.status.busy": "2022-11-02T12:49:19.577931Z",
     "iopub.status.idle": "2022-11-02T12:49:19.597217Z",
     "shell.execute_reply": "2022-11-02T12:49:19.596390Z"
    },
    "papermill": {
     "duration": 0.074765,
     "end_time": "2022-11-02T12:49:19.599995",
     "exception": false,
     "start_time": "2022-11-02T12:49:19.525230",
     "status": "completed"
    },
    "tags": []
   },
   "outputs": [
    {
     "data": {
      "text/plain": [
       "95.46495749085943"
      ]
     },
     "execution_count": 88,
     "metadata": {},
     "output_type": "execute_result"
    }
   ],
   "source": [
    "(len(df.original_title.unique())/df.shape[0])*100"
   ]
  },
  {
   "cell_type": "code",
   "execution_count": 89,
   "id": "0224317c",
   "metadata": {
    "execution": {
     "iopub.execute_input": "2022-11-02T12:49:19.709444Z",
     "iopub.status.busy": "2022-11-02T12:49:19.708949Z",
     "iopub.status.idle": "2022-11-02T12:49:19.729690Z",
     "shell.execute_reply": "2022-11-02T12:49:19.728392Z"
    },
    "papermill": {
     "duration": 0.075671,
     "end_time": "2022-11-02T12:49:19.732485",
     "exception": false,
     "start_time": "2022-11-02T12:49:19.656814",
     "status": "completed"
    },
    "tags": []
   },
   "outputs": [],
   "source": [
    "df.drop(columns=['title'],inplace=True)"
   ]
  },
  {
   "cell_type": "code",
   "execution_count": 90,
   "id": "d56d8395",
   "metadata": {
    "execution": {
     "iopub.execute_input": "2022-11-02T12:49:19.837672Z",
     "iopub.status.busy": "2022-11-02T12:49:19.836351Z",
     "iopub.status.idle": "2022-11-02T12:49:19.844297Z",
     "shell.execute_reply": "2022-11-02T12:49:19.843178Z"
    },
    "papermill": {
     "duration": 0.064138,
     "end_time": "2022-11-02T12:49:19.847054",
     "exception": false,
     "start_time": "2022-11-02T12:49:19.782916",
     "status": "completed"
    },
    "tags": []
   },
   "outputs": [
    {
     "data": {
      "text/plain": [
       "(45402, 42)"
      ]
     },
     "execution_count": 90,
     "metadata": {},
     "output_type": "execute_result"
    }
   ],
   "source": [
    "df.shape"
   ]
  },
  {
   "cell_type": "markdown",
   "id": "6a931763",
   "metadata": {
    "papermill": {
     "duration": 0.048844,
     "end_time": "2022-11-02T12:49:19.945754",
     "exception": false,
     "start_time": "2022-11-02T12:49:19.896910",
     "status": "completed"
    },
    "tags": []
   },
   "source": [
    "1) lower case upper case 2) remove unwanted spaces (data science, data science) 3) checking spelling mistakes -> for places where there are a lot of chracters (textBlob) 4) handling special characters"
   ]
  },
  {
   "cell_type": "code",
   "execution_count": 91,
   "id": "3de5f3a6",
   "metadata": {
    "execution": {
     "iopub.execute_input": "2022-11-02T12:49:20.052186Z",
     "iopub.status.busy": "2022-11-02T12:49:20.051728Z",
     "iopub.status.idle": "2022-11-02T12:49:20.096758Z",
     "shell.execute_reply": "2022-11-02T12:49:20.095570Z"
    },
    "papermill": {
     "duration": 0.100571,
     "end_time": "2022-11-02T12:49:20.099511",
     "exception": false,
     "start_time": "2022-11-02T12:49:19.998940",
     "status": "completed"
    },
    "tags": []
   },
   "outputs": [],
   "source": [
    "df.original_title = df['original_title'].str.lower() # brinf the text data to lowercase\n",
    "df.original_title = df['original_title'].str.strip() # delete unwanted whtespaces"
   ]
  },
  {
   "cell_type": "code",
   "execution_count": 92,
   "id": "9313bbb3",
   "metadata": {
    "execution": {
     "iopub.execute_input": "2022-11-02T12:49:20.203418Z",
     "iopub.status.busy": "2022-11-02T12:49:20.202961Z",
     "iopub.status.idle": "2022-11-02T12:49:20.212504Z",
     "shell.execute_reply": "2022-11-02T12:49:20.211360Z"
    },
    "papermill": {
     "duration": 0.062757,
     "end_time": "2022-11-02T12:49:20.214967",
     "exception": false,
     "start_time": "2022-11-02T12:49:20.152210",
     "status": "completed"
    },
    "tags": []
   },
   "outputs": [
    {
     "data": {
      "text/plain": [
       "0                          toy story\n",
       "1                            jumanji\n",
       "2                   grumpier old men\n",
       "3                  waiting to exhale\n",
       "4        father of the bride part ii\n",
       "                    ...             \n",
       "45461                        رگ خواب\n",
       "45462            siglo ng pagluluwal\n",
       "45463                       betrayal\n",
       "45464            satana likuyushchiy\n",
       "45465                       queerama\n",
       "Name: original_title, Length: 45402, dtype: object"
      ]
     },
     "execution_count": 92,
     "metadata": {},
     "output_type": "execute_result"
    }
   ],
   "source": [
    "df.original_title"
   ]
  },
  {
   "cell_type": "markdown",
   "id": "f6271207",
   "metadata": {
    "papermill": {
     "duration": 0.05311,
     "end_time": "2022-11-02T12:49:20.319979",
     "exception": false,
     "start_time": "2022-11-02T12:49:20.266869",
     "status": "completed"
    },
    "tags": []
   },
   "source": [
    "# **overview**"
   ]
  },
  {
   "cell_type": "code",
   "execution_count": 93,
   "id": "7786931d",
   "metadata": {
    "execution": {
     "iopub.execute_input": "2022-11-02T12:49:20.424945Z",
     "iopub.status.busy": "2022-11-02T12:49:20.424478Z",
     "iopub.status.idle": "2022-11-02T12:49:20.432545Z",
     "shell.execute_reply": "2022-11-02T12:49:20.431240Z"
    },
    "papermill": {
     "duration": 0.064185,
     "end_time": "2022-11-02T12:49:20.435266",
     "exception": false,
     "start_time": "2022-11-02T12:49:20.371081",
     "status": "completed"
    },
    "tags": []
   },
   "outputs": [
    {
     "data": {
      "text/plain": [
       "\"Led by Woody, Andy's toys live happily in his room until Andy's birthday brings Buzz Lightyear onto the scene. Afraid of losing his place in Andy's heart, Woody plots against Buzz. But when circumstances separate Buzz and Woody from their owner, the duo eventually learns to put aside their differences.\""
      ]
     },
     "execution_count": 93,
     "metadata": {},
     "output_type": "execute_result"
    }
   ],
   "source": [
    "df.overview.values[0]"
   ]
  },
  {
   "cell_type": "code",
   "execution_count": 94,
   "id": "5b0774f3",
   "metadata": {
    "execution": {
     "iopub.execute_input": "2022-11-02T12:49:20.542346Z",
     "iopub.status.busy": "2022-11-02T12:49:20.541921Z",
     "iopub.status.idle": "2022-11-02T12:49:20.637652Z",
     "shell.execute_reply": "2022-11-02T12:49:20.636446Z"
    },
    "papermill": {
     "duration": 0.153045,
     "end_time": "2022-11-02T12:49:20.640499",
     "exception": false,
     "start_time": "2022-11-02T12:49:20.487454",
     "status": "completed"
    },
    "tags": []
   },
   "outputs": [
    {
     "data": {
      "text/plain": [
       "0        led by woody, andy's toys live happily in his ...\n",
       "1        when siblings judy and peter discover an encha...\n",
       "2        a family wedding reignites the ancient feud be...\n",
       "3        cheated on, mistreated and stepped on, the wom...\n",
       "4        just when george banks has recovered from his ...\n",
       "                               ...                        \n",
       "45461          rising and falling between a man and woman.\n",
       "45462    an artist struggles to finish his work while a...\n",
       "45463    when one of her hits goes wrong, a professiona...\n",
       "45464    in a small town live two brothers, one a minis...\n",
       "45465    50 years after decriminalisation of homosexual...\n",
       "Name: overview, Length: 45402, dtype: object"
      ]
     },
     "execution_count": 94,
     "metadata": {},
     "output_type": "execute_result"
    }
   ],
   "source": [
    "df.overview = df.overview.str.lower()\n",
    "df.overview = df.overview.str.strip()\n",
    "df.overview"
   ]
  },
  {
   "cell_type": "code",
   "execution_count": 95,
   "id": "43300bbe",
   "metadata": {
    "execution": {
     "iopub.execute_input": "2022-11-02T12:49:20.743049Z",
     "iopub.status.busy": "2022-11-02T12:49:20.742582Z",
     "iopub.status.idle": "2022-11-02T12:49:20.757681Z",
     "shell.execute_reply": "2022-11-02T12:49:20.756346Z"
    },
    "papermill": {
     "duration": 0.068611,
     "end_time": "2022-11-02T12:49:20.760557",
     "exception": false,
     "start_time": "2022-11-02T12:49:20.691946",
     "status": "completed"
    },
    "tags": []
   },
   "outputs": [
    {
     "data": {
      "text/plain": [
       "951"
      ]
     },
     "execution_count": 95,
     "metadata": {},
     "output_type": "execute_result"
    }
   ],
   "source": [
    "df.overview.isnull().sum()"
   ]
  },
  {
   "cell_type": "code",
   "execution_count": 96,
   "id": "28405aa9",
   "metadata": {
    "execution": {
     "iopub.execute_input": "2022-11-02T12:49:20.863438Z",
     "iopub.status.busy": "2022-11-02T12:49:20.862987Z",
     "iopub.status.idle": "2022-11-02T12:49:20.878831Z",
     "shell.execute_reply": "2022-11-02T12:49:20.877579Z"
    },
    "papermill": {
     "duration": 0.070147,
     "end_time": "2022-11-02T12:49:20.881542",
     "exception": false,
     "start_time": "2022-11-02T12:49:20.811395",
     "status": "completed"
    },
    "tags": []
   },
   "outputs": [],
   "source": [
    "df.loc[df.overview.isnull(),'overview'] = 'no overview available'"
   ]
  },
  {
   "cell_type": "code",
   "execution_count": 97,
   "id": "1bdc1b66",
   "metadata": {
    "execution": {
     "iopub.execute_input": "2022-11-02T12:49:20.988988Z",
     "iopub.status.busy": "2022-11-02T12:49:20.987917Z",
     "iopub.status.idle": "2022-11-02T12:49:20.998600Z",
     "shell.execute_reply": "2022-11-02T12:49:20.997219Z"
    },
    "papermill": {
     "duration": 0.068024,
     "end_time": "2022-11-02T12:49:21.001566",
     "exception": false,
     "start_time": "2022-11-02T12:49:20.933542",
     "status": "completed"
    },
    "tags": []
   },
   "outputs": [
    {
     "data": {
      "text/plain": [
       "25337    h6 tells the story of antonio frau, a serial k...\n",
       "21417    after kick-ass’ insane bravery inspires a new ...\n",
       "36102    when a child-stealing demon attaches itself to...\n",
       "11150    the prequel, komisario palmun erehdys (1960), ...\n",
       "31677    when a seemingly fun party goes horribly awry,...\n",
       "35950    adapted from various stories by jules renard, ...\n",
       "31572    milan. behind the windows of the city’s buildi...\n",
       "7990     a seasoned fbi agent's child-genius son assist...\n",
       "19508    the wife of a doctor in china falls in love wi...\n",
       "31307    mr. teas is a door to door salesman for dentis...\n",
       "Name: overview, dtype: object"
      ]
     },
     "execution_count": 97,
     "metadata": {},
     "output_type": "execute_result"
    }
   ],
   "source": [
    "df.overview.sample(10)"
   ]
  },
  {
   "cell_type": "markdown",
   "id": "eb7cf6f3",
   "metadata": {
    "papermill": {
     "duration": 0.049537,
     "end_time": "2022-11-02T12:49:21.104244",
     "exception": false,
     "start_time": "2022-11-02T12:49:21.054707",
     "status": "completed"
    },
    "tags": []
   },
   "source": [
    "# **Popularity**"
   ]
  },
  {
   "cell_type": "code",
   "execution_count": 98,
   "id": "20b29ccd",
   "metadata": {
    "execution": {
     "iopub.execute_input": "2022-11-02T12:49:21.210511Z",
     "iopub.status.busy": "2022-11-02T12:49:21.209125Z",
     "iopub.status.idle": "2022-11-02T12:49:21.217388Z",
     "shell.execute_reply": "2022-11-02T12:49:21.216422Z"
    },
    "papermill": {
     "duration": 0.064053,
     "end_time": "2022-11-02T12:49:21.219952",
     "exception": false,
     "start_time": "2022-11-02T12:49:21.155899",
     "status": "completed"
    },
    "tags": []
   },
   "outputs": [
    {
     "data": {
      "text/plain": [
       "21.946943"
      ]
     },
     "execution_count": 98,
     "metadata": {},
     "output_type": "execute_result"
    }
   ],
   "source": [
    "df.popularity.values[0]"
   ]
  },
  {
   "cell_type": "code",
   "execution_count": 99,
   "id": "7cd429ca",
   "metadata": {
    "execution": {
     "iopub.execute_input": "2022-11-02T12:49:21.330286Z",
     "iopub.status.busy": "2022-11-02T12:49:21.329842Z",
     "iopub.status.idle": "2022-11-02T12:49:21.336245Z",
     "shell.execute_reply": "2022-11-02T12:49:21.335450Z"
    },
    "papermill": {
     "duration": 0.063268,
     "end_time": "2022-11-02T12:49:21.338912",
     "exception": false,
     "start_time": "2022-11-02T12:49:21.275644",
     "status": "completed"
    },
    "tags": []
   },
   "outputs": [
    {
     "data": {
      "text/plain": [
       "dtype('O')"
      ]
     },
     "execution_count": 99,
     "metadata": {},
     "output_type": "execute_result"
    }
   ],
   "source": [
    "df.popularity.dtype"
   ]
  },
  {
   "cell_type": "code",
   "execution_count": 100,
   "id": "c2fd20ef",
   "metadata": {
    "execution": {
     "iopub.execute_input": "2022-11-02T12:49:21.445332Z",
     "iopub.status.busy": "2022-11-02T12:49:21.444611Z",
     "iopub.status.idle": "2022-11-02T12:49:21.461011Z",
     "shell.execute_reply": "2022-11-02T12:49:21.459845Z"
    },
    "papermill": {
     "duration": 0.072694,
     "end_time": "2022-11-02T12:49:21.463753",
     "exception": false,
     "start_time": "2022-11-02T12:49:21.391059",
     "status": "completed"
    },
    "tags": []
   },
   "outputs": [
    {
     "data": {
      "text/plain": [
       "dtype('float64')"
      ]
     },
     "execution_count": 100,
     "metadata": {},
     "output_type": "execute_result"
    }
   ],
   "source": [
    "df.popularity = df.popularity.astype('float64') ##floating point value\n",
    "df.popularity.dtype\n"
   ]
  },
  {
   "cell_type": "code",
   "execution_count": 101,
   "id": "3618fa87",
   "metadata": {
    "execution": {
     "iopub.execute_input": "2022-11-02T12:49:21.567270Z",
     "iopub.status.busy": "2022-11-02T12:49:21.566507Z",
     "iopub.status.idle": "2022-11-02T12:49:21.579921Z",
     "shell.execute_reply": "2022-11-02T12:49:21.578660Z"
    },
    "papermill": {
     "duration": 0.068272,
     "end_time": "2022-11-02T12:49:21.582616",
     "exception": false,
     "start_time": "2022-11-02T12:49:21.514344",
     "status": "completed"
    },
    "tags": []
   },
   "outputs": [
    {
     "data": {
      "text/plain": [
       "count    45402.000000\n",
       "mean         2.922633\n",
       "std          6.008223\n",
       "min          0.000000\n",
       "25%          0.386418\n",
       "50%          1.128116\n",
       "75%          3.680504\n",
       "max        547.488298\n",
       "Name: popularity, dtype: float64"
      ]
     },
     "execution_count": 101,
     "metadata": {},
     "output_type": "execute_result"
    }
   ],
   "source": [
    "df.popularity.describe()"
   ]
  },
  {
   "cell_type": "code",
   "execution_count": 102,
   "id": "b428bdec",
   "metadata": {
    "execution": {
     "iopub.execute_input": "2022-11-02T12:49:21.689778Z",
     "iopub.status.busy": "2022-11-02T12:49:21.689392Z",
     "iopub.status.idle": "2022-11-02T12:49:21.703271Z",
     "shell.execute_reply": "2022-11-02T12:49:21.701723Z"
    },
    "papermill": {
     "duration": 0.070025,
     "end_time": "2022-11-02T12:49:21.706186",
     "exception": false,
     "start_time": "2022-11-02T12:49:21.636161",
     "status": "completed"
    },
    "tags": []
   },
   "outputs": [
    {
     "name": "stdout",
     "output_type": "stream",
     "text": [
      "0        3.166379\n",
      "1        2.345603\n",
      "2        1.463039\n",
      "3        0.155930\n",
      "4        0.909568\n",
      "           ...   \n",
      "45461   -0.474447\n",
      "45462   -0.456773\n",
      "45463   -0.336144\n",
      "45464   -0.485856\n",
      "45465   -0.459307\n",
      "Name: z_score_popularity, Length: 45402, dtype: float64\n",
      "0         True\n",
      "1        False\n",
      "2        False\n",
      "3        False\n",
      "4        False\n",
      "         ...  \n",
      "45461    False\n",
      "45462    False\n",
      "45463    False\n",
      "45464    False\n",
      "45465    False\n",
      "Name: outliers, Length: 45402, dtype: bool\n"
     ]
    }
   ],
   "source": [
    "#Z-score\n",
    "df['z_score_popularity'] = (df.popularity - df.popularity.mean())/df.popularity.std()\n",
    "df['outliers'] = (df['z_score_popularity'] > 3) | (df['z_score_popularity'] < -3)\n",
    "print(df['z_score_popularity'])\n",
    "print(df['outliers'])"
   ]
  },
  {
   "cell_type": "code",
   "execution_count": 103,
   "id": "10dcec2e",
   "metadata": {
    "execution": {
     "iopub.execute_input": "2022-11-02T12:49:21.810491Z",
     "iopub.status.busy": "2022-11-02T12:49:21.810024Z",
     "iopub.status.idle": "2022-11-02T12:49:21.820923Z",
     "shell.execute_reply": "2022-11-02T12:49:21.819651Z"
    },
    "papermill": {
     "duration": 0.06686,
     "end_time": "2022-11-02T12:49:21.823837",
     "exception": false,
     "start_time": "2022-11-02T12:49:21.756977",
     "status": "completed"
    },
    "tags": []
   },
   "outputs": [],
   "source": [
    "# IQR\n",
    "\n",
    "q3 = df.popularity.quantile(0.75)\n",
    "q1 = df.popularity.quantile(0.25)\n",
    "IQR = q3 - q1\n"
   ]
  },
  {
   "cell_type": "code",
   "execution_count": 104,
   "id": "1ef5533b",
   "metadata": {
    "execution": {
     "iopub.execute_input": "2022-11-02T12:49:21.931303Z",
     "iopub.status.busy": "2022-11-02T12:49:21.930896Z",
     "iopub.status.idle": "2022-11-02T12:49:21.938383Z",
     "shell.execute_reply": "2022-11-02T12:49:21.937195Z"
    },
    "papermill": {
     "duration": 0.06285,
     "end_time": "2022-11-02T12:49:21.940989",
     "exception": false,
     "start_time": "2022-11-02T12:49:21.878139",
     "status": "completed"
    },
    "tags": []
   },
   "outputs": [
    {
     "data": {
      "text/plain": [
       "8.621632250000001"
      ]
     },
     "execution_count": 104,
     "metadata": {},
     "output_type": "execute_result"
    }
   ],
   "source": [
    "#thresholds\n",
    "q3+(1.5*IQR)"
   ]
  },
  {
   "cell_type": "code",
   "execution_count": 105,
   "id": "230fdcf5",
   "metadata": {
    "execution": {
     "iopub.execute_input": "2022-11-02T12:49:22.043607Z",
     "iopub.status.busy": "2022-11-02T12:49:22.043172Z",
     "iopub.status.idle": "2022-11-02T12:49:22.050263Z",
     "shell.execute_reply": "2022-11-02T12:49:22.049350Z"
    },
    "papermill": {
     "duration": 0.061522,
     "end_time": "2022-11-02T12:49:22.052815",
     "exception": false,
     "start_time": "2022-11-02T12:49:21.991293",
     "status": "completed"
    },
    "tags": []
   },
   "outputs": [
    {
     "data": {
      "text/plain": [
       "-4.554709750000001"
      ]
     },
     "execution_count": 105,
     "metadata": {},
     "output_type": "execute_result"
    }
   ],
   "source": [
    "q1-(1.5*IQR)"
   ]
  },
  {
   "cell_type": "code",
   "execution_count": 106,
   "id": "4fd37e0e",
   "metadata": {
    "execution": {
     "iopub.execute_input": "2022-11-02T12:49:22.157844Z",
     "iopub.status.busy": "2022-11-02T12:49:22.157409Z",
     "iopub.status.idle": "2022-11-02T12:49:22.166521Z",
     "shell.execute_reply": "2022-11-02T12:49:22.165120Z"
    },
    "papermill": {
     "duration": 0.064072,
     "end_time": "2022-11-02T12:49:22.169074",
     "exception": false,
     "start_time": "2022-11-02T12:49:22.105002",
     "status": "completed"
    },
    "tags": []
   },
   "outputs": [],
   "source": [
    "# correcting outliers by cliping\n",
    "\n",
    "#.clip(lt,ut)\n",
    "\n",
    "df.popularity = df.popularity.clip(q1-(1.5*IQR), q3+(1.5*IQR))"
   ]
  },
  {
   "cell_type": "code",
   "execution_count": 107,
   "id": "ac9ec03e",
   "metadata": {
    "execution": {
     "iopub.execute_input": "2022-11-02T12:49:22.271000Z",
     "iopub.status.busy": "2022-11-02T12:49:22.270578Z",
     "iopub.status.idle": "2022-11-02T12:49:22.284202Z",
     "shell.execute_reply": "2022-11-02T12:49:22.282786Z"
    },
    "papermill": {
     "duration": 0.067581,
     "end_time": "2022-11-02T12:49:22.286754",
     "exception": false,
     "start_time": "2022-11-02T12:49:22.219173",
     "status": "completed"
    },
    "tags": []
   },
   "outputs": [
    {
     "data": {
      "text/plain": [
       "count    45402.000000\n",
       "mean         2.459901\n",
       "std          2.831500\n",
       "min          0.000000\n",
       "25%          0.386418\n",
       "50%          1.128116\n",
       "75%          3.680504\n",
       "max          8.621632\n",
       "Name: popularity, dtype: float64"
      ]
     },
     "execution_count": 107,
     "metadata": {},
     "output_type": "execute_result"
    }
   ],
   "source": [
    "df.popularity.describe()"
   ]
  },
  {
   "cell_type": "code",
   "execution_count": 108,
   "id": "09b9e4e9",
   "metadata": {
    "execution": {
     "iopub.execute_input": "2022-11-02T12:49:22.392851Z",
     "iopub.status.busy": "2022-11-02T12:49:22.391853Z",
     "iopub.status.idle": "2022-11-02T12:49:22.404554Z",
     "shell.execute_reply": "2022-11-02T12:49:22.403412Z"
    },
    "papermill": {
     "duration": 0.069479,
     "end_time": "2022-11-02T12:49:22.407001",
     "exception": false,
     "start_time": "2022-11-02T12:49:22.337522",
     "status": "completed"
    },
    "tags": []
   },
   "outputs": [
    {
     "data": {
      "text/plain": [
       "0"
      ]
     },
     "execution_count": 108,
     "metadata": {},
     "output_type": "execute_result"
    }
   ],
   "source": [
    "sum(df.popularity.isnull())"
   ]
  },
  {
   "cell_type": "markdown",
   "id": "01514442",
   "metadata": {
    "papermill": {
     "duration": 0.050577,
     "end_time": "2022-11-02T12:49:22.509814",
     "exception": false,
     "start_time": "2022-11-02T12:49:22.459237",
     "status": "completed"
    },
    "tags": []
   },
   "source": [
    "# **Vote Count and Vote Average**"
   ]
  },
  {
   "cell_type": "code",
   "execution_count": 109,
   "id": "62b665a1",
   "metadata": {
    "execution": {
     "iopub.execute_input": "2022-11-02T12:49:22.612566Z",
     "iopub.status.busy": "2022-11-02T12:49:22.612110Z",
     "iopub.status.idle": "2022-11-02T12:49:22.619983Z",
     "shell.execute_reply": "2022-11-02T12:49:22.618862Z"
    },
    "papermill": {
     "duration": 0.061992,
     "end_time": "2022-11-02T12:49:22.622432",
     "exception": false,
     "start_time": "2022-11-02T12:49:22.560440",
     "status": "completed"
    },
    "tags": []
   },
   "outputs": [
    {
     "data": {
      "text/plain": [
       "5415.0"
      ]
     },
     "execution_count": 109,
     "metadata": {},
     "output_type": "execute_result"
    }
   ],
   "source": [
    "df.vote_count.values[0]"
   ]
  },
  {
   "cell_type": "code",
   "execution_count": 110,
   "id": "e2d86342",
   "metadata": {
    "execution": {
     "iopub.execute_input": "2022-11-02T12:49:22.727361Z",
     "iopub.status.busy": "2022-11-02T12:49:22.726892Z",
     "iopub.status.idle": "2022-11-02T12:49:22.733952Z",
     "shell.execute_reply": "2022-11-02T12:49:22.732944Z"
    },
    "papermill": {
     "duration": 0.062493,
     "end_time": "2022-11-02T12:49:22.736227",
     "exception": false,
     "start_time": "2022-11-02T12:49:22.673734",
     "status": "completed"
    },
    "tags": []
   },
   "outputs": [
    {
     "data": {
      "text/plain": [
       "dtype('float64')"
      ]
     },
     "execution_count": 110,
     "metadata": {},
     "output_type": "execute_result"
    }
   ],
   "source": [
    "df.vote_count.dtype"
   ]
  },
  {
   "cell_type": "code",
   "execution_count": 111,
   "id": "adabec09",
   "metadata": {
    "execution": {
     "iopub.execute_input": "2022-11-02T12:49:22.844578Z",
     "iopub.status.busy": "2022-11-02T12:49:22.843231Z",
     "iopub.status.idle": "2022-11-02T12:49:22.851950Z",
     "shell.execute_reply": "2022-11-02T12:49:22.850993Z"
    },
    "papermill": {
     "duration": 0.0648,
     "end_time": "2022-11-02T12:49:22.854391",
     "exception": false,
     "start_time": "2022-11-02T12:49:22.789591",
     "status": "completed"
    },
    "tags": []
   },
   "outputs": [
    {
     "data": {
      "text/plain": [
       "0"
      ]
     },
     "execution_count": 111,
     "metadata": {},
     "output_type": "execute_result"
    }
   ],
   "source": [
    "df.vote_count.isnull().sum()"
   ]
  },
  {
   "cell_type": "code",
   "execution_count": 112,
   "id": "3a5aca0c",
   "metadata": {
    "execution": {
     "iopub.execute_input": "2022-11-02T12:49:22.963491Z",
     "iopub.status.busy": "2022-11-02T12:49:22.963000Z",
     "iopub.status.idle": "2022-11-02T12:49:22.975488Z",
     "shell.execute_reply": "2022-11-02T12:49:22.974584Z"
    },
    "papermill": {
     "duration": 0.070527,
     "end_time": "2022-11-02T12:49:22.977758",
     "exception": false,
     "start_time": "2022-11-02T12:49:22.907231",
     "status": "completed"
    },
    "tags": []
   },
   "outputs": [
    {
     "data": {
      "text/plain": [
       "count    45402.000000\n",
       "mean       110.000000\n",
       "std        491.611018\n",
       "min          0.000000\n",
       "25%          3.000000\n",
       "50%         10.000000\n",
       "75%         34.000000\n",
       "max      14075.000000\n",
       "Name: vote_count, dtype: float64"
      ]
     },
     "execution_count": 112,
     "metadata": {},
     "output_type": "execute_result"
    }
   ],
   "source": [
    "df.vote_count.describe()\n",
    "\n",
    "# here the outlier is not a problem\n",
    "# a movie can get a 14075 votes so outlier correction is not required."
   ]
  },
  {
   "cell_type": "code",
   "execution_count": 113,
   "id": "12404c34",
   "metadata": {
    "execution": {
     "iopub.execute_input": "2022-11-02T12:49:23.083092Z",
     "iopub.status.busy": "2022-11-02T12:49:23.082427Z",
     "iopub.status.idle": "2022-11-02T12:49:23.089355Z",
     "shell.execute_reply": "2022-11-02T12:49:23.088297Z"
    },
    "papermill": {
     "duration": 0.062666,
     "end_time": "2022-11-02T12:49:23.091636",
     "exception": false,
     "start_time": "2022-11-02T12:49:23.028970",
     "status": "completed"
    },
    "tags": []
   },
   "outputs": [
    {
     "data": {
      "text/plain": [
       "7.7"
      ]
     },
     "execution_count": 113,
     "metadata": {},
     "output_type": "execute_result"
    }
   ],
   "source": [
    "df.vote_average.values[0]"
   ]
  },
  {
   "cell_type": "code",
   "execution_count": 114,
   "id": "1b0b4960",
   "metadata": {
    "execution": {
     "iopub.execute_input": "2022-11-02T12:49:23.198252Z",
     "iopub.status.busy": "2022-11-02T12:49:23.197400Z",
     "iopub.status.idle": "2022-11-02T12:49:23.205054Z",
     "shell.execute_reply": "2022-11-02T12:49:23.203783Z"
    },
    "papermill": {
     "duration": 0.063981,
     "end_time": "2022-11-02T12:49:23.207703",
     "exception": false,
     "start_time": "2022-11-02T12:49:23.143722",
     "status": "completed"
    },
    "tags": []
   },
   "outputs": [
    {
     "data": {
      "text/plain": [
       "dtype('float64')"
      ]
     },
     "execution_count": 114,
     "metadata": {},
     "output_type": "execute_result"
    }
   ],
   "source": [
    "df.vote_average.dtype"
   ]
  },
  {
   "cell_type": "code",
   "execution_count": 115,
   "id": "5628cf7e",
   "metadata": {
    "execution": {
     "iopub.execute_input": "2022-11-02T12:49:23.313840Z",
     "iopub.status.busy": "2022-11-02T12:49:23.312522Z",
     "iopub.status.idle": "2022-11-02T12:49:23.321102Z",
     "shell.execute_reply": "2022-11-02T12:49:23.319640Z"
    },
    "papermill": {
     "duration": 0.064966,
     "end_time": "2022-11-02T12:49:23.323722",
     "exception": false,
     "start_time": "2022-11-02T12:49:23.258756",
     "status": "completed"
    },
    "tags": []
   },
   "outputs": [
    {
     "data": {
      "text/plain": [
       "0"
      ]
     },
     "execution_count": 115,
     "metadata": {},
     "output_type": "execute_result"
    }
   ],
   "source": [
    "df.vote_average.isnull().sum()"
   ]
  },
  {
   "cell_type": "code",
   "execution_count": 116,
   "id": "f434aedb",
   "metadata": {
    "execution": {
     "iopub.execute_input": "2022-11-02T12:49:23.436230Z",
     "iopub.status.busy": "2022-11-02T12:49:23.435449Z",
     "iopub.status.idle": "2022-11-02T12:49:23.448577Z",
     "shell.execute_reply": "2022-11-02T12:49:23.447424Z"
    },
    "papermill": {
     "duration": 0.074362,
     "end_time": "2022-11-02T12:49:23.451046",
     "exception": false,
     "start_time": "2022-11-02T12:49:23.376684",
     "status": "completed"
    },
    "tags": []
   },
   "outputs": [
    {
     "data": {
      "text/plain": [
       "count    45402.000000\n",
       "mean         5.619479\n",
       "std          1.922535\n",
       "min          0.000000\n",
       "25%          5.000000\n",
       "50%          6.000000\n",
       "75%          6.800000\n",
       "max         10.000000\n",
       "Name: vote_average, dtype: float64"
      ]
     },
     "execution_count": 116,
     "metadata": {},
     "output_type": "execute_result"
    }
   ],
   "source": [
    "df.vote_average.describe()"
   ]
  },
  {
   "cell_type": "markdown",
   "id": "78aa1781",
   "metadata": {
    "papermill": {
     "duration": 0.050854,
     "end_time": "2022-11-02T12:49:23.554469",
     "exception": false,
     "start_time": "2022-11-02T12:49:23.503615",
     "status": "completed"
    },
    "tags": []
   },
   "source": [
    "# **Poster Path**"
   ]
  },
  {
   "cell_type": "code",
   "execution_count": 117,
   "id": "805ed1d7",
   "metadata": {
    "execution": {
     "iopub.execute_input": "2022-11-02T12:49:23.662517Z",
     "iopub.status.busy": "2022-11-02T12:49:23.662056Z",
     "iopub.status.idle": "2022-11-02T12:49:23.669020Z",
     "shell.execute_reply": "2022-11-02T12:49:23.667977Z"
    },
    "papermill": {
     "duration": 0.063034,
     "end_time": "2022-11-02T12:49:23.671635",
     "exception": false,
     "start_time": "2022-11-02T12:49:23.608601",
     "status": "completed"
    },
    "tags": []
   },
   "outputs": [
    {
     "data": {
      "text/plain": [
       "'/rhIRbceoE9lR4veEXuwCC2wARtG.jpg'"
      ]
     },
     "execution_count": 117,
     "metadata": {},
     "output_type": "execute_result"
    }
   ],
   "source": [
    "df.poster_path.values[0]"
   ]
  },
  {
   "cell_type": "code",
   "execution_count": 118,
   "id": "3fca732e",
   "metadata": {
    "execution": {
     "iopub.execute_input": "2022-11-02T12:49:23.778946Z",
     "iopub.status.busy": "2022-11-02T12:49:23.778218Z",
     "iopub.status.idle": "2022-11-02T12:49:23.785163Z",
     "shell.execute_reply": "2022-11-02T12:49:23.783996Z"
    },
    "papermill": {
     "duration": 0.063772,
     "end_time": "2022-11-02T12:49:23.787780",
     "exception": false,
     "start_time": "2022-11-02T12:49:23.724008",
     "status": "completed"
    },
    "tags": []
   },
   "outputs": [
    {
     "data": {
      "text/plain": [
       "dtype('O')"
      ]
     },
     "execution_count": 118,
     "metadata": {},
     "output_type": "execute_result"
    }
   ],
   "source": [
    "df.poster_path.values.dtype"
   ]
  },
  {
   "cell_type": "code",
   "execution_count": 119,
   "id": "4124dd41",
   "metadata": {
    "execution": {
     "iopub.execute_input": "2022-11-02T12:49:23.894688Z",
     "iopub.status.busy": "2022-11-02T12:49:23.894229Z",
     "iopub.status.idle": "2022-11-02T12:49:23.904194Z",
     "shell.execute_reply": "2022-11-02T12:49:23.903055Z"
    },
    "papermill": {
     "duration": 0.066832,
     "end_time": "2022-11-02T12:49:23.907065",
     "exception": false,
     "start_time": "2022-11-02T12:49:23.840233",
     "status": "completed"
    },
    "tags": []
   },
   "outputs": [
    {
     "data": {
      "text/plain": [
       "378"
      ]
     },
     "execution_count": 119,
     "metadata": {},
     "output_type": "execute_result"
    }
   ],
   "source": [
    "df.poster_path.isnull().sum()"
   ]
  },
  {
   "cell_type": "code",
   "execution_count": 120,
   "id": "cc7ec9e7",
   "metadata": {
    "execution": {
     "iopub.execute_input": "2022-11-02T12:49:24.016911Z",
     "iopub.status.busy": "2022-11-02T12:49:24.016474Z",
     "iopub.status.idle": "2022-11-02T12:49:24.025162Z",
     "shell.execute_reply": "2022-11-02T12:49:24.023150Z"
    },
    "papermill": {
     "duration": 0.066107,
     "end_time": "2022-11-02T12:49:24.028029",
     "exception": false,
     "start_time": "2022-11-02T12:49:23.961922",
     "status": "completed"
    },
    "tags": []
   },
   "outputs": [
    {
     "data": {
      "text/plain": [
       "False"
      ]
     },
     "execution_count": 120,
     "metadata": {},
     "output_type": "execute_result"
    }
   ],
   "source": [
    "import os\n",
    "\n",
    "os.path.isfile('/content/movies_metadata.csv')\n",
    "#os.mkdir(\"/content/koushik\")"
   ]
  },
  {
   "cell_type": "code",
   "execution_count": 121,
   "id": "979be717",
   "metadata": {
    "execution": {
     "iopub.execute_input": "2022-11-02T12:49:24.133455Z",
     "iopub.status.busy": "2022-11-02T12:49:24.133006Z",
     "iopub.status.idle": "2022-11-02T12:49:24.163281Z",
     "shell.execute_reply": "2022-11-02T12:49:24.162119Z"
    },
    "papermill": {
     "duration": 0.086681,
     "end_time": "2022-11-02T12:49:24.166081",
     "exception": false,
     "start_time": "2022-11-02T12:49:24.079400",
     "status": "completed"
    },
    "tags": []
   },
   "outputs": [],
   "source": [
    "df.drop(columns=[\"poster_path\"],inplace=True)"
   ]
  },
  {
   "cell_type": "code",
   "execution_count": 122,
   "id": "34aa4687",
   "metadata": {
    "execution": {
     "iopub.execute_input": "2022-11-02T12:49:24.275404Z",
     "iopub.status.busy": "2022-11-02T12:49:24.274873Z",
     "iopub.status.idle": "2022-11-02T12:49:24.282695Z",
     "shell.execute_reply": "2022-11-02T12:49:24.281398Z"
    },
    "papermill": {
     "duration": 0.06415,
     "end_time": "2022-11-02T12:49:24.285074",
     "exception": false,
     "start_time": "2022-11-02T12:49:24.220924",
     "status": "completed"
    },
    "tags": []
   },
   "outputs": [
    {
     "data": {
      "text/plain": [
       "False"
      ]
     },
     "execution_count": 122,
     "metadata": {},
     "output_type": "execute_result"
    }
   ],
   "source": [
    "'poster_path' in df.columns\n",
    "#'vote_average' in df.columns"
   ]
  },
  {
   "cell_type": "markdown",
   "id": "778ff433",
   "metadata": {
    "papermill": {
     "duration": 0.052294,
     "end_time": "2022-11-02T12:49:24.389433",
     "exception": false,
     "start_time": "2022-11-02T12:49:24.337139",
     "status": "completed"
    },
    "tags": []
   },
   "source": [
    "# **Production Companies**"
   ]
  },
  {
   "cell_type": "code",
   "execution_count": 123,
   "id": "e8dff31a",
   "metadata": {
    "execution": {
     "iopub.execute_input": "2022-11-02T12:49:24.495290Z",
     "iopub.status.busy": "2022-11-02T12:49:24.494897Z",
     "iopub.status.idle": "2022-11-02T12:49:24.503419Z",
     "shell.execute_reply": "2022-11-02T12:49:24.502181Z"
    },
    "papermill": {
     "duration": 0.063731,
     "end_time": "2022-11-02T12:49:24.505856",
     "exception": false,
     "start_time": "2022-11-02T12:49:24.442125",
     "status": "completed"
    },
    "tags": []
   },
   "outputs": [
    {
     "data": {
      "text/plain": [
       "array([\"[{'name': 'Pixar Animation Studios', 'id': 3}]\",\n",
       "       \"[{'name': 'TriStar Pictures', 'id': 559}, {'name': 'Teitler Film', 'id': 2550}, {'name': 'Interscope Communications', 'id': 10201}]\",\n",
       "       \"[{'name': 'Warner Bros.', 'id': 6194}, {'name': 'Lancaster Gate', 'id': 19464}]\",\n",
       "       \"[{'name': 'Twentieth Century Fox Film Corporation', 'id': 306}]\",\n",
       "       \"[{'name': 'Sandollar Productions', 'id': 5842}, {'name': 'Touchstone Pictures', 'id': 9195}]\",\n",
       "       \"[{'name': 'Regency Enterprises', 'id': 508}, {'name': 'Forward Pass', 'id': 675}, {'name': 'Warner Bros.', 'id': 6194}]\",\n",
       "       \"[{'name': 'Paramount Pictures', 'id': 4}, {'name': 'Scott Rudin Productions', 'id': 258}, {'name': 'Mirage Enterprises', 'id': 932}, {'name': 'Sandollar Productions', 'id': 5842}, {'name': 'Constellation Entertainment', 'id': 14941}, {'name': 'Worldwide', 'id': 55873}, {'name': 'Mont Blanc Entertainment GmbH', 'id': 58079}]\",\n",
       "       \"[{'name': 'Walt Disney Pictures', 'id': 2}]\",\n",
       "       \"[{'name': 'Universal Pictures', 'id': 33}, {'name': 'Imperial Entertainment', 'id': 21437}, {'name': 'Signature Entertainment', 'id': 23770}]\",\n",
       "       \"[{'name': 'United Artists', 'id': 60}, {'name': 'Eon Productions', 'id': 7576}]\"],\n",
       "      dtype=object)"
      ]
     },
     "execution_count": 123,
     "metadata": {},
     "output_type": "execute_result"
    }
   ],
   "source": [
    "df.production_companies.values[0:10]"
   ]
  },
  {
   "cell_type": "code",
   "execution_count": 124,
   "id": "fee61c65",
   "metadata": {
    "execution": {
     "iopub.execute_input": "2022-11-02T12:49:24.612463Z",
     "iopub.status.busy": "2022-11-02T12:49:24.612043Z",
     "iopub.status.idle": "2022-11-02T12:49:24.624618Z",
     "shell.execute_reply": "2022-11-02T12:49:24.623247Z"
    },
    "papermill": {
     "duration": 0.069834,
     "end_time": "2022-11-02T12:49:24.627296",
     "exception": false,
     "start_time": "2022-11-02T12:49:24.557462",
     "status": "completed"
    },
    "tags": []
   },
   "outputs": [
    {
     "data": {
      "text/plain": [
       "0"
      ]
     },
     "execution_count": 124,
     "metadata": {},
     "output_type": "execute_result"
    }
   ],
   "source": [
    "df.production_companies.isnull().sum()"
   ]
  },
  {
   "cell_type": "code",
   "execution_count": 125,
   "id": "5547ddf2",
   "metadata": {
    "execution": {
     "iopub.execute_input": "2022-11-02T12:49:24.792751Z",
     "iopub.status.busy": "2022-11-02T12:49:24.792360Z",
     "iopub.status.idle": "2022-11-02T12:49:25.837193Z",
     "shell.execute_reply": "2022-11-02T12:49:25.835953Z"
    },
    "papermill": {
     "duration": 1.102362,
     "end_time": "2022-11-02T12:49:25.840153",
     "exception": false,
     "start_time": "2022-11-02T12:49:24.737791",
     "status": "completed"
    },
    "tags": []
   },
   "outputs": [],
   "source": [
    "#Code for extracting Producer 1\n",
    "import ast\n",
    "index = 0\n",
    "prod1 = [] #empty list which is going to store producer 1's name for each movie\n",
    "\n",
    "for prod in df.production_companies.values: # looping through all rows/movies\n",
    "  prodList = ast.literal_eval(prod) #string -> list of dicts #for each movie, prodList will contain the set of all the producers\n",
    "  if len(prodList) > index:  # if they have atleast 1 producer\n",
    "    prod1.append(prodList[index]['name']) #note the name of producer\n",
    "  else:\n",
    "    prod1.append('No Producer') #put them as no producer\n",
    "\n",
    "df['Producer1'] = prod1\n",
    "\n"
   ]
  },
  {
   "cell_type": "code",
   "execution_count": 126,
   "id": "0460530f",
   "metadata": {
    "execution": {
     "iopub.execute_input": "2022-11-02T12:49:25.952817Z",
     "iopub.status.busy": "2022-11-02T12:49:25.952014Z",
     "iopub.status.idle": "2022-11-02T12:49:26.997145Z",
     "shell.execute_reply": "2022-11-02T12:49:26.995792Z"
    },
    "papermill": {
     "duration": 1.106505,
     "end_time": "2022-11-02T12:49:27.000090",
     "exception": false,
     "start_time": "2022-11-02T12:49:25.893585",
     "status": "completed"
    },
    "tags": []
   },
   "outputs": [],
   "source": [
    "# Code for extracting producer 2\n",
    "import ast\n",
    "index = 1\n",
    "prod2 = []\n",
    "\n",
    "for prod in df.production_companies.values:\n",
    "  prodList = ast.literal_eval(prod)\n",
    "  if len(prodList) > index:\n",
    "    prod2.append(prodList[index]['name'])\n",
    "  else:\n",
    "    prod2.append('No Producer')\n",
    "\n",
    "df['Producer2'] = prod2"
   ]
  },
  {
   "cell_type": "code",
   "execution_count": 127,
   "id": "d8791672",
   "metadata": {
    "execution": {
     "iopub.execute_input": "2022-11-02T12:49:27.106671Z",
     "iopub.status.busy": "2022-11-02T12:49:27.106243Z",
     "iopub.status.idle": "2022-11-02T12:49:27.151848Z",
     "shell.execute_reply": "2022-11-02T12:49:27.150681Z"
    },
    "papermill": {
     "duration": 0.1021,
     "end_time": "2022-11-02T12:49:27.154812",
     "exception": false,
     "start_time": "2022-11-02T12:49:27.052712",
     "status": "completed"
    },
    "tags": []
   },
   "outputs": [],
   "source": [
    "df.drop(columns = ['production_companies'], inplace=True)"
   ]
  },
  {
   "cell_type": "code",
   "execution_count": 128,
   "id": "05946f95",
   "metadata": {
    "execution": {
     "iopub.execute_input": "2022-11-02T12:49:27.261893Z",
     "iopub.status.busy": "2022-11-02T12:49:27.261208Z",
     "iopub.status.idle": "2022-11-02T12:49:27.335282Z",
     "shell.execute_reply": "2022-11-02T12:49:27.334278Z"
    },
    "papermill": {
     "duration": 0.131009,
     "end_time": "2022-11-02T12:49:27.338139",
     "exception": false,
     "start_time": "2022-11-02T12:49:27.207130",
     "status": "completed"
    },
    "tags": []
   },
   "outputs": [],
   "source": [
    "df['Producer1'] = df['Producer1'].str.lower()\n",
    "df['Producer2'] = df['Producer2'].str.lower()\n",
    "df['Producer1'] = df['Producer1'].str.strip()\n",
    "df['Producer2'] = df['Producer2'].str.strip()"
   ]
  },
  {
   "cell_type": "code",
   "execution_count": 129,
   "id": "969de401",
   "metadata": {
    "execution": {
     "iopub.execute_input": "2022-11-02T12:49:27.449364Z",
     "iopub.status.busy": "2022-11-02T12:49:27.448695Z",
     "iopub.status.idle": "2022-11-02T12:49:27.490884Z",
     "shell.execute_reply": "2022-11-02T12:49:27.489499Z"
    },
    "papermill": {
     "duration": 0.101224,
     "end_time": "2022-11-02T12:49:27.493578",
     "exception": false,
     "start_time": "2022-11-02T12:49:27.392354",
     "status": "completed"
    },
    "tags": []
   },
   "outputs": [
    {
     "data": {
      "text/plain": [
       "<bound method NDFrame.head of        adult      budget      id    imdb_id original_language  \\\n",
       "0        0.0  30000000.0     862  tt0114709                en   \n",
       "1        0.0  65000000.0    8844  tt0113497                en   \n",
       "2        0.0         0.0   15602  tt0113228                en   \n",
       "3        0.0  16000000.0   31357  tt0114885                en   \n",
       "4        0.0         0.0   11862  tt0113041                en   \n",
       "...      ...         ...     ...        ...               ...   \n",
       "45461    0.0         0.0  439050  tt6209470                fa   \n",
       "45462    0.0         0.0  111109  tt2028550                tl   \n",
       "45463    0.0         0.0   67758  tt0303758                en   \n",
       "45464    0.0         0.0  227506  tt0008536                en   \n",
       "45465    0.0         0.0  461257  tt6980792                en   \n",
       "\n",
       "                    original_title  \\\n",
       "0                        toy story   \n",
       "1                          jumanji   \n",
       "2                 grumpier old men   \n",
       "3                waiting to exhale   \n",
       "4      father of the bride part ii   \n",
       "...                            ...   \n",
       "45461                      رگ خواب   \n",
       "45462          siglo ng pagluluwal   \n",
       "45463                     betrayal   \n",
       "45464          satana likuyushchiy   \n",
       "45465                     queerama   \n",
       "\n",
       "                                                overview  popularity  \\\n",
       "0      led by woody, andy's toys live happily in his ...    8.621632   \n",
       "1      when siblings judy and peter discover an encha...    8.621632   \n",
       "2      a family wedding reignites the ancient feud be...    8.621632   \n",
       "3      cheated on, mistreated and stepped on, the wom...    3.859495   \n",
       "4      just when george banks has recovered from his ...    8.387519   \n",
       "...                                                  ...         ...   \n",
       "45461        rising and falling between a man and woman.    0.072051   \n",
       "45462  an artist struggles to finish his work while a...    0.178241   \n",
       "45463  when one of her hits goes wrong, a professiona...    0.903007   \n",
       "45464  in a small town live two brothers, one a minis...    0.003503   \n",
       "45465  50 years after decriminalisation of homosexual...    0.163015   \n",
       "\n",
       "                                    production_countries release_date  ...  \\\n",
       "0      [{'iso_3166_1': 'US', 'name': 'United States o...   1995-10-30  ...   \n",
       "1      [{'iso_3166_1': 'US', 'name': 'United States o...   1995-12-15  ...   \n",
       "2      [{'iso_3166_1': 'US', 'name': 'United States o...   1995-12-22  ...   \n",
       "3      [{'iso_3166_1': 'US', 'name': 'United States o...   1995-12-22  ...   \n",
       "4      [{'iso_3166_1': 'US', 'name': 'United States o...   1995-02-10  ...   \n",
       "...                                                  ...          ...  ...   \n",
       "45461             [{'iso_3166_1': 'IR', 'name': 'Iran'}]          NaN  ...   \n",
       "45462      [{'iso_3166_1': 'PH', 'name': 'Philippines'}]   2011-11-17  ...   \n",
       "45463  [{'iso_3166_1': 'US', 'name': 'United States o...   2003-08-01  ...   \n",
       "45464           [{'iso_3166_1': 'RU', 'name': 'Russia'}]   1917-10-21  ...   \n",
       "45465   [{'iso_3166_1': 'GB', 'name': 'United Kingdom'}]   2017-06-09  ...   \n",
       "\n",
       "       Western  Animation Adventure Mystery Comedy homepagePresent  \\\n",
       "0          0.0        1.0       0.0     0.0    1.0               1   \n",
       "1          0.0        0.0       1.0     0.0    0.0               0   \n",
       "2          0.0        0.0       0.0     0.0    1.0               0   \n",
       "3          0.0        0.0       0.0     0.0    1.0               0   \n",
       "4          0.0        0.0       0.0     0.0    1.0               0   \n",
       "...        ...        ...       ...     ...    ...             ...   \n",
       "45461      0.0        0.0       0.0     0.0    0.0               1   \n",
       "45462      0.0        0.0       0.0     0.0    0.0               0   \n",
       "45463      NaN        NaN       NaN     NaN    NaN               0   \n",
       "45464      NaN        NaN       NaN     NaN    NaN               0   \n",
       "45465      NaN        NaN       NaN     NaN    NaN               0   \n",
       "\n",
       "       z_score_popularity  outliers                               Producer1  \\\n",
       "0                3.166379      True                 pixar animation studios   \n",
       "1                2.345603     False                        tristar pictures   \n",
       "2                1.463039     False                            warner bros.   \n",
       "3                0.155930     False  twentieth century fox film corporation   \n",
       "4                0.909568     False                   sandollar productions   \n",
       "...                   ...       ...                                     ...   \n",
       "45461           -0.474447     False                             no producer   \n",
       "45462           -0.456773     False                             sine olivia   \n",
       "45463           -0.336144     False                 american world pictures   \n",
       "45464           -0.485856     False                               yermoliev   \n",
       "45465           -0.459307     False                             no producer   \n",
       "\n",
       "                 Producer2  \n",
       "0              no producer  \n",
       "1             teitler film  \n",
       "2           lancaster gate  \n",
       "3              no producer  \n",
       "4      touchstone pictures  \n",
       "...                    ...  \n",
       "45461          no producer  \n",
       "45462          no producer  \n",
       "45463          no producer  \n",
       "45464          no producer  \n",
       "45465          no producer  \n",
       "\n",
       "[45402 rows x 44 columns]>"
      ]
     },
     "execution_count": 129,
     "metadata": {},
     "output_type": "execute_result"
    }
   ],
   "source": [
    "df.head"
   ]
  },
  {
   "cell_type": "markdown",
   "id": "861017d4",
   "metadata": {
    "papermill": {
     "duration": 0.052104,
     "end_time": "2022-11-02T12:49:27.599195",
     "exception": false,
     "start_time": "2022-11-02T12:49:27.547091",
     "status": "completed"
    },
    "tags": []
   },
   "source": [
    "# **Release Dates**"
   ]
  },
  {
   "cell_type": "code",
   "execution_count": 130,
   "id": "d94f719e",
   "metadata": {
    "execution": {
     "iopub.execute_input": "2022-11-02T12:49:27.710079Z",
     "iopub.status.busy": "2022-11-02T12:49:27.709679Z",
     "iopub.status.idle": "2022-11-02T12:49:27.717296Z",
     "shell.execute_reply": "2022-11-02T12:49:27.716140Z"
    },
    "papermill": {
     "duration": 0.06534,
     "end_time": "2022-11-02T12:49:27.719917",
     "exception": false,
     "start_time": "2022-11-02T12:49:27.654577",
     "status": "completed"
    },
    "tags": []
   },
   "outputs": [
    {
     "data": {
      "text/plain": [
       "'1995-10-30'"
      ]
     },
     "execution_count": 130,
     "metadata": {},
     "output_type": "execute_result"
    }
   ],
   "source": [
    "df.release_date.values[0]"
   ]
  },
  {
   "cell_type": "code",
   "execution_count": 131,
   "id": "903a6d94",
   "metadata": {
    "execution": {
     "iopub.execute_input": "2022-11-02T12:49:27.827796Z",
     "iopub.status.busy": "2022-11-02T12:49:27.827384Z",
     "iopub.status.idle": "2022-11-02T12:49:27.833781Z",
     "shell.execute_reply": "2022-11-02T12:49:27.832888Z"
    },
    "papermill": {
     "duration": 0.062613,
     "end_time": "2022-11-02T12:49:27.835908",
     "exception": false,
     "start_time": "2022-11-02T12:49:27.773295",
     "status": "completed"
    },
    "tags": []
   },
   "outputs": [
    {
     "data": {
      "text/plain": [
       "dtype('O')"
      ]
     },
     "execution_count": 131,
     "metadata": {},
     "output_type": "execute_result"
    }
   ],
   "source": [
    "df.release_date.dtype"
   ]
  },
  {
   "cell_type": "code",
   "execution_count": 132,
   "id": "5ab00c00",
   "metadata": {
    "execution": {
     "iopub.execute_input": "2022-11-02T12:49:27.948216Z",
     "iopub.status.busy": "2022-11-02T12:49:27.947773Z",
     "iopub.status.idle": "2022-11-02T12:49:27.959261Z",
     "shell.execute_reply": "2022-11-02T12:49:27.958374Z"
    },
    "papermill": {
     "duration": 0.072309,
     "end_time": "2022-11-02T12:49:27.961760",
     "exception": false,
     "start_time": "2022-11-02T12:49:27.889451",
     "status": "completed"
    },
    "tags": []
   },
   "outputs": [
    {
     "data": {
      "text/plain": [
       "81"
      ]
     },
     "execution_count": 132,
     "metadata": {},
     "output_type": "execute_result"
    }
   ],
   "source": [
    "df.release_date.isnull().sum()"
   ]
  },
  {
   "cell_type": "code",
   "execution_count": 133,
   "id": "eb88dcb3",
   "metadata": {
    "execution": {
     "iopub.execute_input": "2022-11-02T12:49:28.072329Z",
     "iopub.status.busy": "2022-11-02T12:49:28.071861Z",
     "iopub.status.idle": "2022-11-02T12:49:28.099406Z",
     "shell.execute_reply": "2022-11-02T12:49:28.098382Z"
    },
    "papermill": {
     "duration": 0.08613,
     "end_time": "2022-11-02T12:49:28.101943",
     "exception": false,
     "start_time": "2022-11-02T12:49:28.015813",
     "status": "completed"
    },
    "tags": []
   },
   "outputs": [],
   "source": [
    "df.dropna(subset=['release_date'],inplace=True)"
   ]
  },
  {
   "cell_type": "code",
   "execution_count": 134,
   "id": "b70b8117",
   "metadata": {
    "execution": {
     "iopub.execute_input": "2022-11-02T12:49:28.212454Z",
     "iopub.status.busy": "2022-11-02T12:49:28.211645Z",
     "iopub.status.idle": "2022-11-02T12:49:28.222857Z",
     "shell.execute_reply": "2022-11-02T12:49:28.221586Z"
    },
    "papermill": {
     "duration": 0.069412,
     "end_time": "2022-11-02T12:49:28.225381",
     "exception": false,
     "start_time": "2022-11-02T12:49:28.155969",
     "status": "completed"
    },
    "tags": []
   },
   "outputs": [
    {
     "data": {
      "text/plain": [
       "0"
      ]
     },
     "execution_count": 134,
     "metadata": {},
     "output_type": "execute_result"
    }
   ],
   "source": [
    "df.release_date.isnull().sum()"
   ]
  },
  {
   "cell_type": "code",
   "execution_count": 135,
   "id": "80dec57f",
   "metadata": {
    "execution": {
     "iopub.execute_input": "2022-11-02T12:49:28.335597Z",
     "iopub.status.busy": "2022-11-02T12:49:28.334397Z",
     "iopub.status.idle": "2022-11-02T12:49:28.368688Z",
     "shell.execute_reply": "2022-11-02T12:49:28.367533Z"
    },
    "papermill": {
     "duration": 0.092721,
     "end_time": "2022-11-02T12:49:28.371424",
     "exception": false,
     "start_time": "2022-11-02T12:49:28.278703",
     "status": "completed"
    },
    "tags": []
   },
   "outputs": [],
   "source": [
    "df.release_date = pd.to_datetime(df.release_date, format='%Y-%m-%d')"
   ]
  },
  {
   "cell_type": "code",
   "execution_count": 136,
   "id": "27f08c0a",
   "metadata": {
    "execution": {
     "iopub.execute_input": "2022-11-02T12:49:28.482346Z",
     "iopub.status.busy": "2022-11-02T12:49:28.481908Z",
     "iopub.status.idle": "2022-11-02T12:49:28.489751Z",
     "shell.execute_reply": "2022-11-02T12:49:28.488738Z"
    },
    "papermill": {
     "duration": 0.065915,
     "end_time": "2022-11-02T12:49:28.491959",
     "exception": false,
     "start_time": "2022-11-02T12:49:28.426044",
     "status": "completed"
    },
    "tags": []
   },
   "outputs": [
    {
     "data": {
      "text/plain": [
       "dtype('<M8[ns]')"
      ]
     },
     "execution_count": 136,
     "metadata": {},
     "output_type": "execute_result"
    }
   ],
   "source": [
    "df.release_date.dtype"
   ]
  },
  {
   "cell_type": "markdown",
   "id": "32db5dba",
   "metadata": {
    "papermill": {
     "duration": 0.057613,
     "end_time": "2022-11-02T12:49:28.605507",
     "exception": false,
     "start_time": "2022-11-02T12:49:28.547894",
     "status": "completed"
    },
    "tags": []
   },
   "source": [
    "# **Revenues**"
   ]
  },
  {
   "cell_type": "code",
   "execution_count": 137,
   "id": "75043e09",
   "metadata": {
    "execution": {
     "iopub.execute_input": "2022-11-02T12:49:28.722715Z",
     "iopub.status.busy": "2022-11-02T12:49:28.721913Z",
     "iopub.status.idle": "2022-11-02T12:49:28.728977Z",
     "shell.execute_reply": "2022-11-02T12:49:28.727869Z"
    },
    "papermill": {
     "duration": 0.065972,
     "end_time": "2022-11-02T12:49:28.731437",
     "exception": false,
     "start_time": "2022-11-02T12:49:28.665465",
     "status": "completed"
    },
    "tags": []
   },
   "outputs": [
    {
     "data": {
      "text/plain": [
       "373554033.0"
      ]
     },
     "execution_count": 137,
     "metadata": {},
     "output_type": "execute_result"
    }
   ],
   "source": [
    "df.revenue.values[0]"
   ]
  },
  {
   "cell_type": "code",
   "execution_count": 138,
   "id": "fc1fb777",
   "metadata": {
    "execution": {
     "iopub.execute_input": "2022-11-02T12:49:28.847549Z",
     "iopub.status.busy": "2022-11-02T12:49:28.847125Z",
     "iopub.status.idle": "2022-11-02T12:49:28.854784Z",
     "shell.execute_reply": "2022-11-02T12:49:28.853413Z"
    },
    "papermill": {
     "duration": 0.067046,
     "end_time": "2022-11-02T12:49:28.857424",
     "exception": false,
     "start_time": "2022-11-02T12:49:28.790378",
     "status": "completed"
    },
    "tags": []
   },
   "outputs": [
    {
     "data": {
      "text/plain": [
       "dtype('float64')"
      ]
     },
     "execution_count": 138,
     "metadata": {},
     "output_type": "execute_result"
    }
   ],
   "source": [
    "df.revenue.dtype"
   ]
  },
  {
   "cell_type": "code",
   "execution_count": 139,
   "id": "fba17117",
   "metadata": {
    "execution": {
     "iopub.execute_input": "2022-11-02T12:49:28.968920Z",
     "iopub.status.busy": "2022-11-02T12:49:28.968514Z",
     "iopub.status.idle": "2022-11-02T12:49:28.977232Z",
     "shell.execute_reply": "2022-11-02T12:49:28.975927Z"
    },
    "papermill": {
     "duration": 0.067284,
     "end_time": "2022-11-02T12:49:28.980069",
     "exception": false,
     "start_time": "2022-11-02T12:49:28.912785",
     "status": "completed"
    },
    "tags": []
   },
   "outputs": [],
   "source": [
    "df.revenue = df.revenue.astype('int64')"
   ]
  },
  {
   "cell_type": "code",
   "execution_count": 140,
   "id": "44a25871",
   "metadata": {
    "execution": {
     "iopub.execute_input": "2022-11-02T12:49:29.095090Z",
     "iopub.status.busy": "2022-11-02T12:49:29.094692Z",
     "iopub.status.idle": "2022-11-02T12:49:29.102364Z",
     "shell.execute_reply": "2022-11-02T12:49:29.101073Z"
    },
    "papermill": {
     "duration": 0.067494,
     "end_time": "2022-11-02T12:49:29.105036",
     "exception": false,
     "start_time": "2022-11-02T12:49:29.037542",
     "status": "completed"
    },
    "tags": []
   },
   "outputs": [
    {
     "data": {
      "text/plain": [
       "dtype('int64')"
      ]
     },
     "execution_count": 140,
     "metadata": {},
     "output_type": "execute_result"
    }
   ],
   "source": [
    "df.revenue.dtype"
   ]
  },
  {
   "cell_type": "code",
   "execution_count": 141,
   "id": "3162634e",
   "metadata": {
    "execution": {
     "iopub.execute_input": "2022-11-02T12:49:29.217695Z",
     "iopub.status.busy": "2022-11-02T12:49:29.217273Z",
     "iopub.status.idle": "2022-11-02T12:49:29.229981Z",
     "shell.execute_reply": "2022-11-02T12:49:29.228736Z"
    },
    "papermill": {
     "duration": 0.073638,
     "end_time": "2022-11-02T12:49:29.232792",
     "exception": false,
     "start_time": "2022-11-02T12:49:29.159154",
     "status": "completed"
    },
    "tags": []
   },
   "outputs": [
    {
     "data": {
      "text/plain": [
       "count    4.532100e+04\n",
       "mean     1.123985e+07\n",
       "std      6.442712e+07\n",
       "min      0.000000e+00\n",
       "25%      0.000000e+00\n",
       "50%      0.000000e+00\n",
       "75%      0.000000e+00\n",
       "max      2.787965e+09\n",
       "Name: revenue, dtype: float64"
      ]
     },
     "execution_count": 141,
     "metadata": {},
     "output_type": "execute_result"
    }
   ],
   "source": [
    "df.revenue.describe()\n",
    "\n",
    "# 0 to 75th quantile revenue has 0/-\n",
    "# 75% of movies has revenue 0/-\n",
    "# 0 means missing value."
   ]
  },
  {
   "cell_type": "code",
   "execution_count": 142,
   "id": "244876c3",
   "metadata": {
    "execution": {
     "iopub.execute_input": "2022-11-02T12:49:29.347182Z",
     "iopub.status.busy": "2022-11-02T12:49:29.346737Z",
     "iopub.status.idle": "2022-11-02T12:49:29.359960Z",
     "shell.execute_reply": "2022-11-02T12:49:29.358554Z"
    },
    "papermill": {
     "duration": 0.073653,
     "end_time": "2022-11-02T12:49:29.362683",
     "exception": false,
     "start_time": "2022-11-02T12:49:29.289030",
     "status": "completed"
    },
    "tags": []
   },
   "outputs": [
    {
     "data": {
      "text/plain": [
       "83.67864786743452"
      ]
     },
     "execution_count": 142,
     "metadata": {},
     "output_type": "execute_result"
    }
   ],
   "source": [
    "(sum(df.revenue == 0)*100)/(df.shape[0])\n",
    "\n",
    "# 83% -> missing value\n",
    "# we cant even delete or imputation.\n",
    "# based on the problem statement delete the column."
   ]
  },
  {
   "cell_type": "markdown",
   "id": "a0836c44",
   "metadata": {
    "papermill": {
     "duration": 0.054271,
     "end_time": "2022-11-02T12:49:29.473735",
     "exception": false,
     "start_time": "2022-11-02T12:49:29.419464",
     "status": "completed"
    },
    "tags": []
   },
   "source": [
    "# **RunTime**\n",
    "\n",
    "runtime of the movie"
   ]
  },
  {
   "cell_type": "code",
   "execution_count": 143,
   "id": "552512e8",
   "metadata": {
    "execution": {
     "iopub.execute_input": "2022-11-02T12:49:29.588005Z",
     "iopub.status.busy": "2022-11-02T12:49:29.587577Z",
     "iopub.status.idle": "2022-11-02T12:49:29.601533Z",
     "shell.execute_reply": "2022-11-02T12:49:29.599722Z"
    },
    "papermill": {
     "duration": 0.073057,
     "end_time": "2022-11-02T12:49:29.604963",
     "exception": false,
     "start_time": "2022-11-02T12:49:29.531906",
     "status": "completed"
    },
    "tags": []
   },
   "outputs": [
    {
     "data": {
      "text/plain": [
       "81.0"
      ]
     },
     "execution_count": 143,
     "metadata": {},
     "output_type": "execute_result"
    }
   ],
   "source": [
    "df.runtime.values[0]"
   ]
  },
  {
   "cell_type": "code",
   "execution_count": 144,
   "id": "b4958e21",
   "metadata": {
    "execution": {
     "iopub.execute_input": "2022-11-02T12:49:29.728400Z",
     "iopub.status.busy": "2022-11-02T12:49:29.727933Z",
     "iopub.status.idle": "2022-11-02T12:49:29.735896Z",
     "shell.execute_reply": "2022-11-02T12:49:29.734963Z"
    },
    "papermill": {
     "duration": 0.073728,
     "end_time": "2022-11-02T12:49:29.738220",
     "exception": false,
     "start_time": "2022-11-02T12:49:29.664492",
     "status": "completed"
    },
    "tags": []
   },
   "outputs": [
    {
     "data": {
      "text/plain": [
       "244"
      ]
     },
     "execution_count": 144,
     "metadata": {},
     "output_type": "execute_result"
    }
   ],
   "source": [
    "df.runtime.isnull().sum()"
   ]
  },
  {
   "cell_type": "code",
   "execution_count": 145,
   "id": "2642a84a",
   "metadata": {
    "execution": {
     "iopub.execute_input": "2022-11-02T12:49:29.880127Z",
     "iopub.status.busy": "2022-11-02T12:49:29.878301Z",
     "iopub.status.idle": "2022-11-02T12:49:29.893050Z",
     "shell.execute_reply": "2022-11-02T12:49:29.891903Z"
    },
    "papermill": {
     "duration": 0.086819,
     "end_time": "2022-11-02T12:49:29.895741",
     "exception": false,
     "start_time": "2022-11-02T12:49:29.808922",
     "status": "completed"
    },
    "tags": []
   },
   "outputs": [],
   "source": [
    "df.runtime.fillna(df.runtime.median,inplace=True)"
   ]
  },
  {
   "cell_type": "code",
   "execution_count": 146,
   "id": "21b71384",
   "metadata": {
    "execution": {
     "iopub.execute_input": "2022-11-02T12:49:30.012178Z",
     "iopub.status.busy": "2022-11-02T12:49:30.011378Z",
     "iopub.status.idle": "2022-11-02T12:49:30.020739Z",
     "shell.execute_reply": "2022-11-02T12:49:30.019775Z"
    },
    "papermill": {
     "duration": 0.070151,
     "end_time": "2022-11-02T12:49:30.023368",
     "exception": false,
     "start_time": "2022-11-02T12:49:29.953217",
     "status": "completed"
    },
    "tags": []
   },
   "outputs": [
    {
     "data": {
      "text/plain": [
       "0"
      ]
     },
     "execution_count": 146,
     "metadata": {},
     "output_type": "execute_result"
    }
   ],
   "source": [
    "df.runtime.isnull().sum()"
   ]
  },
  {
   "cell_type": "code",
   "execution_count": 147,
   "id": "69a57494",
   "metadata": {
    "execution": {
     "iopub.execute_input": "2022-11-02T12:49:30.138448Z",
     "iopub.status.busy": "2022-11-02T12:49:30.137721Z",
     "iopub.status.idle": "2022-11-02T12:49:30.153145Z",
     "shell.execute_reply": "2022-11-02T12:49:30.151802Z"
    },
    "papermill": {
     "duration": 0.076724,
     "end_time": "2022-11-02T12:49:30.156256",
     "exception": false,
     "start_time": "2022-11-02T12:49:30.079532",
     "status": "completed"
    },
    "tags": []
   },
   "outputs": [
    {
     "data": {
      "text/plain": [
       "count     45321.0\n",
       "unique      354.0\n",
       "top          90.0\n",
       "freq       2548.0\n",
       "Name: runtime, dtype: float64"
      ]
     },
     "execution_count": 147,
     "metadata": {},
     "output_type": "execute_result"
    }
   ],
   "source": [
    "df.runtime.describe()"
   ]
  },
  {
   "cell_type": "code",
   "execution_count": 148,
   "id": "8a8f8bcd",
   "metadata": {
    "execution": {
     "iopub.execute_input": "2022-11-02T12:49:30.268728Z",
     "iopub.status.busy": "2022-11-02T12:49:30.268251Z",
     "iopub.status.idle": "2022-11-02T12:49:30.282921Z",
     "shell.execute_reply": "2022-11-02T12:49:30.281927Z"
    },
    "papermill": {
     "duration": 0.074344,
     "end_time": "2022-11-02T12:49:30.285385",
     "exception": false,
     "start_time": "2022-11-02T12:49:30.211041",
     "status": "completed"
    },
    "tags": []
   },
   "outputs": [
    {
     "data": {
      "text/plain": [
       "1531"
      ]
     },
     "execution_count": 148,
     "metadata": {},
     "output_type": "execute_result"
    }
   ],
   "source": [
    "sum(df.runtime == 0)"
   ]
  },
  {
   "cell_type": "code",
   "execution_count": 149,
   "id": "04378fb2",
   "metadata": {
    "execution": {
     "iopub.execute_input": "2022-11-02T12:49:30.398185Z",
     "iopub.status.busy": "2022-11-02T12:49:30.397555Z",
     "iopub.status.idle": "2022-11-02T12:49:30.408543Z",
     "shell.execute_reply": "2022-11-02T12:49:30.407331Z"
    },
    "papermill": {
     "duration": 0.071155,
     "end_time": "2022-11-02T12:49:30.411703",
     "exception": false,
     "start_time": "2022-11-02T12:49:30.340548",
     "status": "completed"
    },
    "tags": []
   },
   "outputs": [],
   "source": [
    "df.loc[df.runtime == 0,'runtime']  = 95\n",
    "\n",
    "#95 - > 50th quartile median"
   ]
  },
  {
   "cell_type": "code",
   "execution_count": 150,
   "id": "972002d7",
   "metadata": {
    "execution": {
     "iopub.execute_input": "2022-11-02T12:49:30.525094Z",
     "iopub.status.busy": "2022-11-02T12:49:30.524242Z",
     "iopub.status.idle": "2022-11-02T12:49:30.542609Z",
     "shell.execute_reply": "2022-11-02T12:49:30.541347Z"
    },
    "papermill": {
     "duration": 0.07732,
     "end_time": "2022-11-02T12:49:30.545372",
     "exception": false,
     "start_time": "2022-11-02T12:49:30.468052",
     "status": "completed"
    },
    "tags": []
   },
   "outputs": [
    {
     "data": {
      "text/plain": [
       "0"
      ]
     },
     "execution_count": 150,
     "metadata": {},
     "output_type": "execute_result"
    }
   ],
   "source": [
    "sum(df.runtime == 0)"
   ]
  },
  {
   "cell_type": "markdown",
   "id": "5c0bd9c3",
   "metadata": {
    "papermill": {
     "duration": 0.054904,
     "end_time": "2022-11-02T12:49:30.658486",
     "exception": false,
     "start_time": "2022-11-02T12:49:30.603582",
     "status": "completed"
    },
    "tags": []
   },
   "source": [
    "# **Spoken Languages**"
   ]
  },
  {
   "cell_type": "code",
   "execution_count": 151,
   "id": "8223bbd0",
   "metadata": {
    "execution": {
     "iopub.execute_input": "2022-11-02T12:49:30.775972Z",
     "iopub.status.busy": "2022-11-02T12:49:30.775469Z",
     "iopub.status.idle": "2022-11-02T12:49:30.785202Z",
     "shell.execute_reply": "2022-11-02T12:49:30.783101Z"
    },
    "papermill": {
     "duration": 0.073615,
     "end_time": "2022-11-02T12:49:30.788625",
     "exception": false,
     "start_time": "2022-11-02T12:49:30.715010",
     "status": "completed"
    },
    "tags": []
   },
   "outputs": [
    {
     "data": {
      "text/plain": [
       "\"[{'iso_639_1': 'en', 'name': 'English'}, {'iso_639_1': 'fr', 'name': 'Français'}]\""
      ]
     },
     "execution_count": 151,
     "metadata": {},
     "output_type": "execute_result"
    }
   ],
   "source": [
    "df.spoken_languages.values[1]"
   ]
  },
  {
   "cell_type": "code",
   "execution_count": 152,
   "id": "4361f221",
   "metadata": {
    "execution": {
     "iopub.execute_input": "2022-11-02T12:49:30.903569Z",
     "iopub.status.busy": "2022-11-02T12:49:30.903117Z",
     "iopub.status.idle": "2022-11-02T12:49:30.912383Z",
     "shell.execute_reply": "2022-11-02T12:49:30.910904Z"
    },
    "papermill": {
     "duration": 0.070835,
     "end_time": "2022-11-02T12:49:30.915732",
     "exception": false,
     "start_time": "2022-11-02T12:49:30.844897",
     "status": "completed"
    },
    "tags": []
   },
   "outputs": [
    {
     "data": {
      "text/plain": [
       "[{'iso_639_1': 'en', 'name': 'English'},\n",
       " {'iso_639_1': 'fr', 'name': 'Français'}]"
      ]
     },
     "execution_count": 152,
     "metadata": {},
     "output_type": "execute_result"
    }
   ],
   "source": [
    "ast.literal_eval(df.spoken_languages.values[1])"
   ]
  },
  {
   "cell_type": "code",
   "execution_count": 153,
   "id": "d9f0ac83",
   "metadata": {
    "execution": {
     "iopub.execute_input": "2022-11-02T12:49:31.033454Z",
     "iopub.status.busy": "2022-11-02T12:49:31.033013Z",
     "iopub.status.idle": "2022-11-02T12:49:31.041597Z",
     "shell.execute_reply": "2022-11-02T12:49:31.039947Z"
    },
    "papermill": {
     "duration": 0.071157,
     "end_time": "2022-11-02T12:49:31.045438",
     "exception": false,
     "start_time": "2022-11-02T12:49:30.974281",
     "status": "completed"
    },
    "tags": []
   },
   "outputs": [
    {
     "data": {
      "text/plain": [
       "2"
      ]
     },
     "execution_count": 153,
     "metadata": {},
     "output_type": "execute_result"
    }
   ],
   "source": [
    "len(ast.literal_eval(df.spoken_languages.values[1]))"
   ]
  },
  {
   "cell_type": "code",
   "execution_count": 154,
   "id": "e05d4bd5",
   "metadata": {
    "execution": {
     "iopub.execute_input": "2022-11-02T12:49:31.165727Z",
     "iopub.status.busy": "2022-11-02T12:49:31.165292Z",
     "iopub.status.idle": "2022-11-02T12:49:32.046391Z",
     "shell.execute_reply": "2022-11-02T12:49:32.044954Z"
    },
    "papermill": {
     "duration": 0.942148,
     "end_time": "2022-11-02T12:49:32.048841",
     "exception": false,
     "start_time": "2022-11-02T12:49:31.106693",
     "status": "completed"
    },
    "tags": []
   },
   "outputs": [],
   "source": [
    "# in how many languages does the movie has\n",
    "\n",
    "import ast\n",
    "totalLanguages = []\n",
    "\n",
    "for prod in df.spoken_languages.values: # looping through all the rows\n",
    "  prodList = ast.literal_eval(prod) #converting from string to list of dictionary \n",
    "  totalLanguages.append(len(prodList)) #how many languages spoken?\n",
    "\n",
    "df['TotalLanguages'] = totalLanguages\n"
   ]
  },
  {
   "cell_type": "code",
   "execution_count": 155,
   "id": "97b5449c",
   "metadata": {
    "execution": {
     "iopub.execute_input": "2022-11-02T12:49:32.160123Z",
     "iopub.status.busy": "2022-11-02T12:49:32.159711Z",
     "iopub.status.idle": "2022-11-02T12:49:32.195015Z",
     "shell.execute_reply": "2022-11-02T12:49:32.193981Z"
    },
    "papermill": {
     "duration": 0.094449,
     "end_time": "2022-11-02T12:49:32.198404",
     "exception": false,
     "start_time": "2022-11-02T12:49:32.103955",
     "status": "completed"
    },
    "tags": []
   },
   "outputs": [],
   "source": [
    "df = df.drop(columns = ['spoken_languages'])"
   ]
  },
  {
   "cell_type": "markdown",
   "id": "d31ddfa5",
   "metadata": {
    "papermill": {
     "duration": 0.055994,
     "end_time": "2022-11-02T12:49:32.312434",
     "exception": false,
     "start_time": "2022-11-02T12:49:32.256440",
     "status": "completed"
    },
    "tags": []
   },
   "source": [
    "# **Status**"
   ]
  },
  {
   "cell_type": "code",
   "execution_count": 156,
   "id": "821340c6",
   "metadata": {
    "execution": {
     "iopub.execute_input": "2022-11-02T12:49:32.432536Z",
     "iopub.status.busy": "2022-11-02T12:49:32.431671Z",
     "iopub.status.idle": "2022-11-02T12:49:32.439796Z",
     "shell.execute_reply": "2022-11-02T12:49:32.438422Z"
    },
    "papermill": {
     "duration": 0.072336,
     "end_time": "2022-11-02T12:49:32.442524",
     "exception": false,
     "start_time": "2022-11-02T12:49:32.370188",
     "status": "completed"
    },
    "tags": []
   },
   "outputs": [
    {
     "data": {
      "text/plain": [
       "array(['Released', 'Released', 'Released', 'Released', 'Released',\n",
       "       'Released', 'Released', 'Released', 'Released', 'Released',\n",
       "       'Released', 'Released', 'Released', 'Released', 'Released'],\n",
       "      dtype=object)"
      ]
     },
     "execution_count": 156,
     "metadata": {},
     "output_type": "execute_result"
    }
   ],
   "source": [
    "df.status.values[0:15]"
   ]
  },
  {
   "cell_type": "code",
   "execution_count": 157,
   "id": "3dad356a",
   "metadata": {
    "execution": {
     "iopub.execute_input": "2022-11-02T12:49:32.556228Z",
     "iopub.status.busy": "2022-11-02T12:49:32.555471Z",
     "iopub.status.idle": "2022-11-02T12:49:32.566449Z",
     "shell.execute_reply": "2022-11-02T12:49:32.564996Z"
    },
    "papermill": {
     "duration": 0.070484,
     "end_time": "2022-11-02T12:49:32.569394",
     "exception": false,
     "start_time": "2022-11-02T12:49:32.498910",
     "status": "completed"
    },
    "tags": []
   },
   "outputs": [
    {
     "data": {
      "text/plain": [
       "80"
      ]
     },
     "execution_count": 157,
     "metadata": {},
     "output_type": "execute_result"
    }
   ],
   "source": [
    "df.status.isnull().sum()"
   ]
  },
  {
   "cell_type": "code",
   "execution_count": 158,
   "id": "8fc7b56a",
   "metadata": {
    "execution": {
     "iopub.execute_input": "2022-11-02T12:49:32.684032Z",
     "iopub.status.busy": "2022-11-02T12:49:32.683269Z",
     "iopub.status.idle": "2022-11-02T12:49:32.689428Z",
     "shell.execute_reply": "2022-11-02T12:49:32.688520Z"
    },
    "papermill": {
     "duration": 0.066316,
     "end_time": "2022-11-02T12:49:32.691778",
     "exception": false,
     "start_time": "2022-11-02T12:49:32.625462",
     "status": "completed"
    },
    "tags": []
   },
   "outputs": [
    {
     "data": {
      "text/plain": [
       "dtype('O')"
      ]
     },
     "execution_count": 158,
     "metadata": {},
     "output_type": "execute_result"
    }
   ],
   "source": [
    "df.status.dtype"
   ]
  },
  {
   "cell_type": "code",
   "execution_count": 159,
   "id": "eff6bea8",
   "metadata": {
    "execution": {
     "iopub.execute_input": "2022-11-02T12:49:32.805548Z",
     "iopub.status.busy": "2022-11-02T12:49:32.805110Z",
     "iopub.status.idle": "2022-11-02T12:49:32.816645Z",
     "shell.execute_reply": "2022-11-02T12:49:32.815430Z"
    },
    "papermill": {
     "duration": 0.072501,
     "end_time": "2022-11-02T12:49:32.819715",
     "exception": false,
     "start_time": "2022-11-02T12:49:32.747214",
     "status": "completed"
    },
    "tags": []
   },
   "outputs": [
    {
     "data": {
      "text/plain": [
       "Released           44885\n",
       "Rumored              226\n",
       "Post Production       97\n",
       "In Production         19\n",
       "Planned               13\n",
       "Canceled               1\n",
       "Name: status, dtype: int64"
      ]
     },
     "execution_count": 159,
     "metadata": {},
     "output_type": "execute_result"
    }
   ],
   "source": [
    "df.status.value_counts()"
   ]
  },
  {
   "cell_type": "code",
   "execution_count": 160,
   "id": "7ab202cc",
   "metadata": {
    "execution": {
     "iopub.execute_input": "2022-11-02T12:49:32.933708Z",
     "iopub.status.busy": "2022-11-02T12:49:32.932729Z",
     "iopub.status.idle": "2022-11-02T12:49:32.941832Z",
     "shell.execute_reply": "2022-11-02T12:49:32.940492Z"
    },
    "papermill": {
     "duration": 0.070075,
     "end_time": "2022-11-02T12:49:32.944647",
     "exception": false,
     "start_time": "2022-11-02T12:49:32.874572",
     "status": "completed"
    },
    "tags": []
   },
   "outputs": [],
   "source": [
    "df.status = df.status.fillna('Released')"
   ]
  },
  {
   "cell_type": "code",
   "execution_count": 161,
   "id": "1faf8f9e",
   "metadata": {
    "execution": {
     "iopub.execute_input": "2022-11-02T12:49:33.062759Z",
     "iopub.status.busy": "2022-11-02T12:49:33.061924Z",
     "iopub.status.idle": "2022-11-02T12:49:33.073674Z",
     "shell.execute_reply": "2022-11-02T12:49:33.072586Z"
    },
    "papermill": {
     "duration": 0.075435,
     "end_time": "2022-11-02T12:49:33.076296",
     "exception": false,
     "start_time": "2022-11-02T12:49:33.000861",
     "status": "completed"
    },
    "tags": []
   },
   "outputs": [
    {
     "data": {
      "text/plain": [
       "0"
      ]
     },
     "execution_count": 161,
     "metadata": {},
     "output_type": "execute_result"
    }
   ],
   "source": [
    "df.status.isnull().sum()"
   ]
  },
  {
   "cell_type": "markdown",
   "id": "0dc11030",
   "metadata": {
    "papermill": {
     "duration": 0.055031,
     "end_time": "2022-11-02T12:49:33.189513",
     "exception": false,
     "start_time": "2022-11-02T12:49:33.134482",
     "status": "completed"
    },
    "tags": []
   },
   "source": [
    "# **Others**"
   ]
  },
  {
   "cell_type": "code",
   "execution_count": 162,
   "id": "aa75712a",
   "metadata": {
    "execution": {
     "iopub.execute_input": "2022-11-02T12:49:33.307667Z",
     "iopub.status.busy": "2022-11-02T12:49:33.306368Z",
     "iopub.status.idle": "2022-11-02T12:49:33.327040Z",
     "shell.execute_reply": "2022-11-02T12:49:33.324900Z"
    },
    "papermill": {
     "duration": 0.083055,
     "end_time": "2022-11-02T12:49:33.330765",
     "exception": false,
     "start_time": "2022-11-02T12:49:33.247710",
     "status": "completed"
    },
    "tags": []
   },
   "outputs": [],
   "source": [
    "df = df.drop(columns = ['tagline','video'])"
   ]
  },
  {
   "cell_type": "code",
   "execution_count": 163,
   "id": "6d13eb2d",
   "metadata": {
    "execution": {
     "iopub.execute_input": "2022-11-02T12:49:33.447641Z",
     "iopub.status.busy": "2022-11-02T12:49:33.446739Z",
     "iopub.status.idle": "2022-11-02T12:49:33.486701Z",
     "shell.execute_reply": "2022-11-02T12:49:33.485383Z"
    },
    "papermill": {
     "duration": 0.101254,
     "end_time": "2022-11-02T12:49:33.489594",
     "exception": false,
     "start_time": "2022-11-02T12:49:33.388340",
     "status": "completed"
    },
    "tags": []
   },
   "outputs": [
    {
     "data": {
      "text/plain": [
       "adult                   0\n",
       "budget                  0\n",
       "id                      0\n",
       "imdb_id                 0\n",
       "original_language       0\n",
       "original_title          0\n",
       "overview                0\n",
       "popularity              0\n",
       "production_countries    0\n",
       "release_date            0\n",
       "revenue                 0\n",
       "runtime                 0\n",
       "status                  0\n",
       "vote_average            0\n",
       "vote_count              0\n",
       "collectionName          0\n",
       "Romance                 3\n",
       "Drama                   3\n",
       "History                 3\n",
       "Thriller                3\n",
       "Science Fiction         3\n",
       "Family                  3\n",
       "Fantasy                 3\n",
       "Action                  3\n",
       "Horror                  3\n",
       "Documentary             3\n",
       "TV Movie                3\n",
       "Music                   3\n",
       "War                     3\n",
       "Foreign                 3\n",
       "Crime                   3\n",
       "Western                 3\n",
       "Animation               3\n",
       "Adventure               3\n",
       "Mystery                 3\n",
       "Comedy                  3\n",
       "homepagePresent         0\n",
       "z_score_popularity      0\n",
       "outliers                0\n",
       "Producer1               0\n",
       "Producer2               0\n",
       "TotalLanguages          0\n",
       "dtype: int64"
      ]
     },
     "execution_count": 163,
     "metadata": {},
     "output_type": "execute_result"
    }
   ],
   "source": [
    "df.isnull().sum()"
   ]
  },
  {
   "cell_type": "code",
   "execution_count": 164,
   "id": "e3dfe95c",
   "metadata": {
    "execution": {
     "iopub.execute_input": "2022-11-02T12:49:33.606469Z",
     "iopub.status.busy": "2022-11-02T12:49:33.604996Z",
     "iopub.status.idle": "2022-11-02T12:49:33.665369Z",
     "shell.execute_reply": "2022-11-02T12:49:33.663424Z"
    },
    "papermill": {
     "duration": 0.121727,
     "end_time": "2022-11-02T12:49:33.669015",
     "exception": false,
     "start_time": "2022-11-02T12:49:33.547288",
     "status": "completed"
    },
    "tags": []
   },
   "outputs": [],
   "source": [
    "df = df.dropna()"
   ]
  },
  {
   "cell_type": "code",
   "execution_count": 165,
   "id": "84330573",
   "metadata": {
    "execution": {
     "iopub.execute_input": "2022-11-02T12:49:33.786634Z",
     "iopub.status.busy": "2022-11-02T12:49:33.785794Z",
     "iopub.status.idle": "2022-11-02T12:49:33.821486Z",
     "shell.execute_reply": "2022-11-02T12:49:33.820632Z"
    },
    "papermill": {
     "duration": 0.095381,
     "end_time": "2022-11-02T12:49:33.824110",
     "exception": false,
     "start_time": "2022-11-02T12:49:33.728729",
     "status": "completed"
    },
    "tags": []
   },
   "outputs": [
    {
     "data": {
      "text/plain": [
       "adult                   0\n",
       "budget                  0\n",
       "id                      0\n",
       "imdb_id                 0\n",
       "original_language       0\n",
       "original_title          0\n",
       "overview                0\n",
       "popularity              0\n",
       "production_countries    0\n",
       "release_date            0\n",
       "revenue                 0\n",
       "runtime                 0\n",
       "status                  0\n",
       "vote_average            0\n",
       "vote_count              0\n",
       "collectionName          0\n",
       "Romance                 0\n",
       "Drama                   0\n",
       "History                 0\n",
       "Thriller                0\n",
       "Science Fiction         0\n",
       "Family                  0\n",
       "Fantasy                 0\n",
       "Action                  0\n",
       "Horror                  0\n",
       "Documentary             0\n",
       "TV Movie                0\n",
       "Music                   0\n",
       "War                     0\n",
       "Foreign                 0\n",
       "Crime                   0\n",
       "Western                 0\n",
       "Animation               0\n",
       "Adventure               0\n",
       "Mystery                 0\n",
       "Comedy                  0\n",
       "homepagePresent         0\n",
       "z_score_popularity      0\n",
       "outliers                0\n",
       "Producer1               0\n",
       "Producer2               0\n",
       "TotalLanguages          0\n",
       "dtype: int64"
      ]
     },
     "execution_count": 165,
     "metadata": {},
     "output_type": "execute_result"
    }
   ],
   "source": [
    "df.isnull().sum()"
   ]
  },
  {
   "cell_type": "code",
   "execution_count": 166,
   "id": "6ee02551",
   "metadata": {
    "execution": {
     "iopub.execute_input": "2022-11-02T12:49:33.937133Z",
     "iopub.status.busy": "2022-11-02T12:49:33.936054Z",
     "iopub.status.idle": "2022-11-02T12:49:33.943053Z",
     "shell.execute_reply": "2022-11-02T12:49:33.942184Z"
    },
    "papermill": {
     "duration": 0.066299,
     "end_time": "2022-11-02T12:49:33.945587",
     "exception": false,
     "start_time": "2022-11-02T12:49:33.879288",
     "status": "completed"
    },
    "tags": []
   },
   "outputs": [
    {
     "data": {
      "text/plain": [
       "(45318, 42)"
      ]
     },
     "execution_count": 166,
     "metadata": {},
     "output_type": "execute_result"
    }
   ],
   "source": [
    "df.shape"
   ]
  },
  {
   "cell_type": "code",
   "execution_count": 167,
   "id": "437412f6",
   "metadata": {
    "execution": {
     "iopub.execute_input": "2022-11-02T12:49:34.058372Z",
     "iopub.status.busy": "2022-11-02T12:49:34.057483Z",
     "iopub.status.idle": "2022-11-02T12:49:34.071524Z",
     "shell.execute_reply": "2022-11-02T12:49:34.070289Z"
    },
    "papermill": {
     "duration": 0.073591,
     "end_time": "2022-11-02T12:49:34.074300",
     "exception": false,
     "start_time": "2022-11-02T12:49:34.000709",
     "status": "completed"
    },
    "tags": []
   },
   "outputs": [],
   "source": [
    "dfnew = df.loc[(df.revenue != 0) | (df.budget != 0),:]"
   ]
  },
  {
   "cell_type": "code",
   "execution_count": 168,
   "id": "6830d00d",
   "metadata": {
    "execution": {
     "iopub.execute_input": "2022-11-02T12:49:34.190344Z",
     "iopub.status.busy": "2022-11-02T12:49:34.189550Z",
     "iopub.status.idle": "2022-11-02T12:49:34.197576Z",
     "shell.execute_reply": "2022-11-02T12:49:34.196366Z"
    },
    "papermill": {
     "duration": 0.067822,
     "end_time": "2022-11-02T12:49:34.200289",
     "exception": false,
     "start_time": "2022-11-02T12:49:34.132467",
     "status": "completed"
    },
    "tags": []
   },
   "outputs": [
    {
     "data": {
      "text/plain": [
       "(10897, 42)"
      ]
     },
     "execution_count": 168,
     "metadata": {},
     "output_type": "execute_result"
    }
   ],
   "source": [
    "dfnew.shape"
   ]
  },
  {
   "cell_type": "code",
   "execution_count": 169,
   "id": "46b8ec9a",
   "metadata": {
    "execution": {
     "iopub.execute_input": "2022-11-02T12:49:34.387169Z",
     "iopub.status.busy": "2022-11-02T12:49:34.386117Z",
     "iopub.status.idle": "2022-11-02T12:49:34.398809Z",
     "shell.execute_reply": "2022-11-02T12:49:34.396865Z"
    },
    "papermill": {
     "duration": 0.084003,
     "end_time": "2022-11-02T12:49:34.401890",
     "exception": false,
     "start_time": "2022-11-02T12:49:34.317887",
     "status": "completed"
    },
    "tags": []
   },
   "outputs": [
    {
     "name": "stderr",
     "output_type": "stream",
     "text": [
      "/opt/conda/lib/python3.7/site-packages/ipykernel_launcher.py:1: SettingWithCopyWarning: \n",
      "A value is trying to be set on a copy of a slice from a DataFrame.\n",
      "Try using .loc[row_indexer,col_indexer] = value instead\n",
      "\n",
      "See the caveats in the documentation: https://pandas.pydata.org/pandas-docs/stable/user_guide/indexing.html#returning-a-view-versus-a-copy\n",
      "  \"\"\"Entry point for launching an IPython kernel.\n",
      "/opt/conda/lib/python3.7/site-packages/ipykernel_launcher.py:2: SettingWithCopyWarning: \n",
      "A value is trying to be set on a copy of a slice from a DataFrame.\n",
      "Try using .loc[row_indexer,col_indexer] = value instead\n",
      "\n",
      "See the caveats in the documentation: https://pandas.pydata.org/pandas-docs/stable/user_guide/indexing.html#returning-a-view-versus-a-copy\n",
      "  \n"
     ]
    }
   ],
   "source": [
    "dfnew['profit'] = (dfnew.revenue - dfnew.budget)/dfnew.budget\n",
    "dfnew['profit'] = dfnew['profit'].clip(-1,10)"
   ]
  },
  {
   "cell_type": "code",
   "execution_count": 170,
   "id": "912abd2d",
   "metadata": {
    "execution": {
     "iopub.execute_input": "2022-11-02T12:49:34.519407Z",
     "iopub.status.busy": "2022-11-02T12:49:34.518379Z",
     "iopub.status.idle": "2022-11-02T12:49:34.936653Z",
     "shell.execute_reply": "2022-11-02T12:49:34.935412Z"
    },
    "papermill": {
     "duration": 0.478904,
     "end_time": "2022-11-02T12:49:34.939453",
     "exception": false,
     "start_time": "2022-11-02T12:49:34.460549",
     "status": "completed"
    },
    "tags": []
   },
   "outputs": [],
   "source": [
    "dfnew.to_csv('finalCleanedData.csv')"
   ]
  }
 ],
 "metadata": {
  "kernelspec": {
   "display_name": "Python 3",
   "language": "python",
   "name": "python3"
  },
  "language_info": {
   "codemirror_mode": {
    "name": "ipython",
    "version": 3
   },
   "file_extension": ".py",
   "mimetype": "text/x-python",
   "name": "python",
   "nbconvert_exporter": "python",
   "pygments_lexer": "ipython3",
   "version": "3.7.12"
  },
  "papermill": {
   "default_parameters": {},
   "duration": 40.534044,
   "end_time": "2022-11-02T12:49:35.824275",
   "environment_variables": {},
   "exception": null,
   "input_path": "__notebook__.ipynb",
   "output_path": "__notebook__.ipynb",
   "parameters": {},
   "start_time": "2022-11-02T12:48:55.290231",
   "version": "2.3.4"
  }
 },
 "nbformat": 4,
 "nbformat_minor": 5
}
