{
  "nbformat": 4,
  "nbformat_minor": 0,
  "metadata": {
    "colab": {
      "provenance": [],
      "collapsed_sections": [
        "_Zv-G0Rr4NiY",
        "M_LLyZWH5QvC",
        "t1rVZxjm-zh0",
        "1vVcMWLWClRn",
        "wcCP2w-4Cwv6",
        "3hCgD2H2Dvfp",
        "0rxjE7PH-AyP"
      ],
      "authorship_tag": "ABX9TyM+8bIEP94zeYK/tMJW8KAp",
      "include_colab_link": true
    },
    "kernelspec": {
      "name": "python3",
      "display_name": "Python 3"
    },
    "language_info": {
      "name": "python"
    }
  },
  "cells": [
    {
      "cell_type": "markdown",
      "metadata": {
        "id": "view-in-github",
        "colab_type": "text"
      },
      "source": [
        "<a href=\"https://colab.research.google.com/github/sandhc1/Projects/blob/main/E-Commerce/E_commerce.ipynb\" target=\"_parent\"><img src=\"https://colab.research.google.com/assets/colab-badge.svg\" alt=\"Open In Colab\"/></a>"
      ]
    },
    {
      "cell_type": "code",
      "source": [
        "!pip install nltk"
      ],
      "metadata": {
        "colab": {
          "base_uri": "https://localhost:8080/"
        },
        "id": "Y3tsNUtB7cMA",
        "outputId": "ca4828ff-be31-41a0-b7da-61af36f8f194"
      },
      "execution_count": 2,
      "outputs": [
        {
          "output_type": "stream",
          "name": "stdout",
          "text": [
            "Looking in indexes: https://pypi.org/simple, https://us-python.pkg.dev/colab-wheels/public/simple/\n",
            "Requirement already satisfied: nltk in /usr/local/lib/python3.8/dist-packages (3.7)\n",
            "Requirement already satisfied: joblib in /usr/local/lib/python3.8/dist-packages (from nltk) (1.2.0)\n",
            "Requirement already satisfied: click in /usr/local/lib/python3.8/dist-packages (from nltk) (7.1.2)\n",
            "Requirement already satisfied: tqdm in /usr/local/lib/python3.8/dist-packages (from nltk) (4.64.1)\n",
            "Requirement already satisfied: regex>=2021.8.3 in /usr/local/lib/python3.8/dist-packages (from nltk) (2022.6.2)\n"
          ]
        }
      ]
    },
    {
      "cell_type": "code",
      "execution_count": 3,
      "metadata": {
        "id": "GAGPim_Iy9Vd",
        "colab": {
          "base_uri": "https://localhost:8080/"
        },
        "outputId": "5b1f5890-1be0-44b0-dcf4-9032993148be"
      },
      "outputs": [
        {
          "output_type": "stream",
          "name": "stderr",
          "text": [
            "[nltk_data] Downloading package punkt to /root/nltk_data...\n",
            "[nltk_data]   Unzipping tokenizers/punkt.zip.\n",
            "[nltk_data] Downloading package wordnet to /root/nltk_data...\n",
            "[nltk_data] Downloading package stopwords to /root/nltk_data...\n",
            "[nltk_data]   Unzipping corpora/stopwords.zip.\n",
            "[nltk_data] Downloading package averaged_perceptron_tagger to\n",
            "[nltk_data]     /root/nltk_data...\n",
            "[nltk_data]   Unzipping taggers/averaged_perceptron_tagger.zip.\n",
            "[nltk_data] Downloading package omw-1.4 to /root/nltk_data...\n"
          ]
        }
      ],
      "source": [
        "import pandas as pd\n",
        "import matplotlib.pyplot as plt\n",
        "import numpy as np\n",
        "\n",
        "import nltk\n",
        "nltk.download('punkt') # punctuations\n",
        "nltk.download('wordnet') # lemmatisation\n",
        "nltk.download('stopwords') # stopword removal\n",
        "nltk.download('averaged_perceptron_tagger')\n",
        "nltk.download('omw-1.4')\n",
        "\n",
        "from nltk.corpus import stopwords\n",
        "from nltk import word_tokenize\n",
        "from nltk.stem import WordNetLemmatizer\n",
        "from nltk.corpus import wordnet\n",
        "\n",
        "from sklearn.feature_extraction.text import TfidfVectorizer\n",
        "from sklearn.cluster import KMeans\n",
        "from sklearn.preprocessing import StandardScaler"
      ]
    },
    {
      "cell_type": "code",
      "source": [
        "df = pd.read_csv(\"/content/data.csv\",encoding= 'unicode_escape')"
      ],
      "metadata": {
        "id": "atL2OsdjzEEF"
      },
      "execution_count": 4,
      "outputs": []
    },
    {
      "cell_type": "code",
      "source": [
        "df = df.sample(10000)"
      ],
      "metadata": {
        "id": "dVXe15ZbZnqf"
      },
      "execution_count": 5,
      "outputs": []
    },
    {
      "cell_type": "code",
      "source": [
        "df.sample(10)"
      ],
      "metadata": {
        "id": "guMgp5FezsN0",
        "colab": {
          "base_uri": "https://localhost:8080/",
          "height": 580
        },
        "outputId": "0288db49-5b1f-4bbe-93c0-ce32d1c873df"
      },
      "execution_count": 6,
      "outputs": [
        {
          "output_type": "execute_result",
          "data": {
            "text/plain": [
              "       InvoiceNo StockCode                          Description  Quantity  \\\n",
              "367669    568901     22110          BIRD HOUSE HOT WATER BOTTLE         6   \n",
              "441476    574575     20931               BLUE POT PLANT CANDLE          1   \n",
              "189989    553178     21326     AGED GLASS SILVER T-LIGHT HOLDER         1   \n",
              "243924    558475    90197B  BLACK GLASS BRACELET W HEART CHARMS         1   \n",
              "44222     540161     22451              SILK PURSE BABUSHKA RED         3   \n",
              "444579    574734     22622       BOX OF VINTAGE ALPHABET BLOCKS         1   \n",
              "77885     542791     22366                     DOORMAT AIRMAIL          1   \n",
              "290964    562420     23050          RECYCLED ACAPULCO MAT GREEN         1   \n",
              "245097    558572     21931               JUMBO STORAGE BAG SUKI        10   \n",
              "215739    555731     21204          DAISIES  HONEYCOMB GARLAND         12   \n",
              "\n",
              "            InvoiceDate  UnitPrice  CustomerID         Country  \n",
              "367669  9/29/2011 13:22       2.55     15050.0  United Kingdom  \n",
              "441476  11/4/2011 17:03       2.95     14971.0  United Kingdom  \n",
              "189989  5/15/2011 11:29       0.65     17302.0  United Kingdom  \n",
              "243924  6/29/2011 15:58       4.98         NaN  United Kingdom  \n",
              "44222    1/5/2011 11:52       3.35     16719.0  United Kingdom  \n",
              "444579  11/6/2011 15:20      11.95     15025.0  United Kingdom  \n",
              "77885    2/1/2011 10:47       7.95     15039.0  United Kingdom  \n",
              "290964   8/4/2011 16:38      16.63         NaN  United Kingdom  \n",
              "245097  6/30/2011 14:47       2.08     14282.0  United Kingdom  \n",
              "215739    6/7/2011 7:49       1.65     16655.0  United Kingdom  "
            ],
            "text/html": [
              "\n",
              "  <div id=\"df-4270ee41-560a-4a67-8eb6-f03d4cb8666e\">\n",
              "    <div class=\"colab-df-container\">\n",
              "      <div>\n",
              "<style scoped>\n",
              "    .dataframe tbody tr th:only-of-type {\n",
              "        vertical-align: middle;\n",
              "    }\n",
              "\n",
              "    .dataframe tbody tr th {\n",
              "        vertical-align: top;\n",
              "    }\n",
              "\n",
              "    .dataframe thead th {\n",
              "        text-align: right;\n",
              "    }\n",
              "</style>\n",
              "<table border=\"1\" class=\"dataframe\">\n",
              "  <thead>\n",
              "    <tr style=\"text-align: right;\">\n",
              "      <th></th>\n",
              "      <th>InvoiceNo</th>\n",
              "      <th>StockCode</th>\n",
              "      <th>Description</th>\n",
              "      <th>Quantity</th>\n",
              "      <th>InvoiceDate</th>\n",
              "      <th>UnitPrice</th>\n",
              "      <th>CustomerID</th>\n",
              "      <th>Country</th>\n",
              "    </tr>\n",
              "  </thead>\n",
              "  <tbody>\n",
              "    <tr>\n",
              "      <th>367669</th>\n",
              "      <td>568901</td>\n",
              "      <td>22110</td>\n",
              "      <td>BIRD HOUSE HOT WATER BOTTLE</td>\n",
              "      <td>6</td>\n",
              "      <td>9/29/2011 13:22</td>\n",
              "      <td>2.55</td>\n",
              "      <td>15050.0</td>\n",
              "      <td>United Kingdom</td>\n",
              "    </tr>\n",
              "    <tr>\n",
              "      <th>441476</th>\n",
              "      <td>574575</td>\n",
              "      <td>20931</td>\n",
              "      <td>BLUE POT PLANT CANDLE</td>\n",
              "      <td>1</td>\n",
              "      <td>11/4/2011 17:03</td>\n",
              "      <td>2.95</td>\n",
              "      <td>14971.0</td>\n",
              "      <td>United Kingdom</td>\n",
              "    </tr>\n",
              "    <tr>\n",
              "      <th>189989</th>\n",
              "      <td>553178</td>\n",
              "      <td>21326</td>\n",
              "      <td>AGED GLASS SILVER T-LIGHT HOLDER</td>\n",
              "      <td>1</td>\n",
              "      <td>5/15/2011 11:29</td>\n",
              "      <td>0.65</td>\n",
              "      <td>17302.0</td>\n",
              "      <td>United Kingdom</td>\n",
              "    </tr>\n",
              "    <tr>\n",
              "      <th>243924</th>\n",
              "      <td>558475</td>\n",
              "      <td>90197B</td>\n",
              "      <td>BLACK GLASS BRACELET W HEART CHARMS</td>\n",
              "      <td>1</td>\n",
              "      <td>6/29/2011 15:58</td>\n",
              "      <td>4.98</td>\n",
              "      <td>NaN</td>\n",
              "      <td>United Kingdom</td>\n",
              "    </tr>\n",
              "    <tr>\n",
              "      <th>44222</th>\n",
              "      <td>540161</td>\n",
              "      <td>22451</td>\n",
              "      <td>SILK PURSE BABUSHKA RED</td>\n",
              "      <td>3</td>\n",
              "      <td>1/5/2011 11:52</td>\n",
              "      <td>3.35</td>\n",
              "      <td>16719.0</td>\n",
              "      <td>United Kingdom</td>\n",
              "    </tr>\n",
              "    <tr>\n",
              "      <th>444579</th>\n",
              "      <td>574734</td>\n",
              "      <td>22622</td>\n",
              "      <td>BOX OF VINTAGE ALPHABET BLOCKS</td>\n",
              "      <td>1</td>\n",
              "      <td>11/6/2011 15:20</td>\n",
              "      <td>11.95</td>\n",
              "      <td>15025.0</td>\n",
              "      <td>United Kingdom</td>\n",
              "    </tr>\n",
              "    <tr>\n",
              "      <th>77885</th>\n",
              "      <td>542791</td>\n",
              "      <td>22366</td>\n",
              "      <td>DOORMAT AIRMAIL</td>\n",
              "      <td>1</td>\n",
              "      <td>2/1/2011 10:47</td>\n",
              "      <td>7.95</td>\n",
              "      <td>15039.0</td>\n",
              "      <td>United Kingdom</td>\n",
              "    </tr>\n",
              "    <tr>\n",
              "      <th>290964</th>\n",
              "      <td>562420</td>\n",
              "      <td>23050</td>\n",
              "      <td>RECYCLED ACAPULCO MAT GREEN</td>\n",
              "      <td>1</td>\n",
              "      <td>8/4/2011 16:38</td>\n",
              "      <td>16.63</td>\n",
              "      <td>NaN</td>\n",
              "      <td>United Kingdom</td>\n",
              "    </tr>\n",
              "    <tr>\n",
              "      <th>245097</th>\n",
              "      <td>558572</td>\n",
              "      <td>21931</td>\n",
              "      <td>JUMBO STORAGE BAG SUKI</td>\n",
              "      <td>10</td>\n",
              "      <td>6/30/2011 14:47</td>\n",
              "      <td>2.08</td>\n",
              "      <td>14282.0</td>\n",
              "      <td>United Kingdom</td>\n",
              "    </tr>\n",
              "    <tr>\n",
              "      <th>215739</th>\n",
              "      <td>555731</td>\n",
              "      <td>21204</td>\n",
              "      <td>DAISIES  HONEYCOMB GARLAND</td>\n",
              "      <td>12</td>\n",
              "      <td>6/7/2011 7:49</td>\n",
              "      <td>1.65</td>\n",
              "      <td>16655.0</td>\n",
              "      <td>United Kingdom</td>\n",
              "    </tr>\n",
              "  </tbody>\n",
              "</table>\n",
              "</div>\n",
              "      <button class=\"colab-df-convert\" onclick=\"convertToInteractive('df-4270ee41-560a-4a67-8eb6-f03d4cb8666e')\"\n",
              "              title=\"Convert this dataframe to an interactive table.\"\n",
              "              style=\"display:none;\">\n",
              "        \n",
              "  <svg xmlns=\"http://www.w3.org/2000/svg\" height=\"24px\"viewBox=\"0 0 24 24\"\n",
              "       width=\"24px\">\n",
              "    <path d=\"M0 0h24v24H0V0z\" fill=\"none\"/>\n",
              "    <path d=\"M18.56 5.44l.94 2.06.94-2.06 2.06-.94-2.06-.94-.94-2.06-.94 2.06-2.06.94zm-11 1L8.5 8.5l.94-2.06 2.06-.94-2.06-.94L8.5 2.5l-.94 2.06-2.06.94zm10 10l.94 2.06.94-2.06 2.06-.94-2.06-.94-.94-2.06-.94 2.06-2.06.94z\"/><path d=\"M17.41 7.96l-1.37-1.37c-.4-.4-.92-.59-1.43-.59-.52 0-1.04.2-1.43.59L10.3 9.45l-7.72 7.72c-.78.78-.78 2.05 0 2.83L4 21.41c.39.39.9.59 1.41.59.51 0 1.02-.2 1.41-.59l7.78-7.78 2.81-2.81c.8-.78.8-2.07 0-2.86zM5.41 20L4 18.59l7.72-7.72 1.47 1.35L5.41 20z\"/>\n",
              "  </svg>\n",
              "      </button>\n",
              "      \n",
              "  <style>\n",
              "    .colab-df-container {\n",
              "      display:flex;\n",
              "      flex-wrap:wrap;\n",
              "      gap: 12px;\n",
              "    }\n",
              "\n",
              "    .colab-df-convert {\n",
              "      background-color: #E8F0FE;\n",
              "      border: none;\n",
              "      border-radius: 50%;\n",
              "      cursor: pointer;\n",
              "      display: none;\n",
              "      fill: #1967D2;\n",
              "      height: 32px;\n",
              "      padding: 0 0 0 0;\n",
              "      width: 32px;\n",
              "    }\n",
              "\n",
              "    .colab-df-convert:hover {\n",
              "      background-color: #E2EBFA;\n",
              "      box-shadow: 0px 1px 2px rgba(60, 64, 67, 0.3), 0px 1px 3px 1px rgba(60, 64, 67, 0.15);\n",
              "      fill: #174EA6;\n",
              "    }\n",
              "\n",
              "    [theme=dark] .colab-df-convert {\n",
              "      background-color: #3B4455;\n",
              "      fill: #D2E3FC;\n",
              "    }\n",
              "\n",
              "    [theme=dark] .colab-df-convert:hover {\n",
              "      background-color: #434B5C;\n",
              "      box-shadow: 0px 1px 3px 1px rgba(0, 0, 0, 0.15);\n",
              "      filter: drop-shadow(0px 1px 2px rgba(0, 0, 0, 0.3));\n",
              "      fill: #FFFFFF;\n",
              "    }\n",
              "  </style>\n",
              "\n",
              "      <script>\n",
              "        const buttonEl =\n",
              "          document.querySelector('#df-4270ee41-560a-4a67-8eb6-f03d4cb8666e button.colab-df-convert');\n",
              "        buttonEl.style.display =\n",
              "          google.colab.kernel.accessAllowed ? 'block' : 'none';\n",
              "\n",
              "        async function convertToInteractive(key) {\n",
              "          const element = document.querySelector('#df-4270ee41-560a-4a67-8eb6-f03d4cb8666e');\n",
              "          const dataTable =\n",
              "            await google.colab.kernel.invokeFunction('convertToInteractive',\n",
              "                                                     [key], {});\n",
              "          if (!dataTable) return;\n",
              "\n",
              "          const docLinkHtml = 'Like what you see? Visit the ' +\n",
              "            '<a target=\"_blank\" href=https://colab.research.google.com/notebooks/data_table.ipynb>data table notebook</a>'\n",
              "            + ' to learn more about interactive tables.';\n",
              "          element.innerHTML = '';\n",
              "          dataTable['output_type'] = 'display_data';\n",
              "          await google.colab.output.renderOutput(dataTable, element);\n",
              "          const docLink = document.createElement('div');\n",
              "          docLink.innerHTML = docLinkHtml;\n",
              "          element.appendChild(docLink);\n",
              "        }\n",
              "      </script>\n",
              "    </div>\n",
              "  </div>\n",
              "  "
            ]
          },
          "metadata": {},
          "execution_count": 6
        }
      ]
    },
    {
      "cell_type": "code",
      "source": [
        "df.shape"
      ],
      "metadata": {
        "id": "tw2crH_Azt9h",
        "colab": {
          "base_uri": "https://localhost:8080/"
        },
        "outputId": "32e5818a-64be-4a55-88bc-5cb119c5e890"
      },
      "execution_count": 7,
      "outputs": [
        {
          "output_type": "execute_result",
          "data": {
            "text/plain": [
              "(10000, 8)"
            ]
          },
          "metadata": {},
          "execution_count": 7
        }
      ]
    },
    {
      "cell_type": "code",
      "source": [
        "df.isnull().sum()"
      ],
      "metadata": {
        "id": "OQ0grnuQzz_T",
        "colab": {
          "base_uri": "https://localhost:8080/"
        },
        "outputId": "96607824-53e0-44d6-d762-6e6ff86efa27"
      },
      "execution_count": 8,
      "outputs": [
        {
          "output_type": "execute_result",
          "data": {
            "text/plain": [
              "InvoiceNo         0\n",
              "StockCode         0\n",
              "Description      22\n",
              "Quantity          0\n",
              "InvoiceDate       0\n",
              "UnitPrice         0\n",
              "CustomerID     2494\n",
              "Country           0\n",
              "dtype: int64"
            ]
          },
          "metadata": {},
          "execution_count": 8
        }
      ]
    },
    {
      "cell_type": "markdown",
      "source": [
        "# **Data Cleaning**"
      ],
      "metadata": {
        "id": "A5nSASuWFTrM"
      }
    },
    {
      "cell_type": "markdown",
      "source": [
        "# **Invoice**"
      ],
      "metadata": {
        "id": "SlvuJRtP2k7b"
      }
    },
    {
      "cell_type": "markdown",
      "source": [
        "As Invoice Number has Unique value for every transaction.\n",
        "\n",
        "we are deleting the column."
      ],
      "metadata": {
        "id": "h3wgCsKR3nYQ"
      }
    },
    {
      "cell_type": "code",
      "source": [
        "df.drop(columns='InvoiceNo', inplace=True)"
      ],
      "metadata": {
        "id": "I2M3KB-O2j8s"
      },
      "execution_count": 9,
      "outputs": []
    },
    {
      "cell_type": "code",
      "source": [
        "df.shape"
      ],
      "metadata": {
        "id": "kX5fdenW3Hwr",
        "colab": {
          "base_uri": "https://localhost:8080/"
        },
        "outputId": "0561087c-0f31-4437-dd68-0a4512778d14"
      },
      "execution_count": 10,
      "outputs": [
        {
          "output_type": "execute_result",
          "data": {
            "text/plain": [
              "(10000, 7)"
            ]
          },
          "metadata": {},
          "execution_count": 10
        }
      ]
    },
    {
      "cell_type": "markdown",
      "source": [
        "# **Stock Code**"
      ],
      "metadata": {
        "id": "SwZ7ivV23Khq"
      }
    },
    {
      "cell_type": "markdown",
      "source": [
        "No null values. \n",
        "\n",
        "There are 4070 unique stock code values."
      ],
      "metadata": {
        "id": "nuxgLgF432jY"
      }
    },
    {
      "cell_type": "code",
      "source": [
        "df.StockCode.isnull().sum()"
      ],
      "metadata": {
        "id": "NBo7V32f3QMV",
        "colab": {
          "base_uri": "https://localhost:8080/"
        },
        "outputId": "66ff37a5-2ac0-407c-8d7c-357f04ec355e"
      },
      "execution_count": 11,
      "outputs": [
        {
          "output_type": "execute_result",
          "data": {
            "text/plain": [
              "0"
            ]
          },
          "metadata": {},
          "execution_count": 11
        }
      ]
    },
    {
      "cell_type": "code",
      "source": [
        "df.StockCode.dtypes"
      ],
      "metadata": {
        "id": "ljXPogkE5Fg-",
        "colab": {
          "base_uri": "https://localhost:8080/"
        },
        "outputId": "38a3f998-b719-43bc-fa82-ebefb45fe2c7"
      },
      "execution_count": 12,
      "outputs": [
        {
          "output_type": "execute_result",
          "data": {
            "text/plain": [
              "dtype('O')"
            ]
          },
          "metadata": {},
          "execution_count": 12
        }
      ]
    },
    {
      "cell_type": "code",
      "source": [
        "df.StockCode.value_counts()"
      ],
      "metadata": {
        "id": "jJgnQ9_D3XjE",
        "colab": {
          "base_uri": "https://localhost:8080/"
        },
        "outputId": "3deff876-e3cc-4cd4-db41-fdb633499974"
      },
      "execution_count": 13,
      "outputs": [
        {
          "output_type": "execute_result",
          "data": {
            "text/plain": [
              "85123A    50\n",
              "20725     46\n",
              "47566     40\n",
              "POST      38\n",
              "22386     35\n",
              "          ..\n",
              "22166      1\n",
              "22430      1\n",
              "20802      1\n",
              "22164      1\n",
              "47567B     1\n",
              "Name: StockCode, Length: 2418, dtype: int64"
            ]
          },
          "metadata": {},
          "execution_count": 13
        }
      ]
    },
    {
      "cell_type": "markdown",
      "source": [
        "# **Description**"
      ],
      "metadata": {
        "id": "_Zv-G0Rr4NiY"
      }
    },
    {
      "cell_type": "markdown",
      "source": [
        "0.26 % are missing values.\n",
        "\n",
        "so, we are deleting those rows."
      ],
      "metadata": {
        "id": "nkeWrnl3EtQW"
      }
    },
    {
      "cell_type": "code",
      "source": [
        "df.Description.isnull().sum()"
      ],
      "metadata": {
        "id": "n-83JOUQ4Qc-",
        "colab": {
          "base_uri": "https://localhost:8080/"
        },
        "outputId": "4de96810-6b51-4d38-948e-31bda188d613"
      },
      "execution_count": 14,
      "outputs": [
        {
          "output_type": "execute_result",
          "data": {
            "text/plain": [
              "22"
            ]
          },
          "metadata": {},
          "execution_count": 14
        }
      ]
    },
    {
      "cell_type": "code",
      "source": [
        "print(\"{0} of missing percentage in Description Column \".format((df.Description.isnull().sum()/df.shape[0])*100))"
      ],
      "metadata": {
        "id": "LHhRFzti4a0e",
        "colab": {
          "base_uri": "https://localhost:8080/"
        },
        "outputId": "279e5ff8-01c4-41ad-ca7c-113ff9b383b8"
      },
      "execution_count": 15,
      "outputs": [
        {
          "output_type": "stream",
          "name": "stdout",
          "text": [
            "0.22 of missing percentage in Description Column \n"
          ]
        }
      ]
    },
    {
      "cell_type": "code",
      "source": [
        "df.dropna(subset=['Description'],inplace=True)"
      ],
      "metadata": {
        "id": "nCGcUjfj1Wc6"
      },
      "execution_count": 16,
      "outputs": []
    },
    {
      "cell_type": "code",
      "source": [
        "df.shape"
      ],
      "metadata": {
        "id": "bWemiTBT2HHO",
        "colab": {
          "base_uri": "https://localhost:8080/"
        },
        "outputId": "27e09d63-98e4-4835-805a-b796c4b8aef1"
      },
      "execution_count": 17,
      "outputs": [
        {
          "output_type": "execute_result",
          "data": {
            "text/plain": [
              "(9978, 7)"
            ]
          },
          "metadata": {},
          "execution_count": 17
        }
      ]
    },
    {
      "cell_type": "code",
      "source": [
        "df.Description.dtypes"
      ],
      "metadata": {
        "id": "p1jhwTZ843ju",
        "colab": {
          "base_uri": "https://localhost:8080/"
        },
        "outputId": "f19d581b-a25e-402d-b2e2-b65c68d39a85"
      },
      "execution_count": 18,
      "outputs": [
        {
          "output_type": "execute_result",
          "data": {
            "text/plain": [
              "dtype('O')"
            ]
          },
          "metadata": {},
          "execution_count": 18
        }
      ]
    },
    {
      "cell_type": "code",
      "source": [
        "df.drop_duplicates(subset='Description',inplace=True)"
      ],
      "metadata": {
        "id": "B7JXFsbGCb4H"
      },
      "execution_count": 19,
      "outputs": []
    },
    {
      "cell_type": "code",
      "source": [
        "df.shape"
      ],
      "metadata": {
        "colab": {
          "base_uri": "https://localhost:8080/"
        },
        "id": "vkRy19i2CypV",
        "outputId": "0cc985e2-9961-438c-808d-660fc80c0545"
      },
      "execution_count": 20,
      "outputs": [
        {
          "output_type": "execute_result",
          "data": {
            "text/plain": [
              "(2433, 7)"
            ]
          },
          "metadata": {},
          "execution_count": 20
        }
      ]
    },
    {
      "cell_type": "code",
      "source": [
        "df.Description.unique()"
      ],
      "metadata": {
        "colab": {
          "base_uri": "https://localhost:8080/"
        },
        "id": "ueFB7LIFDIQW",
        "outputId": "6c22be50-6ead-416b-e67d-6bc018d6f2c7"
      },
      "execution_count": 21,
      "outputs": [
        {
          "output_type": "execute_result",
          "data": {
            "text/plain": [
              "array(['REGENCY SUGAR BOWL GREEN', 'ASSORTED COLOURS SILK FAN',\n",
              "       'SILVER BELLS TABLE DECORATION', ...,\n",
              "       'FRENCH BLUE METAL DOOR SIGN 1', 'ASSORTED TUTTI FRUTTI MIRROR',\n",
              "       'TEA TIME KITCHEN APRON'], dtype=object)"
            ]
          },
          "metadata": {},
          "execution_count": 21
        }
      ]
    },
    {
      "cell_type": "code",
      "source": [
        "df.Description.nunique()"
      ],
      "metadata": {
        "colab": {
          "base_uri": "https://localhost:8080/"
        },
        "id": "6H0MR0mID2Aq",
        "outputId": "a4eba91d-5471-475a-8d7a-5ca7cca344f7"
      },
      "execution_count": 22,
      "outputs": [
        {
          "output_type": "execute_result",
          "data": {
            "text/plain": [
              "2433"
            ]
          },
          "metadata": {},
          "execution_count": 22
        }
      ]
    },
    {
      "cell_type": "markdown",
      "source": [
        "# **Quantity**"
      ],
      "metadata": {
        "id": "M_LLyZWH5QvC"
      }
    },
    {
      "cell_type": "code",
      "source": [
        "df.Quantity.isnull().sum()"
      ],
      "metadata": {
        "id": "9A0YjZor5TMD",
        "colab": {
          "base_uri": "https://localhost:8080/"
        },
        "outputId": "3c29037e-cbfb-4775-fdcf-9ed8c2dbd5b8"
      },
      "execution_count": 23,
      "outputs": [
        {
          "output_type": "execute_result",
          "data": {
            "text/plain": [
              "0"
            ]
          },
          "metadata": {},
          "execution_count": 23
        }
      ]
    },
    {
      "cell_type": "code",
      "source": [
        "df.Quantity.dtypes"
      ],
      "metadata": {
        "id": "SP9VIerc5XUn",
        "colab": {
          "base_uri": "https://localhost:8080/"
        },
        "outputId": "3a616eb3-d4cf-4c92-a7c5-2ac7754f0a4e"
      },
      "execution_count": 24,
      "outputs": [
        {
          "output_type": "execute_result",
          "data": {
            "text/plain": [
              "dtype('int64')"
            ]
          },
          "metadata": {},
          "execution_count": 24
        }
      ]
    },
    {
      "cell_type": "markdown",
      "source": [
        "# **Invoice Date**"
      ],
      "metadata": {
        "id": "t1rVZxjm-zh0"
      }
    },
    {
      "cell_type": "markdown",
      "source": [
        "Converted into date time format"
      ],
      "metadata": {
        "id": "5OeAxmjzE-Ip"
      }
    },
    {
      "cell_type": "code",
      "source": [
        "df.InvoiceDate.isnull().sum()"
      ],
      "metadata": {
        "colab": {
          "base_uri": "https://localhost:8080/"
        },
        "id": "EnrNq498-2PJ",
        "outputId": "e5ed27e1-83be-4990-cb8b-17b181d75419"
      },
      "execution_count": 25,
      "outputs": [
        {
          "output_type": "execute_result",
          "data": {
            "text/plain": [
              "0"
            ]
          },
          "metadata": {},
          "execution_count": 25
        }
      ]
    },
    {
      "cell_type": "code",
      "source": [
        "df.InvoiceDate.dtypes"
      ],
      "metadata": {
        "colab": {
          "base_uri": "https://localhost:8080/"
        },
        "id": "wIZx_1Z7-6a1",
        "outputId": "031d495f-d049-4398-dc6a-61a19e29f693"
      },
      "execution_count": 26,
      "outputs": [
        {
          "output_type": "execute_result",
          "data": {
            "text/plain": [
              "dtype('O')"
            ]
          },
          "metadata": {},
          "execution_count": 26
        }
      ]
    },
    {
      "cell_type": "code",
      "source": [
        "df.InvoiceDate = pd.to_datetime(df.InvoiceDate)"
      ],
      "metadata": {
        "id": "d_ksMY1K_O3g"
      },
      "execution_count": 27,
      "outputs": []
    },
    {
      "cell_type": "code",
      "source": [
        "df.InvoiceDate"
      ],
      "metadata": {
        "colab": {
          "base_uri": "https://localhost:8080/"
        },
        "id": "EXxjgotdBmDw",
        "outputId": "23a76bcd-5c35-4b7c-eee4-33691e9537a4"
      },
      "execution_count": 28,
      "outputs": [
        {
          "output_type": "execute_result",
          "data": {
            "text/plain": [
              "205564   2011-05-26 14:08:00\n",
              "392202   2011-10-11 16:37:00\n",
              "397773   2011-10-14 12:41:00\n",
              "47356    2011-01-07 10:27:00\n",
              "414576   2011-10-24 13:28:00\n",
              "                 ...        \n",
              "287587   2011-08-02 15:40:00\n",
              "56354    2011-01-13 14:29:00\n",
              "519847   2011-12-02 11:53:00\n",
              "165395   2011-04-20 14:02:00\n",
              "303135   2011-08-17 10:56:00\n",
              "Name: InvoiceDate, Length: 2433, dtype: datetime64[ns]"
            ]
          },
          "metadata": {},
          "execution_count": 28
        }
      ]
    },
    {
      "cell_type": "code",
      "source": [
        "df['InvoiceDate'] = df.InvoiceDate.dt.strftime('%d/%m/%Y')"
      ],
      "metadata": {
        "id": "bfxzUoIeBuRh"
      },
      "execution_count": 29,
      "outputs": []
    },
    {
      "cell_type": "code",
      "source": [
        "df['InvoiceDate']"
      ],
      "metadata": {
        "colab": {
          "base_uri": "https://localhost:8080/"
        },
        "id": "D_h84IHjCFHP",
        "outputId": "a6eb70f7-9cb0-4632-d2dd-fa47f300629c"
      },
      "execution_count": 30,
      "outputs": [
        {
          "output_type": "execute_result",
          "data": {
            "text/plain": [
              "205564    26/05/2011\n",
              "392202    11/10/2011\n",
              "397773    14/10/2011\n",
              "47356     07/01/2011\n",
              "414576    24/10/2011\n",
              "             ...    \n",
              "287587    02/08/2011\n",
              "56354     13/01/2011\n",
              "519847    02/12/2011\n",
              "165395    20/04/2011\n",
              "303135    17/08/2011\n",
              "Name: InvoiceDate, Length: 2433, dtype: object"
            ]
          },
          "metadata": {},
          "execution_count": 30
        }
      ]
    },
    {
      "cell_type": "code",
      "source": [
        "df.InvoiceDate.dtypes"
      ],
      "metadata": {
        "colab": {
          "base_uri": "https://localhost:8080/"
        },
        "id": "vIwF4hgLATHI",
        "outputId": "cd114f19-5721-4ecf-862f-435053b93838"
      },
      "execution_count": 31,
      "outputs": [
        {
          "output_type": "execute_result",
          "data": {
            "text/plain": [
              "dtype('O')"
            ]
          },
          "metadata": {},
          "execution_count": 31
        }
      ]
    },
    {
      "cell_type": "markdown",
      "source": [
        "# **Unit Price**"
      ],
      "metadata": {
        "id": "1vVcMWLWClRn"
      }
    },
    {
      "cell_type": "code",
      "source": [
        "df.UnitPrice.isnull().sum()"
      ],
      "metadata": {
        "colab": {
          "base_uri": "https://localhost:8080/"
        },
        "id": "c9KGWy0sCnqG",
        "outputId": "cc088442-e247-4836-cc5e-63694aaa663e"
      },
      "execution_count": 32,
      "outputs": [
        {
          "output_type": "execute_result",
          "data": {
            "text/plain": [
              "0"
            ]
          },
          "metadata": {},
          "execution_count": 32
        }
      ]
    },
    {
      "cell_type": "code",
      "source": [
        "df.UnitPrice.dtypes"
      ],
      "metadata": {
        "colab": {
          "base_uri": "https://localhost:8080/"
        },
        "id": "DIEqUNryCrX-",
        "outputId": "2801eb2a-6315-4706-b860-94a806433c7e"
      },
      "execution_count": 33,
      "outputs": [
        {
          "output_type": "execute_result",
          "data": {
            "text/plain": [
              "dtype('float64')"
            ]
          },
          "metadata": {},
          "execution_count": 33
        }
      ]
    },
    {
      "cell_type": "markdown",
      "source": [
        "# **Customer ID**"
      ],
      "metadata": {
        "id": "wcCP2w-4Cwv6"
      }
    },
    {
      "cell_type": "markdown",
      "source": [
        "24% customer ID's are missing.\n",
        "\n",
        "so, we are deleting those rows."
      ],
      "metadata": {
        "id": "1FE-GfwMFD6b"
      }
    },
    {
      "cell_type": "code",
      "source": [
        "df.CustomerID.isnull().sum()"
      ],
      "metadata": {
        "colab": {
          "base_uri": "https://localhost:8080/"
        },
        "id": "nxk2SM9PC51g",
        "outputId": "5cb7a2f2-5d83-4796-bd66-16243c5e0d76"
      },
      "execution_count": 34,
      "outputs": [
        {
          "output_type": "execute_result",
          "data": {
            "text/plain": [
              "687"
            ]
          },
          "metadata": {},
          "execution_count": 34
        }
      ]
    },
    {
      "cell_type": "code",
      "source": [
        "print(\"{0} of missing values in customerID\".format((df.CustomerID.isnull().sum()/df.shape[0])*100))"
      ],
      "metadata": {
        "id": "SYZ8c5Rs0c6J",
        "colab": {
          "base_uri": "https://localhost:8080/"
        },
        "outputId": "542a422a-6082-44cd-8b34-20dfe2a7d76a"
      },
      "execution_count": 35,
      "outputs": [
        {
          "output_type": "stream",
          "name": "stdout",
          "text": [
            "28.236744759556103 of missing values in customerID\n"
          ]
        }
      ]
    },
    {
      "cell_type": "code",
      "source": [
        "df.dropna(subset=['CustomerID'],inplace=True)"
      ],
      "metadata": {
        "id": "l2ql98CE0937"
      },
      "execution_count": 36,
      "outputs": []
    },
    {
      "cell_type": "code",
      "source": [
        "df.shape"
      ],
      "metadata": {
        "colab": {
          "base_uri": "https://localhost:8080/"
        },
        "id": "hOm7M9T9DOEK",
        "outputId": "20a59537-c5d8-4500-f057-2707062146d9"
      },
      "execution_count": 37,
      "outputs": [
        {
          "output_type": "execute_result",
          "data": {
            "text/plain": [
              "(1746, 7)"
            ]
          },
          "metadata": {},
          "execution_count": 37
        }
      ]
    },
    {
      "cell_type": "code",
      "source": [
        "df.CustomerID.dtypes"
      ],
      "metadata": {
        "id": "6F2h5sG5z8o2",
        "colab": {
          "base_uri": "https://localhost:8080/"
        },
        "outputId": "3b0646d1-a695-4cf7-d84f-d5e23a528d7c"
      },
      "execution_count": 38,
      "outputs": [
        {
          "output_type": "execute_result",
          "data": {
            "text/plain": [
              "dtype('float64')"
            ]
          },
          "metadata": {},
          "execution_count": 38
        }
      ]
    },
    {
      "cell_type": "code",
      "source": [
        "df.CustomerID = df.CustomerID.astype('int64')"
      ],
      "metadata": {
        "id": "tchu7TqADY9-"
      },
      "execution_count": 39,
      "outputs": []
    },
    {
      "cell_type": "code",
      "source": [
        "df.CustomerID.dtypes"
      ],
      "metadata": {
        "colab": {
          "base_uri": "https://localhost:8080/"
        },
        "id": "FpwiDX64Do2H",
        "outputId": "24f171dc-c54c-4346-9f36-1175e8c88ec6"
      },
      "execution_count": 40,
      "outputs": [
        {
          "output_type": "execute_result",
          "data": {
            "text/plain": [
              "dtype('int64')"
            ]
          },
          "metadata": {},
          "execution_count": 40
        }
      ]
    },
    {
      "cell_type": "markdown",
      "source": [
        "# **Country**"
      ],
      "metadata": {
        "id": "3hCgD2H2Dvfp"
      }
    },
    {
      "cell_type": "code",
      "source": [
        "df.Country.isnull().sum()"
      ],
      "metadata": {
        "colab": {
          "base_uri": "https://localhost:8080/"
        },
        "id": "wOobNkmXDuqY",
        "outputId": "d398cd82-88ae-47a4-e9d1-0520a846a16e"
      },
      "execution_count": 41,
      "outputs": [
        {
          "output_type": "execute_result",
          "data": {
            "text/plain": [
              "0"
            ]
          },
          "metadata": {},
          "execution_count": 41
        }
      ]
    },
    {
      "cell_type": "code",
      "source": [
        "df.Country.unique()"
      ],
      "metadata": {
        "colab": {
          "base_uri": "https://localhost:8080/"
        },
        "id": "y5cig5_7D1PG",
        "outputId": "55d6e501-6e79-4cfc-be94-e2c7d0df8a0f"
      },
      "execution_count": 42,
      "outputs": [
        {
          "output_type": "execute_result",
          "data": {
            "text/plain": [
              "array(['United Kingdom', 'Norway', 'Germany', 'Netherlands', 'France',\n",
              "       'Israel', 'EIRE', 'Channel Islands', 'Cyprus', 'Switzerland',\n",
              "       'Australia', 'Denmark', 'Italy', 'Austria', 'Portugal', 'Finland',\n",
              "       'Sweden', 'Spain', 'Belgium', 'Japan', 'Canada', 'USA',\n",
              "       'Unspecified', 'Iceland', 'Malta'], dtype=object)"
            ]
          },
          "metadata": {},
          "execution_count": 42
        }
      ]
    },
    {
      "cell_type": "code",
      "source": [
        "df.Country.value_counts()"
      ],
      "metadata": {
        "colab": {
          "base_uri": "https://localhost:8080/"
        },
        "id": "ftti0fRGECV9",
        "outputId": "201b4098-bf9a-4d6c-b01c-310dfa63c1e4"
      },
      "execution_count": 43,
      "outputs": [
        {
          "output_type": "execute_result",
          "data": {
            "text/plain": [
              "United Kingdom     1567\n",
              "France               35\n",
              "Germany              34\n",
              "EIRE                 34\n",
              "Netherlands           9\n",
              "Switzerland           9\n",
              "Norway                8\n",
              "Spain                 7\n",
              "Channel Islands       6\n",
              "Portugal              6\n",
              "Belgium               4\n",
              "Sweden                4\n",
              "Italy                 4\n",
              "Australia             3\n",
              "Austria               2\n",
              "Finland               2\n",
              "Israel                2\n",
              "Canada                2\n",
              "Malta                 2\n",
              "Denmark               1\n",
              "Cyprus                1\n",
              "Japan                 1\n",
              "USA                   1\n",
              "Unspecified           1\n",
              "Iceland               1\n",
              "Name: Country, dtype: int64"
            ]
          },
          "metadata": {},
          "execution_count": 43
        }
      ]
    },
    {
      "cell_type": "markdown",
      "source": [
        "# **NLP - Description**"
      ],
      "metadata": {
        "id": "0rxjE7PH-AyP"
      }
    },
    {
      "cell_type": "markdown",
      "source": [
        "# **Remove Punctuation**\n",
        "\n",
        "\n",
        "\n",
        "\n",
        "\n",
        "\n"
      ],
      "metadata": {
        "id": "i2Uiw7HU-uG6"
      }
    },
    {
      "cell_type": "code",
      "source": [
        "df.Description[0:20]"
      ],
      "metadata": {
        "colab": {
          "base_uri": "https://localhost:8080/"
        },
        "id": "alubOXGp-Z8k",
        "outputId": "3c100a75-0918-4c8f-d461-0d8aca40a151"
      },
      "execution_count": 44,
      "outputs": [
        {
          "output_type": "execute_result",
          "data": {
            "text/plain": [
              "205564               REGENCY SUGAR BOWL GREEN\n",
              "397773          SILVER BELLS TABLE DECORATION\n",
              "47356       SET OF 3 CAKE TINS PANTRY DESIGN \n",
              "414576    SILVER GLITTER FLOWER VOTIVE HOLDER\n",
              "326426          TRAVEL CARD WALLET UNION JACK\n",
              "327913         CREAM CUPID HEARTS COAT HANGER\n",
              "430181          BAKING SET 9 PIECE RETROSPOT \n",
              "347517      CHILDRENS CUTLERY POLKADOT GREEN \n",
              "63529       PINK 3 PIECE POLKADOT CUTLERY SET\n",
              "203673                 TEA TIME PARTY BUNTING\n",
              "426416                     JUMBO BAG ALPHABET\n",
              "147767           PINK UNION JACK  LUGGAGE TAG\n",
              "267100           RED SPOT CERAMIC DRAWER KNOB\n",
              "390217           MISTLETOE HEART WREATH GREEN\n",
              "453980       PACK OF 12 VINTAGE DOILY TISSUES\n",
              "273888              12 PENCILS TALL TUBE POSY\n",
              "192145          TABLECLOTH RED APPLES DESIGN \n",
              "271816          DOORMAT KEEP CALM AND COME IN\n",
              "186476        SCANDINAVIAN PAISLEY PICNIC BAG\n",
              "380147                                POSTAGE\n",
              "Name: Description, dtype: object"
            ]
          },
          "metadata": {},
          "execution_count": 44
        }
      ]
    },
    {
      "cell_type": "code",
      "source": [
        "df['Cleaned_Description'] = df['Description'].str.replace(\"[^a-zA-Z0-9 ]\",\"\")\n",
        "df['Cleaned_Description'][0:20]"
      ],
      "metadata": {
        "colab": {
          "base_uri": "https://localhost:8080/"
        },
        "id": "_0LMibOL-FPF",
        "outputId": "d4c8946c-1443-42df-91f1-c91a5f9899c2"
      },
      "execution_count": 45,
      "outputs": [
        {
          "output_type": "stream",
          "name": "stderr",
          "text": [
            "<ipython-input-45-671ec1f93a28>:1: FutureWarning: The default value of regex will change from True to False in a future version.\n",
            "  df['Cleaned_Description'] = df['Description'].str.replace(\"[^a-zA-Z0-9 ]\",\"\")\n"
          ]
        },
        {
          "output_type": "execute_result",
          "data": {
            "text/plain": [
              "205564               REGENCY SUGAR BOWL GREEN\n",
              "397773          SILVER BELLS TABLE DECORATION\n",
              "47356       SET OF 3 CAKE TINS PANTRY DESIGN \n",
              "414576    SILVER GLITTER FLOWER VOTIVE HOLDER\n",
              "326426          TRAVEL CARD WALLET UNION JACK\n",
              "327913         CREAM CUPID HEARTS COAT HANGER\n",
              "430181          BAKING SET 9 PIECE RETROSPOT \n",
              "347517      CHILDRENS CUTLERY POLKADOT GREEN \n",
              "63529       PINK 3 PIECE POLKADOT CUTLERY SET\n",
              "203673                 TEA TIME PARTY BUNTING\n",
              "426416                     JUMBO BAG ALPHABET\n",
              "147767           PINK UNION JACK  LUGGAGE TAG\n",
              "267100           RED SPOT CERAMIC DRAWER KNOB\n",
              "390217           MISTLETOE HEART WREATH GREEN\n",
              "453980       PACK OF 12 VINTAGE DOILY TISSUES\n",
              "273888              12 PENCILS TALL TUBE POSY\n",
              "192145          TABLECLOTH RED APPLES DESIGN \n",
              "271816          DOORMAT KEEP CALM AND COME IN\n",
              "186476        SCANDINAVIAN PAISLEY PICNIC BAG\n",
              "380147                                POSTAGE\n",
              "Name: Cleaned_Description, dtype: object"
            ]
          },
          "metadata": {},
          "execution_count": 45
        }
      ]
    },
    {
      "cell_type": "markdown",
      "source": [
        "# **LowerCase characters**"
      ],
      "metadata": {
        "id": "pqjNNPBg_H95"
      }
    },
    {
      "cell_type": "code",
      "source": [
        "df['Cleaned_Description'] = [review.lower() for review in df['Cleaned_Description']] \n",
        "df['Cleaned_Description'][0:20]"
      ],
      "metadata": {
        "colab": {
          "base_uri": "https://localhost:8080/"
        },
        "id": "oObdgLg__G8H",
        "outputId": "ea48680d-b73c-43d7-c5b2-58bfff817425"
      },
      "execution_count": 46,
      "outputs": [
        {
          "output_type": "execute_result",
          "data": {
            "text/plain": [
              "205564               regency sugar bowl green\n",
              "397773          silver bells table decoration\n",
              "47356       set of 3 cake tins pantry design \n",
              "414576    silver glitter flower votive holder\n",
              "326426          travel card wallet union jack\n",
              "327913         cream cupid hearts coat hanger\n",
              "430181          baking set 9 piece retrospot \n",
              "347517      childrens cutlery polkadot green \n",
              "63529       pink 3 piece polkadot cutlery set\n",
              "203673                 tea time party bunting\n",
              "426416                     jumbo bag alphabet\n",
              "147767           pink union jack  luggage tag\n",
              "267100           red spot ceramic drawer knob\n",
              "390217           mistletoe heart wreath green\n",
              "453980       pack of 12 vintage doily tissues\n",
              "273888              12 pencils tall tube posy\n",
              "192145          tablecloth red apples design \n",
              "271816          doormat keep calm and come in\n",
              "186476        scandinavian paisley picnic bag\n",
              "380147                                postage\n",
              "Name: Cleaned_Description, dtype: object"
            ]
          },
          "metadata": {},
          "execution_count": 46
        }
      ]
    },
    {
      "cell_type": "markdown",
      "source": [
        "# **Stop Word Removal**"
      ],
      "metadata": {
        "id": "lo1CiBKcAN0O"
      }
    },
    {
      "cell_type": "code",
      "source": [
        "stop_words = stopwords.words('english')\n",
        "\n",
        "# function to remove stop words\n",
        "# input as row\n",
        "# break into words\n",
        "# check whether it is in stop words or not.\n",
        "\n",
        "def remove_stopwords(rev):\n",
        "    rev_tokenize = word_tokenize(rev)\n",
        "    rev_new = \" \".join([i for i in rev_tokenize  if i not in stop_words])\n",
        "    return rev_new\n",
        "\n",
        "df['Cleaned_Description'] = [remove_stopwords(r) for r in df['Cleaned_Description']]\n",
        "df['Cleaned_Description'][0:20]"
      ],
      "metadata": {
        "colab": {
          "base_uri": "https://localhost:8080/"
        },
        "id": "RrlMyj86APpl",
        "outputId": "0b773ce4-2756-419d-eab2-590f5863366d"
      },
      "execution_count": 47,
      "outputs": [
        {
          "output_type": "execute_result",
          "data": {
            "text/plain": [
              "205564               regency sugar bowl green\n",
              "397773          silver bells table decoration\n",
              "47356           set 3 cake tins pantry design\n",
              "414576    silver glitter flower votive holder\n",
              "326426          travel card wallet union jack\n",
              "327913         cream cupid hearts coat hanger\n",
              "430181           baking set 9 piece retrospot\n",
              "347517       childrens cutlery polkadot green\n",
              "63529       pink 3 piece polkadot cutlery set\n",
              "203673                 tea time party bunting\n",
              "426416                     jumbo bag alphabet\n",
              "147767            pink union jack luggage tag\n",
              "267100           red spot ceramic drawer knob\n",
              "390217           mistletoe heart wreath green\n",
              "453980          pack 12 vintage doily tissues\n",
              "273888              12 pencils tall tube posy\n",
              "192145           tablecloth red apples design\n",
              "271816                 doormat keep calm come\n",
              "186476        scandinavian paisley picnic bag\n",
              "380147                                postage\n",
              "Name: Cleaned_Description, dtype: object"
            ]
          },
          "metadata": {},
          "execution_count": 47
        }
      ]
    },
    {
      "cell_type": "markdown",
      "source": [
        "# **Lemmatization**"
      ],
      "metadata": {
        "id": "aLwwRYmOCKSB"
      }
    },
    {
      "cell_type": "code",
      "source": [
        "# function to convert nltk tag to wordnet tag\n",
        "lemmatizer = WordNetLemmatizer()\n",
        "\n",
        "# Finds the part of speech tag\n",
        "# Convert the detailed POS tag into a shallow information\n",
        "def nltk_tag_to_wordnet_tag(nltk_tag):\n",
        "    if nltk_tag.startswith('J'):\n",
        "        return wordnet.ADJ\n",
        "    elif nltk_tag.startswith('V'):\n",
        "        return wordnet.VERB\n",
        "    elif nltk_tag.startswith('N'):\n",
        "        return wordnet.NOUN\n",
        "    elif nltk_tag.startswith('R'):\n",
        "        return wordnet.ADV\n",
        "    else:          \n",
        "        return None\n",
        "\n",
        "# lemmatize sentence using parts of speech tag\n",
        "def lemmatize_sentence(sentence):\n",
        "    \n",
        "    # tokenize the sentence and find the POS tag for each token\n",
        "    # tuple of (token, wordnet_tag)\n",
        "    # list of tuples\n",
        "    nltk_tagged = nltk.pos_tag(nltk.word_tokenize(sentence)) \n",
        "    \n",
        "    \n",
        "    # we dont need to detailed of POS. So we convert.\n",
        "    wordnet_tagged = map(lambda x: (x[0], nltk_tag_to_wordnet_tag(x[1])), nltk_tagged)\n",
        "    \n",
        "    lemmatized_sentence = []\n",
        "    for word, tag in wordnet_tagged:\n",
        "        if tag is None:\n",
        "            #if there is no available tag, append the token as is\n",
        "            lemmatized_sentence.append(word)\n",
        "        else:        \n",
        "            #else use the tag to lemmatize the token\n",
        "            lemmatized_sentence.append(lemmatizer.lemmatize(word, tag))\n",
        "    return \" \".join(lemmatized_sentence)\n",
        "\n",
        "df['Cleaned_Description'] = df['Cleaned_Description'].apply(lambda x: lemmatize_sentence(x))\n",
        "df['Cleaned_Description'][0:20]"
      ],
      "metadata": {
        "colab": {
          "base_uri": "https://localhost:8080/"
        },
        "id": "uxPBRhekCOCO",
        "outputId": "d758e0ea-34f5-4d2c-ec97-ed32981e6582"
      },
      "execution_count": 48,
      "outputs": [
        {
          "output_type": "execute_result",
          "data": {
            "text/plain": [
              "205564               regency sugar bowl green\n",
              "397773           silver bell table decoration\n",
              "47356            set 3 cake tin pantry design\n",
              "414576    silver glitter flower votive holder\n",
              "326426          travel card wallet union jack\n",
              "327913          cream cupid heart coat hanger\n",
              "430181             bake set 9 piece retrospot\n",
              "347517       childrens cutlery polkadot green\n",
              "63529       pink 3 piece polkadot cutlery set\n",
              "203673                 tea time party bunting\n",
              "426416                     jumbo bag alphabet\n",
              "147767            pink union jack luggage tag\n",
              "267100           red spot ceramic drawer knob\n",
              "390217           mistletoe heart wreath green\n",
              "453980           pack 12 vintage doily tissue\n",
              "273888               12 pencil tall tube posy\n",
              "192145            tablecloth red apple design\n",
              "271816                 doormat keep calm come\n",
              "186476        scandinavian paisley picnic bag\n",
              "380147                                postage\n",
              "Name: Cleaned_Description, dtype: object"
            ]
          },
          "metadata": {},
          "execution_count": 48
        }
      ]
    },
    {
      "cell_type": "markdown",
      "source": [
        "# **Plotting Freqent Words**"
      ],
      "metadata": {
        "id": "G0ni-apmJogh"
      }
    },
    {
      "cell_type": "code",
      "source": [
        "# Plotting most frequent words from positive reviews using bar chart\n",
        "\n",
        "import matplotlib.pyplot as plt\n",
        "import seaborn as sns\n",
        "sns.set(style = 'white')\n",
        "\n",
        "# function to find the frequent words in the data\n",
        "from nltk import FreqDist \n",
        "\n",
        "#Extracts words into list and count frequency\n",
        "all_words = ' '.join([text for text in df['Cleaned_Description']])\n",
        "all_words = all_words.split()\n",
        "words_df = FreqDist(all_words)\n",
        "\n",
        "\n",
        "# Extracting words and frequency from words_df object\n",
        "words_df = pd.DataFrame({'word':list(words_df.keys()), 'count':list(words_df.values())})\n",
        "\n",
        "# Subsets top 30 words by frequency\n",
        "words_df = words_df.nlargest(columns=\"count\", n = 30) \n",
        "\n",
        "words_df.sort_values('count', inplace = True)\n",
        "\n",
        "# Plotting 30 frequent words\n",
        "plt.figure(figsize=(20,5))\n",
        "ax = plt.barh(words_df['word'], width = words_df['count'])\n",
        "plt.show()"
      ],
      "metadata": {
        "colab": {
          "base_uri": "https://localhost:8080/",
          "height": 271
        },
        "id": "A6y9t0tsG9B6",
        "outputId": "db12dd93-e25d-46ee-8887-bac19d80c034"
      },
      "execution_count": 49,
      "outputs": [
        {
          "output_type": "display_data",
          "data": {
            "text/plain": [
              "<Figure size 1440x360 with 1 Axes>"
            ],
            "image/png": "[encoded data removed]"
          },
          "metadata": {}
        }
      ]
    },
    {
      "cell_type": "markdown",
      "source": [
        "# **WordCloud**"
      ],
      "metadata": {
        "id": "BsNO_WcKJuNx"
      }
    },
    {
      "cell_type": "code",
      "source": [
        "# Bilding a Word Cloud\n",
        "\n",
        "from wordcloud import WordCloud\n",
        "all_words = ' '.join([text for text in df['Cleaned_Description']])\n",
        " \n",
        "\n",
        "wordcloud = WordCloud(width = 800, height = 800, \n",
        "                      background_color ='white', \n",
        "                      min_font_size = 10).generate(all_words)\n",
        "\n",
        "#plot the WordCloud image                        \n",
        "plt.figure(figsize = (8, 8), facecolor = None) \n",
        "plt.imshow(wordcloud) \n",
        "plt.axis(\"off\") \n",
        "plt.tight_layout(pad = 0) \n",
        "plt.show()"
      ],
      "metadata": {
        "colab": {
          "base_uri": "https://localhost:8080/",
          "height": 607
        },
        "id": "nOvFpZqpHtE1",
        "outputId": "901c3fdd-d66f-41c2-a01d-a311a474192e"
      },
      "execution_count": 50,
      "outputs": [
        {
          "output_type": "display_data",
          "data": {
            "text/plain": [
              "<Figure size 576x576 with 1 Axes>"
            ],
            "image/png": "[encoded data removed]"
          },
          "metadata": {}
        }
      ]
    },
    {
      "cell_type": "markdown",
      "source": [
        "# **Bag of Words Model**"
      ],
      "metadata": {
        "id": "xZOZexRJJyIj"
      }
    },
    {
      "cell_type": "code",
      "source": [
        "tfidf_vectorizer = TfidfVectorizer(max_features=2500) # Intialise the model \n",
        "values = tfidf_vectorizer.fit_transform(df['Cleaned_Description'])\n",
        "\n",
        "# Show the Model as a pandas DataFrame\n",
        "feature_names = tfidf_vectorizer.get_feature_names()\n",
        "df_nlp = pd.DataFrame(values.toarray(), columns = feature_names)"
      ],
      "metadata": {
        "colab": {
          "base_uri": "https://localhost:8080/"
        },
        "id": "e4CmQeIrJzzS",
        "outputId": "8f83ca86-6398-4df4-8cab-cb657c9de761"
      },
      "execution_count": 51,
      "outputs": [
        {
          "output_type": "stream",
          "name": "stderr",
          "text": [
            "/usr/local/lib/python3.8/dist-packages/sklearn/utils/deprecation.py:87: FutureWarning: Function get_feature_names is deprecated; get_feature_names is deprecated in 1.0 and will be removed in 1.2. Please use get_feature_names_out instead.\n",
            "  warnings.warn(msg, category=FutureWarning)\n"
          ]
        }
      ]
    },
    {
      "cell_type": "code",
      "source": [
        "df.shape"
      ],
      "metadata": {
        "colab": {
          "base_uri": "https://localhost:8080/"
        },
        "id": "SnUavy96Tznx",
        "outputId": "b8c3c650-ad59-4238-ad81-8f020298586d"
      },
      "execution_count": 52,
      "outputs": [
        {
          "output_type": "execute_result",
          "data": {
            "text/plain": [
              "(1746, 8)"
            ]
          },
          "metadata": {},
          "execution_count": 52
        }
      ]
    },
    {
      "cell_type": "code",
      "source": [
        "df_new = df.join(df_nlp)\n",
        "df_new.shape"
      ],
      "metadata": {
        "colab": {
          "base_uri": "https://localhost:8080/"
        },
        "id": "no0G8zEdT2KU",
        "outputId": "07a4debc-0bb3-488a-871c-2fcc3fff783f"
      },
      "execution_count": 53,
      "outputs": [
        {
          "output_type": "execute_result",
          "data": {
            "text/plain": [
              "(1746, 1276)"
            ]
          },
          "metadata": {},
          "execution_count": 53
        }
      ]
    },
    {
      "cell_type": "code",
      "source": [
        "df_new.head()"
      ],
      "metadata": {
        "colab": {
          "base_uri": "https://localhost:8080/",
          "height": 560
        },
        "id": "A-M6ps0IUG_R",
        "outputId": "50b30849-ffd8-45b3-ed55-f06a03c20ebc"
      },
      "execution_count": 54,
      "outputs": [
        {
          "output_type": "execute_result",
          "data": {
            "text/plain": [
              "       StockCode                          Description  Quantity InvoiceDate  \\\n",
              "205564     23174             REGENCY SUGAR BOWL GREEN         6  26/05/2011   \n",
              "397773     23100        SILVER BELLS TABLE DECORATION        12  14/10/2011   \n",
              "47356      22720    SET OF 3 CAKE TINS PANTRY DESIGN          3  07/01/2011   \n",
              "414576     85111  SILVER GLITTER FLOWER VOTIVE HOLDER        36  24/10/2011   \n",
              "326426     22997        TRAVEL CARD WALLET UNION JACK         2  05/09/2011   \n",
              "\n",
              "        UnitPrice  CustomerID         Country  \\\n",
              "205564       4.15       15622  United Kingdom   \n",
              "397773       1.25       15620  United Kingdom   \n",
              "47356        4.95       13842  United Kingdom   \n",
              "414576       0.29       14997  United Kingdom   \n",
              "326426       0.42       14159  United Kingdom   \n",
              "\n",
              "                        Cleaned_Description  10  11  ...  world  woven  wrap  \\\n",
              "205564             regency sugar bowl green NaN NaN  ...    NaN    NaN   NaN   \n",
              "397773         silver bell table decoration NaN NaN  ...    NaN    NaN   NaN   \n",
              "47356          set 3 cake tin pantry design NaN NaN  ...    NaN    NaN   NaN   \n",
              "414576  silver glitter flower votive holder NaN NaN  ...    NaN    NaN   NaN   \n",
              "326426        travel card wallet union jack NaN NaN  ...    NaN    NaN   NaN   \n",
              "\n",
              "        wreath  write  yellow  yellowpink  yuletide  zinc  zincglass  \n",
              "205564     NaN    NaN     NaN         NaN       NaN   NaN        NaN  \n",
              "397773     NaN    NaN     NaN         NaN       NaN   NaN        NaN  \n",
              "47356      NaN    NaN     NaN         NaN       NaN   NaN        NaN  \n",
              "414576     NaN    NaN     NaN         NaN       NaN   NaN        NaN  \n",
              "326426     NaN    NaN     NaN         NaN       NaN   NaN        NaN  \n",
              "\n",
              "[5 rows x 1276 columns]"
            ],
            "text/html": [
              "\n",
              "  <div id=\"df-9f96abf0-875e-439c-90fa-f97e4cb31483\">\n",
              "    <div class=\"colab-df-container\">\n",
              "      <div>\n",
              "<style scoped>\n",
              "    .dataframe tbody tr th:only-of-type {\n",
              "        vertical-align: middle;\n",
              "    }\n",
              "\n",
              "    .dataframe tbody tr th {\n",
              "        vertical-align: top;\n",
              "    }\n",
              "\n",
              "    .dataframe thead th {\n",
              "        text-align: right;\n",
              "    }\n",
              "</style>\n",
              "<table border=\"1\" class=\"dataframe\">\n",
              "  <thead>\n",
              "    <tr style=\"text-align: right;\">\n",
              "      <th></th>\n",
              "      <th>StockCode</th>\n",
              "      <th>Description</th>\n",
              "      <th>Quantity</th>\n",
              "      <th>InvoiceDate</th>\n",
              "      <th>UnitPrice</th>\n",
              "      <th>CustomerID</th>\n",
              "      <th>Country</th>\n",
              "      <th>Cleaned_Description</th>\n",
              "      <th>10</th>\n",
              "      <th>11</th>\n",
              "      <th>...</th>\n",
              "      <th>world</th>\n",
              "      <th>woven</th>\n",
              "      <th>wrap</th>\n",
              "      <th>wreath</th>\n",
              "      <th>write</th>\n",
              "      <th>yellow</th>\n",
              "      <th>yellowpink</th>\n",
              "      <th>yuletide</th>\n",
              "      <th>zinc</th>\n",
              "      <th>zincglass</th>\n",
              "    </tr>\n",
              "  </thead>\n",
              "  <tbody>\n",
              "    <tr>\n",
              "      <th>205564</th>\n",
              "      <td>23174</td>\n",
              "      <td>REGENCY SUGAR BOWL GREEN</td>\n",
              "      <td>6</td>\n",
              "      <td>26/05/2011</td>\n",
              "      <td>4.15</td>\n",
              "      <td>15622</td>\n",
              "      <td>United Kingdom</td>\n",
              "      <td>regency sugar bowl green</td>\n",
              "      <td>NaN</td>\n",
              "      <td>NaN</td>\n",
              "      <td>...</td>\n",
              "      <td>NaN</td>\n",
              "      <td>NaN</td>\n",
              "      <td>NaN</td>\n",
              "      <td>NaN</td>\n",
              "      <td>NaN</td>\n",
              "      <td>NaN</td>\n",
              "      <td>NaN</td>\n",
              "      <td>NaN</td>\n",
              "      <td>NaN</td>\n",
              "      <td>NaN</td>\n",
              "    </tr>\n",
              "    <tr>\n",
              "      <th>397773</th>\n",
              "      <td>23100</td>\n",
              "      <td>SILVER BELLS TABLE DECORATION</td>\n",
              "      <td>12</td>\n",
              "      <td>14/10/2011</td>\n",
              "      <td>1.25</td>\n",
              "      <td>15620</td>\n",
              "      <td>United Kingdom</td>\n",
              "      <td>silver bell table decoration</td>\n",
              "      <td>NaN</td>\n",
              "      <td>NaN</td>\n",
              "      <td>...</td>\n",
              "      <td>NaN</td>\n",
              "      <td>NaN</td>\n",
              "      <td>NaN</td>\n",
              "      <td>NaN</td>\n",
              "      <td>NaN</td>\n",
              "      <td>NaN</td>\n",
              "      <td>NaN</td>\n",
              "      <td>NaN</td>\n",
              "      <td>NaN</td>\n",
              "      <td>NaN</td>\n",
              "    </tr>\n",
              "    <tr>\n",
              "      <th>47356</th>\n",
              "      <td>22720</td>\n",
              "      <td>SET OF 3 CAKE TINS PANTRY DESIGN</td>\n",
              "      <td>3</td>\n",
              "      <td>07/01/2011</td>\n",
              "      <td>4.95</td>\n",
              "      <td>13842</td>\n",
              "      <td>United Kingdom</td>\n",
              "      <td>set 3 cake tin pantry design</td>\n",
              "      <td>NaN</td>\n",
              "      <td>NaN</td>\n",
              "      <td>...</td>\n",
              "      <td>NaN</td>\n",
              "      <td>NaN</td>\n",
              "      <td>NaN</td>\n",
              "      <td>NaN</td>\n",
              "      <td>NaN</td>\n",
              "      <td>NaN</td>\n",
              "      <td>NaN</td>\n",
              "      <td>NaN</td>\n",
              "      <td>NaN</td>\n",
              "      <td>NaN</td>\n",
              "    </tr>\n",
              "    <tr>\n",
              "      <th>414576</th>\n",
              "      <td>85111</td>\n",
              "      <td>SILVER GLITTER FLOWER VOTIVE HOLDER</td>\n",
              "      <td>36</td>\n",
              "      <td>24/10/2011</td>\n",
              "      <td>0.29</td>\n",
              "      <td>14997</td>\n",
              "      <td>United Kingdom</td>\n",
              "      <td>silver glitter flower votive holder</td>\n",
              "      <td>NaN</td>\n",
              "      <td>NaN</td>\n",
              "      <td>...</td>\n",
              "      <td>NaN</td>\n",
              "      <td>NaN</td>\n",
              "      <td>NaN</td>\n",
              "      <td>NaN</td>\n",
              "      <td>NaN</td>\n",
              "      <td>NaN</td>\n",
              "      <td>NaN</td>\n",
              "      <td>NaN</td>\n",
              "      <td>NaN</td>\n",
              "      <td>NaN</td>\n",
              "    </tr>\n",
              "    <tr>\n",
              "      <th>326426</th>\n",
              "      <td>22997</td>\n",
              "      <td>TRAVEL CARD WALLET UNION JACK</td>\n",
              "      <td>2</td>\n",
              "      <td>05/09/2011</td>\n",
              "      <td>0.42</td>\n",
              "      <td>14159</td>\n",
              "      <td>United Kingdom</td>\n",
              "      <td>travel card wallet union jack</td>\n",
              "      <td>NaN</td>\n",
              "      <td>NaN</td>\n",
              "      <td>...</td>\n",
              "      <td>NaN</td>\n",
              "      <td>NaN</td>\n",
              "      <td>NaN</td>\n",
              "      <td>NaN</td>\n",
              "      <td>NaN</td>\n",
              "      <td>NaN</td>\n",
              "      <td>NaN</td>\n",
              "      <td>NaN</td>\n",
              "      <td>NaN</td>\n",
              "      <td>NaN</td>\n",
              "    </tr>\n",
              "  </tbody>\n",
              "</table>\n",
              "<p>5 rows × 1276 columns</p>\n",
              "</div>\n",
              "      <button class=\"colab-df-convert\" onclick=\"convertToInteractive('df-9f96abf0-875e-439c-90fa-f97e4cb31483')\"\n",
              "              title=\"Convert this dataframe to an interactive table.\"\n",
              "              style=\"display:none;\">\n",
              "        \n",
              "  <svg xmlns=\"http://www.w3.org/2000/svg\" height=\"24px\"viewBox=\"0 0 24 24\"\n",
              "       width=\"24px\">\n",
              "    <path d=\"M0 0h24v24H0V0z\" fill=\"none\"/>\n",
              "    <path d=\"M18.56 5.44l.94 2.06.94-2.06 2.06-.94-2.06-.94-.94-2.06-.94 2.06-2.06.94zm-11 1L8.5 8.5l.94-2.06 2.06-.94-2.06-.94L8.5 2.5l-.94 2.06-2.06.94zm10 10l.94 2.06.94-2.06 2.06-.94-2.06-.94-.94-2.06-.94 2.06-2.06.94z\"/><path d=\"M17.41 7.96l-1.37-1.37c-.4-.4-.92-.59-1.43-.59-.52 0-1.04.2-1.43.59L10.3 9.45l-7.72 7.72c-.78.78-.78 2.05 0 2.83L4 21.41c.39.39.9.59 1.41.59.51 0 1.02-.2 1.41-.59l7.78-7.78 2.81-2.81c.8-.78.8-2.07 0-2.86zM5.41 20L4 18.59l7.72-7.72 1.47 1.35L5.41 20z\"/>\n",
              "  </svg>\n",
              "      </button>\n",
              "      \n",
              "  <style>\n",
              "    .colab-df-container {\n",
              "      display:flex;\n",
              "      flex-wrap:wrap;\n",
              "      gap: 12px;\n",
              "    }\n",
              "\n",
              "    .colab-df-convert {\n",
              "      background-color: #E8F0FE;\n",
              "      border: none;\n",
              "      border-radius: 50%;\n",
              "      cursor: pointer;\n",
              "      display: none;\n",
              "      fill: #1967D2;\n",
              "      height: 32px;\n",
              "      padding: 0 0 0 0;\n",
              "      width: 32px;\n",
              "    }\n",
              "\n",
              "    .colab-df-convert:hover {\n",
              "      background-color: #E2EBFA;\n",
              "      box-shadow: 0px 1px 2px rgba(60, 64, 67, 0.3), 0px 1px 3px 1px rgba(60, 64, 67, 0.15);\n",
              "      fill: #174EA6;\n",
              "    }\n",
              "\n",
              "    [theme=dark] .colab-df-convert {\n",
              "      background-color: #3B4455;\n",
              "      fill: #D2E3FC;\n",
              "    }\n",
              "\n",
              "    [theme=dark] .colab-df-convert:hover {\n",
              "      background-color: #434B5C;\n",
              "      box-shadow: 0px 1px 3px 1px rgba(0, 0, 0, 0.15);\n",
              "      filter: drop-shadow(0px 1px 2px rgba(0, 0, 0, 0.3));\n",
              "      fill: #FFFFFF;\n",
              "    }\n",
              "  </style>\n",
              "\n",
              "      <script>\n",
              "        const buttonEl =\n",
              "          document.querySelector('#df-9f96abf0-875e-439c-90fa-f97e4cb31483 button.colab-df-convert');\n",
              "        buttonEl.style.display =\n",
              "          google.colab.kernel.accessAllowed ? 'block' : 'none';\n",
              "\n",
              "        async function convertToInteractive(key) {\n",
              "          const element = document.querySelector('#df-9f96abf0-875e-439c-90fa-f97e4cb31483');\n",
              "          const dataTable =\n",
              "            await google.colab.kernel.invokeFunction('convertToInteractive',\n",
              "                                                     [key], {});\n",
              "          if (!dataTable) return;\n",
              "\n",
              "          const docLinkHtml = 'Like what you see? Visit the ' +\n",
              "            '<a target=\"_blank\" href=https://colab.research.google.com/notebooks/data_table.ipynb>data table notebook</a>'\n",
              "            + ' to learn more about interactive tables.';\n",
              "          element.innerHTML = '';\n",
              "          dataTable['output_type'] = 'display_data';\n",
              "          await google.colab.output.renderOutput(dataTable, element);\n",
              "          const docLink = document.createElement('div');\n",
              "          docLink.innerHTML = docLinkHtml;\n",
              "          element.appendChild(docLink);\n",
              "        }\n",
              "      </script>\n",
              "    </div>\n",
              "  </div>\n",
              "  "
            ]
          },
          "metadata": {},
          "execution_count": 54
        }
      ]
    },
    {
      "cell_type": "code",
      "source": [
        "df_new.drop(columns='Description',inplace=True)"
      ],
      "metadata": {
        "id": "DQdSxO1caUM1"
      },
      "execution_count": 55,
      "outputs": []
    },
    {
      "cell_type": "code",
      "source": [
        "df_new.drop(columns=['StockCode','InvoiceDate','Cleaned_Description','Country'],axis=1,inplace=True)"
      ],
      "metadata": {
        "id": "223sH2lGazIV"
      },
      "execution_count": 56,
      "outputs": []
    },
    {
      "cell_type": "code",
      "source": [
        "df_new.head()"
      ],
      "metadata": {
        "colab": {
          "base_uri": "https://localhost:8080/",
          "height": 299
        },
        "id": "JBxPiBzQazT8",
        "outputId": "b5aa24d2-01a5-4a6c-9b58-46a20f813090"
      },
      "execution_count": 57,
      "outputs": [
        {
          "output_type": "execute_result",
          "data": {
            "text/plain": [
              "        Quantity  UnitPrice  CustomerID  10  11  12  120cm  125g  15c  16  \\\n",
              "205564         6       4.15       15622 NaN NaN NaN    NaN   NaN  NaN NaN   \n",
              "397773        12       1.25       15620 NaN NaN NaN    NaN   NaN  NaN NaN   \n",
              "47356          3       4.95       13842 NaN NaN NaN    NaN   NaN  NaN NaN   \n",
              "414576        36       0.29       14997 NaN NaN NaN    NaN   NaN  NaN NaN   \n",
              "326426         2       0.42       14159 NaN NaN NaN    NaN   NaN  NaN NaN   \n",
              "\n",
              "        ...  world  woven  wrap  wreath  write  yellow  yellowpink  yuletide  \\\n",
              "205564  ...    NaN    NaN   NaN     NaN    NaN     NaN         NaN       NaN   \n",
              "397773  ...    NaN    NaN   NaN     NaN    NaN     NaN         NaN       NaN   \n",
              "47356   ...    NaN    NaN   NaN     NaN    NaN     NaN         NaN       NaN   \n",
              "414576  ...    NaN    NaN   NaN     NaN    NaN     NaN         NaN       NaN   \n",
              "326426  ...    NaN    NaN   NaN     NaN    NaN     NaN         NaN       NaN   \n",
              "\n",
              "        zinc  zincglass  \n",
              "205564   NaN        NaN  \n",
              "397773   NaN        NaN  \n",
              "47356    NaN        NaN  \n",
              "414576   NaN        NaN  \n",
              "326426   NaN        NaN  \n",
              "\n",
              "[5 rows x 1271 columns]"
            ],
            "text/html": [
              "\n",
              "  <div id=\"df-dafd4610-f356-49af-9e7d-b859fceffc2b\">\n",
              "    <div class=\"colab-df-container\">\n",
              "      <div>\n",
              "<style scoped>\n",
              "    .dataframe tbody tr th:only-of-type {\n",
              "        vertical-align: middle;\n",
              "    }\n",
              "\n",
              "    .dataframe tbody tr th {\n",
              "        vertical-align: top;\n",
              "    }\n",
              "\n",
              "    .dataframe thead th {\n",
              "        text-align: right;\n",
              "    }\n",
              "</style>\n",
              "<table border=\"1\" class=\"dataframe\">\n",
              "  <thead>\n",
              "    <tr style=\"text-align: right;\">\n",
              "      <th></th>\n",
              "      <th>Quantity</th>\n",
              "      <th>UnitPrice</th>\n",
              "      <th>CustomerID</th>\n",
              "      <th>10</th>\n",
              "      <th>11</th>\n",
              "      <th>12</th>\n",
              "      <th>120cm</th>\n",
              "      <th>125g</th>\n",
              "      <th>15c</th>\n",
              "      <th>16</th>\n",
              "      <th>...</th>\n",
              "      <th>world</th>\n",
              "      <th>woven</th>\n",
              "      <th>wrap</th>\n",
              "      <th>wreath</th>\n",
              "      <th>write</th>\n",
              "      <th>yellow</th>\n",
              "      <th>yellowpink</th>\n",
              "      <th>yuletide</th>\n",
              "      <th>zinc</th>\n",
              "      <th>zincglass</th>\n",
              "    </tr>\n",
              "  </thead>\n",
              "  <tbody>\n",
              "    <tr>\n",
              "      <th>205564</th>\n",
              "      <td>6</td>\n",
              "      <td>4.15</td>\n",
              "      <td>15622</td>\n",
              "      <td>NaN</td>\n",
              "      <td>NaN</td>\n",
              "      <td>NaN</td>\n",
              "      <td>NaN</td>\n",
              "      <td>NaN</td>\n",
              "      <td>NaN</td>\n",
              "      <td>NaN</td>\n",
              "      <td>...</td>\n",
              "      <td>NaN</td>\n",
              "      <td>NaN</td>\n",
              "      <td>NaN</td>\n",
              "      <td>NaN</td>\n",
              "      <td>NaN</td>\n",
              "      <td>NaN</td>\n",
              "      <td>NaN</td>\n",
              "      <td>NaN</td>\n",
              "      <td>NaN</td>\n",
              "      <td>NaN</td>\n",
              "    </tr>\n",
              "    <tr>\n",
              "      <th>397773</th>\n",
              "      <td>12</td>\n",
              "      <td>1.25</td>\n",
              "      <td>15620</td>\n",
              "      <td>NaN</td>\n",
              "      <td>NaN</td>\n",
              "      <td>NaN</td>\n",
              "      <td>NaN</td>\n",
              "      <td>NaN</td>\n",
              "      <td>NaN</td>\n",
              "      <td>NaN</td>\n",
              "      <td>...</td>\n",
              "      <td>NaN</td>\n",
              "      <td>NaN</td>\n",
              "      <td>NaN</td>\n",
              "      <td>NaN</td>\n",
              "      <td>NaN</td>\n",
              "      <td>NaN</td>\n",
              "      <td>NaN</td>\n",
              "      <td>NaN</td>\n",
              "      <td>NaN</td>\n",
              "      <td>NaN</td>\n",
              "    </tr>\n",
              "    <tr>\n",
              "      <th>47356</th>\n",
              "      <td>3</td>\n",
              "      <td>4.95</td>\n",
              "      <td>13842</td>\n",
              "      <td>NaN</td>\n",
              "      <td>NaN</td>\n",
              "      <td>NaN</td>\n",
              "      <td>NaN</td>\n",
              "      <td>NaN</td>\n",
              "      <td>NaN</td>\n",
              "      <td>NaN</td>\n",
              "      <td>...</td>\n",
              "      <td>NaN</td>\n",
              "      <td>NaN</td>\n",
              "      <td>NaN</td>\n",
              "      <td>NaN</td>\n",
              "      <td>NaN</td>\n",
              "      <td>NaN</td>\n",
              "      <td>NaN</td>\n",
              "      <td>NaN</td>\n",
              "      <td>NaN</td>\n",
              "      <td>NaN</td>\n",
              "    </tr>\n",
              "    <tr>\n",
              "      <th>414576</th>\n",
              "      <td>36</td>\n",
              "      <td>0.29</td>\n",
              "      <td>14997</td>\n",
              "      <td>NaN</td>\n",
              "      <td>NaN</td>\n",
              "      <td>NaN</td>\n",
              "      <td>NaN</td>\n",
              "      <td>NaN</td>\n",
              "      <td>NaN</td>\n",
              "      <td>NaN</td>\n",
              "      <td>...</td>\n",
              "      <td>NaN</td>\n",
              "      <td>NaN</td>\n",
              "      <td>NaN</td>\n",
              "      <td>NaN</td>\n",
              "      <td>NaN</td>\n",
              "      <td>NaN</td>\n",
              "      <td>NaN</td>\n",
              "      <td>NaN</td>\n",
              "      <td>NaN</td>\n",
              "      <td>NaN</td>\n",
              "    </tr>\n",
              "    <tr>\n",
              "      <th>326426</th>\n",
              "      <td>2</td>\n",
              "      <td>0.42</td>\n",
              "      <td>14159</td>\n",
              "      <td>NaN</td>\n",
              "      <td>NaN</td>\n",
              "      <td>NaN</td>\n",
              "      <td>NaN</td>\n",
              "      <td>NaN</td>\n",
              "      <td>NaN</td>\n",
              "      <td>NaN</td>\n",
              "      <td>...</td>\n",
              "      <td>NaN</td>\n",
              "      <td>NaN</td>\n",
              "      <td>NaN</td>\n",
              "      <td>NaN</td>\n",
              "      <td>NaN</td>\n",
              "      <td>NaN</td>\n",
              "      <td>NaN</td>\n",
              "      <td>NaN</td>\n",
              "      <td>NaN</td>\n",
              "      <td>NaN</td>\n",
              "    </tr>\n",
              "  </tbody>\n",
              "</table>\n",
              "<p>5 rows × 1271 columns</p>\n",
              "</div>\n",
              "      <button class=\"colab-df-convert\" onclick=\"convertToInteractive('df-dafd4610-f356-49af-9e7d-b859fceffc2b')\"\n",
              "              title=\"Convert this dataframe to an interactive table.\"\n",
              "              style=\"display:none;\">\n",
              "        \n",
              "  <svg xmlns=\"http://www.w3.org/2000/svg\" height=\"24px\"viewBox=\"0 0 24 24\"\n",
              "       width=\"24px\">\n",
              "    <path d=\"M0 0h24v24H0V0z\" fill=\"none\"/>\n",
              "    <path d=\"M18.56 5.44l.94 2.06.94-2.06 2.06-.94-2.06-.94-.94-2.06-.94 2.06-2.06.94zm-11 1L8.5 8.5l.94-2.06 2.06-.94-2.06-.94L8.5 2.5l-.94 2.06-2.06.94zm10 10l.94 2.06.94-2.06 2.06-.94-2.06-.94-.94-2.06-.94 2.06-2.06.94z\"/><path d=\"M17.41 7.96l-1.37-1.37c-.4-.4-.92-.59-1.43-.59-.52 0-1.04.2-1.43.59L10.3 9.45l-7.72 7.72c-.78.78-.78 2.05 0 2.83L4 21.41c.39.39.9.59 1.41.59.51 0 1.02-.2 1.41-.59l7.78-7.78 2.81-2.81c.8-.78.8-2.07 0-2.86zM5.41 20L4 18.59l7.72-7.72 1.47 1.35L5.41 20z\"/>\n",
              "  </svg>\n",
              "      </button>\n",
              "      \n",
              "  <style>\n",
              "    .colab-df-container {\n",
              "      display:flex;\n",
              "      flex-wrap:wrap;\n",
              "      gap: 12px;\n",
              "    }\n",
              "\n",
              "    .colab-df-convert {\n",
              "      background-color: #E8F0FE;\n",
              "      border: none;\n",
              "      border-radius: 50%;\n",
              "      cursor: pointer;\n",
              "      display: none;\n",
              "      fill: #1967D2;\n",
              "      height: 32px;\n",
              "      padding: 0 0 0 0;\n",
              "      width: 32px;\n",
              "    }\n",
              "\n",
              "    .colab-df-convert:hover {\n",
              "      background-color: #E2EBFA;\n",
              "      box-shadow: 0px 1px 2px rgba(60, 64, 67, 0.3), 0px 1px 3px 1px rgba(60, 64, 67, 0.15);\n",
              "      fill: #174EA6;\n",
              "    }\n",
              "\n",
              "    [theme=dark] .colab-df-convert {\n",
              "      background-color: #3B4455;\n",
              "      fill: #D2E3FC;\n",
              "    }\n",
              "\n",
              "    [theme=dark] .colab-df-convert:hover {\n",
              "      background-color: #434B5C;\n",
              "      box-shadow: 0px 1px 3px 1px rgba(0, 0, 0, 0.15);\n",
              "      filter: drop-shadow(0px 1px 2px rgba(0, 0, 0, 0.3));\n",
              "      fill: #FFFFFF;\n",
              "    }\n",
              "  </style>\n",
              "\n",
              "      <script>\n",
              "        const buttonEl =\n",
              "          document.querySelector('#df-dafd4610-f356-49af-9e7d-b859fceffc2b button.colab-df-convert');\n",
              "        buttonEl.style.display =\n",
              "          google.colab.kernel.accessAllowed ? 'block' : 'none';\n",
              "\n",
              "        async function convertToInteractive(key) {\n",
              "          const element = document.querySelector('#df-dafd4610-f356-49af-9e7d-b859fceffc2b');\n",
              "          const dataTable =\n",
              "            await google.colab.kernel.invokeFunction('convertToInteractive',\n",
              "                                                     [key], {});\n",
              "          if (!dataTable) return;\n",
              "\n",
              "          const docLinkHtml = 'Like what you see? Visit the ' +\n",
              "            '<a target=\"_blank\" href=https://colab.research.google.com/notebooks/data_table.ipynb>data table notebook</a>'\n",
              "            + ' to learn more about interactive tables.';\n",
              "          element.innerHTML = '';\n",
              "          dataTable['output_type'] = 'display_data';\n",
              "          await google.colab.output.renderOutput(dataTable, element);\n",
              "          const docLink = document.createElement('div');\n",
              "          docLink.innerHTML = docLinkHtml;\n",
              "          element.appendChild(docLink);\n",
              "        }\n",
              "      </script>\n",
              "    </div>\n",
              "  </div>\n",
              "  "
            ]
          },
          "metadata": {},
          "execution_count": 57
        }
      ]
    },
    {
      "cell_type": "code",
      "source": [
        "df_new.shape"
      ],
      "metadata": {
        "colab": {
          "base_uri": "https://localhost:8080/"
        },
        "id": "WwO3gr4wabQs",
        "outputId": "f1245263-d7d6-4ede-970f-74ef1910782b"
      },
      "execution_count": 58,
      "outputs": [
        {
          "output_type": "execute_result",
          "data": {
            "text/plain": [
              "(1746, 1271)"
            ]
          },
          "metadata": {},
          "execution_count": 58
        }
      ]
    },
    {
      "cell_type": "code",
      "source": [
        "df_new.fillna(0,inplace=True)"
      ],
      "metadata": {
        "id": "DB6OedBXbbng"
      },
      "execution_count": 59,
      "outputs": []
    },
    {
      "cell_type": "code",
      "source": [
        "df_new.head()"
      ],
      "metadata": {
        "colab": {
          "base_uri": "https://localhost:8080/",
          "height": 299
        },
        "id": "Mx0RTmpFbjEC",
        "outputId": "6af2246e-19fa-4195-e22b-d33cec469330"
      },
      "execution_count": 60,
      "outputs": [
        {
          "output_type": "execute_result",
          "data": {
            "text/plain": [
              "        Quantity  UnitPrice  CustomerID   10   11   12  120cm  125g  15c   16  \\\n",
              "205564         6       4.15       15622  0.0  0.0  0.0    0.0   0.0  0.0  0.0   \n",
              "397773        12       1.25       15620  0.0  0.0  0.0    0.0   0.0  0.0  0.0   \n",
              "47356          3       4.95       13842  0.0  0.0  0.0    0.0   0.0  0.0  0.0   \n",
              "414576        36       0.29       14997  0.0  0.0  0.0    0.0   0.0  0.0  0.0   \n",
              "326426         2       0.42       14159  0.0  0.0  0.0    0.0   0.0  0.0  0.0   \n",
              "\n",
              "        ...  world  woven  wrap  wreath  write  yellow  yellowpink  yuletide  \\\n",
              "205564  ...    0.0    0.0   0.0     0.0    0.0     0.0         0.0       0.0   \n",
              "397773  ...    0.0    0.0   0.0     0.0    0.0     0.0         0.0       0.0   \n",
              "47356   ...    0.0    0.0   0.0     0.0    0.0     0.0         0.0       0.0   \n",
              "414576  ...    0.0    0.0   0.0     0.0    0.0     0.0         0.0       0.0   \n",
              "326426  ...    0.0    0.0   0.0     0.0    0.0     0.0         0.0       0.0   \n",
              "\n",
              "        zinc  zincglass  \n",
              "205564   0.0        0.0  \n",
              "397773   0.0        0.0  \n",
              "47356    0.0        0.0  \n",
              "414576   0.0        0.0  \n",
              "326426   0.0        0.0  \n",
              "\n",
              "[5 rows x 1271 columns]"
            ],
            "text/html": [
              "\n",
              "  <div id=\"df-223ee24b-1e10-4884-9085-eb10ab4375a0\">\n",
              "    <div class=\"colab-df-container\">\n",
              "      <div>\n",
              "<style scoped>\n",
              "    .dataframe tbody tr th:only-of-type {\n",
              "        vertical-align: middle;\n",
              "    }\n",
              "\n",
              "    .dataframe tbody tr th {\n",
              "        vertical-align: top;\n",
              "    }\n",
              "\n",
              "    .dataframe thead th {\n",
              "        text-align: right;\n",
              "    }\n",
              "</style>\n",
              "<table border=\"1\" class=\"dataframe\">\n",
              "  <thead>\n",
              "    <tr style=\"text-align: right;\">\n",
              "      <th></th>\n",
              "      <th>Quantity</th>\n",
              "      <th>UnitPrice</th>\n",
              "      <th>CustomerID</th>\n",
              "      <th>10</th>\n",
              "      <th>11</th>\n",
              "      <th>12</th>\n",
              "      <th>120cm</th>\n",
              "      <th>125g</th>\n",
              "      <th>15c</th>\n",
              "      <th>16</th>\n",
              "      <th>...</th>\n",
              "      <th>world</th>\n",
              "      <th>woven</th>\n",
              "      <th>wrap</th>\n",
              "      <th>wreath</th>\n",
              "      <th>write</th>\n",
              "      <th>yellow</th>\n",
              "      <th>yellowpink</th>\n",
              "      <th>yuletide</th>\n",
              "      <th>zinc</th>\n",
              "      <th>zincglass</th>\n",
              "    </tr>\n",
              "  </thead>\n",
              "  <tbody>\n",
              "    <tr>\n",
              "      <th>205564</th>\n",
              "      <td>6</td>\n",
              "      <td>4.15</td>\n",
              "      <td>15622</td>\n",
              "      <td>0.0</td>\n",
              "      <td>0.0</td>\n",
              "      <td>0.0</td>\n",
              "      <td>0.0</td>\n",
              "      <td>0.0</td>\n",
              "      <td>0.0</td>\n",
              "      <td>0.0</td>\n",
              "      <td>...</td>\n",
              "      <td>0.0</td>\n",
              "      <td>0.0</td>\n",
              "      <td>0.0</td>\n",
              "      <td>0.0</td>\n",
              "      <td>0.0</td>\n",
              "      <td>0.0</td>\n",
              "      <td>0.0</td>\n",
              "      <td>0.0</td>\n",
              "      <td>0.0</td>\n",
              "      <td>0.0</td>\n",
              "    </tr>\n",
              "    <tr>\n",
              "      <th>397773</th>\n",
              "      <td>12</td>\n",
              "      <td>1.25</td>\n",
              "      <td>15620</td>\n",
              "      <td>0.0</td>\n",
              "      <td>0.0</td>\n",
              "      <td>0.0</td>\n",
              "      <td>0.0</td>\n",
              "      <td>0.0</td>\n",
              "      <td>0.0</td>\n",
              "      <td>0.0</td>\n",
              "      <td>...</td>\n",
              "      <td>0.0</td>\n",
              "      <td>0.0</td>\n",
              "      <td>0.0</td>\n",
              "      <td>0.0</td>\n",
              "      <td>0.0</td>\n",
              "      <td>0.0</td>\n",
              "      <td>0.0</td>\n",
              "      <td>0.0</td>\n",
              "      <td>0.0</td>\n",
              "      <td>0.0</td>\n",
              "    </tr>\n",
              "    <tr>\n",
              "      <th>47356</th>\n",
              "      <td>3</td>\n",
              "      <td>4.95</td>\n",
              "      <td>13842</td>\n",
              "      <td>0.0</td>\n",
              "      <td>0.0</td>\n",
              "      <td>0.0</td>\n",
              "      <td>0.0</td>\n",
              "      <td>0.0</td>\n",
              "      <td>0.0</td>\n",
              "      <td>0.0</td>\n",
              "      <td>...</td>\n",
              "      <td>0.0</td>\n",
              "      <td>0.0</td>\n",
              "      <td>0.0</td>\n",
              "      <td>0.0</td>\n",
              "      <td>0.0</td>\n",
              "      <td>0.0</td>\n",
              "      <td>0.0</td>\n",
              "      <td>0.0</td>\n",
              "      <td>0.0</td>\n",
              "      <td>0.0</td>\n",
              "    </tr>\n",
              "    <tr>\n",
              "      <th>414576</th>\n",
              "      <td>36</td>\n",
              "      <td>0.29</td>\n",
              "      <td>14997</td>\n",
              "      <td>0.0</td>\n",
              "      <td>0.0</td>\n",
              "      <td>0.0</td>\n",
              "      <td>0.0</td>\n",
              "      <td>0.0</td>\n",
              "      <td>0.0</td>\n",
              "      <td>0.0</td>\n",
              "      <td>...</td>\n",
              "      <td>0.0</td>\n",
              "      <td>0.0</td>\n",
              "      <td>0.0</td>\n",
              "      <td>0.0</td>\n",
              "      <td>0.0</td>\n",
              "      <td>0.0</td>\n",
              "      <td>0.0</td>\n",
              "      <td>0.0</td>\n",
              "      <td>0.0</td>\n",
              "      <td>0.0</td>\n",
              "    </tr>\n",
              "    <tr>\n",
              "      <th>326426</th>\n",
              "      <td>2</td>\n",
              "      <td>0.42</td>\n",
              "      <td>14159</td>\n",
              "      <td>0.0</td>\n",
              "      <td>0.0</td>\n",
              "      <td>0.0</td>\n",
              "      <td>0.0</td>\n",
              "      <td>0.0</td>\n",
              "      <td>0.0</td>\n",
              "      <td>0.0</td>\n",
              "      <td>...</td>\n",
              "      <td>0.0</td>\n",
              "      <td>0.0</td>\n",
              "      <td>0.0</td>\n",
              "      <td>0.0</td>\n",
              "      <td>0.0</td>\n",
              "      <td>0.0</td>\n",
              "      <td>0.0</td>\n",
              "      <td>0.0</td>\n",
              "      <td>0.0</td>\n",
              "      <td>0.0</td>\n",
              "    </tr>\n",
              "  </tbody>\n",
              "</table>\n",
              "<p>5 rows × 1271 columns</p>\n",
              "</div>\n",
              "      <button class=\"colab-df-convert\" onclick=\"convertToInteractive('df-223ee24b-1e10-4884-9085-eb10ab4375a0')\"\n",
              "              title=\"Convert this dataframe to an interactive table.\"\n",
              "              style=\"display:none;\">\n",
              "        \n",
              "  <svg xmlns=\"http://www.w3.org/2000/svg\" height=\"24px\"viewBox=\"0 0 24 24\"\n",
              "       width=\"24px\">\n",
              "    <path d=\"M0 0h24v24H0V0z\" fill=\"none\"/>\n",
              "    <path d=\"M18.56 5.44l.94 2.06.94-2.06 2.06-.94-2.06-.94-.94-2.06-.94 2.06-2.06.94zm-11 1L8.5 8.5l.94-2.06 2.06-.94-2.06-.94L8.5 2.5l-.94 2.06-2.06.94zm10 10l.94 2.06.94-2.06 2.06-.94-2.06-.94-.94-2.06-.94 2.06-2.06.94z\"/><path d=\"M17.41 7.96l-1.37-1.37c-.4-.4-.92-.59-1.43-.59-.52 0-1.04.2-1.43.59L10.3 9.45l-7.72 7.72c-.78.78-.78 2.05 0 2.83L4 21.41c.39.39.9.59 1.41.59.51 0 1.02-.2 1.41-.59l7.78-7.78 2.81-2.81c.8-.78.8-2.07 0-2.86zM5.41 20L4 18.59l7.72-7.72 1.47 1.35L5.41 20z\"/>\n",
              "  </svg>\n",
              "      </button>\n",
              "      \n",
              "  <style>\n",
              "    .colab-df-container {\n",
              "      display:flex;\n",
              "      flex-wrap:wrap;\n",
              "      gap: 12px;\n",
              "    }\n",
              "\n",
              "    .colab-df-convert {\n",
              "      background-color: #E8F0FE;\n",
              "      border: none;\n",
              "      border-radius: 50%;\n",
              "      cursor: pointer;\n",
              "      display: none;\n",
              "      fill: #1967D2;\n",
              "      height: 32px;\n",
              "      padding: 0 0 0 0;\n",
              "      width: 32px;\n",
              "    }\n",
              "\n",
              "    .colab-df-convert:hover {\n",
              "      background-color: #E2EBFA;\n",
              "      box-shadow: 0px 1px 2px rgba(60, 64, 67, 0.3), 0px 1px 3px 1px rgba(60, 64, 67, 0.15);\n",
              "      fill: #174EA6;\n",
              "    }\n",
              "\n",
              "    [theme=dark] .colab-df-convert {\n",
              "      background-color: #3B4455;\n",
              "      fill: #D2E3FC;\n",
              "    }\n",
              "\n",
              "    [theme=dark] .colab-df-convert:hover {\n",
              "      background-color: #434B5C;\n",
              "      box-shadow: 0px 1px 3px 1px rgba(0, 0, 0, 0.15);\n",
              "      filter: drop-shadow(0px 1px 2px rgba(0, 0, 0, 0.3));\n",
              "      fill: #FFFFFF;\n",
              "    }\n",
              "  </style>\n",
              "\n",
              "      <script>\n",
              "        const buttonEl =\n",
              "          document.querySelector('#df-223ee24b-1e10-4884-9085-eb10ab4375a0 button.colab-df-convert');\n",
              "        buttonEl.style.display =\n",
              "          google.colab.kernel.accessAllowed ? 'block' : 'none';\n",
              "\n",
              "        async function convertToInteractive(key) {\n",
              "          const element = document.querySelector('#df-223ee24b-1e10-4884-9085-eb10ab4375a0');\n",
              "          const dataTable =\n",
              "            await google.colab.kernel.invokeFunction('convertToInteractive',\n",
              "                                                     [key], {});\n",
              "          if (!dataTable) return;\n",
              "\n",
              "          const docLinkHtml = 'Like what you see? Visit the ' +\n",
              "            '<a target=\"_blank\" href=https://colab.research.google.com/notebooks/data_table.ipynb>data table notebook</a>'\n",
              "            + ' to learn more about interactive tables.';\n",
              "          element.innerHTML = '';\n",
              "          dataTable['output_type'] = 'display_data';\n",
              "          await google.colab.output.renderOutput(dataTable, element);\n",
              "          const docLink = document.createElement('div');\n",
              "          docLink.innerHTML = docLinkHtml;\n",
              "          element.appendChild(docLink);\n",
              "        }\n",
              "      </script>\n",
              "    </div>\n",
              "  </div>\n",
              "  "
            ]
          },
          "metadata": {},
          "execution_count": 60
        }
      ]
    },
    {
      "cell_type": "code",
      "source": [
        "# scaling\n",
        "\n",
        "from sklearn.preprocessing import StandardScaler\n",
        "\n",
        "scaler = StandardScaler()\n",
        "X_std = scaler.fit_transform(df_new) # standardise data"
      ],
      "metadata": {
        "id": "cFXzTiyXcfge"
      },
      "execution_count": 61,
      "outputs": []
    },
    {
      "cell_type": "code",
      "source": [
        "# Elbow plot\n",
        "# We make a plot between k value and inertia\n",
        "\n",
        "# store inertia for all values of k \n",
        "inertias = []  \n",
        "list_k = list(range(1, 15))\n",
        "\n",
        "for k in list_k:\n",
        "    km = KMeans(n_clusters=k)\n",
        "    km.fit(X_std)\n",
        "    inertias.append(km.inertia_)\n",
        "\n",
        "# Plot sse against k\n",
        "plt.figure(figsize=(6, 6))\n",
        "plt.plot(list_k, inertias, '-o')\n",
        "plt.xlabel(r'Number of clusters *k*')\n",
        "plt.ylabel('Inertia');"
      ],
      "metadata": {
        "colab": {
          "base_uri": "https://localhost:8080/",
          "height": 394
        },
        "id": "Z9F1qQHadH1j",
        "outputId": "96d6680f-0c9a-4258-a4cb-9946144521bd"
      },
      "execution_count": 62,
      "outputs": [
        {
          "output_type": "display_data",
          "data": {
            "text/plain": [
              "<Figure size 432x432 with 1 Axes>"
            ],
            "image/png": "[encoded data removed]"
          },
          "metadata": {}
        }
      ]
    },
    {
      "cell_type": "markdown",
      "source": [
        "No.of clusters in products = 4"
      ],
      "metadata": {
        "id": "aIXJhdf5peok"
      }
    },
    {
      "cell_type": "code",
      "source": [
        "from sklearn.cluster import KMeans\n",
        "km = KMeans(n_clusters=4) # applying k = 6\n",
        "km.fit(X_std) # fit the data - identify pattern, does everything"
      ],
      "metadata": {
        "id": "dMVM08KRkQvc",
        "colab": {
          "base_uri": "https://localhost:8080/"
        },
        "outputId": "179e49f5-dfe8-4069-af6d-2885f3fdc129"
      },
      "execution_count": 65,
      "outputs": [
        {
          "output_type": "execute_result",
          "data": {
            "text/plain": [
              "KMeans(n_clusters=4)"
            ]
          },
          "metadata": {},
          "execution_count": 65
        }
      ]
    },
    {
      "cell_type": "code",
      "source": [
        "# final centroid points\n",
        "centroids = km.cluster_centers_ \n",
        "print(\"final centroid points: \",centroids)\n",
        "\n",
        "# tells which data point belongs to which cluster 0/1.\n",
        "print(km.labels_) \n",
        "\n",
        "# measures how tight my groups are.\n",
        "print(km.inertia_)"
      ],
      "metadata": {
        "id": "coAyaG6GpTWv",
        "colab": {
          "base_uri": "https://localhost:8080/"
        },
        "outputId": "361ee379-4f2c-43ee-8a22-7327bca69ae8"
      },
      "execution_count": 66,
      "outputs": [
        {
          "output_type": "stream",
          "name": "stdout",
          "text": [
            "final centroid points:  [[ 3.49036254e-04  7.05420474e-04 -2.62498952e-03 ...  0.00000000e+00\n",
            "   0.00000000e+00  0.00000000e+00]\n",
            " [-2.77198270e-01 -3.09061352e-01  1.52511891e+00 ...  0.00000000e+00\n",
            "   0.00000000e+00  0.00000000e+00]\n",
            " [-1.65585960e-01 -5.00125612e-01  1.52511891e+00 ...  0.00000000e+00\n",
            "   0.00000000e+00  0.00000000e+00]\n",
            " [-1.65585960e-01 -4.20360921e-01  1.52511891e+00 ...  0.00000000e+00\n",
            "   0.00000000e+00  0.00000000e+00]]\n",
            "[0 0 0 ... 0 0 0]\n",
            "5230.354922835582\n"
          ]
        }
      ]
    }
  ]
}